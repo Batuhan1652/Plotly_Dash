{
 "cells": [
  {
   "cell_type": "code",
   "execution_count": 1,
   "metadata": {},
   "outputs": [],
   "source": [
    "import jupyter_dash\n",
    "import pandas as pd, numpy as np, seaborn as sns, matplotlib.pyplot as plt\n",
    "from matplotlib.pyplot import suptitle\n",
    "import plotly.express as px, plotly.io as pio, plotly.offline as pyo\n",
    "import plotly.graph_objs as go, plotly.subplots as sp\n",
    "from plotly.subplots import make_subplots\n",
    "import dash, dash_bootstrap_components as dbc\n",
    "from dash import dash_table\n",
    "from dash import dcc, html\n",
    "from dash import Dash\n",
    "from dash.dependencies import Input, Output, State\n",
    "import os\n",
    "from tkinter import Button\n",
    "from jupyter_dash import JupyterDash\n",
    "from enum import unique\n",
    "from matplotlib.pyplot import autoscale\n",
    "from datetime import datetime\n",
    "import matplotlib.pyplot as plt\n",
    "import matplotlib.colors as mcolors\n",
    "from pyclbr import Class\n",
    "pd.options.display.float_format = '{:,.2f}'.format\n",
    "pd.set_option(\"display.max_rows\", None)\n",
    "pd.set_option(\"display.max_columns\", None)\n",
    "pd.set_option(\"display.width\", 1000)\n",
    "pio.templates.default = \"plotly_dark\""
   ]
  },
  {
   "cell_type": "markdown",
   "metadata": {},
   "source": [
    "Top track veri setindeki özellikler:\n",
    "\n",
    "song_name: şarkının adı\n",
    "album_name: şarkının bulunduğu albüm\n",
    "album_link: şarkının albümünün Spotify'daki dış bağlantısı\n",
    "artist_name: şarkıyı üreten sanatçının adı\n",
    "popularity: Spotify tarafından hesaplanan bir popülerlik ölçütü, 0-100 arasında değişir, 100 en popüler olanıdır, son zamanlarda popüler olan bir şarkının geçmişte popüler olan bir şarkıdan daha yüksek bir puanı olması muhtemeldir\n",
    "release_date: şarkının çıkış tarihi\n",
    "song_link: şarkının Spotify'daki dış bağlantısı\n",
    "duration_ms: şarkının süresi milisaniye cinsinden\n",
    "explicit: şarkının açık olup olmadığını belirten boolean değeri\n",
    "query_genre: parçanın sorgu türü\n",
    "Top artist veri setindeki özellikler:\n",
    "\n",
    "artist_name: sanatçının adı\n",
    "popularity: Spotify tarafından hesaplanan bir popülerlik ölçütü, 0-100 arasında değişir, 100 en popüler olanıdır\n",
    "followers: sanatçının Spotify'daki takipçi sayısı\n",
    "artist_link: sanatçının Spotify sayfasına dış bağlantı\n",
    "genres: sanatçının dahil olduğu türler listesi\n",
    "top_track: Spotify API'ye göre sanatçının en iyi parçası\n",
    "top_track_album: en iyi parçanın bulunduğu albüm\n",
    "top_track_popularity: en iyi parçanın popülerliği; Spotify tarafından hesaplanan bir popülerlik ölçütü, 0-100 arasında değişir, 100 en popüler olanıdır\n",
    "top_track_release_date: en iyi parçanın çıkış tarihi\n",
    "top_track_duration_ms: en iyi parçanın süresi milisaniye cinsinden\n",
    "top_track_explicit: en iyi parçanın açık olup olmadığını belirten boolean değeri\n",
    "top_track_link: en iyi parçanın Spotify'daki dış bağlantısı\n",
    "top_track_album_link: en iyi parçanın albümünün Spotify'daki dış bağlantısı\n",
    "query_genre: sanatçının sorgu türü"
   ]
  },
  {
   "cell_type": "markdown",
   "metadata": {},
   "source": [
    "- Artist_Name: Sanatçı_Adı\n",
    "- Popularity: Popülerlik\n",
    "- Followers: Takipçiler\n",
    "- Artist_Link: Sanatçı_Linki\n",
    "- Genres: Türler\n",
    "- Top_Track: En_İyi_Parça\n",
    "- Top_Track_Album: En_İyi_Parça_Album\n",
    "- Top_Track_Popularity: En_İyi_Parça_Popülerliği\n",
    "- Top_Track_Release_Date: En_İyi_Parça_Yayınlanma_Tarihi\n",
    "- Top_Track_Duration_Ms: En_İyi_Parça_Süresi_Ms (ms: milisaniye)\n",
    "- Top_Track_Explicit: En_İyi_Parça_Açık_Sözlü\n",
    "- Top_Track_Album_Link: En_İyi_Parça_Album_Linki\n",
    "- Top_Track_Link: En_İyi_Parça_Linki\n",
    "- Query_Genre: Sorgu_Türü"
   ]
  },
  {
   "cell_type": "code",
   "execution_count": 2,
   "metadata": {},
   "outputs": [],
   "source": [
    "from Functions_Spotify import DataManipulation\n",
    "\n",
    "df_artist = DataManipulation.get_df_artist()\n",
    "df_tracks = DataManipulation.get_df_tracks()"
   ]
  },
  {
   "cell_type": "code",
   "execution_count": 3,
   "metadata": {},
   "outputs": [
    {
     "data": {
      "application/vnd.plotly.v1+json": {
       "config": {
        "plotlyServerURL": "https://plot.ly"
       },
       "data": [
        {
         "domain": {
          "x": [
           0.72,
           1
          ],
          "y": [
           0,
           1
          ]
         },
         "gauge": {
          "bar": {
           "color": "white"
          }
         },
         "mode": "gauge+number",
         "title": {
          "font": {
           "size": 14
          },
          "text": "Total Followers Top 100 Artist"
         },
         "type": "indicator",
         "value": 639022625
        },
        {
         "domain": {
          "x": [
           0.36,
           0.6399999999999999
          ],
          "y": [
           0,
           1
          ]
         },
         "gauge": {
          "bar": {
           "color": "white"
          }
         },
         "mode": "gauge+number",
         "title": {
          "font": {
           "size": 14
          },
          "text": "Count of Artist"
         },
         "type": "indicator",
         "value": 607
        },
        {
         "domain": {
          "x": [
           0,
           0.27999999999999997
          ],
          "y": [
           0,
           1
          ]
         },
         "gauge": {
          "bar": {
           "color": "white"
          }
         },
         "mode": "gauge+number",
         "title": {
          "font": {
           "size": 14
          },
          "text": "Count of Album"
         },
         "type": "indicator",
         "value": 4159
        }
       ],
       "layout": {
        "height": 300,
        "paper_bgcolor": "rgb(84,52,107)",
        "plot_bgcolor": "rgb(84,52,107)",
        "template": {
         "data": {
          "bar": [
           {
            "error_x": {
             "color": "#f2f5fa"
            },
            "error_y": {
             "color": "#f2f5fa"
            },
            "marker": {
             "line": {
              "color": "rgb(17,17,17)",
              "width": 0.5
             },
             "pattern": {
              "fillmode": "overlay",
              "size": 10,
              "solidity": 0.2
             }
            },
            "type": "bar"
           }
          ],
          "barpolar": [
           {
            "marker": {
             "line": {
              "color": "rgb(17,17,17)",
              "width": 0.5
             },
             "pattern": {
              "fillmode": "overlay",
              "size": 10,
              "solidity": 0.2
             }
            },
            "type": "barpolar"
           }
          ],
          "carpet": [
           {
            "aaxis": {
             "endlinecolor": "#A2B1C6",
             "gridcolor": "#506784",
             "linecolor": "#506784",
             "minorgridcolor": "#506784",
             "startlinecolor": "#A2B1C6"
            },
            "baxis": {
             "endlinecolor": "#A2B1C6",
             "gridcolor": "#506784",
             "linecolor": "#506784",
             "minorgridcolor": "#506784",
             "startlinecolor": "#A2B1C6"
            },
            "type": "carpet"
           }
          ],
          "choropleth": [
           {
            "colorbar": {
             "outlinewidth": 0,
             "ticks": ""
            },
            "type": "choropleth"
           }
          ],
          "contour": [
           {
            "colorbar": {
             "outlinewidth": 0,
             "ticks": ""
            },
            "colorscale": [
             [
              0,
              "#0d0887"
             ],
             [
              0.1111111111111111,
              "#46039f"
             ],
             [
              0.2222222222222222,
              "#7201a8"
             ],
             [
              0.3333333333333333,
              "#9c179e"
             ],
             [
              0.4444444444444444,
              "#bd3786"
             ],
             [
              0.5555555555555556,
              "#d8576b"
             ],
             [
              0.6666666666666666,
              "#ed7953"
             ],
             [
              0.7777777777777778,
              "#fb9f3a"
             ],
             [
              0.8888888888888888,
              "#fdca26"
             ],
             [
              1,
              "#f0f921"
             ]
            ],
            "type": "contour"
           }
          ],
          "contourcarpet": [
           {
            "colorbar": {
             "outlinewidth": 0,
             "ticks": ""
            },
            "type": "contourcarpet"
           }
          ],
          "heatmap": [
           {
            "colorbar": {
             "outlinewidth": 0,
             "ticks": ""
            },
            "colorscale": [
             [
              0,
              "#0d0887"
             ],
             [
              0.1111111111111111,
              "#46039f"
             ],
             [
              0.2222222222222222,
              "#7201a8"
             ],
             [
              0.3333333333333333,
              "#9c179e"
             ],
             [
              0.4444444444444444,
              "#bd3786"
             ],
             [
              0.5555555555555556,
              "#d8576b"
             ],
             [
              0.6666666666666666,
              "#ed7953"
             ],
             [
              0.7777777777777778,
              "#fb9f3a"
             ],
             [
              0.8888888888888888,
              "#fdca26"
             ],
             [
              1,
              "#f0f921"
             ]
            ],
            "type": "heatmap"
           }
          ],
          "heatmapgl": [
           {
            "colorbar": {
             "outlinewidth": 0,
             "ticks": ""
            },
            "colorscale": [
             [
              0,
              "#0d0887"
             ],
             [
              0.1111111111111111,
              "#46039f"
             ],
             [
              0.2222222222222222,
              "#7201a8"
             ],
             [
              0.3333333333333333,
              "#9c179e"
             ],
             [
              0.4444444444444444,
              "#bd3786"
             ],
             [
              0.5555555555555556,
              "#d8576b"
             ],
             [
              0.6666666666666666,
              "#ed7953"
             ],
             [
              0.7777777777777778,
              "#fb9f3a"
             ],
             [
              0.8888888888888888,
              "#fdca26"
             ],
             [
              1,
              "#f0f921"
             ]
            ],
            "type": "heatmapgl"
           }
          ],
          "histogram": [
           {
            "marker": {
             "pattern": {
              "fillmode": "overlay",
              "size": 10,
              "solidity": 0.2
             }
            },
            "type": "histogram"
           }
          ],
          "histogram2d": [
           {
            "colorbar": {
             "outlinewidth": 0,
             "ticks": ""
            },
            "colorscale": [
             [
              0,
              "#0d0887"
             ],
             [
              0.1111111111111111,
              "#46039f"
             ],
             [
              0.2222222222222222,
              "#7201a8"
             ],
             [
              0.3333333333333333,
              "#9c179e"
             ],
             [
              0.4444444444444444,
              "#bd3786"
             ],
             [
              0.5555555555555556,
              "#d8576b"
             ],
             [
              0.6666666666666666,
              "#ed7953"
             ],
             [
              0.7777777777777778,
              "#fb9f3a"
             ],
             [
              0.8888888888888888,
              "#fdca26"
             ],
             [
              1,
              "#f0f921"
             ]
            ],
            "type": "histogram2d"
           }
          ],
          "histogram2dcontour": [
           {
            "colorbar": {
             "outlinewidth": 0,
             "ticks": ""
            },
            "colorscale": [
             [
              0,
              "#0d0887"
             ],
             [
              0.1111111111111111,
              "#46039f"
             ],
             [
              0.2222222222222222,
              "#7201a8"
             ],
             [
              0.3333333333333333,
              "#9c179e"
             ],
             [
              0.4444444444444444,
              "#bd3786"
             ],
             [
              0.5555555555555556,
              "#d8576b"
             ],
             [
              0.6666666666666666,
              "#ed7953"
             ],
             [
              0.7777777777777778,
              "#fb9f3a"
             ],
             [
              0.8888888888888888,
              "#fdca26"
             ],
             [
              1,
              "#f0f921"
             ]
            ],
            "type": "histogram2dcontour"
           }
          ],
          "mesh3d": [
           {
            "colorbar": {
             "outlinewidth": 0,
             "ticks": ""
            },
            "type": "mesh3d"
           }
          ],
          "parcoords": [
           {
            "line": {
             "colorbar": {
              "outlinewidth": 0,
              "ticks": ""
             }
            },
            "type": "parcoords"
           }
          ],
          "pie": [
           {
            "automargin": true,
            "type": "pie"
           }
          ],
          "scatter": [
           {
            "marker": {
             "line": {
              "color": "#283442"
             }
            },
            "type": "scatter"
           }
          ],
          "scatter3d": [
           {
            "line": {
             "colorbar": {
              "outlinewidth": 0,
              "ticks": ""
             }
            },
            "marker": {
             "colorbar": {
              "outlinewidth": 0,
              "ticks": ""
             }
            },
            "type": "scatter3d"
           }
          ],
          "scattercarpet": [
           {
            "marker": {
             "colorbar": {
              "outlinewidth": 0,
              "ticks": ""
             }
            },
            "type": "scattercarpet"
           }
          ],
          "scattergeo": [
           {
            "marker": {
             "colorbar": {
              "outlinewidth": 0,
              "ticks": ""
             }
            },
            "type": "scattergeo"
           }
          ],
          "scattergl": [
           {
            "marker": {
             "line": {
              "color": "#283442"
             }
            },
            "type": "scattergl"
           }
          ],
          "scattermapbox": [
           {
            "marker": {
             "colorbar": {
              "outlinewidth": 0,
              "ticks": ""
             }
            },
            "type": "scattermapbox"
           }
          ],
          "scatterpolar": [
           {
            "marker": {
             "colorbar": {
              "outlinewidth": 0,
              "ticks": ""
             }
            },
            "type": "scatterpolar"
           }
          ],
          "scatterpolargl": [
           {
            "marker": {
             "colorbar": {
              "outlinewidth": 0,
              "ticks": ""
             }
            },
            "type": "scatterpolargl"
           }
          ],
          "scatterternary": [
           {
            "marker": {
             "colorbar": {
              "outlinewidth": 0,
              "ticks": ""
             }
            },
            "type": "scatterternary"
           }
          ],
          "surface": [
           {
            "colorbar": {
             "outlinewidth": 0,
             "ticks": ""
            },
            "colorscale": [
             [
              0,
              "#0d0887"
             ],
             [
              0.1111111111111111,
              "#46039f"
             ],
             [
              0.2222222222222222,
              "#7201a8"
             ],
             [
              0.3333333333333333,
              "#9c179e"
             ],
             [
              0.4444444444444444,
              "#bd3786"
             ],
             [
              0.5555555555555556,
              "#d8576b"
             ],
             [
              0.6666666666666666,
              "#ed7953"
             ],
             [
              0.7777777777777778,
              "#fb9f3a"
             ],
             [
              0.8888888888888888,
              "#fdca26"
             ],
             [
              1,
              "#f0f921"
             ]
            ],
            "type": "surface"
           }
          ],
          "table": [
           {
            "cells": {
             "fill": {
              "color": "#506784"
             },
             "line": {
              "color": "rgb(17,17,17)"
             }
            },
            "header": {
             "fill": {
              "color": "#2a3f5f"
             },
             "line": {
              "color": "rgb(17,17,17)"
             }
            },
            "type": "table"
           }
          ]
         },
         "layout": {
          "annotationdefaults": {
           "arrowcolor": "#f2f5fa",
           "arrowhead": 0,
           "arrowwidth": 1
          },
          "autotypenumbers": "strict",
          "coloraxis": {
           "colorbar": {
            "outlinewidth": 0,
            "ticks": ""
           }
          },
          "colorscale": {
           "diverging": [
            [
             0,
             "#8e0152"
            ],
            [
             0.1,
             "#c51b7d"
            ],
            [
             0.2,
             "#de77ae"
            ],
            [
             0.3,
             "#f1b6da"
            ],
            [
             0.4,
             "#fde0ef"
            ],
            [
             0.5,
             "#f7f7f7"
            ],
            [
             0.6,
             "#e6f5d0"
            ],
            [
             0.7,
             "#b8e186"
            ],
            [
             0.8,
             "#7fbc41"
            ],
            [
             0.9,
             "#4d9221"
            ],
            [
             1,
             "#276419"
            ]
           ],
           "sequential": [
            [
             0,
             "#0d0887"
            ],
            [
             0.1111111111111111,
             "#46039f"
            ],
            [
             0.2222222222222222,
             "#7201a8"
            ],
            [
             0.3333333333333333,
             "#9c179e"
            ],
            [
             0.4444444444444444,
             "#bd3786"
            ],
            [
             0.5555555555555556,
             "#d8576b"
            ],
            [
             0.6666666666666666,
             "#ed7953"
            ],
            [
             0.7777777777777778,
             "#fb9f3a"
            ],
            [
             0.8888888888888888,
             "#fdca26"
            ],
            [
             1,
             "#f0f921"
            ]
           ],
           "sequentialminus": [
            [
             0,
             "#0d0887"
            ],
            [
             0.1111111111111111,
             "#46039f"
            ],
            [
             0.2222222222222222,
             "#7201a8"
            ],
            [
             0.3333333333333333,
             "#9c179e"
            ],
            [
             0.4444444444444444,
             "#bd3786"
            ],
            [
             0.5555555555555556,
             "#d8576b"
            ],
            [
             0.6666666666666666,
             "#ed7953"
            ],
            [
             0.7777777777777778,
             "#fb9f3a"
            ],
            [
             0.8888888888888888,
             "#fdca26"
            ],
            [
             1,
             "#f0f921"
            ]
           ]
          },
          "colorway": [
           "#636efa",
           "#EF553B",
           "#00cc96",
           "#ab63fa",
           "#FFA15A",
           "#19d3f3",
           "#FF6692",
           "#B6E880",
           "#FF97FF",
           "#FECB52"
          ],
          "font": {
           "color": "#f2f5fa"
          },
          "geo": {
           "bgcolor": "rgb(17,17,17)",
           "lakecolor": "rgb(17,17,17)",
           "landcolor": "rgb(17,17,17)",
           "showlakes": true,
           "showland": true,
           "subunitcolor": "#506784"
          },
          "hoverlabel": {
           "align": "left"
          },
          "hovermode": "closest",
          "mapbox": {
           "style": "dark"
          },
          "paper_bgcolor": "rgb(17,17,17)",
          "plot_bgcolor": "rgb(17,17,17)",
          "polar": {
           "angularaxis": {
            "gridcolor": "#506784",
            "linecolor": "#506784",
            "ticks": ""
           },
           "bgcolor": "rgb(17,17,17)",
           "radialaxis": {
            "gridcolor": "#506784",
            "linecolor": "#506784",
            "ticks": ""
           }
          },
          "scene": {
           "xaxis": {
            "backgroundcolor": "rgb(17,17,17)",
            "gridcolor": "#506784",
            "gridwidth": 2,
            "linecolor": "#506784",
            "showbackground": true,
            "ticks": "",
            "zerolinecolor": "#C8D4E3"
           },
           "yaxis": {
            "backgroundcolor": "rgb(17,17,17)",
            "gridcolor": "#506784",
            "gridwidth": 2,
            "linecolor": "#506784",
            "showbackground": true,
            "ticks": "",
            "zerolinecolor": "#C8D4E3"
           },
           "zaxis": {
            "backgroundcolor": "rgb(17,17,17)",
            "gridcolor": "#506784",
            "gridwidth": 2,
            "linecolor": "#506784",
            "showbackground": true,
            "ticks": "",
            "zerolinecolor": "#C8D4E3"
           }
          },
          "shapedefaults": {
           "line": {
            "color": "#f2f5fa"
           }
          },
          "sliderdefaults": {
           "bgcolor": "#C8D4E3",
           "bordercolor": "rgb(17,17,17)",
           "borderwidth": 1,
           "tickwidth": 0
          },
          "ternary": {
           "aaxis": {
            "gridcolor": "#506784",
            "linecolor": "#506784",
            "ticks": ""
           },
           "baxis": {
            "gridcolor": "#506784",
            "linecolor": "#506784",
            "ticks": ""
           },
           "bgcolor": "rgb(17,17,17)",
           "caxis": {
            "gridcolor": "#506784",
            "linecolor": "#506784",
            "ticks": ""
           }
          },
          "title": {
           "x": 0.05
          },
          "updatemenudefaults": {
           "bgcolor": "#506784",
           "borderwidth": 0
          },
          "xaxis": {
           "automargin": true,
           "gridcolor": "#283442",
           "linecolor": "#506784",
           "ticks": "",
           "title": {
            "standoff": 15
           },
           "zerolinecolor": "#283442",
           "zerolinewidth": 2
          },
          "yaxis": {
           "automargin": true,
           "gridcolor": "#283442",
           "linecolor": "#506784",
           "ticks": "",
           "title": {
            "standoff": 15
           },
           "zerolinecolor": "#283442",
           "zerolinewidth": 2
          }
         }
        },
        "title": {
         "font": {
          "color": "white",
          "size": 18
         },
         "text": "General Information",
         "x": 0.5,
         "xanchor": "center",
         "y": 0.95,
         "yanchor": "top"
        },
        "xaxis": {
         "title": {
          "font": {
           "color": "white",
           "size": 18
          }
         }
        },
        "yaxis": {
         "title": {
          "font": {
           "color": "white",
           "size": 18
          }
         }
        }
       }
      }
     },
     "metadata": {},
     "output_type": "display_data"
    }
   ],
   "source": [
    "indicator1 = go.Indicator(\n",
    "    mode = \"gauge+number\",\n",
    "    value = sum(df_artist[\"Followers\"]),\n",
    "    domain = {\"x\" : [0, 0.5], \"y\" : [0, 1]},\n",
    "    title = {\"text\" : f\"Total Followers Top 100 Artist\", \"font\" : {\"size\" : 14}}, \n",
    "    gauge = {'bar' : {'color' : \"white\"}})\n",
    "\n",
    "indicator2 = go.Indicator(\n",
    "    mode = \"gauge+number\",\n",
    "    value = (df_artist[\"Artist_Name\"].nunique()),\n",
    "    domain = {\"x\" : [0.5, 1], \"y\" : [0, 1]},\n",
    "    title = {\"text\" : f\"Count of Artist\", \"font\" : {\"size\" : 14}},\n",
    "    gauge = {'bar' : {'color' : \"white\"}})\n",
    "\n",
    "indicator3 = go.Indicator(\n",
    "    mode = \"gauge+number\",\n",
    "    value = (df_tracks[\"Album_Name\"].nunique()),\n",
    "    domain = {\"x\" : [0.5, 1], \"y\" : [0, 1]},\n",
    "    title = {\"text\" : \"Count of Album\", \"font\" : {\"size\" : 14}},\n",
    "    gauge = {'bar' : {'color' : \"white\"}})\n",
    "\n",
    "Fig = make_subplots(rows = 1, cols = 3, specs = [[{\"type\" : \"indicator\"}, {\"type\" : \"indicator\"}, {\"type\" : \"indicator\"}]], horizontal_spacing = 0.08)\n",
    "Fig.add_trace(indicator1, row = 1, col = 3)\n",
    "Fig.add_trace(indicator2, row = 1, col = 2)\n",
    "Fig.add_trace(indicator3, row = 1, col = 1)\n",
    "\n",
    "Fig.update_layout(height = 300,\n",
    "    xaxis_title_font = {'size' : 18, 'color' : 'white'},\n",
    "    yaxis_title_font = {'size' : 18, 'color' : 'white'},\n",
    "    title = {'text' : \"General Information\", 'x': 0.5, 'xanchor' : 'center', 'y' : 0.95, 'yanchor' : 'top', 'font': { 'size' : 18, 'color' : 'white'}},\n",
    "    plot_bgcolor = \"rgb(84,52,107)\", paper_bgcolor = \"rgb(84,52,107)\")\n",
    "\n",
    "Fig.show()"
   ]
  },
  {
   "cell_type": "markdown",
   "metadata": {},
   "source": [
    "# YAYIN YILLARINA GÖRE EN POPULER 5 ALBUM"
   ]
  },
  {
   "cell_type": "code",
   "execution_count": 4,
   "metadata": {},
   "outputs": [],
   "source": [
    "df_top5 = df_tracks.groupby('Year').apply(lambda x : x.nlargest(5, 'Popularity')).reset_index(drop = True)"
   ]
  },
  {
   "cell_type": "code",
   "execution_count": 5,
   "metadata": {},
   "outputs": [],
   "source": [
    "df_top5 = df_tracks.groupby('Year').apply(lambda x : x.nlargest(5, 'Popularity')).reset_index(drop = True)\n",
    "df_top5 = df_top5.sort_values(by = [\"Year\", \"Popularity\"], ascending = [True, False])\n",
    "df_top5['Rank'] = df_top5.groupby('Year').cumcount() + 1\n",
    "df_top5 = df_top5[[\"Rank\", \"Song_Name\", \"Album_Name\", \"Query_Genre\", \"Popularity\", \"Release_Date\", \"Year\", \"Album_Link\"]]"
   ]
  },
  {
   "cell_type": "markdown",
   "metadata": {},
   "source": [
    "# Sanatçılara göre İlk 100'e giren şarkı sayısı / En İyi 20 Sanatçı"
   ]
  },
  {
   "cell_type": "code",
   "execution_count": 6,
   "metadata": {},
   "outputs": [
    {
     "data": {
      "application/vnd.plotly.v1+json": {
       "config": {
        "plotlyServerURL": "https://plot.ly"
       },
       "data": [
        {
         "alignmentgroup": "True",
         "customdata": [
          [
           "Various Artists"
          ],
          [
           "Nogizaka46"
          ],
          [
           "my little airport"
          ],
          [
           "BiSH"
          ],
          [
           "QUEEN BEE"
          ],
          [
           "YOASOBI"
          ],
          [
           "DA PUMP"
          ],
          [
           "Perfume"
          ],
          [
           "WEDNESDAY CAMPANELLA"
          ],
          [
           "Akina Nakamori"
          ],
          [
           "Yuuri"
          ],
          [
           "RADWIMPS"
          ],
          [
           "HIRAIDAI"
          ],
          [
           "Vaundy"
          ],
          [
           "Seiko Matsuda"
          ],
          [
           "SEVENTEEN"
          ],
          [
           "Mariya Takeuchi"
          ],
          [
           "BALLISTIK BOYZ from EXILE TRIBE"
          ],
          [
           "Ado"
          ],
          [
           "AKB48"
          ]
         ],
         "hovertemplate": "Sum of Track=%{text}<br>Artist Name=%{customdata[0]}<extra></extra>",
         "legendgroup": "",
         "marker": {
          "color": "white",
          "pattern": {
           "shape": ""
          }
         },
         "name": "",
         "offsetgroup": "",
         "orientation": "v",
         "showlegend": false,
         "text": [
          245,
          208,
          111,
          103,
          99,
          86,
          80,
          69,
          69,
          68,
          67,
          66,
          63,
          62,
          62,
          61,
          58,
          56,
          53,
          51
         ],
         "textposition": "auto",
         "type": "bar",
         "x": [
          "Vario",
          "Nogiz",
          "my li",
          "BiSH",
          "QUEEN",
          "YOASO",
          "DA PU",
          "Perfu",
          "WEDNE",
          "Akina",
          "Yuuri",
          "RADWI",
          "HIRAI",
          "Vaund",
          "Seiko",
          "SEVEN",
          "Mariy",
          "BALLI",
          "Ado",
          "AKB48"
         ],
         "xaxis": "x",
         "y": [
          245,
          208,
          111,
          103,
          99,
          86,
          80,
          69,
          69,
          68,
          67,
          66,
          63,
          62,
          62,
          61,
          58,
          56,
          53,
          51
         ],
         "yaxis": "y"
        }
       ],
       "layout": {
        "barmode": "relative",
        "height": 600,
        "hoverlabel": {
         "bgcolor": "white",
         "font": {
          "color": "black",
          "family": "Rockwell",
          "size": 16
         }
        },
        "hovermode": "x unified",
        "legend": {
         "tracegroupgap": 0
        },
        "margin": {
         "t": 60
        },
        "paper_bgcolor": "rgb(84,52,107)",
        "plot_bgcolor": "rgb(84,52,107)",
        "template": {
         "data": {
          "bar": [
           {
            "error_x": {
             "color": "#f2f5fa"
            },
            "error_y": {
             "color": "#f2f5fa"
            },
            "marker": {
             "line": {
              "color": "rgb(17,17,17)",
              "width": 0.5
             },
             "pattern": {
              "fillmode": "overlay",
              "size": 10,
              "solidity": 0.2
             }
            },
            "type": "bar"
           }
          ],
          "barpolar": [
           {
            "marker": {
             "line": {
              "color": "rgb(17,17,17)",
              "width": 0.5
             },
             "pattern": {
              "fillmode": "overlay",
              "size": 10,
              "solidity": 0.2
             }
            },
            "type": "barpolar"
           }
          ],
          "carpet": [
           {
            "aaxis": {
             "endlinecolor": "#A2B1C6",
             "gridcolor": "#506784",
             "linecolor": "#506784",
             "minorgridcolor": "#506784",
             "startlinecolor": "#A2B1C6"
            },
            "baxis": {
             "endlinecolor": "#A2B1C6",
             "gridcolor": "#506784",
             "linecolor": "#506784",
             "minorgridcolor": "#506784",
             "startlinecolor": "#A2B1C6"
            },
            "type": "carpet"
           }
          ],
          "choropleth": [
           {
            "colorbar": {
             "outlinewidth": 0,
             "ticks": ""
            },
            "type": "choropleth"
           }
          ],
          "contour": [
           {
            "colorbar": {
             "outlinewidth": 0,
             "ticks": ""
            },
            "colorscale": [
             [
              0,
              "#0d0887"
             ],
             [
              0.1111111111111111,
              "#46039f"
             ],
             [
              0.2222222222222222,
              "#7201a8"
             ],
             [
              0.3333333333333333,
              "#9c179e"
             ],
             [
              0.4444444444444444,
              "#bd3786"
             ],
             [
              0.5555555555555556,
              "#d8576b"
             ],
             [
              0.6666666666666666,
              "#ed7953"
             ],
             [
              0.7777777777777778,
              "#fb9f3a"
             ],
             [
              0.8888888888888888,
              "#fdca26"
             ],
             [
              1,
              "#f0f921"
             ]
            ],
            "type": "contour"
           }
          ],
          "contourcarpet": [
           {
            "colorbar": {
             "outlinewidth": 0,
             "ticks": ""
            },
            "type": "contourcarpet"
           }
          ],
          "heatmap": [
           {
            "colorbar": {
             "outlinewidth": 0,
             "ticks": ""
            },
            "colorscale": [
             [
              0,
              "#0d0887"
             ],
             [
              0.1111111111111111,
              "#46039f"
             ],
             [
              0.2222222222222222,
              "#7201a8"
             ],
             [
              0.3333333333333333,
              "#9c179e"
             ],
             [
              0.4444444444444444,
              "#bd3786"
             ],
             [
              0.5555555555555556,
              "#d8576b"
             ],
             [
              0.6666666666666666,
              "#ed7953"
             ],
             [
              0.7777777777777778,
              "#fb9f3a"
             ],
             [
              0.8888888888888888,
              "#fdca26"
             ],
             [
              1,
              "#f0f921"
             ]
            ],
            "type": "heatmap"
           }
          ],
          "heatmapgl": [
           {
            "colorbar": {
             "outlinewidth": 0,
             "ticks": ""
            },
            "colorscale": [
             [
              0,
              "#0d0887"
             ],
             [
              0.1111111111111111,
              "#46039f"
             ],
             [
              0.2222222222222222,
              "#7201a8"
             ],
             [
              0.3333333333333333,
              "#9c179e"
             ],
             [
              0.4444444444444444,
              "#bd3786"
             ],
             [
              0.5555555555555556,
              "#d8576b"
             ],
             [
              0.6666666666666666,
              "#ed7953"
             ],
             [
              0.7777777777777778,
              "#fb9f3a"
             ],
             [
              0.8888888888888888,
              "#fdca26"
             ],
             [
              1,
              "#f0f921"
             ]
            ],
            "type": "heatmapgl"
           }
          ],
          "histogram": [
           {
            "marker": {
             "pattern": {
              "fillmode": "overlay",
              "size": 10,
              "solidity": 0.2
             }
            },
            "type": "histogram"
           }
          ],
          "histogram2d": [
           {
            "colorbar": {
             "outlinewidth": 0,
             "ticks": ""
            },
            "colorscale": [
             [
              0,
              "#0d0887"
             ],
             [
              0.1111111111111111,
              "#46039f"
             ],
             [
              0.2222222222222222,
              "#7201a8"
             ],
             [
              0.3333333333333333,
              "#9c179e"
             ],
             [
              0.4444444444444444,
              "#bd3786"
             ],
             [
              0.5555555555555556,
              "#d8576b"
             ],
             [
              0.6666666666666666,
              "#ed7953"
             ],
             [
              0.7777777777777778,
              "#fb9f3a"
             ],
             [
              0.8888888888888888,
              "#fdca26"
             ],
             [
              1,
              "#f0f921"
             ]
            ],
            "type": "histogram2d"
           }
          ],
          "histogram2dcontour": [
           {
            "colorbar": {
             "outlinewidth": 0,
             "ticks": ""
            },
            "colorscale": [
             [
              0,
              "#0d0887"
             ],
             [
              0.1111111111111111,
              "#46039f"
             ],
             [
              0.2222222222222222,
              "#7201a8"
             ],
             [
              0.3333333333333333,
              "#9c179e"
             ],
             [
              0.4444444444444444,
              "#bd3786"
             ],
             [
              0.5555555555555556,
              "#d8576b"
             ],
             [
              0.6666666666666666,
              "#ed7953"
             ],
             [
              0.7777777777777778,
              "#fb9f3a"
             ],
             [
              0.8888888888888888,
              "#fdca26"
             ],
             [
              1,
              "#f0f921"
             ]
            ],
            "type": "histogram2dcontour"
           }
          ],
          "mesh3d": [
           {
            "colorbar": {
             "outlinewidth": 0,
             "ticks": ""
            },
            "type": "mesh3d"
           }
          ],
          "parcoords": [
           {
            "line": {
             "colorbar": {
              "outlinewidth": 0,
              "ticks": ""
             }
            },
            "type": "parcoords"
           }
          ],
          "pie": [
           {
            "automargin": true,
            "type": "pie"
           }
          ],
          "scatter": [
           {
            "marker": {
             "line": {
              "color": "#283442"
             }
            },
            "type": "scatter"
           }
          ],
          "scatter3d": [
           {
            "line": {
             "colorbar": {
              "outlinewidth": 0,
              "ticks": ""
             }
            },
            "marker": {
             "colorbar": {
              "outlinewidth": 0,
              "ticks": ""
             }
            },
            "type": "scatter3d"
           }
          ],
          "scattercarpet": [
           {
            "marker": {
             "colorbar": {
              "outlinewidth": 0,
              "ticks": ""
             }
            },
            "type": "scattercarpet"
           }
          ],
          "scattergeo": [
           {
            "marker": {
             "colorbar": {
              "outlinewidth": 0,
              "ticks": ""
             }
            },
            "type": "scattergeo"
           }
          ],
          "scattergl": [
           {
            "marker": {
             "line": {
              "color": "#283442"
             }
            },
            "type": "scattergl"
           }
          ],
          "scattermapbox": [
           {
            "marker": {
             "colorbar": {
              "outlinewidth": 0,
              "ticks": ""
             }
            },
            "type": "scattermapbox"
           }
          ],
          "scatterpolar": [
           {
            "marker": {
             "colorbar": {
              "outlinewidth": 0,
              "ticks": ""
             }
            },
            "type": "scatterpolar"
           }
          ],
          "scatterpolargl": [
           {
            "marker": {
             "colorbar": {
              "outlinewidth": 0,
              "ticks": ""
             }
            },
            "type": "scatterpolargl"
           }
          ],
          "scatterternary": [
           {
            "marker": {
             "colorbar": {
              "outlinewidth": 0,
              "ticks": ""
             }
            },
            "type": "scatterternary"
           }
          ],
          "surface": [
           {
            "colorbar": {
             "outlinewidth": 0,
             "ticks": ""
            },
            "colorscale": [
             [
              0,
              "#0d0887"
             ],
             [
              0.1111111111111111,
              "#46039f"
             ],
             [
              0.2222222222222222,
              "#7201a8"
             ],
             [
              0.3333333333333333,
              "#9c179e"
             ],
             [
              0.4444444444444444,
              "#bd3786"
             ],
             [
              0.5555555555555556,
              "#d8576b"
             ],
             [
              0.6666666666666666,
              "#ed7953"
             ],
             [
              0.7777777777777778,
              "#fb9f3a"
             ],
             [
              0.8888888888888888,
              "#fdca26"
             ],
             [
              1,
              "#f0f921"
             ]
            ],
            "type": "surface"
           }
          ],
          "table": [
           {
            "cells": {
             "fill": {
              "color": "#506784"
             },
             "line": {
              "color": "rgb(17,17,17)"
             }
            },
            "header": {
             "fill": {
              "color": "#2a3f5f"
             },
             "line": {
              "color": "rgb(17,17,17)"
             }
            },
            "type": "table"
           }
          ]
         },
         "layout": {
          "annotationdefaults": {
           "arrowcolor": "#f2f5fa",
           "arrowhead": 0,
           "arrowwidth": 1
          },
          "autotypenumbers": "strict",
          "coloraxis": {
           "colorbar": {
            "outlinewidth": 0,
            "ticks": ""
           }
          },
          "colorscale": {
           "diverging": [
            [
             0,
             "#8e0152"
            ],
            [
             0.1,
             "#c51b7d"
            ],
            [
             0.2,
             "#de77ae"
            ],
            [
             0.3,
             "#f1b6da"
            ],
            [
             0.4,
             "#fde0ef"
            ],
            [
             0.5,
             "#f7f7f7"
            ],
            [
             0.6,
             "#e6f5d0"
            ],
            [
             0.7,
             "#b8e186"
            ],
            [
             0.8,
             "#7fbc41"
            ],
            [
             0.9,
             "#4d9221"
            ],
            [
             1,
             "#276419"
            ]
           ],
           "sequential": [
            [
             0,
             "#0d0887"
            ],
            [
             0.1111111111111111,
             "#46039f"
            ],
            [
             0.2222222222222222,
             "#7201a8"
            ],
            [
             0.3333333333333333,
             "#9c179e"
            ],
            [
             0.4444444444444444,
             "#bd3786"
            ],
            [
             0.5555555555555556,
             "#d8576b"
            ],
            [
             0.6666666666666666,
             "#ed7953"
            ],
            [
             0.7777777777777778,
             "#fb9f3a"
            ],
            [
             0.8888888888888888,
             "#fdca26"
            ],
            [
             1,
             "#f0f921"
            ]
           ],
           "sequentialminus": [
            [
             0,
             "#0d0887"
            ],
            [
             0.1111111111111111,
             "#46039f"
            ],
            [
             0.2222222222222222,
             "#7201a8"
            ],
            [
             0.3333333333333333,
             "#9c179e"
            ],
            [
             0.4444444444444444,
             "#bd3786"
            ],
            [
             0.5555555555555556,
             "#d8576b"
            ],
            [
             0.6666666666666666,
             "#ed7953"
            ],
            [
             0.7777777777777778,
             "#fb9f3a"
            ],
            [
             0.8888888888888888,
             "#fdca26"
            ],
            [
             1,
             "#f0f921"
            ]
           ]
          },
          "colorway": [
           "#636efa",
           "#EF553B",
           "#00cc96",
           "#ab63fa",
           "#FFA15A",
           "#19d3f3",
           "#FF6692",
           "#B6E880",
           "#FF97FF",
           "#FECB52"
          ],
          "font": {
           "color": "#f2f5fa"
          },
          "geo": {
           "bgcolor": "rgb(17,17,17)",
           "lakecolor": "rgb(17,17,17)",
           "landcolor": "rgb(17,17,17)",
           "showlakes": true,
           "showland": true,
           "subunitcolor": "#506784"
          },
          "hoverlabel": {
           "align": "left"
          },
          "hovermode": "closest",
          "mapbox": {
           "style": "dark"
          },
          "paper_bgcolor": "rgb(17,17,17)",
          "plot_bgcolor": "rgb(17,17,17)",
          "polar": {
           "angularaxis": {
            "gridcolor": "#506784",
            "linecolor": "#506784",
            "ticks": ""
           },
           "bgcolor": "rgb(17,17,17)",
           "radialaxis": {
            "gridcolor": "#506784",
            "linecolor": "#506784",
            "ticks": ""
           }
          },
          "scene": {
           "xaxis": {
            "backgroundcolor": "rgb(17,17,17)",
            "gridcolor": "#506784",
            "gridwidth": 2,
            "linecolor": "#506784",
            "showbackground": true,
            "ticks": "",
            "zerolinecolor": "#C8D4E3"
           },
           "yaxis": {
            "backgroundcolor": "rgb(17,17,17)",
            "gridcolor": "#506784",
            "gridwidth": 2,
            "linecolor": "#506784",
            "showbackground": true,
            "ticks": "",
            "zerolinecolor": "#C8D4E3"
           },
           "zaxis": {
            "backgroundcolor": "rgb(17,17,17)",
            "gridcolor": "#506784",
            "gridwidth": 2,
            "linecolor": "#506784",
            "showbackground": true,
            "ticks": "",
            "zerolinecolor": "#C8D4E3"
           }
          },
          "shapedefaults": {
           "line": {
            "color": "#f2f5fa"
           }
          },
          "sliderdefaults": {
           "bgcolor": "#C8D4E3",
           "bordercolor": "rgb(17,17,17)",
           "borderwidth": 1,
           "tickwidth": 0
          },
          "ternary": {
           "aaxis": {
            "gridcolor": "#506784",
            "linecolor": "#506784",
            "ticks": ""
           },
           "baxis": {
            "gridcolor": "#506784",
            "linecolor": "#506784",
            "ticks": ""
           },
           "bgcolor": "rgb(17,17,17)",
           "caxis": {
            "gridcolor": "#506784",
            "linecolor": "#506784",
            "ticks": ""
           }
          },
          "title": {
           "x": 0.05
          },
          "updatemenudefaults": {
           "bgcolor": "#506784",
           "borderwidth": 0
          },
          "xaxis": {
           "automargin": true,
           "gridcolor": "#283442",
           "linecolor": "#506784",
           "ticks": "",
           "title": {
            "standoff": 15
           },
           "zerolinecolor": "#283442",
           "zerolinewidth": 2
          },
          "yaxis": {
           "automargin": true,
           "gridcolor": "#283442",
           "linecolor": "#506784",
           "ticks": "",
           "title": {
            "standoff": 15
           },
           "zerolinecolor": "#283442",
           "zerolinewidth": 2
          }
         }
        },
        "title": {
         "font": {
          "color": "white",
          "size": 18
         },
         "text": "Top 20 Artists by Number of Hits in the Top 100",
         "x": 0.5,
         "xanchor": "center",
         "y": 0.95,
         "yanchor": "top"
        },
        "xaxis": {
         "anchor": "y",
         "domain": [
          0,
          1
         ],
         "gridcolor": "white",
         "tickangle": -45,
         "title": {
          "font": {
           "color": "white",
           "size": 18
          },
          "text": "Artist Name"
         }
        },
        "yaxis": {
         "anchor": "x",
         "domain": [
          0,
          1
         ],
         "gridcolor": "white",
         "title": {
          "font": {
           "color": "white",
           "size": 18
          },
          "text": "Sum of Track"
         }
        }
       }
      }
     },
     "metadata": {},
     "output_type": "display_data"
    }
   ],
   "source": [
    "df_artist_grouped = df_tracks.groupby([\"Artist_Name\"]) \\\n",
    ".agg({\"Year\" : \"count\"}) \\\n",
    ".reset_index().sort_values(by = \"Year\", ascending = False).rename(columns = {\"Year\" : \"Sum of Track\", \"Artist_Name\" : \"Artist Name\"}).reset_index(drop = True)\n",
    "\n",
    "df_artist_grouped = df_artist_grouped.head(20)\n",
    "df_artist_grouped[\"Artist_Name_Short\"] = df_artist_grouped[\"Artist Name\"].apply(lambda x : x[:5] if isinstance(x, str) else x)\n",
    "\n",
    "color = [\"white\"]\n",
    "Fig_1 = px.bar(df_artist_grouped, x = \"Artist_Name_Short\", y = \"Sum of Track\", text = \"Sum of Track\", color_discrete_sequence = color, \n",
    "              hover_data = {\"Artist_Name_Short\" : False, \"Artist Name\" : True})\n",
    "\n",
    "Fig_1.update_layout(\n",
    "    xaxis_title = \"Artist Name\",\n",
    "    yaxis_title = \"Sum of Track\",\n",
    "    xaxis_title_font = {'size': 18, 'color': 'white'},\n",
    "    yaxis_title_font = {'size': 18, 'color': 'white'},\n",
    "    yaxis_gridcolor = 'white',\n",
    "    xaxis_gridcolor = 'white',\n",
    "    title = {'text': \"Top 20 Artists by Number of Hits in the Top 100\", 'x': 0.5, 'xanchor': 'center', 'y': 0.95, 'yanchor': 'top', 'font': { 'size': 18, 'color': 'white'}},\n",
    "    xaxis_tickangle = -45,\n",
    "    hovermode = \"x unified\",\n",
    "    hoverlabel = dict(bgcolor = \"white\",  font_size = 16, font_family = \"Rockwell\", font_color = \"black\"),\n",
    "    plot_bgcolor = \"rgb(84,52,107)\", paper_bgcolor = \"rgb(84,52,107)\",\n",
    "    height = 600)\n",
    "\n",
    "Fig_1.show()"
   ]
  },
  {
   "cell_type": "markdown",
   "metadata": {},
   "source": [
    "# Müzik Türlerine ve En İyi Albümlere Göre Takipçi Analizi"
   ]
  },
  {
   "cell_type": "code",
   "execution_count": 7,
   "metadata": {},
   "outputs": [
    {
     "data": {
      "application/vnd.plotly.v1+json": {
       "config": {
        "plotlyServerURL": "https://plot.ly"
       },
       "data": [
        {
         "branchvalues": "total",
         "customdata": [
          [
           "j-idol"
          ],
          [
           "j-dance"
          ],
          [
           "korean"
          ],
          [
           "j-pop"
          ],
          [
           "j-pop"
          ],
          [
           "j-pop"
          ],
          [
           "j-pop"
          ],
          [
           "j-pop"
          ],
          [
           "j-idol"
          ],
          [
           "japanese"
          ],
          [
           "j-pop"
          ],
          [
           "j-pop"
          ],
          [
           "japanese"
          ],
          [
           "korean"
          ],
          [
           "j-pop"
          ],
          [
           "japanese"
          ],
          [
           "j-pop"
          ],
          [
           "j-pop"
          ],
          [
           "korean"
          ],
          [
           "j-pop"
          ],
          [
           "j-pop"
          ],
          [
           "j-idol"
          ],
          [
           "j-dance"
          ],
          [
           "j-dance"
          ],
          [
           "korean"
          ],
          [
           "j-idol"
          ],
          [
           "korean"
          ],
          [
           "j-pop"
          ],
          [
           "chinese"
          ],
          [
           "japanese"
          ],
          [
           "j-idol"
          ],
          [
           "j-dance"
          ],
          [
           "j-dance"
          ],
          [
           "korean"
          ],
          [
           "j-dance"
          ],
          [
           "j-dance"
          ],
          [
           "j-idol"
          ],
          [
           "j-pop"
          ],
          [
           "j-dance"
          ],
          [
           "korean"
          ],
          [
           "j-dance"
          ],
          [
           "j-dance"
          ],
          [
           "j-dance"
          ],
          [
           "japanese"
          ],
          [
           "j-dance"
          ],
          [
           "korean"
          ],
          [
           "j-pop"
          ],
          [
           "j-idol"
          ],
          [
           "korean"
          ],
          [
           "j-dance"
          ],
          [
           "j-dance"
          ],
          [
           "japanese"
          ],
          [
           "j-pop"
          ],
          [
           "chinese"
          ],
          [
           "j-pop"
          ],
          [
           "j-pop"
          ],
          [
           "japanese"
          ],
          [
           "j-pop"
          ],
          [
           "j-pop"
          ],
          [
           "j-dance"
          ],
          [
           "j-dance"
          ],
          [
           "j-pop"
          ],
          [
           "japanese"
          ],
          [
           "j-idol"
          ],
          [
           "chinese"
          ],
          [
           "chinese"
          ],
          [
           "j-dance"
          ],
          [
           "j-pop"
          ],
          [
           "j-idol"
          ],
          [
           "korean"
          ],
          [
           "j-pop"
          ],
          [
           "japanese"
          ],
          [
           "j-pop"
          ],
          [
           "j-pop"
          ],
          [
           "j-pop"
          ],
          [
           "korean"
          ],
          [
           "j-pop"
          ],
          [
           "j-idol"
          ],
          [
           "j-idol"
          ],
          [
           "j-pop"
          ],
          [
           "j-pop"
          ],
          [
           "j-idol"
          ],
          [
           "j-pop"
          ],
          [
           "j-idol"
          ],
          [
           "japanese"
          ],
          [
           "j-idol"
          ],
          [
           "j-dance"
          ],
          [
           "japanese"
          ],
          [
           "j-idol"
          ],
          [
           "j-idol"
          ],
          [
           "j-dance"
          ],
          [
           "j-dance"
          ],
          [
           "j-idol"
          ],
          [
           "j-idol"
          ],
          [
           "japanese"
          ],
          [
           "j-idol"
          ],
          [
           "j-dance"
          ],
          [
           "j-pop"
          ],
          [
           "j-pop"
          ],
          [
           "j-dance"
          ],
          [
           "j-dance"
          ],
          [
           "j-pop"
          ],
          [
           "chinese"
          ],
          [
           "korean"
          ],
          [
           "j-idol"
          ],
          [
           "korean"
          ],
          [
           "j-pop"
          ],
          [
           "korean"
          ],
          [
           "j-pop"
          ],
          [
           "chinese"
          ],
          [
           "japanese"
          ],
          [
           "j-dance"
          ],
          [
           "korean"
          ],
          [
           "j-pop"
          ],
          [
           "korean"
          ],
          [
           "j-idol"
          ],
          [
           "j-pop"
          ],
          [
           "japanese"
          ],
          [
           "j-pop"
          ],
          [
           "j-dance"
          ],
          [
           "j-idol"
          ],
          [
           "japanese"
          ],
          [
           "j-pop"
          ],
          [
           "j-idol"
          ],
          [
           "chinese"
          ],
          [
           "japanese"
          ],
          [
           "korean"
          ],
          [
           "j-pop"
          ],
          [
           "j-pop"
          ],
          [
           "j-idol"
          ],
          [
           "j-pop"
          ],
          [
           "j-pop"
          ],
          [
           "j-pop"
          ],
          [
           "j-pop"
          ],
          [
           "korean"
          ],
          [
           "j-pop"
          ],
          [
           "korean"
          ],
          [
           "chinese"
          ],
          [
           "japanese"
          ],
          [
           "korean"
          ],
          [
           "j-idol"
          ],
          [
           "j-dance"
          ],
          [
           "japanese"
          ],
          [
           "j-pop"
          ],
          [
           "chinese"
          ],
          [
           "korean"
          ],
          [
           "korean"
          ],
          [
           "korean"
          ],
          [
           "j-dance"
          ],
          [
           "chinese"
          ],
          [
           "j-dance"
          ],
          [
           "j-dance"
          ],
          [
           "j-dance"
          ],
          [
           "korean"
          ],
          [
           "j-pop"
          ],
          [
           "j-pop"
          ],
          [
           "j-pop"
          ],
          [
           "j-dance"
          ],
          [
           "j-pop"
          ],
          [
           "korean"
          ],
          [
           "j-pop"
          ],
          [
           "j-pop"
          ],
          [
           "j-pop"
          ],
          [
           "j-dance"
          ],
          [
           "korean"
          ],
          [
           "korean"
          ],
          [
           "j-idol"
          ],
          [
           "j-dance"
          ],
          [
           "korean"
          ],
          [
           "j-pop"
          ],
          [
           "korean"
          ],
          [
           "j-dance"
          ],
          [
           "j-pop"
          ],
          [
           "j-pop"
          ],
          [
           "j-dance"
          ],
          [
           "j-dance"
          ],
          [
           "j-pop"
          ],
          [
           "korean"
          ],
          [
           "j-pop"
          ],
          [
           "j-dance"
          ],
          [
           "japanese"
          ],
          [
           "j-pop"
          ],
          [
           "j-pop"
          ],
          [
           "j-pop"
          ],
          [
           "j-dance"
          ],
          [
           "japanese"
          ],
          [
           "j-pop"
          ],
          [
           "j-idol"
          ],
          [
           "korean"
          ],
          [
           "j-idol"
          ],
          [
           "j-idol"
          ],
          [
           "j-idol"
          ],
          [
           "korean"
          ],
          [
           "korean"
          ],
          [
           "j-idol"
          ],
          [
           "j-dance"
          ],
          [
           "j-dance"
          ],
          [
           "j-pop"
          ],
          [
           "chinese"
          ],
          [
           "korean"
          ],
          [
           "j-pop"
          ],
          [
           "korean"
          ],
          [
           "chinese"
          ],
          [
           "j-dance"
          ],
          [
           "japanese"
          ],
          [
           "j-pop"
          ],
          [
           "korean"
          ],
          [
           "j-pop"
          ],
          [
           "j-idol"
          ],
          [
           "chinese"
          ],
          [
           "j-pop"
          ],
          [
           "j-dance"
          ],
          [
           "j-dance"
          ],
          [
           "j-dance"
          ],
          [
           "j-dance"
          ],
          [
           "j-pop"
          ],
          [
           "korean"
          ],
          [
           "korean"
          ],
          [
           "chinese"
          ],
          [
           "j-idol"
          ],
          [
           "korean"
          ],
          [
           "korean"
          ],
          [
           "japanese"
          ],
          [
           "korean"
          ],
          [
           "japanese"
          ],
          [
           "korean"
          ],
          [
           "j-pop"
          ],
          [
           "j-dance"
          ],
          [
           "korean"
          ],
          [
           "j-pop"
          ],
          [
           "chinese"
          ],
          [
           "japanese"
          ],
          [
           "korean"
          ],
          [
           "j-pop"
          ],
          [
           "korean"
          ],
          [
           "j-pop"
          ],
          [
           "korean"
          ],
          [
           "j-pop"
          ],
          [
           "j-pop"
          ],
          [
           "j-dance"
          ],
          [
           "chinese"
          ],
          [
           "j-dance"
          ],
          [
           "korean"
          ],
          [
           "j-pop"
          ],
          [
           "korean"
          ],
          [
           "j-pop"
          ],
          [
           "chinese"
          ],
          [
           "chinese"
          ],
          [
           "j-pop"
          ],
          [
           "japanese"
          ],
          [
           "chinese"
          ],
          [
           "j-pop"
          ],
          [
           "korean"
          ],
          [
           "j-pop"
          ],
          [
           "korean"
          ],
          [
           "j-pop"
          ],
          [
           "chinese"
          ],
          [
           "j-pop"
          ],
          [
           "chinese"
          ],
          [
           "j-dance"
          ],
          [
           "j-dance"
          ],
          [
           "j-dance"
          ],
          [
           "korean"
          ],
          [
           "japanese"
          ],
          [
           "japanese"
          ],
          [
           "japanese"
          ],
          [
           "j-pop"
          ],
          [
           "j-pop"
          ],
          [
           "j-pop"
          ],
          [
           "j-idol"
          ],
          [
           "chinese"
          ],
          [
           "j-dance"
          ],
          [
           "korean"
          ],
          [
           "korean"
          ],
          [
           "j-pop"
          ],
          [
           "japanese"
          ],
          [
           "j-pop"
          ],
          [
           "chinese"
          ],
          [
           "j-pop"
          ],
          [
           "j-idol"
          ],
          [
           "japanese"
          ],
          [
           "j-pop"
          ],
          [
           "chinese"
          ],
          [
           "j-pop"
          ],
          [
           "korean"
          ],
          [
           "j-dance"
          ],
          [
           "chinese"
          ],
          [
           "j-dance"
          ],
          [
           "j-pop"
          ],
          [
           "korean"
          ],
          [
           "j-pop"
          ],
          [
           "j-pop"
          ],
          [
           "j-idol"
          ],
          [
           "japanese"
          ],
          [
           "j-pop"
          ],
          [
           "j-pop"
          ],
          [
           "j-dance"
          ],
          [
           "j-pop"
          ],
          [
           "j-pop"
          ],
          [
           "j-idol"
          ],
          [
           "j-pop"
          ],
          [
           "japanese"
          ],
          [
           "j-pop"
          ],
          [
           "j-pop"
          ],
          [
           "j-idol"
          ],
          [
           "j-idol"
          ],
          [
           "korean"
          ],
          [
           "j-pop"
          ],
          [
           "japanese"
          ],
          [
           "j-idol"
          ],
          [
           "j-idol"
          ],
          [
           "japanese"
          ],
          [
           "korean"
          ],
          [
           "korean"
          ],
          [
           "j-pop"
          ],
          [
           "japanese"
          ],
          [
           "j-pop"
          ],
          [
           "chinese"
          ],
          [
           "chinese"
          ],
          [
           "j-idol"
          ],
          [
           "j-idol"
          ],
          [
           "japanese"
          ],
          [
           "j-idol"
          ],
          [
           "japanese"
          ],
          [
           "chinese"
          ],
          [
           "j-pop"
          ],
          [
           "korean"
          ],
          [
           "korean"
          ],
          [
           "j-dance"
          ],
          [
           "j-pop"
          ],
          [
           "korean"
          ],
          [
           "japanese"
          ],
          [
           "j-dance"
          ],
          [
           "j-dance"
          ],
          [
           "j-idol"
          ],
          [
           "j-pop"
          ],
          [
           "j-pop"
          ],
          [
           "j-dance"
          ],
          [
           "j-pop"
          ],
          [
           "j-pop"
          ],
          [
           "korean"
          ],
          [
           "japanese"
          ],
          [
           "j-dance"
          ],
          [
           "j-pop"
          ],
          [
           "j-pop"
          ],
          [
           "j-dance"
          ],
          [
           "j-idol"
          ],
          [
           "j-dance"
          ],
          [
           "chinese"
          ],
          [
           "korean"
          ],
          [
           "j-pop"
          ],
          [
           "j-pop"
          ],
          [
           "j-dance"
          ],
          [
           "chinese"
          ],
          [
           "j-pop"
          ],
          [
           "j-idol"
          ],
          [
           "j-pop"
          ],
          [
           "j-pop"
          ],
          [
           "japanese"
          ],
          [
           "j-pop"
          ],
          [
           "japanese"
          ],
          [
           "j-dance"
          ],
          [
           "japanese"
          ],
          [
           "j-idol"
          ],
          [
           "j-dance"
          ],
          [
           "j-pop"
          ],
          [
           "j-pop"
          ],
          [
           "j-dance"
          ],
          [
           "j-pop"
          ],
          [
           "korean"
          ],
          [
           "j-pop"
          ],
          [
           "j-dance"
          ],
          [
           "korean"
          ],
          [
           "chinese"
          ],
          [
           "korean"
          ],
          [
           "j-pop"
          ],
          [
           "korean"
          ],
          [
           "j-dance"
          ],
          [
           "j-dance"
          ],
          [
           "j-pop"
          ],
          [
           "japanese"
          ],
          [
           "j-pop"
          ],
          [
           "j-dance"
          ],
          [
           "chinese"
          ],
          [
           "j-pop"
          ],
          [
           "japanese"
          ],
          [
           "j-pop"
          ],
          [
           "j-idol"
          ],
          [
           "j-pop"
          ],
          [
           "korean"
          ],
          [
           "j-pop"
          ],
          [
           "korean"
          ],
          [
           "j-dance"
          ],
          [
           "j-pop"
          ],
          [
           "japanese"
          ],
          [
           "j-pop"
          ],
          [
           "j-idol"
          ],
          [
           "j-dance"
          ],
          [
           "j-dance"
          ],
          [
           "j-pop"
          ],
          [
           "korean"
          ],
          [
           "japanese"
          ],
          [
           "j-dance"
          ],
          [
           "j-idol"
          ],
          [
           "japanese"
          ],
          [
           "j-dance"
          ],
          [
           "j-pop"
          ],
          [
           "j-pop"
          ],
          [
           "j-pop"
          ],
          [
           "j-pop"
          ],
          [
           "j-pop"
          ],
          [
           "j-idol"
          ],
          [
           "j-idol"
          ],
          [
           "j-idol"
          ],
          [
           "j-pop"
          ],
          [
           "j-pop"
          ],
          [
           "japanese"
          ],
          [
           "korean"
          ],
          [
           "j-dance"
          ],
          [
           "j-idol"
          ],
          [
           "japanese"
          ],
          [
           "japanese"
          ],
          [
           "j-pop"
          ],
          [
           "korean"
          ],
          [
           "j-pop"
          ],
          [
           "j-idol"
          ],
          [
           "j-pop"
          ],
          [
           "j-pop"
          ],
          [
           "japanese"
          ],
          [
           "j-pop"
          ],
          [
           "j-idol"
          ],
          [
           "j-pop"
          ],
          [
           "japanese"
          ],
          [
           "j-pop"
          ],
          [
           "japanese"
          ],
          [
           "j-dance"
          ],
          [
           "j-dance"
          ],
          [
           "j-idol"
          ],
          [
           "j-idol"
          ],
          [
           "japanese"
          ],
          [
           "j-idol"
          ],
          [
           "chinese"
          ],
          [
           "j-idol"
          ],
          [
           "j-idol"
          ],
          [
           "korean"
          ],
          [
           "chinese"
          ],
          [
           "j-pop"
          ],
          [
           "korean"
          ],
          [
           "j-idol"
          ],
          [
           "chinese"
          ],
          [
           "korean"
          ],
          [
           "j-pop"
          ],
          [
           "korean"
          ],
          [
           "j-idol"
          ],
          [
           "chinese"
          ],
          [
           "j-idol"
          ],
          [
           "japanese"
          ],
          [
           "j-pop"
          ],
          [
           "j-idol"
          ],
          [
           "j-pop"
          ],
          [
           "j-pop"
          ],
          [
           "chinese"
          ],
          [
           "j-dance"
          ],
          [
           "j-pop"
          ],
          [
           "japanese"
          ],
          [
           "j-dance"
          ],
          [
           "japanese"
          ],
          [
           "j-dance"
          ],
          [
           "j-pop"
          ],
          [
           "j-dance"
          ],
          [
           "korean"
          ],
          [
           "j-dance"
          ],
          [
           "j-dance"
          ],
          [
           "j-pop"
          ],
          [
           "j-idol"
          ],
          [
           "j-pop"
          ],
          [
           "j-pop"
          ],
          [
           "japanese"
          ],
          [
           "j-idol"
          ],
          [
           "j-pop"
          ],
          [
           "j-pop"
          ],
          [
           "j-pop"
          ],
          [
           "japanese"
          ],
          [
           "j-pop"
          ],
          [
           "korean"
          ],
          [
           "japanese"
          ],
          [
           "j-pop"
          ],
          [
           "korean"
          ],
          [
           "japanese"
          ],
          [
           "j-idol"
          ],
          [
           "j-idol"
          ],
          [
           "korean"
          ],
          [
           "korean"
          ],
          [
           "korean"
          ],
          [
           "j-pop"
          ],
          [
           "j-pop"
          ],
          [
           "korean"
          ],
          [
           "j-idol"
          ],
          [
           "j-pop"
          ],
          [
           "j-idol"
          ],
          [
           "j-idol"
          ],
          [
           "japanese"
          ],
          [
           "j-idol"
          ],
          [
           "j-idol"
          ],
          [
           "japanese"
          ],
          [
           "j-pop"
          ],
          [
           "korean"
          ],
          [
           "japanese"
          ],
          [
           "chinese"
          ],
          [
           "chinese"
          ],
          [
           "chinese"
          ],
          [
           "korean"
          ],
          [
           "j-pop"
          ],
          [
           "j-dance"
          ],
          [
           "j-idol"
          ],
          [
           "japanese"
          ],
          [
           "j-idol"
          ],
          [
           "japanese"
          ],
          [
           "japanese"
          ],
          [
           "japanese"
          ],
          [
           "j-pop"
          ],
          [
           "chinese"
          ],
          [
           "japanese"
          ],
          [
           "chinese"
          ],
          [
           "j-idol"
          ],
          [
           "j-pop"
          ],
          [
           "japanese"
          ],
          [
           "japanese"
          ],
          [
           "j-pop"
          ],
          [
           "j-pop"
          ],
          [
           "j-pop"
          ],
          [
           "j-pop"
          ],
          [
           "j-pop"
          ],
          [
           "j-pop"
          ],
          [
           "chinese"
          ],
          [
           "chinese"
          ],
          [
           "chinese"
          ],
          [
           "j-pop"
          ],
          [
           "j-idol"
          ],
          [
           "korean"
          ],
          [
           "j-pop"
          ],
          [
           "j-pop"
          ],
          [
           "j-idol"
          ],
          [
           "korean"
          ],
          [
           "j-dance"
          ],
          [
           "j-dance"
          ],
          [
           "korean"
          ],
          [
           "japanese"
          ],
          [
           "j-pop"
          ],
          [
           "j-idol"
          ],
          [
           "j-dance"
          ],
          [
           "j-pop"
          ],
          [
           "j-pop"
          ],
          [
           "japanese"
          ],
          [
           "chinese"
          ],
          [
           "j-idol"
          ],
          [
           "korean"
          ],
          [
           "j-dance"
          ],
          [
           "j-dance"
          ],
          [
           "j-dance"
          ],
          [
           "japanese"
          ],
          [
           "j-dance"
          ],
          [
           "chinese"
          ],
          [
           "korean"
          ],
          [
           "chinese"
          ],
          [
           "chinese"
          ],
          [
           "chinese"
          ],
          [
           "korean"
          ],
          [
           "j-idol"
          ],
          [
           "j-pop"
          ],
          [
           "japanese"
          ],
          [
           "j-dance"
          ],
          [
           "japanese"
          ],
          [
           "japanese"
          ],
          [
           "j-pop"
          ],
          [
           "japanese"
          ],
          [
           "j-pop"
          ],
          [
           "korean"
          ],
          [
           "chinese"
          ],
          [
           "j-idol"
          ],
          [
           "chinese"
          ],
          [
           "japanese"
          ],
          [
           "j-idol"
          ],
          [
           "j-dance"
          ],
          [
           "korean"
          ],
          [
           "chinese"
          ],
          [
           "j-idol"
          ],
          [
           "j-pop"
          ],
          [
           "japanese"
          ],
          [
           "j-dance"
          ],
          [
           "j-dance"
          ],
          [
           "j-idol"
          ],
          [
           "j-pop"
          ],
          [
           "j-pop"
          ],
          [
           "japanese"
          ],
          [
           "chinese"
          ],
          [
           "chinese"
          ],
          [
           "chinese"
          ],
          [
           "chinese"
          ],
          [
           "chinese"
          ],
          [
           "chinese"
          ],
          [
           "chinese"
          ],
          [
           "chinese"
          ],
          [
           "chinese"
          ],
          [
           "chinese"
          ],
          [
           "chinese"
          ],
          [
           "chinese"
          ],
          [
           "chinese"
          ],
          [
           "chinese"
          ],
          [
           "chinese"
          ],
          [
           "chinese"
          ],
          [
           "chinese"
          ],
          [
           "japanese"
          ],
          [
           "chinese"
          ],
          [
           "chinese"
          ],
          [
           "chinese"
          ],
          [
           "chinese"
          ],
          [
           "j-idol"
          ],
          [
           "chinese"
          ],
          [
           "chinese"
          ],
          [
           "chinese"
          ],
          [
           "japanese"
          ],
          [
           "chinese"
          ],
          [
           "japanese"
          ],
          [
           "chinese"
          ],
          [
           "chinese"
          ],
          [
           "chinese"
          ],
          [
           "chinese"
          ],
          [
           "chinese"
          ],
          [
           "chinese"
          ],
          [
           "chinese"
          ],
          [
           "chinese"
          ],
          [
           "chinese"
          ],
          [
           "chinese"
          ],
          [
           "japanese"
          ],
          [
           "chinese"
          ],
          [
           "chinese"
          ],
          [
           "chinese"
          ],
          [
           "chinese"
          ],
          [
           "chinese"
          ],
          [
           "chinese"
          ],
          [
           "chinese"
          ],
          [
           "chinese"
          ],
          [
           "chinese"
          ],
          [
           "korean"
          ],
          [
           "j-pop"
          ],
          [
           "j-idol"
          ],
          [
           "japanese"
          ],
          [
           "j-pop"
          ],
          [
           "korean"
          ],
          [
           "j-idol"
          ],
          [
           "korean"
          ],
          [
           "j-dance"
          ],
          [
           "japanese"
          ],
          [
           "j-dance"
          ],
          [
           "j-pop"
          ],
          [
           "japanese"
          ],
          [
           "j-pop"
          ],
          [
           "japanese"
          ],
          [
           "j-pop"
          ],
          [
           "japanese"
          ],
          [
           "j-pop"
          ],
          [
           "j-dance"
          ],
          [
           "j-idol"
          ],
          [
           "korean"
          ],
          [
           "j-pop"
          ],
          [
           "chinese"
          ],
          [
           "chinese"
          ],
          [
           "j-pop"
          ],
          [
           "japanese"
          ],
          [
           "korean"
          ],
          [
           "japanese"
          ],
          [
           "j-idol"
          ],
          [
           "j-idol"
          ],
          [
           "j-pop"
          ],
          [
           "japanese"
          ],
          [
           "japanese"
          ],
          [
           "japanese"
          ],
          [
           "j-dance"
          ],
          [
           "japanese"
          ],
          [
           "j-idol"
          ],
          [
           "japanese"
          ],
          [
           "japanese"
          ],
          [
           "korean"
          ],
          [
           "j-pop"
          ],
          [
           "j-pop"
          ],
          [
           "j-idol"
          ],
          [
           "japanese"
          ],
          [
           "j-pop"
          ],
          [
           "chinese"
          ],
          [
           "j-idol"
          ],
          [
           "japanese"
          ],
          [
           "j-pop"
          ],
          [
           "j-pop"
          ],
          [
           "korean"
          ],
          [
           "chinese"
          ],
          [
           "j-dance"
          ],
          [
           "j-idol"
          ],
          [
           "j-pop"
          ],
          [
           "japanese"
          ],
          [
           "korean"
          ]
         ],
         "domain": {
          "x": [
           0,
           1
          ],
          "y": [
           0,
           1
          ]
         },
         "hoverlabel": {
          "bgcolor": "white",
          "font": {
           "color": "black",
           "family": "Arial",
           "size": 20
          }
         },
         "hovertemplate": "<b>Query_Genre : </b> %{parent}<br>                        <b>Top_Track_Album : </b> %{label}<br>                        <b>Followers : </b> %{value:,}<extra></extra>",
         "ids": [
          "j-idol/#ジューロック",
          "j-dance/BananaLemon",
          "korean/BUZZ",
          "j-pop/BUZZ",
          "j-pop/BUMP OF CHICKEN",
          "j-pop/BTS",
          "j-pop/BTOB",
          "j-pop/BSS",
          "j-idol/BRIDEAR",
          "japanese/BOØWY",
          "j-pop/BOØWY",
          "j-pop/BOL4",
          "japanese/BLOOM VASE",
          "korean/BLASÉ",
          "j-pop/BLACKPINK",
          "japanese/BIM",
          "j-pop/BIGBANG",
          "j-pop/BIG Naughty",
          "korean/BIBI",
          "j-pop/BIBI",
          "j-pop/BE:FIRST",
          "j-idol/BAND-MAID",
          "j-dance/Banty Foot",
          "j-dance/Beenie Man",
          "korean/Beenzino",
          "j-idol/BiS",
          "korean/Car, the garden",
          "j-pop/Car, the garden",
          "chinese/Capper",
          "japanese/Candee",
          "j-idol/CYNHN",
          "j-dance/CYBERJAPAN DANCERS",
          "j-dance/CTS",
          "korean/CODE KUNST",
          "j-dance/CIRRRCLE",
          "j-dance/CICADA",
          "j-idol/BAND JA NAIMON! MAXX NAKAYOSHI",
          "j-pop/CHUNG HA",
          "j-dance/CAPSULE",
          "korean/CAMO",
          "j-dance/Busy Signal",
          "j-dance/Bugle",
          "j-dance/Bounty Killer",
          "japanese/Bonbero",
          "j-dance/Blvk H3ro",
          "korean/BlackNut",
          "j-pop/BiSH",
          "j-idol/BiSH",
          "korean/CHANGMO",
          "j-dance/BALLISTIK BOYZ from EXILE TRIBE",
          "j-dance/Bayka",
          "japanese/BAD HOP",
          "j-pop/Ado",
          "chinese/Ada Zhuang",
          "j-pop/ATEEZ",
          "j-pop/ATARASHII GAKKO!",
          "japanese/ASIAN KUNG-FU GENERATION",
          "j-pop/ASIAN KUNG-FU GENERATION",
          "j-pop/ARASHI",
          "j-dance/ANIMAL HACK",
          "j-dance/AMARIA BB",
          "j-pop/AKMU",
          "japanese/Ado",
          "j-idol/AKB48",
          "chinese/A Si",
          "chinese/9m88",
          "j-dance/80KIDZ",
          "j-pop/2NE1",
          "j-idol/26時のマスカレイド",
          "korean/10cm",
          "j-pop/10cm",
          "japanese/10-FEET",
          "j-pop/10-FEET",
          "j-pop/BAEKHYUN",
          "j-pop/AAA",
          "korean/Ahn Ye Eun",
          "j-pop/(G)I-DLE",
          "j-idol/Aya Ueto",
          "j-idol/BABYMETAL",
          "j-pop/B.I",
          "j-pop/B'z",
          "j-idol/Ayumikurikamaki",
          "j-pop/Ayumi Hamasaki",
          "j-idol/Ayame Goriki",
          "japanese/Ai Otsuka",
          "j-idol/Aya Hirano",
          "j-dance/Attractions",
          "japanese/Anzen Chitai",
          "j-idol/Atsuko Maeda",
          "j-idol/Ami Suzuki",
          "j-dance/AmPm",
          "j-dance/Alkaline",
          "j-idol/Alisa Mizuki",
          "j-idol/Aldious",
          "japanese/Akina Nakamori",
          "j-idol/Akina Nakamori",
          "j-dance/Akane",
          "j-pop/Aimyon",
          "j-pop/Aimer",
          "j-dance/Amon Tobin",
          "j-dance/Govana",
          "j-pop/Girls' Generation",
          "chinese/Gordon Flanders",
          "korean/GroovyRoom",
          "j-idol/Flower",
          "korean/Gwangil Jo",
          "j-pop/HEIZE",
          "korean/HEIZE",
          "j-pop/HIRAIDAI",
          "chinese/Gummy B",
          "japanese/Gen Hoshino",
          "j-dance/Flying Lotus",
          "korean/Gaeko",
          "j-pop/GReeeeN",
          "korean/GIRIBOY",
          "j-idol/GANG PARADE",
          "j-pop/G-DRAGON",
          "japanese/Fujii Kaze",
          "j-pop/Fujii Kaze",
          "j-dance/Freshlyground",
          "j-idol/Folder 5",
          "japanese/HIRAIDAI",
          "j-pop/Gen Hoshino",
          "j-idol/HKT48",
          "chinese/Hu Xia",
          "japanese/HOYO-MiX",
          "korean/JANNABI",
          "j-pop/J SOUL BROTHERS III",
          "j-pop/Ikimonogakari",
          "j-idol/Idoling!!!",
          "j-pop/IZ*ONE",
          "j-pop/IVE",
          "j-pop/IU",
          "j-pop/ITZY",
          "korean/Hwa Sa",
          "j-pop/Hwa Sa",
          "korean/Huh",
          "chinese/Hua Chen Yu",
          "japanese/Hoshimachi Suisei",
          "korean/Hoody",
          "j-idol/Hitomi Shimatani",
          "j-dance/Hiroomi Tosaka",
          "japanese/Hikaru Utada",
          "j-pop/Hikaru Utada",
          "chinese/Higher Brothers",
          "korean/Ha Hyun Sang",
          "korean/HYUKOH",
          "korean/HOMIES",
          "j-dance/FlowBack",
          "chinese/Ivana Wong",
          "j-dance/FAKY",
          "j-dance/DING DONG",
          "j-dance/DEAN FUJIOKA",
          "korean/DEAN",
          "j-pop/DEAN",
          "j-pop/DAY6",
          "j-pop/DAVICHI",
          "j-dance/DA PUMP",
          "j-pop/D.O.",
          "korean/Crush",
          "j-pop/Crush",
          "j-pop/DISH//",
          "j-pop/Creepy Nuts",
          "j-dance/CrazyBoy",
          "korean/Cosmic Boy",
          "korean/Colde",
          "j-idol/CoCo",
          "j-dance/Chronic Law",
          "korean/Choi Yuree",
          "j-pop/Choi Yuree",
          "korean/Chillin Homie",
          "j-dance/Charly Black",
          "j-pop/FIFTY FIFTY",
          "j-pop/Creep Hyp",
          "j-dance/DJ Zinc",
          "j-dance/Chi Ching Ching",
          "j-pop/DREAMS COME TRUE",
          "korean/DPR LIVE",
          "j-pop/Epik High",
          "j-dance/Elephant Man",
          "japanese/Eikichi Yazawa",
          "j-pop/EXO",
          "j-pop/EXILE",
          "j-pop/ENHYPEN",
          "j-dance/EMMA WAHLIN",
          "japanese/ELLEGARDEN",
          "j-pop/ELLEGARDEN",
          "j-idol/E-girls",
          "korean/Epik High",
          "j-idol/Dream5",
          "j-idol/Dream Ami",
          "j-idol/Dream",
          "korean/Don Malik",
          "korean/Dok2",
          "j-idol/Dempagumi.Inc",
          "j-dance/Demarco",
          "j-dance/Def Will",
          "j-pop/Da-iCE",
          "chinese/David Tao",
          "korean/Dynamicduo",
          "j-pop/KyoungSeo",
          "korean/KyoungSeo",
          "chinese/LBI利比",
          "j-dance/LOZAREENA",
          "japanese/LEX",
          "j-pop/LISA",
          "korean/LUCY",
          "j-pop/LE SSERAFIM",
          "j-idol/Kyary Pamyu Pamyu",
          "chinese/Kiri T",
          "j-pop/Kwon Jin Ah",
          "j-dance/Kraff Gad",
          "j-dance/Koffee",
          "j-dance/Kiprich",
          "j-dance/King Rabbits",
          "j-pop/King Gnu",
          "korean/Kim Seungmin",
          "korean/Kim Kwang Seok",
          "chinese/Lang Lang",
          "j-idol/Kii Kitano",
          "korean/Kwon Jin Ah",
          "korean/Kim Dong Ryul",
          "japanese/Lilas Ikuta",
          "korean/Lee Moon Sae",
          "japanese/MAISONdes",
          "korean/Kid Milli",
          "j-pop/MAISONdes",
          "j-dance/MABU",
          "korean/M.C the Max",
          "j-pop/M.C the Max",
          "chinese/LÜCY",
          "japanese/Lucky Kilimanjaro",
          "korean/Loco",
          "j-pop/Loco",
          "korean/Lim Jae Hyun",
          "j-pop/Lim Jae Hyun",
          "korean/Lim Changjung",
          "j-pop/Lilas Ikuta",
          "j-pop/LiSA",
          "j-dance/Leyona",
          "chinese/Lexie Liu",
          "j-dance/Leola",
          "korean/Leellamarz",
          "j-pop/LeeHi",
          "korean/Lee Young Ji",
          "j-pop/Lee Moon Sae",
          "chinese/Khalil Fong",
          "chinese/Leah Dou",
          "j-pop/Ketsumeishi",
          "japanese/Joe Hisaishi",
          "chinese/Joanna Wang",
          "j-pop/Jimin",
          "korean/Jeon Sang Keun",
          "j-pop/Jeon Sang Keun",
          "korean/Jay Park",
          "j-pop/Jay Park",
          "chinese/Jason Zhang",
          "j-pop/Jang Beom June",
          "chinese/Jane Zhang",
          "j-dance/Jahshii",
          "j-dance/Jah Vinci",
          "j-dance/JUVENILE",
          "korean/JUNNY",
          "japanese/JUMADIBA",
          "japanese/JUJU",
          "japanese/JP THE WAVY",
          "j-pop/JO1",
          "j-pop/JISOO",
          "j-pop/JIN",
          "j-idol/Keyakizaka46",
          "chinese/Joshua Band",
          "j-dance/Jugglerz",
          "korean/Jang Beom June",
          "korean/Jukjae",
          "j-pop/Jukjae",
          "japanese/Ken Hirai",
          "j-pop/Ken Hirai",
          "chinese/Kelly Yu",
          "j-pop/Keisuke Kuwata",
          "j-idol/Kei Ishiguro",
          "japanese/Kazumasa Oda",
          "j-pop/Kassy",
          "chinese/Karencici",
          "j-pop/Kana Nishino",
          "korean/Kassy",
          "j-dance/KEITA",
          "chinese/Julia Wu",
          "j-dance/KIRA",
          "j-pop/Jung Seung Hwan",
          "korean/Jung Seung Hwan",
          "j-pop/KAI",
          "j-pop/Jung Kook",
          "j-idol/KAQRIYOTERROR",
          "japanese/KEIJU",
          "j-pop/Kenshi Yonezu",
          "j-pop/KANGDANIEL",
          "j-dance/SWAY",
          "j-pop/SPITZ",
          "j-pop/STAYC",
          "j-idol/STU48",
          "j-pop/SUDA MASAKI",
          "japanese/SUDA MASAKI",
          "j-pop/SUGA",
          "j-pop/SUPER BEAVER",
          "j-idol/Sakuragakuin",
          "j-idol/Shiritsu Ebisu Chugaku",
          "korean/Sam Kim",
          "j-pop/Saucy Dog",
          "japanese/Saucy Dog",
          "j-idol/Sayaka Yamamoto",
          "j-idol/Seiko Matsuda",
          "japanese/Seiko Matsuda",
          "korean/Seong-Jin Cho",
          "korean/Seori",
          "j-pop/Sheena Ringo",
          "japanese/SOUTH BLUE",
          "j-pop/Sam Kim",
          "chinese/SOPHY",
          "chinese/Ren Ran",
          "j-idol/SKE48",
          "j-idol/Shizuka Kudo",
          "japanese/Reol",
          "j-idol/Rina Chinen",
          "japanese/Rin音",
          "chinese/Ronghao Li",
          "j-pop/Roy Kim",
          "korean/Roy Kim",
          "korean/Royal 44",
          "j-dance/Royal Blu",
          "j-pop/Ryokuoushoku Shakai",
          "korean/SOLE",
          "japanese/Ryuichi Sakamoto",
          "j-dance/SARA-J",
          "j-dance/SASUKE",
          "j-idol/SCANDAL",
          "j-pop/SEKAI NO OWARI",
          "j-pop/SEVENTEEN",
          "j-dance/SHINJIRO ATAE (from AAA)",
          "j-pop/SHINee",
          "j-pop/SHISHAMO",
          "korean/SILKYBOIS",
          "japanese/SIRUP",
          "j-dance/Ryuji Imaichi",
          "j-pop/Shonan No Kaze",
          "j-pop/Superfly",
          "j-dance/Shuta Sueyoshi",
          "j-idol/TEAM SHACHI",
          "j-dance/TEMPURA KIDZ",
          "chinese/TFBOYS",
          "korean/THAMA",
          "j-pop/THE BOYZ",
          "j-pop/THE RAMPAGE from EXILE TRIBE",
          "j-dance/THREE1989",
          "chinese/TIA RAY",
          "j-pop/TOMORROW X TOGETHER",
          "j-idol/TRiDENT",
          "j-pop/TWICE",
          "j-pop/Takaya Kawasaki",
          "japanese/Takaya Kawasaki",
          "j-pop/Tani Yuuki",
          "japanese/Tani Yuuki",
          "j-dance/Tanto Metro & Devonte",
          "japanese/Tatsuya Kitani",
          "j-idol/Team Syachihoko",
          "j-dance/Teejay",
          "j-pop/The Black Skirts",
          "j-pop/Red Velvet",
          "j-dance/TANAKA ALICE",
          "j-pop/TAEYEON",
          "korean/TAEYANG",
          "j-pop/TAEYANG",
          "j-dance/ShuuKaRen",
          "korean/Sik-K",
          "chinese/Silence Wang",
          "korean/Silica Gel",
          "j-pop/Simon Dominic",
          "korean/Simon Dominic",
          "j-dance/Skeng",
          "j-dance/Skillibeng",
          "j-pop/Sonoko Inoue",
          "japanese/Sonoko Inoue",
          "j-pop/Shota Shimizu",
          "j-dance/Spice",
          "chinese/Stream of Praise",
          "j-pop/SugLawd Familiar",
          "japanese/SugLawd Familiar",
          "j-pop/Sukima Switch",
          "j-idol/Sumiko Yamagata",
          "j-pop/Sung Si Kyung",
          "korean/Sung Si Kyung",
          "j-pop/Sunwoojunga",
          "korean/Sunwoojunga",
          "j-dance/Susumu Yokota",
          "j-pop/Stray Kids",
          "japanese/Ralph",
          "j-pop/NiziU",
          "j-idol/RYUTist",
          "j-dance/Massive B",
          "j-dance/Mavado",
          "j-pop/MeloMance",
          "korean/MeloMance",
          "japanese/Miliyah",
          "j-dance/Mime",
          "j-idol/Momoiro Clover Z",
          "japanese/Motohiro Hata",
          "j-dance/Mr. Williamz",
          "j-pop/Mr.Children",
          "j-pop/Mrs. GREEN APPLE",
          "j-pop/N.Flying",
          "j-pop/NCT 127",
          "j-pop/NCT DREAM",
          "j-idol/NEO JAPONISM",
          "j-idol/NGT48",
          "j-idol/NMB48",
          "j-pop/NMIXX",
          "j-pop/Namie Amuro",
          "japanese/Naoto Inti Raymi",
          "korean/Naul",
          "j-dance/Masicka",
          "j-idol/Negicco",
          "japanese/Masaharu Fukuyama",
          "japanese/Mariya Takeuchi",
          "j-pop/MAKTUB",
          "korean/MAKTUB",
          "j-pop/MAN WITH A MISSION",
          "j-idol/MAX",
          "j-pop/MISIA",
          "j-pop/MONGOL800",
          "japanese/MONGOL800",
          "j-pop/MONSTA X",
          "j-idol/MOSHIMO",
          "j-pop/MY FIRST STORY",
          "japanese/MY FIRST STORY",
          "j-pop/Macaroni Empitsu",
          "japanese/Macaroni Empitsu",
          "j-dance/Maharajan",
          "j-dance/Maika Loubté",
          "j-idol/Maison book girl",
          "j-idol/Maki Goto",
          "japanese/Maki Ohguro",
          "j-idol/Maneki Kecak",
          "chinese/Mao Buyi",
          "j-idol/Mariya Takeuchi",
          "j-idol/Mary's Blood",
          "korean/Nerd Connection",
          "chinese/Masiwei",
          "j-pop/Nissy",
          "korean/Park Hyo Shin",
          "j-idol/PassCode",
          "chinese/Patrick Brasca",
          "korean/Paul Blanco",
          "j-pop/Paul Kim",
          "korean/Paul Kim",
          "j-idol/Payrin's",
          "chinese/Pei-Yu Hung",
          "j-idol/Perfume",
          "japanese/Perfume",
          "j-pop/Park Hyo Shin",
          "j-idol/Pimm's",
          "j-pop/PornoGraffitti",
          "j-pop/Primary",
          "chinese/Pu Shu",
          "j-dance/QUEEN BEE",
          "j-pop/RADWIMPS",
          "japanese/RADWIMPS",
          "j-dance/RED DIAMOND DOGS",
          "japanese/RIP SLYME",
          "j-dance/RUANN",
          "j-pop/NewJeans",
          "j-dance/Popcaan",
          "korean/Parc Jae Jung",
          "j-dance/RUN THE FLOOR",
          "j-dance/Ragga Twins",
          "j-pop/Parc Jae Jung",
          "j-idol/Nogizaka46",
          "j-pop/Nogizaka46",
          "j-pop/Noriyuki Makihara",
          "japanese/Noriyuki Makihara",
          "j-idol/Not Secured, Loose Ends",
          "j-pop/OFFICIAL HIGE DANDISM",
          "j-pop/OH MY GIRL",
          "j-pop/ONE OK ROCK",
          "japanese/ONE OK ROCK",
          "j-pop/Novelbright",
          "korean/OVAN",
          "japanese/OZworld",
          "j-pop/Onestar",
          "korean/Onestar",
          "japanese/PUNPEE",
          "j-idol/Onyanko Club",
          "j-idol/PASSEPIED",
          "korean/PATEKO",
          "korean/PENOMECO",
          "korean/PSY",
          "j-pop/ORANGE RANGE",
          "j-pop/Younha",
          "korean/Younha",
          "j-idol/Yui Horie",
          "j-pop/Yumi Matsutoya",
          "j-idol/Yuki Kashiwagi",
          "j-idol/Yume Miru Adolescence",
          "japanese/Yumi Arai",
          "j-idol/You Kikkawa",
          "j-idol/Yui Ogura",
          "japanese/Yosui Inoue",
          "j-pop/YUZU",
          "korean/Yoon Do Hyun",
          "japanese/YonYon",
          "chinese/Yoga Lin",
          "chinese/Yisa Yu",
          "chinese/Yihuik苡慧",
          "korean/Yerin Baek",
          "j-pop/Yerin Baek",
          "j-dance/Yasutaka Nakata",
          "j-idol/Yanakoto Sotto Mute",
          "japanese/Yumi Matsutoya",
          "j-idol/Yoshimi Iwasaki",
          "japanese/Yutaka Ozaki",
          "japanese/YRD Leo",
          "japanese/Yuuri",
          "j-pop/fromis_9",
          "chinese/en",
          "japanese/eill",
          "chinese/deca joins",
          "j-idol/chay",
          "j-pop/back number",
          "japanese/ayaka",
          "japanese/asmi",
          "j-pop/asmi",
          "j-pop/aiko",
          "j-pop/Yuuri",
          "j-pop/aespa",
          "j-pop/[Alexandros]",
          "j-pop/Zion.T",
          "chinese/Zhou Shen",
          "chinese/Zhao Lei",
          "chinese/Zhang Bichen",
          "j-pop/ZUTOMAYO",
          "j-idol/ZONE",
          "korean/ZICO",
          "j-pop/ZICO",
          "j-pop/ZARD",
          "j-idol/a crowd of rebellion",
          "korean/Zion.T",
          "j-dance/YOUR SONG IS GOOD",
          "j-dance/YOSA & TAAR",
          "korean/V",
          "japanese/Uru",
          "j-pop/Uru",
          "j-idol/Unlucky Morpheus",
          "j-dance/Unknöwn Kun",
          "j-pop/UVERworld",
          "j-pop/UNISON SQUARE GARDEN",
          "japanese/Tsuyoshi Nagabuchi",
          "chinese/Tsai Chin",
          "j-idol/YOU'LL MELT MORE",
          "korean/VINXEN",
          "j-dance/Tony Matterhorn",
          "j-dance/Tommy Lee Sparta",
          "j-dance/Tokyo Machine",
          "japanese/Tohji",
          "j-dance/Tippa Irie",
          "chinese/Tiger Hu",
          "korean/The Quiett",
          "chinese/The Fur.​",
          "chinese/The Crane",
          "chinese/The Chairs",
          "korean/The Black Skirts",
          "j-idol/Tomomi Itano",
          "j-pop/Vaundy",
          "japanese/Toshinobu Kubota",
          "j-dance/Voicemail",
          "japanese/Vaundy",
          "japanese/YOASOBI",
          "j-pop/YOASOBI",
          "japanese/YOAKE",
          "j-pop/YOAKE",
          "korean/YANGHONGWON",
          "chinese/Xian Zi",
          "j-idol/Whiteberry",
          "chinese/WeiBird",
          "japanese/Watson",
          "j-idol/Wasuta",
          "j-dance/XOX",
          "korean/WOODZ",
          "chinese/Waa Wei",
          "j-idol/WAGAMAMA RAKIA",
          "j-pop/WANIMA",
          "japanese/WANIMA",
          "j-dance/WEDNESDAY CAMPANELLA",
          "j-dance/Vybz Kartel",
          "j-idol/WILL-O'",
          "j-pop/WINNER",
          "j-pop/WOODZ",
          "japanese/WEDNESDAY CAMPANELLA",
          "chinese/新裤子乐队",
          "chinese/海鳴威",
          "chinese/海来阿木",
          "chinese/法老",
          "chinese/棉子",
          "chinese/梦然",
          "chinese/李浩瑋 Howard Lee",
          "chinese/李志",
          "chinese/時代少年團",
          "chinese/政学Zed-X",
          "chinese/于冬然",
          "chinese/戴羽彤",
          "chinese/张远",
          "chinese/小阿七",
          "chinese/宋冬野",
          "chinese/安溥",
          "chinese/大籽",
          "japanese/和ぬか",
          "chinese/卢卢快闭嘴",
          "chinese/刘增瞳",
          "chinese/余佳运",
          "chinese/摩登兄弟劉宇寧",
          "j-idol/煌めき☆アンフォレント",
          "chinese/魏佳艺",
          "chinese/王以太",
          "chinese/万能青年旅店",
          "japanese/須田景凪",
          "chinese/音阙诗听",
          "japanese/音田 雅則",
          "chinese/陳粒",
          "chinese/阿涵",
          "chinese/阿冗",
          "chinese/队长",
          "chinese/那英",
          "chinese/赵露思",
          "chinese/王ADEN",
          "chinese/赵乃吉",
          "chinese/蓝心羽",
          "chinese/苏星婕",
          "japanese/花譜",
          "chinese/罗言",
          "chinese/等什么君",
          "chinese/程响",
          "chinese/瘦子E.SO",
          "chinese/王靖雯",
          "chinese/王琪",
          "chinese/王忻辰",
          "chinese/許嵩",
          "chinese/七叔(叶泽浩)",
          "korean/pH-1",
          "j-pop/ヨルシカ",
          "j-idol/misono",
          "japanese/millennium parade",
          "j-pop/milet",
          "korean/meenoi",
          "j-idol/lyrical school",
          "korean/lobonabeat!",
          "j-dance/kolme",
          "japanese/kojikoji",
          "j-dance/jahmiel",
          "j-pop/j-hope",
          "japanese/iri",
          "j-pop/iri",
          "japanese/indigo la End",
          "j-pop/indigo la End",
          "japanese/imase",
          "j-pop/imase",
          "j-dance/iamSHUM",
          "j-idol/hitomi",
          "korean/george",
          "j-pop/george",
          "chinese/黄霄雲",
          "chinese/my little airport",
          "j-pop/neguse.",
          "japanese/neguse.",
          "korean/oygli",
          "japanese/マルシィ",
          "j-idol/ノースリーブス",
          "j-idol/シンデレラ宣言!",
          "j-pop/サザンオールスターズ",
          "japanese/れん",
          "japanese/もさを。",
          "japanese/しゃろう",
          "j-dance/ØMI",
          "japanese/¥ellow Bucks",
          "j-idol/zenbukiminoseida.",
          "japanese/ロクデナシ",
          "japanese/yama",
          "korean/wave to earth",
          "j-pop/wave to earth",
          "j-pop/wacci",
          "j-idol/ukka",
          "japanese/sumika",
          "j-pop/sumika",
          "chinese/space x",
          "j-idol/sora tob sakana",
          "japanese/sakanaction",
          "j-pop/sakanaction",
          "j-pop/yama",
          "korean/데이먼스 이어 Damons year",
          "chinese",
          "j-dance",
          "j-idol",
          "j-pop",
          "japanese",
          "korean"
         ],
         "labels": [
          "#ジューロック",
          "BananaLemon",
          "BUZZ",
          "BUZZ",
          "BUMP OF CHICKEN",
          "BTS",
          "BTOB",
          "BSS",
          "BRIDEAR",
          "BOØWY",
          "BOØWY",
          "BOL4",
          "BLOOM VASE",
          "BLASÉ",
          "BLACKPINK",
          "BIM",
          "BIGBANG",
          "BIG Naughty",
          "BIBI",
          "BIBI",
          "BE:FIRST",
          "BAND-MAID",
          "Banty Foot",
          "Beenie Man",
          "Beenzino",
          "BiS",
          "Car, the garden",
          "Car, the garden",
          "Capper",
          "Candee",
          "CYNHN",
          "CYBERJAPAN DANCERS",
          "CTS",
          "CODE KUNST",
          "CIRRRCLE",
          "CICADA",
          "BAND JA NAIMON! MAXX NAKAYOSHI",
          "CHUNG HA",
          "CAPSULE",
          "CAMO",
          "Busy Signal",
          "Bugle",
          "Bounty Killer",
          "Bonbero",
          "Blvk H3ro",
          "BlackNut",
          "BiSH",
          "BiSH",
          "CHANGMO",
          "BALLISTIK BOYZ from EXILE TRIBE",
          "Bayka",
          "BAD HOP",
          "Ado",
          "Ada Zhuang",
          "ATEEZ",
          "ATARASHII GAKKO!",
          "ASIAN KUNG-FU GENERATION",
          "ASIAN KUNG-FU GENERATION",
          "ARASHI",
          "ANIMAL HACK",
          "AMARIA BB",
          "AKMU",
          "Ado",
          "AKB48",
          "A Si",
          "9m88",
          "80KIDZ",
          "2NE1",
          "26時のマスカレイド",
          "10cm",
          "10cm",
          "10-FEET",
          "10-FEET",
          "BAEKHYUN",
          "AAA",
          "Ahn Ye Eun",
          "(G)I-DLE",
          "Aya Ueto",
          "BABYMETAL",
          "B.I",
          "B'z",
          "Ayumikurikamaki",
          "Ayumi Hamasaki",
          "Ayame Goriki",
          "Ai Otsuka",
          "Aya Hirano",
          "Attractions",
          "Anzen Chitai",
          "Atsuko Maeda",
          "Ami Suzuki",
          "AmPm",
          "Alkaline",
          "Alisa Mizuki",
          "Aldious",
          "Akina Nakamori",
          "Akina Nakamori",
          "Akane",
          "Aimyon",
          "Aimer",
          "Amon Tobin",
          "Govana",
          "Girls' Generation",
          "Gordon Flanders",
          "GroovyRoom",
          "Flower",
          "Gwangil Jo",
          "HEIZE",
          "HEIZE",
          "HIRAIDAI",
          "Gummy B",
          "Gen Hoshino",
          "Flying Lotus",
          "Gaeko",
          "GReeeeN",
          "GIRIBOY",
          "GANG PARADE",
          "G-DRAGON",
          "Fujii Kaze",
          "Fujii Kaze",
          "Freshlyground",
          "Folder 5",
          "HIRAIDAI",
          "Gen Hoshino",
          "HKT48",
          "Hu Xia",
          "HOYO-MiX",
          "JANNABI",
          "J SOUL BROTHERS III",
          "Ikimonogakari",
          "Idoling!!!",
          "IZ*ONE",
          "IVE",
          "IU",
          "ITZY",
          "Hwa Sa",
          "Hwa Sa",
          "Huh",
          "Hua Chen Yu",
          "Hoshimachi Suisei",
          "Hoody",
          "Hitomi Shimatani",
          "Hiroomi Tosaka",
          "Hikaru Utada",
          "Hikaru Utada",
          "Higher Brothers",
          "Ha Hyun Sang",
          "HYUKOH",
          "HOMIES",
          "FlowBack",
          "Ivana Wong",
          "FAKY",
          "DING DONG",
          "DEAN FUJIOKA",
          "DEAN",
          "DEAN",
          "DAY6",
          "DAVICHI",
          "DA PUMP",
          "D.O.",
          "Crush",
          "Crush",
          "DISH//",
          "Creepy Nuts",
          "CrazyBoy",
          "Cosmic Boy",
          "Colde",
          "CoCo",
          "Chronic Law",
          "Choi Yuree",
          "Choi Yuree",
          "Chillin Homie",
          "Charly Black",
          "FIFTY FIFTY",
          "Creep Hyp",
          "DJ Zinc",
          "Chi Ching Ching",
          "DREAMS COME TRUE",
          "DPR LIVE",
          "Epik High",
          "Elephant Man",
          "Eikichi Yazawa",
          "EXO",
          "EXILE",
          "ENHYPEN",
          "EMMA WAHLIN",
          "ELLEGARDEN",
          "ELLEGARDEN",
          "E-girls",
          "Epik High",
          "Dream5",
          "Dream Ami",
          "Dream",
          "Don Malik",
          "Dok2",
          "Dempagumi.Inc",
          "Demarco",
          "Def Will",
          "Da-iCE",
          "David Tao",
          "Dynamicduo",
          "KyoungSeo",
          "KyoungSeo",
          "LBI利比",
          "LOZAREENA",
          "LEX",
          "LISA",
          "LUCY",
          "LE SSERAFIM",
          "Kyary Pamyu Pamyu",
          "Kiri T",
          "Kwon Jin Ah",
          "Kraff Gad",
          "Koffee",
          "Kiprich",
          "King Rabbits",
          "King Gnu",
          "Kim Seungmin",
          "Kim Kwang Seok",
          "Lang Lang",
          "Kii Kitano",
          "Kwon Jin Ah",
          "Kim Dong Ryul",
          "Lilas Ikuta",
          "Lee Moon Sae",
          "MAISONdes",
          "Kid Milli",
          "MAISONdes",
          "MABU",
          "M.C the Max",
          "M.C the Max",
          "LÜCY",
          "Lucky Kilimanjaro",
          "Loco",
          "Loco",
          "Lim Jae Hyun",
          "Lim Jae Hyun",
          "Lim Changjung",
          "Lilas Ikuta",
          "LiSA",
          "Leyona",
          "Lexie Liu",
          "Leola",
          "Leellamarz",
          "LeeHi",
          "Lee Young Ji",
          "Lee Moon Sae",
          "Khalil Fong",
          "Leah Dou",
          "Ketsumeishi",
          "Joe Hisaishi",
          "Joanna Wang",
          "Jimin",
          "Jeon Sang Keun",
          "Jeon Sang Keun",
          "Jay Park",
          "Jay Park",
          "Jason Zhang",
          "Jang Beom June",
          "Jane Zhang",
          "Jahshii",
          "Jah Vinci",
          "JUVENILE",
          "JUNNY",
          "JUMADIBA",
          "JUJU",
          "JP THE WAVY",
          "JO1",
          "JISOO",
          "JIN",
          "Keyakizaka46",
          "Joshua Band",
          "Jugglerz",
          "Jang Beom June",
          "Jukjae",
          "Jukjae",
          "Ken Hirai",
          "Ken Hirai",
          "Kelly Yu",
          "Keisuke Kuwata",
          "Kei Ishiguro",
          "Kazumasa Oda",
          "Kassy",
          "Karencici",
          "Kana Nishino",
          "Kassy",
          "KEITA",
          "Julia Wu",
          "KIRA",
          "Jung Seung Hwan",
          "Jung Seung Hwan",
          "KAI",
          "Jung Kook",
          "KAQRIYOTERROR",
          "KEIJU",
          "Kenshi Yonezu",
          "KANGDANIEL",
          "SWAY",
          "SPITZ",
          "STAYC",
          "STU48",
          "SUDA MASAKI",
          "SUDA MASAKI",
          "SUGA",
          "SUPER BEAVER",
          "Sakuragakuin",
          "Shiritsu Ebisu Chugaku",
          "Sam Kim",
          "Saucy Dog",
          "Saucy Dog",
          "Sayaka Yamamoto",
          "Seiko Matsuda",
          "Seiko Matsuda",
          "Seong-Jin Cho",
          "Seori",
          "Sheena Ringo",
          "SOUTH BLUE",
          "Sam Kim",
          "SOPHY",
          "Ren Ran",
          "SKE48",
          "Shizuka Kudo",
          "Reol",
          "Rina Chinen",
          "Rin音",
          "Ronghao Li",
          "Roy Kim",
          "Roy Kim",
          "Royal 44",
          "Royal Blu",
          "Ryokuoushoku Shakai",
          "SOLE",
          "Ryuichi Sakamoto",
          "SARA-J",
          "SASUKE",
          "SCANDAL",
          "SEKAI NO OWARI",
          "SEVENTEEN",
          "SHINJIRO ATAE (from AAA)",
          "SHINee",
          "SHISHAMO",
          "SILKYBOIS",
          "SIRUP",
          "Ryuji Imaichi",
          "Shonan No Kaze",
          "Superfly",
          "Shuta Sueyoshi",
          "TEAM SHACHI",
          "TEMPURA KIDZ",
          "TFBOYS",
          "THAMA",
          "THE BOYZ",
          "THE RAMPAGE from EXILE TRIBE",
          "THREE1989",
          "TIA RAY",
          "TOMORROW X TOGETHER",
          "TRiDENT",
          "TWICE",
          "Takaya Kawasaki",
          "Takaya Kawasaki",
          "Tani Yuuki",
          "Tani Yuuki",
          "Tanto Metro & Devonte",
          "Tatsuya Kitani",
          "Team Syachihoko",
          "Teejay",
          "The Black Skirts",
          "Red Velvet",
          "TANAKA ALICE",
          "TAEYEON",
          "TAEYANG",
          "TAEYANG",
          "ShuuKaRen",
          "Sik-K",
          "Silence Wang",
          "Silica Gel",
          "Simon Dominic",
          "Simon Dominic",
          "Skeng",
          "Skillibeng",
          "Sonoko Inoue",
          "Sonoko Inoue",
          "Shota Shimizu",
          "Spice",
          "Stream of Praise",
          "SugLawd Familiar",
          "SugLawd Familiar",
          "Sukima Switch",
          "Sumiko Yamagata",
          "Sung Si Kyung",
          "Sung Si Kyung",
          "Sunwoojunga",
          "Sunwoojunga",
          "Susumu Yokota",
          "Stray Kids",
          "Ralph",
          "NiziU",
          "RYUTist",
          "Massive B",
          "Mavado",
          "MeloMance",
          "MeloMance",
          "Miliyah",
          "Mime",
          "Momoiro Clover Z",
          "Motohiro Hata",
          "Mr. Williamz",
          "Mr.Children",
          "Mrs. GREEN APPLE",
          "N.Flying",
          "NCT 127",
          "NCT DREAM",
          "NEO JAPONISM",
          "NGT48",
          "NMB48",
          "NMIXX",
          "Namie Amuro",
          "Naoto Inti Raymi",
          "Naul",
          "Masicka",
          "Negicco",
          "Masaharu Fukuyama",
          "Mariya Takeuchi",
          "MAKTUB",
          "MAKTUB",
          "MAN WITH A MISSION",
          "MAX",
          "MISIA",
          "MONGOL800",
          "MONGOL800",
          "MONSTA X",
          "MOSHIMO",
          "MY FIRST STORY",
          "MY FIRST STORY",
          "Macaroni Empitsu",
          "Macaroni Empitsu",
          "Maharajan",
          "Maika Loubté",
          "Maison book girl",
          "Maki Goto",
          "Maki Ohguro",
          "Maneki Kecak",
          "Mao Buyi",
          "Mariya Takeuchi",
          "Mary's Blood",
          "Nerd Connection",
          "Masiwei",
          "Nissy",
          "Park Hyo Shin",
          "PassCode",
          "Patrick Brasca",
          "Paul Blanco",
          "Paul Kim",
          "Paul Kim",
          "Payrin's",
          "Pei-Yu Hung",
          "Perfume",
          "Perfume",
          "Park Hyo Shin",
          "Pimm's",
          "PornoGraffitti",
          "Primary",
          "Pu Shu",
          "QUEEN BEE",
          "RADWIMPS",
          "RADWIMPS",
          "RED DIAMOND DOGS",
          "RIP SLYME",
          "RUANN",
          "NewJeans",
          "Popcaan",
          "Parc Jae Jung",
          "RUN THE FLOOR",
          "Ragga Twins",
          "Parc Jae Jung",
          "Nogizaka46",
          "Nogizaka46",
          "Noriyuki Makihara",
          "Noriyuki Makihara",
          "Not Secured, Loose Ends",
          "OFFICIAL HIGE DANDISM",
          "OH MY GIRL",
          "ONE OK ROCK",
          "ONE OK ROCK",
          "Novelbright",
          "OVAN",
          "OZworld",
          "Onestar",
          "Onestar",
          "PUNPEE",
          "Onyanko Club",
          "PASSEPIED",
          "PATEKO",
          "PENOMECO",
          "PSY",
          "ORANGE RANGE",
          "Younha",
          "Younha",
          "Yui Horie",
          "Yumi Matsutoya",
          "Yuki Kashiwagi",
          "Yume Miru Adolescence",
          "Yumi Arai",
          "You Kikkawa",
          "Yui Ogura",
          "Yosui Inoue",
          "YUZU",
          "Yoon Do Hyun",
          "YonYon",
          "Yoga Lin",
          "Yisa Yu",
          "Yihuik苡慧",
          "Yerin Baek",
          "Yerin Baek",
          "Yasutaka Nakata",
          "Yanakoto Sotto Mute",
          "Yumi Matsutoya",
          "Yoshimi Iwasaki",
          "Yutaka Ozaki",
          "YRD Leo",
          "Yuuri",
          "fromis_9",
          "en",
          "eill",
          "deca joins",
          "chay",
          "back number",
          "ayaka",
          "asmi",
          "asmi",
          "aiko",
          "Yuuri",
          "aespa",
          "[Alexandros]",
          "Zion.T",
          "Zhou Shen",
          "Zhao Lei",
          "Zhang Bichen",
          "ZUTOMAYO",
          "ZONE",
          "ZICO",
          "ZICO",
          "ZARD",
          "a crowd of rebellion",
          "Zion.T",
          "YOUR SONG IS GOOD",
          "YOSA & TAAR",
          "V",
          "Uru",
          "Uru",
          "Unlucky Morpheus",
          "Unknöwn Kun",
          "UVERworld",
          "UNISON SQUARE GARDEN",
          "Tsuyoshi Nagabuchi",
          "Tsai Chin",
          "YOU'LL MELT MORE",
          "VINXEN",
          "Tony Matterhorn",
          "Tommy Lee Sparta",
          "Tokyo Machine",
          "Tohji",
          "Tippa Irie",
          "Tiger Hu",
          "The Quiett",
          "The Fur.​",
          "The Crane",
          "The Chairs",
          "The Black Skirts",
          "Tomomi Itano",
          "Vaundy",
          "Toshinobu Kubota",
          "Voicemail",
          "Vaundy",
          "YOASOBI",
          "YOASOBI",
          "YOAKE",
          "YOAKE",
          "YANGHONGWON",
          "Xian Zi",
          "Whiteberry",
          "WeiBird",
          "Watson",
          "Wasuta",
          "XOX",
          "WOODZ",
          "Waa Wei",
          "WAGAMAMA RAKIA",
          "WANIMA",
          "WANIMA",
          "WEDNESDAY CAMPANELLA",
          "Vybz Kartel",
          "WILL-O'",
          "WINNER",
          "WOODZ",
          "WEDNESDAY CAMPANELLA",
          "新裤子乐队",
          "海鳴威",
          "海来阿木",
          "法老",
          "棉子",
          "梦然",
          "李浩瑋 Howard Lee",
          "李志",
          "時代少年團",
          "政学Zed-X",
          "于冬然",
          "戴羽彤",
          "张远",
          "小阿七",
          "宋冬野",
          "安溥",
          "大籽",
          "和ぬか",
          "卢卢快闭嘴",
          "刘增瞳",
          "余佳运",
          "摩登兄弟劉宇寧",
          "煌めき☆アンフォレント",
          "魏佳艺",
          "王以太",
          "万能青年旅店",
          "須田景凪",
          "音阙诗听",
          "音田 雅則",
          "陳粒",
          "阿涵",
          "阿冗",
          "队长",
          "那英",
          "赵露思",
          "王ADEN",
          "赵乃吉",
          "蓝心羽",
          "苏星婕",
          "花譜",
          "罗言",
          "等什么君",
          "程响",
          "瘦子E.SO",
          "王靖雯",
          "王琪",
          "王忻辰",
          "許嵩",
          "七叔(叶泽浩)",
          "pH-1",
          "ヨルシカ",
          "misono",
          "millennium parade",
          "milet",
          "meenoi",
          "lyrical school",
          "lobonabeat!",
          "kolme",
          "kojikoji",
          "jahmiel",
          "j-hope",
          "iri",
          "iri",
          "indigo la End",
          "indigo la End",
          "imase",
          "imase",
          "iamSHUM",
          "hitomi",
          "george",
          "george",
          "黄霄雲",
          "my little airport",
          "neguse.",
          "neguse.",
          "oygli",
          "マルシィ",
          "ノースリーブス",
          "シンデレラ宣言!",
          "サザンオールスターズ",
          "れん",
          "もさを。",
          "しゃろう",
          "ØMI",
          "¥ellow Bucks",
          "zenbukiminoseida.",
          "ロクデナシ",
          "yama",
          "wave to earth",
          "wave to earth",
          "wacci",
          "ukka",
          "sumika",
          "sumika",
          "space x",
          "sora tob sakana",
          "sakanaction",
          "sakanaction",
          "yama",
          "데이먼스 이어 Damons year",
          "chinese",
          "j-dance",
          "j-idol",
          "j-pop",
          "japanese",
          "korean"
         ],
         "marker": {
          "colors": [
           "#636efa",
           "#EF553B",
           "#00cc96",
           "#ab63fa",
           "#ab63fa",
           "#ab63fa",
           "#ab63fa",
           "#ab63fa",
           "#636efa",
           "#FFA15A",
           "#ab63fa",
           "#ab63fa",
           "#FFA15A",
           "#00cc96",
           "#ab63fa",
           "#FFA15A",
           "#ab63fa",
           "#ab63fa",
           "#00cc96",
           "#ab63fa",
           "#ab63fa",
           "#636efa",
           "#EF553B",
           "#EF553B",
           "#00cc96",
           "#636efa",
           "#00cc96",
           "#ab63fa",
           "#19d3f3",
           "#FFA15A",
           "#636efa",
           "#EF553B",
           "#EF553B",
           "#00cc96",
           "#EF553B",
           "#EF553B",
           "#636efa",
           "#ab63fa",
           "#EF553B",
           "#00cc96",
           "#EF553B",
           "#EF553B",
           "#EF553B",
           "#FFA15A",
           "#EF553B",
           "#00cc96",
           "#ab63fa",
           "#636efa",
           "#00cc96",
           "#EF553B",
           "#EF553B",
           "#FFA15A",
           "#ab63fa",
           "#19d3f3",
           "#ab63fa",
           "#ab63fa",
           "#FFA15A",
           "#ab63fa",
           "#ab63fa",
           "#EF553B",
           "#EF553B",
           "#ab63fa",
           "#FFA15A",
           "#636efa",
           "#19d3f3",
           "#19d3f3",
           "#EF553B",
           "#ab63fa",
           "#636efa",
           "#00cc96",
           "#ab63fa",
           "#FFA15A",
           "#ab63fa",
           "#ab63fa",
           "#ab63fa",
           "#00cc96",
           "#ab63fa",
           "#636efa",
           "#636efa",
           "#ab63fa",
           "#ab63fa",
           "#636efa",
           "#ab63fa",
           "#636efa",
           "#FFA15A",
           "#636efa",
           "#EF553B",
           "#FFA15A",
           "#636efa",
           "#636efa",
           "#EF553B",
           "#EF553B",
           "#636efa",
           "#636efa",
           "#FFA15A",
           "#636efa",
           "#EF553B",
           "#ab63fa",
           "#ab63fa",
           "#EF553B",
           "#EF553B",
           "#ab63fa",
           "#19d3f3",
           "#00cc96",
           "#636efa",
           "#00cc96",
           "#ab63fa",
           "#00cc96",
           "#ab63fa",
           "#19d3f3",
           "#FFA15A",
           "#EF553B",
           "#00cc96",
           "#ab63fa",
           "#00cc96",
           "#636efa",
           "#ab63fa",
           "#FFA15A",
           "#ab63fa",
           "#EF553B",
           "#636efa",
           "#FFA15A",
           "#ab63fa",
           "#636efa",
           "#19d3f3",
           "#FFA15A",
           "#00cc96",
           "#ab63fa",
           "#ab63fa",
           "#636efa",
           "#ab63fa",
           "#ab63fa",
           "#ab63fa",
           "#ab63fa",
           "#00cc96",
           "#ab63fa",
           "#00cc96",
           "#19d3f3",
           "#FFA15A",
           "#00cc96",
           "#636efa",
           "#EF553B",
           "#FFA15A",
           "#ab63fa",
           "#19d3f3",
           "#00cc96",
           "#00cc96",
           "#00cc96",
           "#EF553B",
           "#19d3f3",
           "#EF553B",
           "#EF553B",
           "#EF553B",
           "#00cc96",
           "#ab63fa",
           "#ab63fa",
           "#ab63fa",
           "#EF553B",
           "#ab63fa",
           "#00cc96",
           "#ab63fa",
           "#ab63fa",
           "#ab63fa",
           "#EF553B",
           "#00cc96",
           "#00cc96",
           "#636efa",
           "#EF553B",
           "#00cc96",
           "#ab63fa",
           "#00cc96",
           "#EF553B",
           "#ab63fa",
           "#ab63fa",
           "#EF553B",
           "#EF553B",
           "#ab63fa",
           "#00cc96",
           "#ab63fa",
           "#EF553B",
           "#FFA15A",
           "#ab63fa",
           "#ab63fa",
           "#ab63fa",
           "#EF553B",
           "#FFA15A",
           "#ab63fa",
           "#636efa",
           "#00cc96",
           "#636efa",
           "#636efa",
           "#636efa",
           "#00cc96",
           "#00cc96",
           "#636efa",
           "#EF553B",
           "#EF553B",
           "#ab63fa",
           "#19d3f3",
           "#00cc96",
           "#ab63fa",
           "#00cc96",
           "#19d3f3",
           "#EF553B",
           "#FFA15A",
           "#ab63fa",
           "#00cc96",
           "#ab63fa",
           "#636efa",
           "#19d3f3",
           "#ab63fa",
           "#EF553B",
           "#EF553B",
           "#EF553B",
           "#EF553B",
           "#ab63fa",
           "#00cc96",
           "#00cc96",
           "#19d3f3",
           "#636efa",
           "#00cc96",
           "#00cc96",
           "#FFA15A",
           "#00cc96",
           "#FFA15A",
           "#00cc96",
           "#ab63fa",
           "#EF553B",
           "#00cc96",
           "#ab63fa",
           "#19d3f3",
           "#FFA15A",
           "#00cc96",
           "#ab63fa",
           "#00cc96",
           "#ab63fa",
           "#00cc96",
           "#ab63fa",
           "#ab63fa",
           "#EF553B",
           "#19d3f3",
           "#EF553B",
           "#00cc96",
           "#ab63fa",
           "#00cc96",
           "#ab63fa",
           "#19d3f3",
           "#19d3f3",
           "#ab63fa",
           "#FFA15A",
           "#19d3f3",
           "#ab63fa",
           "#00cc96",
           "#ab63fa",
           "#00cc96",
           "#ab63fa",
           "#19d3f3",
           "#ab63fa",
           "#19d3f3",
           "#EF553B",
           "#EF553B",
           "#EF553B",
           "#00cc96",
           "#FFA15A",
           "#FFA15A",
           "#FFA15A",
           "#ab63fa",
           "#ab63fa",
           "#ab63fa",
           "#636efa",
           "#19d3f3",
           "#EF553B",
           "#00cc96",
           "#00cc96",
           "#ab63fa",
           "#FFA15A",
           "#ab63fa",
           "#19d3f3",
           "#ab63fa",
           "#636efa",
           "#FFA15A",
           "#ab63fa",
           "#19d3f3",
           "#ab63fa",
           "#00cc96",
           "#EF553B",
           "#19d3f3",
           "#EF553B",
           "#ab63fa",
           "#00cc96",
           "#ab63fa",
           "#ab63fa",
           "#636efa",
           "#FFA15A",
           "#ab63fa",
           "#ab63fa",
           "#EF553B",
           "#ab63fa",
           "#ab63fa",
           "#636efa",
           "#ab63fa",
           "#FFA15A",
           "#ab63fa",
           "#ab63fa",
           "#636efa",
           "#636efa",
           "#00cc96",
           "#ab63fa",
           "#FFA15A",
           "#636efa",
           "#636efa",
           "#FFA15A",
           "#00cc96",
           "#00cc96",
           "#ab63fa",
           "#FFA15A",
           "#ab63fa",
           "#19d3f3",
           "#19d3f3",
           "#636efa",
           "#636efa",
           "#FFA15A",
           "#636efa",
           "#FFA15A",
           "#19d3f3",
           "#ab63fa",
           "#00cc96",
           "#00cc96",
           "#EF553B",
           "#ab63fa",
           "#00cc96",
           "#FFA15A",
           "#EF553B",
           "#EF553B",
           "#636efa",
           "#ab63fa",
           "#ab63fa",
           "#EF553B",
           "#ab63fa",
           "#ab63fa",
           "#00cc96",
           "#FFA15A",
           "#EF553B",
           "#ab63fa",
           "#ab63fa",
           "#EF553B",
           "#636efa",
           "#EF553B",
           "#19d3f3",
           "#00cc96",
           "#ab63fa",
           "#ab63fa",
           "#EF553B",
           "#19d3f3",
           "#ab63fa",
           "#636efa",
           "#ab63fa",
           "#ab63fa",
           "#FFA15A",
           "#ab63fa",
           "#FFA15A",
           "#EF553B",
           "#FFA15A",
           "#636efa",
           "#EF553B",
           "#ab63fa",
           "#ab63fa",
           "#EF553B",
           "#ab63fa",
           "#00cc96",
           "#ab63fa",
           "#EF553B",
           "#00cc96",
           "#19d3f3",
           "#00cc96",
           "#ab63fa",
           "#00cc96",
           "#EF553B",
           "#EF553B",
           "#ab63fa",
           "#FFA15A",
           "#ab63fa",
           "#EF553B",
           "#19d3f3",
           "#ab63fa",
           "#FFA15A",
           "#ab63fa",
           "#636efa",
           "#ab63fa",
           "#00cc96",
           "#ab63fa",
           "#00cc96",
           "#EF553B",
           "#ab63fa",
           "#FFA15A",
           "#ab63fa",
           "#636efa",
           "#EF553B",
           "#EF553B",
           "#ab63fa",
           "#00cc96",
           "#FFA15A",
           "#EF553B",
           "#636efa",
           "#FFA15A",
           "#EF553B",
           "#ab63fa",
           "#ab63fa",
           "#ab63fa",
           "#ab63fa",
           "#ab63fa",
           "#636efa",
           "#636efa",
           "#636efa",
           "#ab63fa",
           "#ab63fa",
           "#FFA15A",
           "#00cc96",
           "#EF553B",
           "#636efa",
           "#FFA15A",
           "#FFA15A",
           "#ab63fa",
           "#00cc96",
           "#ab63fa",
           "#636efa",
           "#ab63fa",
           "#ab63fa",
           "#FFA15A",
           "#ab63fa",
           "#636efa",
           "#ab63fa",
           "#FFA15A",
           "#ab63fa",
           "#FFA15A",
           "#EF553B",
           "#EF553B",
           "#636efa",
           "#636efa",
           "#FFA15A",
           "#636efa",
           "#19d3f3",
           "#636efa",
           "#636efa",
           "#00cc96",
           "#19d3f3",
           "#ab63fa",
           "#00cc96",
           "#636efa",
           "#19d3f3",
           "#00cc96",
           "#ab63fa",
           "#00cc96",
           "#636efa",
           "#19d3f3",
           "#636efa",
           "#FFA15A",
           "#ab63fa",
           "#636efa",
           "#ab63fa",
           "#ab63fa",
           "#19d3f3",
           "#EF553B",
           "#ab63fa",
           "#FFA15A",
           "#EF553B",
           "#FFA15A",
           "#EF553B",
           "#ab63fa",
           "#EF553B",
           "#00cc96",
           "#EF553B",
           "#EF553B",
           "#ab63fa",
           "#636efa",
           "#ab63fa",
           "#ab63fa",
           "#FFA15A",
           "#636efa",
           "#ab63fa",
           "#ab63fa",
           "#ab63fa",
           "#FFA15A",
           "#ab63fa",
           "#00cc96",
           "#FFA15A",
           "#ab63fa",
           "#00cc96",
           "#FFA15A",
           "#636efa",
           "#636efa",
           "#00cc96",
           "#00cc96",
           "#00cc96",
           "#ab63fa",
           "#ab63fa",
           "#00cc96",
           "#636efa",
           "#ab63fa",
           "#636efa",
           "#636efa",
           "#FFA15A",
           "#636efa",
           "#636efa",
           "#FFA15A",
           "#ab63fa",
           "#00cc96",
           "#FFA15A",
           "#19d3f3",
           "#19d3f3",
           "#19d3f3",
           "#00cc96",
           "#ab63fa",
           "#EF553B",
           "#636efa",
           "#FFA15A",
           "#636efa",
           "#FFA15A",
           "#FFA15A",
           "#FFA15A",
           "#ab63fa",
           "#19d3f3",
           "#FFA15A",
           "#19d3f3",
           "#636efa",
           "#ab63fa",
           "#FFA15A",
           "#FFA15A",
           "#ab63fa",
           "#ab63fa",
           "#ab63fa",
           "#ab63fa",
           "#ab63fa",
           "#ab63fa",
           "#19d3f3",
           "#19d3f3",
           "#19d3f3",
           "#ab63fa",
           "#636efa",
           "#00cc96",
           "#ab63fa",
           "#ab63fa",
           "#636efa",
           "#00cc96",
           "#EF553B",
           "#EF553B",
           "#00cc96",
           "#FFA15A",
           "#ab63fa",
           "#636efa",
           "#EF553B",
           "#ab63fa",
           "#ab63fa",
           "#FFA15A",
           "#19d3f3",
           "#636efa",
           "#00cc96",
           "#EF553B",
           "#EF553B",
           "#EF553B",
           "#FFA15A",
           "#EF553B",
           "#19d3f3",
           "#00cc96",
           "#19d3f3",
           "#19d3f3",
           "#19d3f3",
           "#00cc96",
           "#636efa",
           "#ab63fa",
           "#FFA15A",
           "#EF553B",
           "#FFA15A",
           "#FFA15A",
           "#ab63fa",
           "#FFA15A",
           "#ab63fa",
           "#00cc96",
           "#19d3f3",
           "#636efa",
           "#19d3f3",
           "#FFA15A",
           "#636efa",
           "#EF553B",
           "#00cc96",
           "#19d3f3",
           "#636efa",
           "#ab63fa",
           "#FFA15A",
           "#EF553B",
           "#EF553B",
           "#636efa",
           "#ab63fa",
           "#ab63fa",
           "#FFA15A",
           "#19d3f3",
           "#19d3f3",
           "#19d3f3",
           "#19d3f3",
           "#19d3f3",
           "#19d3f3",
           "#19d3f3",
           "#19d3f3",
           "#19d3f3",
           "#19d3f3",
           "#19d3f3",
           "#19d3f3",
           "#19d3f3",
           "#19d3f3",
           "#19d3f3",
           "#19d3f3",
           "#19d3f3",
           "#FFA15A",
           "#19d3f3",
           "#19d3f3",
           "#19d3f3",
           "#19d3f3",
           "#636efa",
           "#19d3f3",
           "#19d3f3",
           "#19d3f3",
           "#FFA15A",
           "#19d3f3",
           "#FFA15A",
           "#19d3f3",
           "#19d3f3",
           "#19d3f3",
           "#19d3f3",
           "#19d3f3",
           "#19d3f3",
           "#19d3f3",
           "#19d3f3",
           "#19d3f3",
           "#19d3f3",
           "#FFA15A",
           "#19d3f3",
           "#19d3f3",
           "#19d3f3",
           "#19d3f3",
           "#19d3f3",
           "#19d3f3",
           "#19d3f3",
           "#19d3f3",
           "#19d3f3",
           "#00cc96",
           "#ab63fa",
           "#636efa",
           "#FFA15A",
           "#ab63fa",
           "#00cc96",
           "#636efa",
           "#00cc96",
           "#EF553B",
           "#FFA15A",
           "#EF553B",
           "#ab63fa",
           "#FFA15A",
           "#ab63fa",
           "#FFA15A",
           "#ab63fa",
           "#FFA15A",
           "#ab63fa",
           "#EF553B",
           "#636efa",
           "#00cc96",
           "#ab63fa",
           "#19d3f3",
           "#19d3f3",
           "#ab63fa",
           "#FFA15A",
           "#00cc96",
           "#FFA15A",
           "#636efa",
           "#636efa",
           "#ab63fa",
           "#FFA15A",
           "#FFA15A",
           "#FFA15A",
           "#EF553B",
           "#FFA15A",
           "#636efa",
           "#FFA15A",
           "#FFA15A",
           "#00cc96",
           "#ab63fa",
           "#ab63fa",
           "#636efa",
           "#FFA15A",
           "#ab63fa",
           "#19d3f3",
           "#636efa",
           "#FFA15A",
           "#ab63fa",
           "#ab63fa",
           "#00cc96",
           "#19d3f3",
           "#EF553B",
           "#636efa",
           "#ab63fa",
           "#FFA15A",
           "#00cc96"
          ],
          "line": {
           "color": "black",
           "width": 2
          }
         },
         "name": "",
         "parents": [
          "j-idol",
          "j-dance",
          "korean",
          "j-pop",
          "j-pop",
          "j-pop",
          "j-pop",
          "j-pop",
          "j-idol",
          "japanese",
          "j-pop",
          "j-pop",
          "japanese",
          "korean",
          "j-pop",
          "japanese",
          "j-pop",
          "j-pop",
          "korean",
          "j-pop",
          "j-pop",
          "j-idol",
          "j-dance",
          "j-dance",
          "korean",
          "j-idol",
          "korean",
          "j-pop",
          "chinese",
          "japanese",
          "j-idol",
          "j-dance",
          "j-dance",
          "korean",
          "j-dance",
          "j-dance",
          "j-idol",
          "j-pop",
          "j-dance",
          "korean",
          "j-dance",
          "j-dance",
          "j-dance",
          "japanese",
          "j-dance",
          "korean",
          "j-pop",
          "j-idol",
          "korean",
          "j-dance",
          "j-dance",
          "japanese",
          "j-pop",
          "chinese",
          "j-pop",
          "j-pop",
          "japanese",
          "j-pop",
          "j-pop",
          "j-dance",
          "j-dance",
          "j-pop",
          "japanese",
          "j-idol",
          "chinese",
          "chinese",
          "j-dance",
          "j-pop",
          "j-idol",
          "korean",
          "j-pop",
          "japanese",
          "j-pop",
          "j-pop",
          "j-pop",
          "korean",
          "j-pop",
          "j-idol",
          "j-idol",
          "j-pop",
          "j-pop",
          "j-idol",
          "j-pop",
          "j-idol",
          "japanese",
          "j-idol",
          "j-dance",
          "japanese",
          "j-idol",
          "j-idol",
          "j-dance",
          "j-dance",
          "j-idol",
          "j-idol",
          "japanese",
          "j-idol",
          "j-dance",
          "j-pop",
          "j-pop",
          "j-dance",
          "j-dance",
          "j-pop",
          "chinese",
          "korean",
          "j-idol",
          "korean",
          "j-pop",
          "korean",
          "j-pop",
          "chinese",
          "japanese",
          "j-dance",
          "korean",
          "j-pop",
          "korean",
          "j-idol",
          "j-pop",
          "japanese",
          "j-pop",
          "j-dance",
          "j-idol",
          "japanese",
          "j-pop",
          "j-idol",
          "chinese",
          "japanese",
          "korean",
          "j-pop",
          "j-pop",
          "j-idol",
          "j-pop",
          "j-pop",
          "j-pop",
          "j-pop",
          "korean",
          "j-pop",
          "korean",
          "chinese",
          "japanese",
          "korean",
          "j-idol",
          "j-dance",
          "japanese",
          "j-pop",
          "chinese",
          "korean",
          "korean",
          "korean",
          "j-dance",
          "chinese",
          "j-dance",
          "j-dance",
          "j-dance",
          "korean",
          "j-pop",
          "j-pop",
          "j-pop",
          "j-dance",
          "j-pop",
          "korean",
          "j-pop",
          "j-pop",
          "j-pop",
          "j-dance",
          "korean",
          "korean",
          "j-idol",
          "j-dance",
          "korean",
          "j-pop",
          "korean",
          "j-dance",
          "j-pop",
          "j-pop",
          "j-dance",
          "j-dance",
          "j-pop",
          "korean",
          "j-pop",
          "j-dance",
          "japanese",
          "j-pop",
          "j-pop",
          "j-pop",
          "j-dance",
          "japanese",
          "j-pop",
          "j-idol",
          "korean",
          "j-idol",
          "j-idol",
          "j-idol",
          "korean",
          "korean",
          "j-idol",
          "j-dance",
          "j-dance",
          "j-pop",
          "chinese",
          "korean",
          "j-pop",
          "korean",
          "chinese",
          "j-dance",
          "japanese",
          "j-pop",
          "korean",
          "j-pop",
          "j-idol",
          "chinese",
          "j-pop",
          "j-dance",
          "j-dance",
          "j-dance",
          "j-dance",
          "j-pop",
          "korean",
          "korean",
          "chinese",
          "j-idol",
          "korean",
          "korean",
          "japanese",
          "korean",
          "japanese",
          "korean",
          "j-pop",
          "j-dance",
          "korean",
          "j-pop",
          "chinese",
          "japanese",
          "korean",
          "j-pop",
          "korean",
          "j-pop",
          "korean",
          "j-pop",
          "j-pop",
          "j-dance",
          "chinese",
          "j-dance",
          "korean",
          "j-pop",
          "korean",
          "j-pop",
          "chinese",
          "chinese",
          "j-pop",
          "japanese",
          "chinese",
          "j-pop",
          "korean",
          "j-pop",
          "korean",
          "j-pop",
          "chinese",
          "j-pop",
          "chinese",
          "j-dance",
          "j-dance",
          "j-dance",
          "korean",
          "japanese",
          "japanese",
          "japanese",
          "j-pop",
          "j-pop",
          "j-pop",
          "j-idol",
          "chinese",
          "j-dance",
          "korean",
          "korean",
          "j-pop",
          "japanese",
          "j-pop",
          "chinese",
          "j-pop",
          "j-idol",
          "japanese",
          "j-pop",
          "chinese",
          "j-pop",
          "korean",
          "j-dance",
          "chinese",
          "j-dance",
          "j-pop",
          "korean",
          "j-pop",
          "j-pop",
          "j-idol",
          "japanese",
          "j-pop",
          "j-pop",
          "j-dance",
          "j-pop",
          "j-pop",
          "j-idol",
          "j-pop",
          "japanese",
          "j-pop",
          "j-pop",
          "j-idol",
          "j-idol",
          "korean",
          "j-pop",
          "japanese",
          "j-idol",
          "j-idol",
          "japanese",
          "korean",
          "korean",
          "j-pop",
          "japanese",
          "j-pop",
          "chinese",
          "chinese",
          "j-idol",
          "j-idol",
          "japanese",
          "j-idol",
          "japanese",
          "chinese",
          "j-pop",
          "korean",
          "korean",
          "j-dance",
          "j-pop",
          "korean",
          "japanese",
          "j-dance",
          "j-dance",
          "j-idol",
          "j-pop",
          "j-pop",
          "j-dance",
          "j-pop",
          "j-pop",
          "korean",
          "japanese",
          "j-dance",
          "j-pop",
          "j-pop",
          "j-dance",
          "j-idol",
          "j-dance",
          "chinese",
          "korean",
          "j-pop",
          "j-pop",
          "j-dance",
          "chinese",
          "j-pop",
          "j-idol",
          "j-pop",
          "j-pop",
          "japanese",
          "j-pop",
          "japanese",
          "j-dance",
          "japanese",
          "j-idol",
          "j-dance",
          "j-pop",
          "j-pop",
          "j-dance",
          "j-pop",
          "korean",
          "j-pop",
          "j-dance",
          "korean",
          "chinese",
          "korean",
          "j-pop",
          "korean",
          "j-dance",
          "j-dance",
          "j-pop",
          "japanese",
          "j-pop",
          "j-dance",
          "chinese",
          "j-pop",
          "japanese",
          "j-pop",
          "j-idol",
          "j-pop",
          "korean",
          "j-pop",
          "korean",
          "j-dance",
          "j-pop",
          "japanese",
          "j-pop",
          "j-idol",
          "j-dance",
          "j-dance",
          "j-pop",
          "korean",
          "japanese",
          "j-dance",
          "j-idol",
          "japanese",
          "j-dance",
          "j-pop",
          "j-pop",
          "j-pop",
          "j-pop",
          "j-pop",
          "j-idol",
          "j-idol",
          "j-idol",
          "j-pop",
          "j-pop",
          "japanese",
          "korean",
          "j-dance",
          "j-idol",
          "japanese",
          "japanese",
          "j-pop",
          "korean",
          "j-pop",
          "j-idol",
          "j-pop",
          "j-pop",
          "japanese",
          "j-pop",
          "j-idol",
          "j-pop",
          "japanese",
          "j-pop",
          "japanese",
          "j-dance",
          "j-dance",
          "j-idol",
          "j-idol",
          "japanese",
          "j-idol",
          "chinese",
          "j-idol",
          "j-idol",
          "korean",
          "chinese",
          "j-pop",
          "korean",
          "j-idol",
          "chinese",
          "korean",
          "j-pop",
          "korean",
          "j-idol",
          "chinese",
          "j-idol",
          "japanese",
          "j-pop",
          "j-idol",
          "j-pop",
          "j-pop",
          "chinese",
          "j-dance",
          "j-pop",
          "japanese",
          "j-dance",
          "japanese",
          "j-dance",
          "j-pop",
          "j-dance",
          "korean",
          "j-dance",
          "j-dance",
          "j-pop",
          "j-idol",
          "j-pop",
          "j-pop",
          "japanese",
          "j-idol",
          "j-pop",
          "j-pop",
          "j-pop",
          "japanese",
          "j-pop",
          "korean",
          "japanese",
          "j-pop",
          "korean",
          "japanese",
          "j-idol",
          "j-idol",
          "korean",
          "korean",
          "korean",
          "j-pop",
          "j-pop",
          "korean",
          "j-idol",
          "j-pop",
          "j-idol",
          "j-idol",
          "japanese",
          "j-idol",
          "j-idol",
          "japanese",
          "j-pop",
          "korean",
          "japanese",
          "chinese",
          "chinese",
          "chinese",
          "korean",
          "j-pop",
          "j-dance",
          "j-idol",
          "japanese",
          "j-idol",
          "japanese",
          "japanese",
          "japanese",
          "j-pop",
          "chinese",
          "japanese",
          "chinese",
          "j-idol",
          "j-pop",
          "japanese",
          "japanese",
          "j-pop",
          "j-pop",
          "j-pop",
          "j-pop",
          "j-pop",
          "j-pop",
          "chinese",
          "chinese",
          "chinese",
          "j-pop",
          "j-idol",
          "korean",
          "j-pop",
          "j-pop",
          "j-idol",
          "korean",
          "j-dance",
          "j-dance",
          "korean",
          "japanese",
          "j-pop",
          "j-idol",
          "j-dance",
          "j-pop",
          "j-pop",
          "japanese",
          "chinese",
          "j-idol",
          "korean",
          "j-dance",
          "j-dance",
          "j-dance",
          "japanese",
          "j-dance",
          "chinese",
          "korean",
          "chinese",
          "chinese",
          "chinese",
          "korean",
          "j-idol",
          "j-pop",
          "japanese",
          "j-dance",
          "japanese",
          "japanese",
          "j-pop",
          "japanese",
          "j-pop",
          "korean",
          "chinese",
          "j-idol",
          "chinese",
          "japanese",
          "j-idol",
          "j-dance",
          "korean",
          "chinese",
          "j-idol",
          "j-pop",
          "japanese",
          "j-dance",
          "j-dance",
          "j-idol",
          "j-pop",
          "j-pop",
          "japanese",
          "chinese",
          "chinese",
          "chinese",
          "chinese",
          "chinese",
          "chinese",
          "chinese",
          "chinese",
          "chinese",
          "chinese",
          "chinese",
          "chinese",
          "chinese",
          "chinese",
          "chinese",
          "chinese",
          "chinese",
          "japanese",
          "chinese",
          "chinese",
          "chinese",
          "chinese",
          "j-idol",
          "chinese",
          "chinese",
          "chinese",
          "japanese",
          "chinese",
          "japanese",
          "chinese",
          "chinese",
          "chinese",
          "chinese",
          "chinese",
          "chinese",
          "chinese",
          "chinese",
          "chinese",
          "chinese",
          "japanese",
          "chinese",
          "chinese",
          "chinese",
          "chinese",
          "chinese",
          "chinese",
          "chinese",
          "chinese",
          "chinese",
          "korean",
          "j-pop",
          "j-idol",
          "japanese",
          "j-pop",
          "korean",
          "j-idol",
          "korean",
          "j-dance",
          "japanese",
          "j-dance",
          "j-pop",
          "japanese",
          "j-pop",
          "japanese",
          "j-pop",
          "japanese",
          "j-pop",
          "j-dance",
          "j-idol",
          "korean",
          "j-pop",
          "chinese",
          "chinese",
          "j-pop",
          "japanese",
          "korean",
          "japanese",
          "j-idol",
          "j-idol",
          "j-pop",
          "japanese",
          "japanese",
          "japanese",
          "j-dance",
          "japanese",
          "j-idol",
          "japanese",
          "japanese",
          "korean",
          "j-pop",
          "j-pop",
          "j-idol",
          "japanese",
          "j-pop",
          "chinese",
          "j-idol",
          "japanese",
          "j-pop",
          "j-pop",
          "korean",
          "",
          "",
          "",
          "",
          "",
          ""
         ],
         "type": "treemap",
         "values": [
          1254,
          21614,
          65210,
          65210,
          1062148,
          67507448,
          1503939,
          336975,
          27212,
          481944,
          481944,
          1781269,
          303677,
          29112,
          43385244,
          72934,
          5145706,
          310583,
          996941,
          996941,
          238481,
          275284,
          6763,
          467258,
          223825,
          36264,
          143682,
          143682,
          24695,
          7946,
          9432,
          2807,
          5288,
          255721,
          8922,
          3628,
          16102,
          2118817,
          104003,
          60322,
          548749,
          99929,
          231086,
          20314,
          7175,
          22940,
          368684,
          368684,
          304255,
          90683,
          55551,
          207312,
          2793612,
          145595,
          3021406,
          458074,
          991550,
          991550,
          2185567,
          3180,
          35604,
          1319575,
          2793612,
          434225,
          47972,
          112789,
          22026,
          2450168,
          13972,
          500369,
          500369,
          301241,
          301241,
          2625920,
          1336908,
          51233,
          6534936,
          13688,
          1527028,
          678582,
          620849,
          5124,
          839241,
          1995,
          416705,
          39969,
          11419,
          246003,
          21607,
          50516,
          53101,
          453226,
          5401,
          31176,
          410208,
          410208,
          3085,
          4725930,
          2288220,
          240749,
          134937,
          2447875,
          7093,
          135749,
          282648,
          43985,
          1124826,
          1124826,
          1426230,
          23493,
          1702458,
          741896,
          124104,
          2203930,
          347414,
          22101,
          2934675,
          2399516,
          2399516,
          61150,
          8629,
          1426230,
          1702458,
          68231,
          157751,
          342740,
          385050,
          905721,
          1243949,
          7635,
          1877003,
          2488380,
          8073920,
          5622225,
          4196257,
          4196257,
          41628,
          159224,
          232824,
          379189,
          102729,
          186843,
          3060771,
          3060771,
          284714,
          70493,
          493903,
          93010,
          14851,
          83276,
          59115,
          165674,
          68042,
          1350527,
          1350527,
          3151973,
          728628,
          363184,
          1707682,
          1143343,
          1143343,
          682044,
          616087,
          75556,
          55905,
          434991,
          6792,
          130385,
          19260,
          19260,
          15169,
          331019,
          1040052,
          727780,
          57281,
          15948,
          1426971,
          957475,
          712966,
          354101,
          165706,
          9701818,
          948681,
          6039057,
          10454,
          535993,
          535993,
          481553,
          712966,
          7744,
          81025,
          37137,
          33613,
          122505,
          68211,
          329082,
          1132,
          366457,
          423425,
          165472,
          87454,
          87454,
          19330,
          28068,
          116760,
          4829395,
          189228,
          2620665,
          449338,
          15764,
          119545,
          40830,
          670872,
          45426,
          1420,
          2826162,
          55710,
          84260,
          240669,
          2356,
          119545,
          96701,
          476054,
          120550,
          132875,
          165339,
          132875,
          3541,
          128043,
          128043,
          36598,
          102777,
          387363,
          387363,
          34393,
          34393,
          120786,
          476054,
          2905006,
          4062,
          137627,
          34623,
          130046,
          1542200,
          178402,
          120550,
          305722,
          66896,
          1113287,
          950184,
          165009,
          6227865,
          36354,
          36354,
          1983578,
          1983578,
          193918,
          142179,
          75319,
          61082,
          214037,
          3052,
          296862,
          14111,
          962932,
          179904,
          173210,
          1354603,
          6590144,
          612857,
          31684,
          12031,
          142179,
          85766,
          85766,
          863374,
          863374,
          150611,
          622471,
          3160,
          407677,
          87836,
          50722,
          1510771,
          87836,
          3536,
          176442,
          13474,
          239903,
          239903,
          1179820,
          8656152,
          10828,
          53656,
          5112482,
          868461,
          13655,
          1954189,
          1394713,
          29561,
          1894931,
          1894931,
          2476725,
          362438,
          15754,
          54680,
          430811,
          905879,
          905879,
          53743,
          356160,
          356160,
          39569,
          273689,
          1531884,
          24098,
          430811,
          4076,
          313222,
          77148,
          122689,
          467185,
          4365,
          259268,
          650906,
          252694,
          252694,
          15953,
          2909,
          763466,
          108498,
          812892,
          7831,
          12945,
          298833,
          2163971,
          9731900,
          55070,
          3040072,
          470879,
          14091,
          242549,
          130547,
          302403,
          1410182,
          81290,
          7111,
          3897,
          202216,
          42128,
          2597408,
          300960,
          61687,
          71566,
          8335192,
          18602,
          18278225,
          371552,
          371552,
          417798,
          417798,
          62292,
          189060,
          12325,
          153336,
          306455,
          8573957,
          2699,
          2767461,
          1166851,
          1166851,
          51033,
          438832,
          225677,
          25152,
          454127,
          454127,
          219631,
          286418,
          208027,
          208027,
          1435566,
          445634,
          61648,
          26007,
          26007,
          1059780,
          2462,
          211326,
          211326,
          99003,
          99003,
          94655,
          11990935,
          31686,
          1005843,
          9199,
          2415,
          549595,
          245657,
          245657,
          514606,
          8911,
          201847,
          998239,
          6698,
          3069048,
          2764561,
          800331,
          6913985,
          6906343,
          7740,
          35954,
          77897,
          1696756,
          1461536,
          395256,
          72179,
          296220,
          16284,
          825984,
          642282,
          75153,
          75153,
          1002451,
          39212,
          1623177,
          732877,
          732877,
          5100954,
          44568,
          489825,
          489825,
          1052832,
          1052832,
          29765,
          15054,
          25388,
          4351,
          234248,
          19313,
          342271,
          642282,
          23689,
          30771,
          62451,
          518659,
          160390,
          90664,
          44312,
          55587,
          248913,
          248913,
          2200,
          17234,
          747652,
          747652,
          160390,
          4322,
          801719,
          82309,
          68946,
          302723,
          7000438,
          3500219,
          22346,
          298182,
          12606,
          4130164,
          947440,
          20225,
          341,
          31848,
          20225,
          1197802,
          1197802,
          774966,
          774966,
          7842,
          5792865,
          1733039,
          5038425,
          5038425,
          464661,
          79842,
          115738,
          30555,
          30555,
          149719,
          22148,
          65188,
          26525,
          334370,
          1651872,
          490331,
          428031,
          428031,
          85642,
          934816,
          9695,
          10692,
          380157,
          2857,
          64075,
          249073,
          1715792,
          36671,
          29013,
          558769,
          260224,
          10285,
          568634,
          568634,
          127195,
          14372,
          934816,
          27024,
          517055,
          22445,
          1945640,
          1088607,
          7207,
          125943,
          167788,
          121433,
          3945938,
          1020612,
          62340,
          62340,
          602231,
          1945640,
          3418447,
          935440,
          573685,
          312728,
          80337,
          136485,
          1549590,
          70465,
          1317740,
          1317740,
          238997,
          70330,
          573685,
          25199,
          3604,
          14088149,
          747852,
          747852,
          63176,
          16789,
          1104597,
          375484,
          204127,
          115729,
          19313,
          73980,
          89400,
          250081,
          201206,
          64516,
          7483,
          92760,
          109376,
          48719,
          34145,
          71673,
          306455,
          20235,
          1731531,
          135845,
          34688,
          1731531,
          5945744,
          5945744,
          45004,
          45004,
          72338,
          34898,
          21553,
          334369,
          24404,
          29654,
          8910,
          729945,
          220524,
          17675,
          1256503,
          1256503,
          249338,
          1188694,
          3926,
          2552015,
          729945,
          249338,
          80761,
          1052,
          14255,
          35588,
          8577,
          53837,
          42405,
          169319,
          91357,
          7217,
          14731,
          20295,
          18115,
          40417,
          45183,
          55037,
          25137,
          144088,
          8910,
          29868,
          20231,
          41346,
          4904,
          2147,
          52680,
          111253,
          172813,
          90259,
          52575,
          131638,
          80404,
          53344,
          118753,
          180850,
          15843,
          23940,
          13004,
          21506,
          11860,
          130322,
          1145,
          26624,
          30609,
          227809,
          63374,
          13272,
          14754,
          120364,
          10728,
          386151,
          2142427,
          8776,
          168051,
          615291,
          84293,
          16642,
          7172,
          11491,
          88749,
          180318,
          15407840,
          361753,
          361753,
          341857,
          341857,
          341845,
          341845,
          3588,
          96908,
          96602,
          96602,
          21873,
          189801,
          111944,
          111944,
          1034,
          118333,
          13201,
          3850,
          1386651,
          46430,
          360933,
          127159,
          40923,
          193358,
          10699,
          116756,
          963755,
          524359,
          524359,
          307098,
          4546,
          874195,
          874195,
          15444,
          23061,
          1238724,
          1238724,
          963755,
          37880,
          10154419,
          13062948,
          10715794,
          494427736,
          64743728,
          45918000
         ]
        }
       ],
       "layout": {
        "height": 600,
        "legend": {
         "tracegroupgap": 0
        },
        "margin": {
         "t": 60
        },
        "paper_bgcolor": "rgb(84,52,107)",
        "plot_bgcolor": "rgb(84,52,107)",
        "template": {
         "data": {
          "bar": [
           {
            "error_x": {
             "color": "#f2f5fa"
            },
            "error_y": {
             "color": "#f2f5fa"
            },
            "marker": {
             "line": {
              "color": "rgb(17,17,17)",
              "width": 0.5
             },
             "pattern": {
              "fillmode": "overlay",
              "size": 10,
              "solidity": 0.2
             }
            },
            "type": "bar"
           }
          ],
          "barpolar": [
           {
            "marker": {
             "line": {
              "color": "rgb(17,17,17)",
              "width": 0.5
             },
             "pattern": {
              "fillmode": "overlay",
              "size": 10,
              "solidity": 0.2
             }
            },
            "type": "barpolar"
           }
          ],
          "carpet": [
           {
            "aaxis": {
             "endlinecolor": "#A2B1C6",
             "gridcolor": "#506784",
             "linecolor": "#506784",
             "minorgridcolor": "#506784",
             "startlinecolor": "#A2B1C6"
            },
            "baxis": {
             "endlinecolor": "#A2B1C6",
             "gridcolor": "#506784",
             "linecolor": "#506784",
             "minorgridcolor": "#506784",
             "startlinecolor": "#A2B1C6"
            },
            "type": "carpet"
           }
          ],
          "choropleth": [
           {
            "colorbar": {
             "outlinewidth": 0,
             "ticks": ""
            },
            "type": "choropleth"
           }
          ],
          "contour": [
           {
            "colorbar": {
             "outlinewidth": 0,
             "ticks": ""
            },
            "colorscale": [
             [
              0,
              "#0d0887"
             ],
             [
              0.1111111111111111,
              "#46039f"
             ],
             [
              0.2222222222222222,
              "#7201a8"
             ],
             [
              0.3333333333333333,
              "#9c179e"
             ],
             [
              0.4444444444444444,
              "#bd3786"
             ],
             [
              0.5555555555555556,
              "#d8576b"
             ],
             [
              0.6666666666666666,
              "#ed7953"
             ],
             [
              0.7777777777777778,
              "#fb9f3a"
             ],
             [
              0.8888888888888888,
              "#fdca26"
             ],
             [
              1,
              "#f0f921"
             ]
            ],
            "type": "contour"
           }
          ],
          "contourcarpet": [
           {
            "colorbar": {
             "outlinewidth": 0,
             "ticks": ""
            },
            "type": "contourcarpet"
           }
          ],
          "heatmap": [
           {
            "colorbar": {
             "outlinewidth": 0,
             "ticks": ""
            },
            "colorscale": [
             [
              0,
              "#0d0887"
             ],
             [
              0.1111111111111111,
              "#46039f"
             ],
             [
              0.2222222222222222,
              "#7201a8"
             ],
             [
              0.3333333333333333,
              "#9c179e"
             ],
             [
              0.4444444444444444,
              "#bd3786"
             ],
             [
              0.5555555555555556,
              "#d8576b"
             ],
             [
              0.6666666666666666,
              "#ed7953"
             ],
             [
              0.7777777777777778,
              "#fb9f3a"
             ],
             [
              0.8888888888888888,
              "#fdca26"
             ],
             [
              1,
              "#f0f921"
             ]
            ],
            "type": "heatmap"
           }
          ],
          "heatmapgl": [
           {
            "colorbar": {
             "outlinewidth": 0,
             "ticks": ""
            },
            "colorscale": [
             [
              0,
              "#0d0887"
             ],
             [
              0.1111111111111111,
              "#46039f"
             ],
             [
              0.2222222222222222,
              "#7201a8"
             ],
             [
              0.3333333333333333,
              "#9c179e"
             ],
             [
              0.4444444444444444,
              "#bd3786"
             ],
             [
              0.5555555555555556,
              "#d8576b"
             ],
             [
              0.6666666666666666,
              "#ed7953"
             ],
             [
              0.7777777777777778,
              "#fb9f3a"
             ],
             [
              0.8888888888888888,
              "#fdca26"
             ],
             [
              1,
              "#f0f921"
             ]
            ],
            "type": "heatmapgl"
           }
          ],
          "histogram": [
           {
            "marker": {
             "pattern": {
              "fillmode": "overlay",
              "size": 10,
              "solidity": 0.2
             }
            },
            "type": "histogram"
           }
          ],
          "histogram2d": [
           {
            "colorbar": {
             "outlinewidth": 0,
             "ticks": ""
            },
            "colorscale": [
             [
              0,
              "#0d0887"
             ],
             [
              0.1111111111111111,
              "#46039f"
             ],
             [
              0.2222222222222222,
              "#7201a8"
             ],
             [
              0.3333333333333333,
              "#9c179e"
             ],
             [
              0.4444444444444444,
              "#bd3786"
             ],
             [
              0.5555555555555556,
              "#d8576b"
             ],
             [
              0.6666666666666666,
              "#ed7953"
             ],
             [
              0.7777777777777778,
              "#fb9f3a"
             ],
             [
              0.8888888888888888,
              "#fdca26"
             ],
             [
              1,
              "#f0f921"
             ]
            ],
            "type": "histogram2d"
           }
          ],
          "histogram2dcontour": [
           {
            "colorbar": {
             "outlinewidth": 0,
             "ticks": ""
            },
            "colorscale": [
             [
              0,
              "#0d0887"
             ],
             [
              0.1111111111111111,
              "#46039f"
             ],
             [
              0.2222222222222222,
              "#7201a8"
             ],
             [
              0.3333333333333333,
              "#9c179e"
             ],
             [
              0.4444444444444444,
              "#bd3786"
             ],
             [
              0.5555555555555556,
              "#d8576b"
             ],
             [
              0.6666666666666666,
              "#ed7953"
             ],
             [
              0.7777777777777778,
              "#fb9f3a"
             ],
             [
              0.8888888888888888,
              "#fdca26"
             ],
             [
              1,
              "#f0f921"
             ]
            ],
            "type": "histogram2dcontour"
           }
          ],
          "mesh3d": [
           {
            "colorbar": {
             "outlinewidth": 0,
             "ticks": ""
            },
            "type": "mesh3d"
           }
          ],
          "parcoords": [
           {
            "line": {
             "colorbar": {
              "outlinewidth": 0,
              "ticks": ""
             }
            },
            "type": "parcoords"
           }
          ],
          "pie": [
           {
            "automargin": true,
            "type": "pie"
           }
          ],
          "scatter": [
           {
            "marker": {
             "line": {
              "color": "#283442"
             }
            },
            "type": "scatter"
           }
          ],
          "scatter3d": [
           {
            "line": {
             "colorbar": {
              "outlinewidth": 0,
              "ticks": ""
             }
            },
            "marker": {
             "colorbar": {
              "outlinewidth": 0,
              "ticks": ""
             }
            },
            "type": "scatter3d"
           }
          ],
          "scattercarpet": [
           {
            "marker": {
             "colorbar": {
              "outlinewidth": 0,
              "ticks": ""
             }
            },
            "type": "scattercarpet"
           }
          ],
          "scattergeo": [
           {
            "marker": {
             "colorbar": {
              "outlinewidth": 0,
              "ticks": ""
             }
            },
            "type": "scattergeo"
           }
          ],
          "scattergl": [
           {
            "marker": {
             "line": {
              "color": "#283442"
             }
            },
            "type": "scattergl"
           }
          ],
          "scattermapbox": [
           {
            "marker": {
             "colorbar": {
              "outlinewidth": 0,
              "ticks": ""
             }
            },
            "type": "scattermapbox"
           }
          ],
          "scatterpolar": [
           {
            "marker": {
             "colorbar": {
              "outlinewidth": 0,
              "ticks": ""
             }
            },
            "type": "scatterpolar"
           }
          ],
          "scatterpolargl": [
           {
            "marker": {
             "colorbar": {
              "outlinewidth": 0,
              "ticks": ""
             }
            },
            "type": "scatterpolargl"
           }
          ],
          "scatterternary": [
           {
            "marker": {
             "colorbar": {
              "outlinewidth": 0,
              "ticks": ""
             }
            },
            "type": "scatterternary"
           }
          ],
          "surface": [
           {
            "colorbar": {
             "outlinewidth": 0,
             "ticks": ""
            },
            "colorscale": [
             [
              0,
              "#0d0887"
             ],
             [
              0.1111111111111111,
              "#46039f"
             ],
             [
              0.2222222222222222,
              "#7201a8"
             ],
             [
              0.3333333333333333,
              "#9c179e"
             ],
             [
              0.4444444444444444,
              "#bd3786"
             ],
             [
              0.5555555555555556,
              "#d8576b"
             ],
             [
              0.6666666666666666,
              "#ed7953"
             ],
             [
              0.7777777777777778,
              "#fb9f3a"
             ],
             [
              0.8888888888888888,
              "#fdca26"
             ],
             [
              1,
              "#f0f921"
             ]
            ],
            "type": "surface"
           }
          ],
          "table": [
           {
            "cells": {
             "fill": {
              "color": "#506784"
             },
             "line": {
              "color": "rgb(17,17,17)"
             }
            },
            "header": {
             "fill": {
              "color": "#2a3f5f"
             },
             "line": {
              "color": "rgb(17,17,17)"
             }
            },
            "type": "table"
           }
          ]
         },
         "layout": {
          "annotationdefaults": {
           "arrowcolor": "#f2f5fa",
           "arrowhead": 0,
           "arrowwidth": 1
          },
          "autotypenumbers": "strict",
          "coloraxis": {
           "colorbar": {
            "outlinewidth": 0,
            "ticks": ""
           }
          },
          "colorscale": {
           "diverging": [
            [
             0,
             "#8e0152"
            ],
            [
             0.1,
             "#c51b7d"
            ],
            [
             0.2,
             "#de77ae"
            ],
            [
             0.3,
             "#f1b6da"
            ],
            [
             0.4,
             "#fde0ef"
            ],
            [
             0.5,
             "#f7f7f7"
            ],
            [
             0.6,
             "#e6f5d0"
            ],
            [
             0.7,
             "#b8e186"
            ],
            [
             0.8,
             "#7fbc41"
            ],
            [
             0.9,
             "#4d9221"
            ],
            [
             1,
             "#276419"
            ]
           ],
           "sequential": [
            [
             0,
             "#0d0887"
            ],
            [
             0.1111111111111111,
             "#46039f"
            ],
            [
             0.2222222222222222,
             "#7201a8"
            ],
            [
             0.3333333333333333,
             "#9c179e"
            ],
            [
             0.4444444444444444,
             "#bd3786"
            ],
            [
             0.5555555555555556,
             "#d8576b"
            ],
            [
             0.6666666666666666,
             "#ed7953"
            ],
            [
             0.7777777777777778,
             "#fb9f3a"
            ],
            [
             0.8888888888888888,
             "#fdca26"
            ],
            [
             1,
             "#f0f921"
            ]
           ],
           "sequentialminus": [
            [
             0,
             "#0d0887"
            ],
            [
             0.1111111111111111,
             "#46039f"
            ],
            [
             0.2222222222222222,
             "#7201a8"
            ],
            [
             0.3333333333333333,
             "#9c179e"
            ],
            [
             0.4444444444444444,
             "#bd3786"
            ],
            [
             0.5555555555555556,
             "#d8576b"
            ],
            [
             0.6666666666666666,
             "#ed7953"
            ],
            [
             0.7777777777777778,
             "#fb9f3a"
            ],
            [
             0.8888888888888888,
             "#fdca26"
            ],
            [
             1,
             "#f0f921"
            ]
           ]
          },
          "colorway": [
           "#636efa",
           "#EF553B",
           "#00cc96",
           "#ab63fa",
           "#FFA15A",
           "#19d3f3",
           "#FF6692",
           "#B6E880",
           "#FF97FF",
           "#FECB52"
          ],
          "font": {
           "color": "#f2f5fa"
          },
          "geo": {
           "bgcolor": "rgb(17,17,17)",
           "lakecolor": "rgb(17,17,17)",
           "landcolor": "rgb(17,17,17)",
           "showlakes": true,
           "showland": true,
           "subunitcolor": "#506784"
          },
          "hoverlabel": {
           "align": "left"
          },
          "hovermode": "closest",
          "mapbox": {
           "style": "dark"
          },
          "paper_bgcolor": "rgb(17,17,17)",
          "plot_bgcolor": "rgb(17,17,17)",
          "polar": {
           "angularaxis": {
            "gridcolor": "#506784",
            "linecolor": "#506784",
            "ticks": ""
           },
           "bgcolor": "rgb(17,17,17)",
           "radialaxis": {
            "gridcolor": "#506784",
            "linecolor": "#506784",
            "ticks": ""
           }
          },
          "scene": {
           "xaxis": {
            "backgroundcolor": "rgb(17,17,17)",
            "gridcolor": "#506784",
            "gridwidth": 2,
            "linecolor": "#506784",
            "showbackground": true,
            "ticks": "",
            "zerolinecolor": "#C8D4E3"
           },
           "yaxis": {
            "backgroundcolor": "rgb(17,17,17)",
            "gridcolor": "#506784",
            "gridwidth": 2,
            "linecolor": "#506784",
            "showbackground": true,
            "ticks": "",
            "zerolinecolor": "#C8D4E3"
           },
           "zaxis": {
            "backgroundcolor": "rgb(17,17,17)",
            "gridcolor": "#506784",
            "gridwidth": 2,
            "linecolor": "#506784",
            "showbackground": true,
            "ticks": "",
            "zerolinecolor": "#C8D4E3"
           }
          },
          "shapedefaults": {
           "line": {
            "color": "#f2f5fa"
           }
          },
          "sliderdefaults": {
           "bgcolor": "#C8D4E3",
           "bordercolor": "rgb(17,17,17)",
           "borderwidth": 1,
           "tickwidth": 0
          },
          "ternary": {
           "aaxis": {
            "gridcolor": "#506784",
            "linecolor": "#506784",
            "ticks": ""
           },
           "baxis": {
            "gridcolor": "#506784",
            "linecolor": "#506784",
            "ticks": ""
           },
           "bgcolor": "rgb(17,17,17)",
           "caxis": {
            "gridcolor": "#506784",
            "linecolor": "#506784",
            "ticks": ""
           }
          },
          "title": {
           "x": 0.05
          },
          "updatemenudefaults": {
           "bgcolor": "#506784",
           "borderwidth": 0
          },
          "xaxis": {
           "automargin": true,
           "gridcolor": "#283442",
           "linecolor": "#506784",
           "ticks": "",
           "title": {
            "standoff": 15
           },
           "zerolinecolor": "#283442",
           "zerolinewidth": 2
          },
          "yaxis": {
           "automargin": true,
           "gridcolor": "#283442",
           "linecolor": "#506784",
           "ticks": "",
           "title": {
            "standoff": 15
           },
           "zerolinecolor": "#283442",
           "zerolinewidth": 2
          }
         }
        },
        "title": {
         "font": {
          "color": "white",
          "size": 18
         },
         "text": "Analysis of Followers Based on Music Genres and Artist Name",
         "x": 0.5,
         "xanchor": "center",
         "y": 0.95,
         "yanchor": "top"
        }
       }
      }
     },
     "metadata": {},
     "output_type": "display_data"
    }
   ],
   "source": [
    "df_artist_followers_grouped = df_artist.groupby([\"Query_Genre\", \"Artist_Name\"]).agg({\"Followers\" : \"sum\"}).reset_index()\n",
    "\n",
    "Fig_2 = px.treemap(df_artist_followers_grouped, path = [\"Query_Genre\", \"Artist_Name\"],\n",
    "                  values = \"Followers\", color = \"Query_Genre\", height = 600, color_continuous_scale = 'Blues')\n",
    "\n",
    "Fig_2.update_layout (title = {'text' : \"Analysis of Followers Based on Music Genres and Artist Name\", \n",
    "                                 'x' : 0.5, 'xanchor' : 'center', 'y' : 0.95, 'yanchor' : 'top', 'font' : { 'size' : 18, 'color' : 'white'}},\n",
    "                        plot_bgcolor = \"rgb(84,52,107)\", paper_bgcolor = \"rgb(84,52,107)\")\n",
    "\n",
    "Fig_2.update_traces(hoverlabel = dict(bgcolor = \"white\", font = dict(family = \"Arial\", color = \"black\", size = 20)), marker = {'line' : {'color' : 'black', 'width': 2}},\n",
    "                       hovertemplate = '<b>Query_Genre : </b> %{parent}<br> \\\n",
    "                       <b>Top_Track_Album : </b> %{label}<br> \\\n",
    "                       <b>Followers : </b> %{value:,}<extra></extra>')\n",
    "\n",
    "Fig_2.show()"
   ]
  },
  {
   "cell_type": "markdown",
   "metadata": {},
   "source": [
    "# Yayın Yılına Göre Albüm Sayısı"
   ]
  },
  {
   "cell_type": "code",
   "execution_count": 8,
   "metadata": {},
   "outputs": [
    {
     "data": {
      "application/vnd.plotly.v1+json": {
       "config": {
        "plotlyServerURL": "https://plot.ly"
       },
       "data": [
        {
         "fillpattern": {
          "shape": ""
         },
         "hovertemplate": "Year=%{x}<br>Count of Album=%{y}<extra></extra>",
         "legendgroup": "",
         "line": {
          "color": "white"
         },
         "marker": {
          "symbol": "circle"
         },
         "mode": "lines",
         "name": "",
         "orientation": "v",
         "showlegend": false,
         "stackgroup": "1",
         "type": "scatter",
         "x": [
          1970,
          1973,
          1974,
          1975,
          1976,
          1978,
          1979,
          1980,
          1981,
          1982,
          1983,
          1984,
          1985,
          1986,
          1987,
          1988,
          1989,
          1990,
          1991,
          1992,
          1993,
          1994,
          1995,
          1996,
          1997,
          1998,
          1999,
          2000,
          2001,
          2002,
          2003,
          2004,
          2005,
          2006,
          2007,
          2008,
          2009,
          2010,
          2011,
          2012,
          2013,
          2014,
          2015,
          2016,
          2017,
          2018,
          2019,
          2020,
          2021,
          2022,
          2023
         ],
         "xaxis": "x",
         "y": [
          1,
          1,
          3,
          2,
          2,
          1,
          1,
          48,
          6,
          9,
          16,
          13,
          10,
          10,
          20,
          11,
          6,
          9,
          6,
          11,
          9,
          13,
          13,
          23,
          16,
          55,
          28,
          31,
          45,
          35,
          27,
          56,
          48,
          59,
          58,
          97,
          71,
          78,
          103,
          114,
          90,
          141,
          199,
          320,
          362,
          439,
          501,
          689,
          905,
          1029,
          1159
         ],
         "yaxis": "y"
        },
        {
         "marker": {
          "color": "black"
         },
         "mode": "markers",
         "type": "scatter",
         "x": [
          1970,
          1973,
          1974,
          1975,
          1976,
          1978,
          1979,
          1980,
          1981,
          1982,
          1983,
          1984,
          1985,
          1986,
          1987,
          1988,
          1989,
          1990,
          1991,
          1992,
          1993,
          1994,
          1995,
          1996,
          1997,
          1998,
          1999,
          2000,
          2001,
          2002,
          2003,
          2004,
          2005,
          2006,
          2007,
          2008,
          2009,
          2010,
          2011,
          2012,
          2013,
          2014,
          2015,
          2016,
          2017,
          2018,
          2019,
          2020,
          2021,
          2022,
          2023
         ],
         "y": [
          1,
          1,
          3,
          2,
          2,
          1,
          1,
          48,
          6,
          9,
          16,
          13,
          10,
          10,
          20,
          11,
          6,
          9,
          6,
          11,
          9,
          13,
          13,
          23,
          16,
          55,
          28,
          31,
          45,
          35,
          27,
          56,
          48,
          59,
          58,
          97,
          71,
          78,
          103,
          114,
          90,
          141,
          199,
          320,
          362,
          439,
          501,
          689,
          905,
          1029,
          1159
         ]
        }
       ],
       "layout": {
        "height": 600,
        "hoverlabel": {
         "bgcolor": "white",
         "font": {
          "color": "black",
          "family": "Rockwell",
          "size": 16
         }
        },
        "hovermode": "x unified",
        "legend": {
         "tracegroupgap": 0
        },
        "margin": {
         "t": 60
        },
        "paper_bgcolor": "rgb(84,52,107)",
        "plot_bgcolor": "rgb(84,52,107)",
        "template": {
         "data": {
          "bar": [
           {
            "error_x": {
             "color": "#f2f5fa"
            },
            "error_y": {
             "color": "#f2f5fa"
            },
            "marker": {
             "line": {
              "color": "rgb(17,17,17)",
              "width": 0.5
             },
             "pattern": {
              "fillmode": "overlay",
              "size": 10,
              "solidity": 0.2
             }
            },
            "type": "bar"
           }
          ],
          "barpolar": [
           {
            "marker": {
             "line": {
              "color": "rgb(17,17,17)",
              "width": 0.5
             },
             "pattern": {
              "fillmode": "overlay",
              "size": 10,
              "solidity": 0.2
             }
            },
            "type": "barpolar"
           }
          ],
          "carpet": [
           {
            "aaxis": {
             "endlinecolor": "#A2B1C6",
             "gridcolor": "#506784",
             "linecolor": "#506784",
             "minorgridcolor": "#506784",
             "startlinecolor": "#A2B1C6"
            },
            "baxis": {
             "endlinecolor": "#A2B1C6",
             "gridcolor": "#506784",
             "linecolor": "#506784",
             "minorgridcolor": "#506784",
             "startlinecolor": "#A2B1C6"
            },
            "type": "carpet"
           }
          ],
          "choropleth": [
           {
            "colorbar": {
             "outlinewidth": 0,
             "ticks": ""
            },
            "type": "choropleth"
           }
          ],
          "contour": [
           {
            "colorbar": {
             "outlinewidth": 0,
             "ticks": ""
            },
            "colorscale": [
             [
              0,
              "#0d0887"
             ],
             [
              0.1111111111111111,
              "#46039f"
             ],
             [
              0.2222222222222222,
              "#7201a8"
             ],
             [
              0.3333333333333333,
              "#9c179e"
             ],
             [
              0.4444444444444444,
              "#bd3786"
             ],
             [
              0.5555555555555556,
              "#d8576b"
             ],
             [
              0.6666666666666666,
              "#ed7953"
             ],
             [
              0.7777777777777778,
              "#fb9f3a"
             ],
             [
              0.8888888888888888,
              "#fdca26"
             ],
             [
              1,
              "#f0f921"
             ]
            ],
            "type": "contour"
           }
          ],
          "contourcarpet": [
           {
            "colorbar": {
             "outlinewidth": 0,
             "ticks": ""
            },
            "type": "contourcarpet"
           }
          ],
          "heatmap": [
           {
            "colorbar": {
             "outlinewidth": 0,
             "ticks": ""
            },
            "colorscale": [
             [
              0,
              "#0d0887"
             ],
             [
              0.1111111111111111,
              "#46039f"
             ],
             [
              0.2222222222222222,
              "#7201a8"
             ],
             [
              0.3333333333333333,
              "#9c179e"
             ],
             [
              0.4444444444444444,
              "#bd3786"
             ],
             [
              0.5555555555555556,
              "#d8576b"
             ],
             [
              0.6666666666666666,
              "#ed7953"
             ],
             [
              0.7777777777777778,
              "#fb9f3a"
             ],
             [
              0.8888888888888888,
              "#fdca26"
             ],
             [
              1,
              "#f0f921"
             ]
            ],
            "type": "heatmap"
           }
          ],
          "heatmapgl": [
           {
            "colorbar": {
             "outlinewidth": 0,
             "ticks": ""
            },
            "colorscale": [
             [
              0,
              "#0d0887"
             ],
             [
              0.1111111111111111,
              "#46039f"
             ],
             [
              0.2222222222222222,
              "#7201a8"
             ],
             [
              0.3333333333333333,
              "#9c179e"
             ],
             [
              0.4444444444444444,
              "#bd3786"
             ],
             [
              0.5555555555555556,
              "#d8576b"
             ],
             [
              0.6666666666666666,
              "#ed7953"
             ],
             [
              0.7777777777777778,
              "#fb9f3a"
             ],
             [
              0.8888888888888888,
              "#fdca26"
             ],
             [
              1,
              "#f0f921"
             ]
            ],
            "type": "heatmapgl"
           }
          ],
          "histogram": [
           {
            "marker": {
             "pattern": {
              "fillmode": "overlay",
              "size": 10,
              "solidity": 0.2
             }
            },
            "type": "histogram"
           }
          ],
          "histogram2d": [
           {
            "colorbar": {
             "outlinewidth": 0,
             "ticks": ""
            },
            "colorscale": [
             [
              0,
              "#0d0887"
             ],
             [
              0.1111111111111111,
              "#46039f"
             ],
             [
              0.2222222222222222,
              "#7201a8"
             ],
             [
              0.3333333333333333,
              "#9c179e"
             ],
             [
              0.4444444444444444,
              "#bd3786"
             ],
             [
              0.5555555555555556,
              "#d8576b"
             ],
             [
              0.6666666666666666,
              "#ed7953"
             ],
             [
              0.7777777777777778,
              "#fb9f3a"
             ],
             [
              0.8888888888888888,
              "#fdca26"
             ],
             [
              1,
              "#f0f921"
             ]
            ],
            "type": "histogram2d"
           }
          ],
          "histogram2dcontour": [
           {
            "colorbar": {
             "outlinewidth": 0,
             "ticks": ""
            },
            "colorscale": [
             [
              0,
              "#0d0887"
             ],
             [
              0.1111111111111111,
              "#46039f"
             ],
             [
              0.2222222222222222,
              "#7201a8"
             ],
             [
              0.3333333333333333,
              "#9c179e"
             ],
             [
              0.4444444444444444,
              "#bd3786"
             ],
             [
              0.5555555555555556,
              "#d8576b"
             ],
             [
              0.6666666666666666,
              "#ed7953"
             ],
             [
              0.7777777777777778,
              "#fb9f3a"
             ],
             [
              0.8888888888888888,
              "#fdca26"
             ],
             [
              1,
              "#f0f921"
             ]
            ],
            "type": "histogram2dcontour"
           }
          ],
          "mesh3d": [
           {
            "colorbar": {
             "outlinewidth": 0,
             "ticks": ""
            },
            "type": "mesh3d"
           }
          ],
          "parcoords": [
           {
            "line": {
             "colorbar": {
              "outlinewidth": 0,
              "ticks": ""
             }
            },
            "type": "parcoords"
           }
          ],
          "pie": [
           {
            "automargin": true,
            "type": "pie"
           }
          ],
          "scatter": [
           {
            "marker": {
             "line": {
              "color": "#283442"
             }
            },
            "type": "scatter"
           }
          ],
          "scatter3d": [
           {
            "line": {
             "colorbar": {
              "outlinewidth": 0,
              "ticks": ""
             }
            },
            "marker": {
             "colorbar": {
              "outlinewidth": 0,
              "ticks": ""
             }
            },
            "type": "scatter3d"
           }
          ],
          "scattercarpet": [
           {
            "marker": {
             "colorbar": {
              "outlinewidth": 0,
              "ticks": ""
             }
            },
            "type": "scattercarpet"
           }
          ],
          "scattergeo": [
           {
            "marker": {
             "colorbar": {
              "outlinewidth": 0,
              "ticks": ""
             }
            },
            "type": "scattergeo"
           }
          ],
          "scattergl": [
           {
            "marker": {
             "line": {
              "color": "#283442"
             }
            },
            "type": "scattergl"
           }
          ],
          "scattermapbox": [
           {
            "marker": {
             "colorbar": {
              "outlinewidth": 0,
              "ticks": ""
             }
            },
            "type": "scattermapbox"
           }
          ],
          "scatterpolar": [
           {
            "marker": {
             "colorbar": {
              "outlinewidth": 0,
              "ticks": ""
             }
            },
            "type": "scatterpolar"
           }
          ],
          "scatterpolargl": [
           {
            "marker": {
             "colorbar": {
              "outlinewidth": 0,
              "ticks": ""
             }
            },
            "type": "scatterpolargl"
           }
          ],
          "scatterternary": [
           {
            "marker": {
             "colorbar": {
              "outlinewidth": 0,
              "ticks": ""
             }
            },
            "type": "scatterternary"
           }
          ],
          "surface": [
           {
            "colorbar": {
             "outlinewidth": 0,
             "ticks": ""
            },
            "colorscale": [
             [
              0,
              "#0d0887"
             ],
             [
              0.1111111111111111,
              "#46039f"
             ],
             [
              0.2222222222222222,
              "#7201a8"
             ],
             [
              0.3333333333333333,
              "#9c179e"
             ],
             [
              0.4444444444444444,
              "#bd3786"
             ],
             [
              0.5555555555555556,
              "#d8576b"
             ],
             [
              0.6666666666666666,
              "#ed7953"
             ],
             [
              0.7777777777777778,
              "#fb9f3a"
             ],
             [
              0.8888888888888888,
              "#fdca26"
             ],
             [
              1,
              "#f0f921"
             ]
            ],
            "type": "surface"
           }
          ],
          "table": [
           {
            "cells": {
             "fill": {
              "color": "#506784"
             },
             "line": {
              "color": "rgb(17,17,17)"
             }
            },
            "header": {
             "fill": {
              "color": "#2a3f5f"
             },
             "line": {
              "color": "rgb(17,17,17)"
             }
            },
            "type": "table"
           }
          ]
         },
         "layout": {
          "annotationdefaults": {
           "arrowcolor": "#f2f5fa",
           "arrowhead": 0,
           "arrowwidth": 1
          },
          "autotypenumbers": "strict",
          "coloraxis": {
           "colorbar": {
            "outlinewidth": 0,
            "ticks": ""
           }
          },
          "colorscale": {
           "diverging": [
            [
             0,
             "#8e0152"
            ],
            [
             0.1,
             "#c51b7d"
            ],
            [
             0.2,
             "#de77ae"
            ],
            [
             0.3,
             "#f1b6da"
            ],
            [
             0.4,
             "#fde0ef"
            ],
            [
             0.5,
             "#f7f7f7"
            ],
            [
             0.6,
             "#e6f5d0"
            ],
            [
             0.7,
             "#b8e186"
            ],
            [
             0.8,
             "#7fbc41"
            ],
            [
             0.9,
             "#4d9221"
            ],
            [
             1,
             "#276419"
            ]
           ],
           "sequential": [
            [
             0,
             "#0d0887"
            ],
            [
             0.1111111111111111,
             "#46039f"
            ],
            [
             0.2222222222222222,
             "#7201a8"
            ],
            [
             0.3333333333333333,
             "#9c179e"
            ],
            [
             0.4444444444444444,
             "#bd3786"
            ],
            [
             0.5555555555555556,
             "#d8576b"
            ],
            [
             0.6666666666666666,
             "#ed7953"
            ],
            [
             0.7777777777777778,
             "#fb9f3a"
            ],
            [
             0.8888888888888888,
             "#fdca26"
            ],
            [
             1,
             "#f0f921"
            ]
           ],
           "sequentialminus": [
            [
             0,
             "#0d0887"
            ],
            [
             0.1111111111111111,
             "#46039f"
            ],
            [
             0.2222222222222222,
             "#7201a8"
            ],
            [
             0.3333333333333333,
             "#9c179e"
            ],
            [
             0.4444444444444444,
             "#bd3786"
            ],
            [
             0.5555555555555556,
             "#d8576b"
            ],
            [
             0.6666666666666666,
             "#ed7953"
            ],
            [
             0.7777777777777778,
             "#fb9f3a"
            ],
            [
             0.8888888888888888,
             "#fdca26"
            ],
            [
             1,
             "#f0f921"
            ]
           ]
          },
          "colorway": [
           "#636efa",
           "#EF553B",
           "#00cc96",
           "#ab63fa",
           "#FFA15A",
           "#19d3f3",
           "#FF6692",
           "#B6E880",
           "#FF97FF",
           "#FECB52"
          ],
          "font": {
           "color": "#f2f5fa"
          },
          "geo": {
           "bgcolor": "rgb(17,17,17)",
           "lakecolor": "rgb(17,17,17)",
           "landcolor": "rgb(17,17,17)",
           "showlakes": true,
           "showland": true,
           "subunitcolor": "#506784"
          },
          "hoverlabel": {
           "align": "left"
          },
          "hovermode": "closest",
          "mapbox": {
           "style": "dark"
          },
          "paper_bgcolor": "rgb(17,17,17)",
          "plot_bgcolor": "rgb(17,17,17)",
          "polar": {
           "angularaxis": {
            "gridcolor": "#506784",
            "linecolor": "#506784",
            "ticks": ""
           },
           "bgcolor": "rgb(17,17,17)",
           "radialaxis": {
            "gridcolor": "#506784",
            "linecolor": "#506784",
            "ticks": ""
           }
          },
          "scene": {
           "xaxis": {
            "backgroundcolor": "rgb(17,17,17)",
            "gridcolor": "#506784",
            "gridwidth": 2,
            "linecolor": "#506784",
            "showbackground": true,
            "ticks": "",
            "zerolinecolor": "#C8D4E3"
           },
           "yaxis": {
            "backgroundcolor": "rgb(17,17,17)",
            "gridcolor": "#506784",
            "gridwidth": 2,
            "linecolor": "#506784",
            "showbackground": true,
            "ticks": "",
            "zerolinecolor": "#C8D4E3"
           },
           "zaxis": {
            "backgroundcolor": "rgb(17,17,17)",
            "gridcolor": "#506784",
            "gridwidth": 2,
            "linecolor": "#506784",
            "showbackground": true,
            "ticks": "",
            "zerolinecolor": "#C8D4E3"
           }
          },
          "shapedefaults": {
           "line": {
            "color": "#f2f5fa"
           }
          },
          "sliderdefaults": {
           "bgcolor": "#C8D4E3",
           "bordercolor": "rgb(17,17,17)",
           "borderwidth": 1,
           "tickwidth": 0
          },
          "ternary": {
           "aaxis": {
            "gridcolor": "#506784",
            "linecolor": "#506784",
            "ticks": ""
           },
           "baxis": {
            "gridcolor": "#506784",
            "linecolor": "#506784",
            "ticks": ""
           },
           "bgcolor": "rgb(17,17,17)",
           "caxis": {
            "gridcolor": "#506784",
            "linecolor": "#506784",
            "ticks": ""
           }
          },
          "title": {
           "x": 0.05
          },
          "updatemenudefaults": {
           "bgcolor": "#506784",
           "borderwidth": 0
          },
          "xaxis": {
           "automargin": true,
           "gridcolor": "#283442",
           "linecolor": "#506784",
           "ticks": "",
           "title": {
            "standoff": 15
           },
           "zerolinecolor": "#283442",
           "zerolinewidth": 2
          },
          "yaxis": {
           "automargin": true,
           "gridcolor": "#283442",
           "linecolor": "#506784",
           "ticks": "",
           "title": {
            "standoff": 15
           },
           "zerolinecolor": "#283442",
           "zerolinewidth": 2
          }
         }
        },
        "title": {
         "font": {
          "color": "white",
          "size": 18
         },
         "text": "Albums Count by Published Year",
         "x": 0.5,
         "xanchor": "center",
         "y": 0.95,
         "yanchor": "top"
        },
        "xaxis": {
         "anchor": "y",
         "domain": [
          0,
          1
         ],
         "gridcolor": "white",
         "title": {
          "text": "Year"
         }
        },
        "yaxis": {
         "anchor": "x",
         "domain": [
          0,
          1
         ],
         "gridcolor": "white",
         "range": [
          0,
          1600
         ],
         "title": {
          "text": "Count of Album"
         }
        }
       }
      }
     },
     "metadata": {},
     "output_type": "display_data"
    }
   ],
   "source": [
    "df_tracks_year = df_tracks.groupby([\"Album_Name\", \"Year\"]).agg({\"Album_Link\" : \"count\"}).reset_index().sort_values(by = \"Album_Link\", ascending = False)\n",
    "df_tracks_year = df_tracks_year.groupby([\"Year\"]).agg({\"Album_Link\" : \"sum\"}).reset_index().rename(columns = {\"Album_Link\" : \"Count of Album\"})\n",
    "\n",
    "Fig_3 = px.area(df_tracks_year, x = \"Year\", y = \"Count of Album\", color_discrete_sequence = ['white'])\n",
    "Fig_3.update_layout(plot_bgcolor = \"rgb(84,52,107)\", paper_bgcolor = \"rgb(84,52,107)\")\n",
    "Fig_3.update_yaxes(range = [0, 1600], gridcolor = \"white\")\n",
    "Fig_3.update_xaxes(gridcolor = \"white\")\n",
    "scatter = go.Scatter(x = df_tracks_year[\"Year\"], y = df_tracks_year[\"Count of Album\"], mode = 'markers', marker_color = 'black')\n",
    "Fig_3.add_trace(scatter)\n",
    "Fig_3.update_layout(hovermode = \"x unified\", \n",
    "                    hoverlabel = dict(bgcolor = \"white\",  font_size = 16, font_family = \"Rockwell\", font_color = \"black\"), height = 600,\n",
    "                    title = {'text' : \"Albums Count by Published Year\", \n",
    "                                 'x' : 0.5, 'xanchor' : 'center', 'y' : 0.95, 'yanchor' : 'top', 'font' : { 'size' : 18, 'color' : 'white'}})\n",
    "\n",
    "Fig_3.show()"
   ]
  },
  {
   "cell_type": "markdown",
   "metadata": {},
   "source": [
    "# Yıla ve Aya Göre Parça Sayısı"
   ]
  },
  {
   "cell_type": "code",
   "execution_count": 9,
   "metadata": {},
   "outputs": [
    {
     "data": {
      "application/vnd.plotly.v1+json": {
       "config": {
        "plotlyServerURL": "https://plot.ly"
       },
       "data": [
        {
         "coloraxis": "coloraxis",
         "histfunc": "sum",
         "hovertemplate": "Year=%{x}<br>Months=%{y}<br>sum of Tracks=%{z}<extra></extra>",
         "name": "",
         "texttemplate": "%{z}",
         "type": "histogram2d",
         "x": [
          1970,
          1973,
          1974,
          1974,
          1975,
          1976,
          1976,
          1978,
          1979,
          1980,
          1981,
          1981,
          1982,
          1982,
          1982,
          1983,
          1983,
          1984,
          1984,
          1984,
          1984,
          1985,
          1985,
          1985,
          1985,
          1986,
          1986,
          1986,
          1986,
          1986,
          1987,
          1987,
          1987,
          1987,
          1987,
          1988,
          1988,
          1988,
          1988,
          1988,
          1989,
          1989,
          1989,
          1989,
          1989,
          1990,
          1990,
          1990,
          1990,
          1990,
          1990,
          1991,
          1991,
          1991,
          1991,
          1992,
          1992,
          1992,
          1992,
          1992,
          1992,
          1993,
          1993,
          1993,
          1993,
          1993,
          1993,
          1993,
          1994,
          1994,
          1994,
          1994,
          1994,
          1994,
          1995,
          1995,
          1995,
          1995,
          1995,
          1995,
          1995,
          1995,
          1996,
          1996,
          1996,
          1996,
          1996,
          1996,
          1996,
          1996,
          1997,
          1997,
          1997,
          1997,
          1998,
          1998,
          1998,
          1998,
          1998,
          1998,
          1999,
          1999,
          1999,
          1999,
          1999,
          1999,
          1999,
          1999,
          1999,
          1999,
          2000,
          2000,
          2000,
          2000,
          2000,
          2000,
          2000,
          2000,
          2000,
          2001,
          2001,
          2001,
          2001,
          2001,
          2001,
          2001,
          2001,
          2001,
          2001,
          2002,
          2002,
          2002,
          2002,
          2002,
          2002,
          2003,
          2003,
          2003,
          2003,
          2003,
          2003,
          2003,
          2003,
          2003,
          2003,
          2003,
          2003,
          2004,
          2004,
          2004,
          2004,
          2004,
          2004,
          2004,
          2004,
          2004,
          2004,
          2004,
          2004,
          2005,
          2005,
          2005,
          2005,
          2005,
          2005,
          2005,
          2005,
          2005,
          2005,
          2005,
          2006,
          2006,
          2006,
          2006,
          2006,
          2006,
          2006,
          2006,
          2006,
          2006,
          2006,
          2007,
          2007,
          2007,
          2007,
          2007,
          2007,
          2007,
          2007,
          2007,
          2007,
          2007,
          2008,
          2008,
          2008,
          2008,
          2008,
          2008,
          2008,
          2008,
          2008,
          2008,
          2008,
          2009,
          2009,
          2009,
          2009,
          2009,
          2009,
          2009,
          2009,
          2009,
          2009,
          2009,
          2009,
          2010,
          2010,
          2010,
          2010,
          2010,
          2010,
          2010,
          2010,
          2010,
          2010,
          2010,
          2010,
          2011,
          2011,
          2011,
          2011,
          2011,
          2011,
          2011,
          2011,
          2011,
          2011,
          2011,
          2011,
          2012,
          2012,
          2012,
          2012,
          2012,
          2012,
          2012,
          2012,
          2012,
          2012,
          2012,
          2012,
          2013,
          2013,
          2013,
          2013,
          2013,
          2013,
          2013,
          2013,
          2013,
          2013,
          2013,
          2013,
          2014,
          2014,
          2014,
          2014,
          2014,
          2014,
          2014,
          2014,
          2014,
          2014,
          2014,
          2014,
          2015,
          2015,
          2015,
          2015,
          2015,
          2015,
          2015,
          2015,
          2015,
          2015,
          2015,
          2015,
          2016,
          2016,
          2016,
          2016,
          2016,
          2016,
          2016,
          2016,
          2016,
          2016,
          2016,
          2016,
          2017,
          2017,
          2017,
          2017,
          2017,
          2017,
          2017,
          2017,
          2017,
          2017,
          2017,
          2017,
          2018,
          2018,
          2018,
          2018,
          2018,
          2018,
          2018,
          2018,
          2018,
          2018,
          2018,
          2018,
          2019,
          2019,
          2019,
          2019,
          2019,
          2019,
          2019,
          2019,
          2019,
          2019,
          2019,
          2019,
          2020,
          2020,
          2020,
          2020,
          2020,
          2020,
          2020,
          2020,
          2020,
          2020,
          2020,
          2020,
          2021,
          2021,
          2021,
          2021,
          2021,
          2021,
          2021,
          2021,
          2021,
          2021,
          2021,
          2021,
          2022,
          2022,
          2022,
          2022,
          2022,
          2022,
          2022,
          2022,
          2022,
          2022,
          2022,
          2022,
          2023,
          2023,
          2023,
          2023,
          2023,
          2023,
          2023
         ],
         "xaxis": "x",
         "xbingroup": "x",
         "y": [
          "February",
          "November",
          "January",
          "October",
          "June",
          "November",
          "June",
          "September",
          "December",
          "June",
          "June",
          "November",
          "June",
          "July",
          "October",
          "June",
          "December",
          "June",
          "July",
          "April",
          "October",
          "June",
          "September",
          "October",
          "December",
          "June",
          "March",
          "September",
          "December",
          "November",
          "June",
          "September",
          "May",
          "March",
          "August",
          "October",
          "November",
          "July",
          "January",
          "June",
          "December",
          "September",
          "March",
          "June",
          "May",
          "June",
          "April",
          "November",
          "July",
          "September",
          "May",
          "September",
          "October",
          "June",
          "May",
          "May",
          "June",
          "September",
          "October",
          "July",
          "December",
          "February",
          "July",
          "December",
          "June",
          "April",
          "November",
          "May",
          "September",
          "February",
          "October",
          "November",
          "June",
          "December",
          "March",
          "December",
          "January",
          "July",
          "April",
          "June",
          "February",
          "November",
          "January",
          "July",
          "April",
          "September",
          "June",
          "December",
          "May",
          "November",
          "December",
          "June",
          "October",
          "March",
          "June",
          "December",
          "April",
          "July",
          "May",
          "October",
          "February",
          "September",
          "March",
          "November",
          "June",
          "July",
          "October",
          "May",
          "January",
          "August",
          "June",
          "October",
          "January",
          "September",
          "December",
          "July",
          "March",
          "November",
          "May",
          "December",
          "June",
          "July",
          "November",
          "March",
          "February",
          "September",
          "April",
          "August",
          "January",
          "March",
          "February",
          "July",
          "January",
          "May",
          "June",
          "June",
          "March",
          "August",
          "July",
          "February",
          "January",
          "April",
          "May",
          "September",
          "October",
          "December",
          "November",
          "September",
          "November",
          "August",
          "October",
          "July",
          "April",
          "June",
          "February",
          "May",
          "December",
          "March",
          "January",
          "September",
          "November",
          "May",
          "August",
          "July",
          "April",
          "December",
          "October",
          "January",
          "June",
          "March",
          "March",
          "November",
          "June",
          "May",
          "August",
          "February",
          "October",
          "September",
          "December",
          "April",
          "January",
          "February",
          "March",
          "April",
          "July",
          "January",
          "September",
          "June",
          "December",
          "November",
          "October",
          "May",
          "December",
          "June",
          "May",
          "July",
          "March",
          "January",
          "April",
          "September",
          "November",
          "October",
          "August",
          "November",
          "January",
          "May",
          "August",
          "February",
          "June",
          "December",
          "October",
          "July",
          "March",
          "April",
          "September",
          "March",
          "September",
          "February",
          "December",
          "November",
          "May",
          "April",
          "August",
          "October",
          "January",
          "July",
          "June",
          "September",
          "November",
          "April",
          "March",
          "December",
          "July",
          "February",
          "May",
          "June",
          "October",
          "January",
          "August",
          "April",
          "November",
          "October",
          "September",
          "May",
          "December",
          "February",
          "January",
          "March",
          "July",
          "August",
          "June",
          "July",
          "June",
          "April",
          "August",
          "September",
          "December",
          "May",
          "January",
          "November",
          "October",
          "February",
          "March",
          "December",
          "August",
          "April",
          "July",
          "February",
          "January",
          "November",
          "September",
          "October",
          "May",
          "June",
          "March",
          "May",
          "January",
          "November",
          "October",
          "February",
          "September",
          "June",
          "December",
          "August",
          "March",
          "July",
          "April",
          "November",
          "May",
          "July",
          "January",
          "October",
          "March",
          "September",
          "December",
          "April",
          "June",
          "February",
          "August",
          "July",
          "September",
          "October",
          "November",
          "June",
          "August",
          "April",
          "February",
          "January",
          "December",
          "May",
          "March",
          "March",
          "January",
          "April",
          "May",
          "February",
          "July",
          "August",
          "September",
          "November",
          "June",
          "October",
          "December",
          "August",
          "September",
          "February",
          "December",
          "January",
          "May",
          "October",
          "March",
          "June",
          "April",
          "November",
          "July",
          "October",
          "August",
          "February",
          "March",
          "November",
          "July",
          "December",
          "April",
          "May",
          "June",
          "September",
          "January",
          "December",
          "March",
          "November",
          "August",
          "October",
          "January",
          "June",
          "September",
          "May",
          "July",
          "April",
          "February",
          "March",
          "June",
          "May",
          "April",
          "February",
          "July",
          "December",
          "November",
          "January",
          "October",
          "August",
          "September",
          "July",
          "April",
          "May",
          "January",
          "June",
          "March",
          "February"
         ],
         "yaxis": "y",
         "ybingroup": "y",
         "z": [
          1,
          1,
          1,
          2,
          2,
          1,
          1,
          1,
          1,
          48,
          4,
          2,
          5,
          3,
          1,
          9,
          7,
          7,
          1,
          3,
          2,
          5,
          2,
          1,
          2,
          2,
          1,
          2,
          1,
          4,
          4,
          3,
          2,
          1,
          10,
          1,
          3,
          1,
          1,
          5,
          1,
          1,
          1,
          2,
          1,
          3,
          1,
          2,
          1,
          1,
          1,
          2,
          1,
          2,
          1,
          1,
          4,
          1,
          3,
          1,
          1,
          1,
          1,
          2,
          1,
          1,
          2,
          1,
          2,
          1,
          1,
          7,
          1,
          1,
          1,
          1,
          1,
          2,
          1,
          5,
          1,
          1,
          3,
          1,
          1,
          1,
          11,
          4,
          1,
          1,
          7,
          5,
          1,
          3,
          36,
          3,
          4,
          9,
          2,
          1,
          2,
          2,
          5,
          1,
          6,
          7,
          1,
          1,
          1,
          2,
          2,
          1,
          2,
          9,
          1,
          6,
          6,
          2,
          2,
          5,
          14,
          3,
          5,
          8,
          1,
          5,
          2,
          1,
          1,
          3,
          8,
          1,
          3,
          1,
          19,
          4,
          1,
          2,
          3,
          1,
          2,
          3,
          1,
          1,
          2,
          5,
          2,
          2,
          3,
          6,
          3,
          8,
          1,
          9,
          3,
          1,
          4,
          12,
          4,
          7,
          5,
          1,
          9,
          3,
          4,
          4,
          4,
          4,
          5,
          2,
          3,
          5,
          11,
          6,
          5,
          5,
          4,
          3,
          11,
          1,
          5,
          6,
          6,
          2,
          10,
          4,
          6,
          8,
          6,
          6,
          2,
          2,
          12,
          7,
          28,
          4,
          9,
          9,
          9,
          7,
          5,
          2,
          5,
          9,
          1,
          4,
          7,
          1,
          13,
          2,
          11,
          9,
          10,
          1,
          3,
          10,
          1,
          2,
          3,
          8,
          1,
          11,
          6,
          3,
          6,
          8,
          19,
          6,
          13,
          3,
          6,
          10,
          7,
          2,
          13,
          13,
          10,
          14,
          6,
          5,
          15,
          11,
          6,
          16,
          6,
          6,
          10,
          6,
          3,
          20,
          10,
          10,
          9,
          7,
          14,
          9,
          5,
          5,
          4,
          5,
          10,
          2,
          10,
          4,
          7,
          10,
          12,
          6,
          25,
          23,
          15,
          11,
          1,
          18,
          9,
          26,
          32,
          18,
          6,
          24,
          7,
          8,
          14,
          5,
          19,
          25,
          15,
          25,
          25,
          25,
          18,
          31,
          35,
          29,
          38,
          17,
          35,
          7,
          35,
          44,
          25,
          25,
          33,
          32,
          14,
          28,
          24,
          37,
          41,
          39,
          20,
          34,
          41,
          40,
          29,
          18,
          41,
          60,
          21,
          43,
          32,
          34,
          46,
          43,
          42,
          41,
          32,
          44,
          45,
          52,
          46,
          32,
          35,
          48,
          41,
          73,
          49,
          51,
          46,
          43,
          70,
          55,
          60,
          85,
          45,
          56,
          56,
          105,
          60,
          75,
          91,
          93,
          70,
          67,
          59,
          77,
          76,
          63,
          69,
          92,
          76,
          98,
          54,
          74,
          109,
          87,
          80,
          94,
          113,
          71,
          81,
          437,
          166,
          135,
          64,
          159,
          132,
          66
         ]
        }
       ],
       "layout": {
        "coloraxis": {
         "colorbar": {
          "title": {
           "text": "sum of Tracks"
          }
         },
         "colorscale": [
          [
           0,
           "rgb(247,251,255)"
          ],
          [
           0.125,
           "rgb(222,235,247)"
          ],
          [
           0.25,
           "rgb(198,219,239)"
          ],
          [
           0.375,
           "rgb(158,202,225)"
          ],
          [
           0.5,
           "rgb(107,174,214)"
          ],
          [
           0.625,
           "rgb(66,146,198)"
          ],
          [
           0.75,
           "rgb(33,113,181)"
          ],
          [
           0.875,
           "rgb(8,81,156)"
          ],
          [
           1,
           "rgb(8,48,107)"
          ]
         ]
        },
        "height": 600,
        "legend": {
         "tracegroupgap": 0
        },
        "margin": {
         "t": 60
        },
        "paper_bgcolor": "rgb(84,52,107)",
        "plot_bgcolor": "rgb(84,52,107)",
        "template": {
         "data": {
          "bar": [
           {
            "error_x": {
             "color": "#f2f5fa"
            },
            "error_y": {
             "color": "#f2f5fa"
            },
            "marker": {
             "line": {
              "color": "rgb(17,17,17)",
              "width": 0.5
             },
             "pattern": {
              "fillmode": "overlay",
              "size": 10,
              "solidity": 0.2
             }
            },
            "type": "bar"
           }
          ],
          "barpolar": [
           {
            "marker": {
             "line": {
              "color": "rgb(17,17,17)",
              "width": 0.5
             },
             "pattern": {
              "fillmode": "overlay",
              "size": 10,
              "solidity": 0.2
             }
            },
            "type": "barpolar"
           }
          ],
          "carpet": [
           {
            "aaxis": {
             "endlinecolor": "#A2B1C6",
             "gridcolor": "#506784",
             "linecolor": "#506784",
             "minorgridcolor": "#506784",
             "startlinecolor": "#A2B1C6"
            },
            "baxis": {
             "endlinecolor": "#A2B1C6",
             "gridcolor": "#506784",
             "linecolor": "#506784",
             "minorgridcolor": "#506784",
             "startlinecolor": "#A2B1C6"
            },
            "type": "carpet"
           }
          ],
          "choropleth": [
           {
            "colorbar": {
             "outlinewidth": 0,
             "ticks": ""
            },
            "type": "choropleth"
           }
          ],
          "contour": [
           {
            "colorbar": {
             "outlinewidth": 0,
             "ticks": ""
            },
            "colorscale": [
             [
              0,
              "#0d0887"
             ],
             [
              0.1111111111111111,
              "#46039f"
             ],
             [
              0.2222222222222222,
              "#7201a8"
             ],
             [
              0.3333333333333333,
              "#9c179e"
             ],
             [
              0.4444444444444444,
              "#bd3786"
             ],
             [
              0.5555555555555556,
              "#d8576b"
             ],
             [
              0.6666666666666666,
              "#ed7953"
             ],
             [
              0.7777777777777778,
              "#fb9f3a"
             ],
             [
              0.8888888888888888,
              "#fdca26"
             ],
             [
              1,
              "#f0f921"
             ]
            ],
            "type": "contour"
           }
          ],
          "contourcarpet": [
           {
            "colorbar": {
             "outlinewidth": 0,
             "ticks": ""
            },
            "type": "contourcarpet"
           }
          ],
          "heatmap": [
           {
            "colorbar": {
             "outlinewidth": 0,
             "ticks": ""
            },
            "colorscale": [
             [
              0,
              "#0d0887"
             ],
             [
              0.1111111111111111,
              "#46039f"
             ],
             [
              0.2222222222222222,
              "#7201a8"
             ],
             [
              0.3333333333333333,
              "#9c179e"
             ],
             [
              0.4444444444444444,
              "#bd3786"
             ],
             [
              0.5555555555555556,
              "#d8576b"
             ],
             [
              0.6666666666666666,
              "#ed7953"
             ],
             [
              0.7777777777777778,
              "#fb9f3a"
             ],
             [
              0.8888888888888888,
              "#fdca26"
             ],
             [
              1,
              "#f0f921"
             ]
            ],
            "type": "heatmap"
           }
          ],
          "heatmapgl": [
           {
            "colorbar": {
             "outlinewidth": 0,
             "ticks": ""
            },
            "colorscale": [
             [
              0,
              "#0d0887"
             ],
             [
              0.1111111111111111,
              "#46039f"
             ],
             [
              0.2222222222222222,
              "#7201a8"
             ],
             [
              0.3333333333333333,
              "#9c179e"
             ],
             [
              0.4444444444444444,
              "#bd3786"
             ],
             [
              0.5555555555555556,
              "#d8576b"
             ],
             [
              0.6666666666666666,
              "#ed7953"
             ],
             [
              0.7777777777777778,
              "#fb9f3a"
             ],
             [
              0.8888888888888888,
              "#fdca26"
             ],
             [
              1,
              "#f0f921"
             ]
            ],
            "type": "heatmapgl"
           }
          ],
          "histogram": [
           {
            "marker": {
             "pattern": {
              "fillmode": "overlay",
              "size": 10,
              "solidity": 0.2
             }
            },
            "type": "histogram"
           }
          ],
          "histogram2d": [
           {
            "colorbar": {
             "outlinewidth": 0,
             "ticks": ""
            },
            "colorscale": [
             [
              0,
              "#0d0887"
             ],
             [
              0.1111111111111111,
              "#46039f"
             ],
             [
              0.2222222222222222,
              "#7201a8"
             ],
             [
              0.3333333333333333,
              "#9c179e"
             ],
             [
              0.4444444444444444,
              "#bd3786"
             ],
             [
              0.5555555555555556,
              "#d8576b"
             ],
             [
              0.6666666666666666,
              "#ed7953"
             ],
             [
              0.7777777777777778,
              "#fb9f3a"
             ],
             [
              0.8888888888888888,
              "#fdca26"
             ],
             [
              1,
              "#f0f921"
             ]
            ],
            "type": "histogram2d"
           }
          ],
          "histogram2dcontour": [
           {
            "colorbar": {
             "outlinewidth": 0,
             "ticks": ""
            },
            "colorscale": [
             [
              0,
              "#0d0887"
             ],
             [
              0.1111111111111111,
              "#46039f"
             ],
             [
              0.2222222222222222,
              "#7201a8"
             ],
             [
              0.3333333333333333,
              "#9c179e"
             ],
             [
              0.4444444444444444,
              "#bd3786"
             ],
             [
              0.5555555555555556,
              "#d8576b"
             ],
             [
              0.6666666666666666,
              "#ed7953"
             ],
             [
              0.7777777777777778,
              "#fb9f3a"
             ],
             [
              0.8888888888888888,
              "#fdca26"
             ],
             [
              1,
              "#f0f921"
             ]
            ],
            "type": "histogram2dcontour"
           }
          ],
          "mesh3d": [
           {
            "colorbar": {
             "outlinewidth": 0,
             "ticks": ""
            },
            "type": "mesh3d"
           }
          ],
          "parcoords": [
           {
            "line": {
             "colorbar": {
              "outlinewidth": 0,
              "ticks": ""
             }
            },
            "type": "parcoords"
           }
          ],
          "pie": [
           {
            "automargin": true,
            "type": "pie"
           }
          ],
          "scatter": [
           {
            "marker": {
             "line": {
              "color": "#283442"
             }
            },
            "type": "scatter"
           }
          ],
          "scatter3d": [
           {
            "line": {
             "colorbar": {
              "outlinewidth": 0,
              "ticks": ""
             }
            },
            "marker": {
             "colorbar": {
              "outlinewidth": 0,
              "ticks": ""
             }
            },
            "type": "scatter3d"
           }
          ],
          "scattercarpet": [
           {
            "marker": {
             "colorbar": {
              "outlinewidth": 0,
              "ticks": ""
             }
            },
            "type": "scattercarpet"
           }
          ],
          "scattergeo": [
           {
            "marker": {
             "colorbar": {
              "outlinewidth": 0,
              "ticks": ""
             }
            },
            "type": "scattergeo"
           }
          ],
          "scattergl": [
           {
            "marker": {
             "line": {
              "color": "#283442"
             }
            },
            "type": "scattergl"
           }
          ],
          "scattermapbox": [
           {
            "marker": {
             "colorbar": {
              "outlinewidth": 0,
              "ticks": ""
             }
            },
            "type": "scattermapbox"
           }
          ],
          "scatterpolar": [
           {
            "marker": {
             "colorbar": {
              "outlinewidth": 0,
              "ticks": ""
             }
            },
            "type": "scatterpolar"
           }
          ],
          "scatterpolargl": [
           {
            "marker": {
             "colorbar": {
              "outlinewidth": 0,
              "ticks": ""
             }
            },
            "type": "scatterpolargl"
           }
          ],
          "scatterternary": [
           {
            "marker": {
             "colorbar": {
              "outlinewidth": 0,
              "ticks": ""
             }
            },
            "type": "scatterternary"
           }
          ],
          "surface": [
           {
            "colorbar": {
             "outlinewidth": 0,
             "ticks": ""
            },
            "colorscale": [
             [
              0,
              "#0d0887"
             ],
             [
              0.1111111111111111,
              "#46039f"
             ],
             [
              0.2222222222222222,
              "#7201a8"
             ],
             [
              0.3333333333333333,
              "#9c179e"
             ],
             [
              0.4444444444444444,
              "#bd3786"
             ],
             [
              0.5555555555555556,
              "#d8576b"
             ],
             [
              0.6666666666666666,
              "#ed7953"
             ],
             [
              0.7777777777777778,
              "#fb9f3a"
             ],
             [
              0.8888888888888888,
              "#fdca26"
             ],
             [
              1,
              "#f0f921"
             ]
            ],
            "type": "surface"
           }
          ],
          "table": [
           {
            "cells": {
             "fill": {
              "color": "#506784"
             },
             "line": {
              "color": "rgb(17,17,17)"
             }
            },
            "header": {
             "fill": {
              "color": "#2a3f5f"
             },
             "line": {
              "color": "rgb(17,17,17)"
             }
            },
            "type": "table"
           }
          ]
         },
         "layout": {
          "annotationdefaults": {
           "arrowcolor": "#f2f5fa",
           "arrowhead": 0,
           "arrowwidth": 1
          },
          "autotypenumbers": "strict",
          "coloraxis": {
           "colorbar": {
            "outlinewidth": 0,
            "ticks": ""
           }
          },
          "colorscale": {
           "diverging": [
            [
             0,
             "#8e0152"
            ],
            [
             0.1,
             "#c51b7d"
            ],
            [
             0.2,
             "#de77ae"
            ],
            [
             0.3,
             "#f1b6da"
            ],
            [
             0.4,
             "#fde0ef"
            ],
            [
             0.5,
             "#f7f7f7"
            ],
            [
             0.6,
             "#e6f5d0"
            ],
            [
             0.7,
             "#b8e186"
            ],
            [
             0.8,
             "#7fbc41"
            ],
            [
             0.9,
             "#4d9221"
            ],
            [
             1,
             "#276419"
            ]
           ],
           "sequential": [
            [
             0,
             "#0d0887"
            ],
            [
             0.1111111111111111,
             "#46039f"
            ],
            [
             0.2222222222222222,
             "#7201a8"
            ],
            [
             0.3333333333333333,
             "#9c179e"
            ],
            [
             0.4444444444444444,
             "#bd3786"
            ],
            [
             0.5555555555555556,
             "#d8576b"
            ],
            [
             0.6666666666666666,
             "#ed7953"
            ],
            [
             0.7777777777777778,
             "#fb9f3a"
            ],
            [
             0.8888888888888888,
             "#fdca26"
            ],
            [
             1,
             "#f0f921"
            ]
           ],
           "sequentialminus": [
            [
             0,
             "#0d0887"
            ],
            [
             0.1111111111111111,
             "#46039f"
            ],
            [
             0.2222222222222222,
             "#7201a8"
            ],
            [
             0.3333333333333333,
             "#9c179e"
            ],
            [
             0.4444444444444444,
             "#bd3786"
            ],
            [
             0.5555555555555556,
             "#d8576b"
            ],
            [
             0.6666666666666666,
             "#ed7953"
            ],
            [
             0.7777777777777778,
             "#fb9f3a"
            ],
            [
             0.8888888888888888,
             "#fdca26"
            ],
            [
             1,
             "#f0f921"
            ]
           ]
          },
          "colorway": [
           "#636efa",
           "#EF553B",
           "#00cc96",
           "#ab63fa",
           "#FFA15A",
           "#19d3f3",
           "#FF6692",
           "#B6E880",
           "#FF97FF",
           "#FECB52"
          ],
          "font": {
           "color": "#f2f5fa"
          },
          "geo": {
           "bgcolor": "rgb(17,17,17)",
           "lakecolor": "rgb(17,17,17)",
           "landcolor": "rgb(17,17,17)",
           "showlakes": true,
           "showland": true,
           "subunitcolor": "#506784"
          },
          "hoverlabel": {
           "align": "left"
          },
          "hovermode": "closest",
          "mapbox": {
           "style": "dark"
          },
          "paper_bgcolor": "rgb(17,17,17)",
          "plot_bgcolor": "rgb(17,17,17)",
          "polar": {
           "angularaxis": {
            "gridcolor": "#506784",
            "linecolor": "#506784",
            "ticks": ""
           },
           "bgcolor": "rgb(17,17,17)",
           "radialaxis": {
            "gridcolor": "#506784",
            "linecolor": "#506784",
            "ticks": ""
           }
          },
          "scene": {
           "xaxis": {
            "backgroundcolor": "rgb(17,17,17)",
            "gridcolor": "#506784",
            "gridwidth": 2,
            "linecolor": "#506784",
            "showbackground": true,
            "ticks": "",
            "zerolinecolor": "#C8D4E3"
           },
           "yaxis": {
            "backgroundcolor": "rgb(17,17,17)",
            "gridcolor": "#506784",
            "gridwidth": 2,
            "linecolor": "#506784",
            "showbackground": true,
            "ticks": "",
            "zerolinecolor": "#C8D4E3"
           },
           "zaxis": {
            "backgroundcolor": "rgb(17,17,17)",
            "gridcolor": "#506784",
            "gridwidth": 2,
            "linecolor": "#506784",
            "showbackground": true,
            "ticks": "",
            "zerolinecolor": "#C8D4E3"
           }
          },
          "shapedefaults": {
           "line": {
            "color": "#f2f5fa"
           }
          },
          "sliderdefaults": {
           "bgcolor": "#C8D4E3",
           "bordercolor": "rgb(17,17,17)",
           "borderwidth": 1,
           "tickwidth": 0
          },
          "ternary": {
           "aaxis": {
            "gridcolor": "#506784",
            "linecolor": "#506784",
            "ticks": ""
           },
           "baxis": {
            "gridcolor": "#506784",
            "linecolor": "#506784",
            "ticks": ""
           },
           "bgcolor": "rgb(17,17,17)",
           "caxis": {
            "gridcolor": "#506784",
            "linecolor": "#506784",
            "ticks": ""
           }
          },
          "title": {
           "x": 0.05
          },
          "updatemenudefaults": {
           "bgcolor": "#506784",
           "borderwidth": 0
          },
          "xaxis": {
           "automargin": true,
           "gridcolor": "#283442",
           "linecolor": "#506784",
           "ticks": "",
           "title": {
            "standoff": 15
           },
           "zerolinecolor": "#283442",
           "zerolinewidth": 2
          },
          "yaxis": {
           "automargin": true,
           "gridcolor": "#283442",
           "linecolor": "#506784",
           "ticks": "",
           "title": {
            "standoff": 15
           },
           "zerolinecolor": "#283442",
           "zerolinewidth": 2
          }
         }
        },
        "title": {
         "font": {
          "color": "white",
          "size": 18
         },
         "text": "Tracks Count by Year and Month According to Release Date",
         "x": 0.5,
         "xanchor": "center",
         "y": 0.95,
         "yanchor": "top"
        },
        "xaxis": {
         "anchor": "y",
         "domain": [
          0,
          1
         ],
         "gridcolor": "LightGray",
         "gridwidth": 1,
         "tickmode": "array",
         "tickvals": [
          1970,
          1980,
          1990,
          2000,
          2010,
          2020
         ],
         "title": {
          "text": "Year"
         }
        },
        "yaxis": {
         "anchor": "x",
         "domain": [
          0,
          1
         ],
         "title": {
          "text": "Months"
         }
        }
       }
      }
     },
     "metadata": {},
     "output_type": "display_data"
    }
   ],
   "source": [
    "df_tracks_heat_map = df_tracks.groupby([\"Months_Cat\", \"Year\"]).agg({\"Day\" : \"count\"}).reset_index().sort_values(by = \"Year\").rename(columns = {\"Months_Cat\" : \"Months\", \"Day\" : \"Tracks\"})\n",
    "\n",
    "Fig_4 = px.density_heatmap(df_tracks_heat_map, x = \"Year\", y = \"Months\", z = \"Tracks\", color_continuous_scale = \"Blues\", text_auto = True)\n",
    "Fig_4.update_xaxes(tickmode = 'array', tickvals = list(range(min(df_tracks_heat_map[\"Year\"]), max(df_tracks_heat_map[\"Year\"]) + 1, 10)), gridcolor = 'LightGray', gridwidth = 1)\n",
    "Fig_4.update_layout(plot_bgcolor = \"rgb(84,52,107)\", paper_bgcolor = \"rgb(84,52,107)\", height = 600,\n",
    "                     title = {'text' : \"Tracks Count by Year and Month According to Release Date\", \n",
    "                                 'x' : 0.5, 'xanchor' : 'center', 'y' : 0.95, 'yanchor' : 'top', 'font' : { 'size' : 18, 'color' : 'white'}})\n",
    "\n",
    "Fig_4.show()"
   ]
  },
  {
   "cell_type": "code",
   "execution_count": 10,
   "metadata": {},
   "outputs": [
    {
     "data": {
      "application/vnd.plotly.v1+json": {
       "config": {
        "plotlyServerURL": "https://plot.ly"
       },
       "data": [
        {
         "fillpattern": {
          "shape": ""
         },
         "hovertemplate": "Year=%{x}<br>Popularity=%{y}<extra></extra>",
         "legendgroup": "",
         "line": {
          "color": "white"
         },
         "marker": {
          "symbol": "circle"
         },
         "mode": "lines",
         "name": "",
         "orientation": "v",
         "showlegend": false,
         "stackgroup": "1",
         "type": "scatter",
         "x": [
          1970,
          1973,
          1974,
          1974,
          1975,
          1976,
          1976,
          1978,
          1979,
          1980,
          1980,
          1981,
          1981,
          1981,
          1981,
          1982,
          1982,
          1982,
          1983,
          1983,
          1983,
          1983,
          1984,
          1984,
          1984,
          1984,
          1984,
          1985,
          1985,
          1985,
          1985,
          1985,
          1985,
          1985,
          1986,
          1986,
          1986,
          1986,
          1986,
          1986,
          1987,
          1987,
          1987,
          1987,
          1987,
          1987,
          1987,
          1988,
          1988,
          1988,
          1988,
          1988,
          1989,
          1989,
          1989,
          1989,
          1990,
          1990,
          1990,
          1990,
          1991,
          1991,
          1991,
          1991,
          1991,
          1991,
          1992,
          1992,
          1992,
          1992,
          1992,
          1992,
          1992,
          1993,
          1993,
          1993,
          1993,
          1993,
          1993,
          1993,
          1993,
          1994,
          1994,
          1994,
          1994,
          1994,
          1994,
          1995,
          1995,
          1995,
          1995,
          1995,
          1995,
          1995,
          1996,
          1996,
          1996,
          1996,
          1996,
          1996,
          1996,
          1996,
          1996,
          1996,
          1996,
          1997,
          1997,
          1997,
          1997,
          1997,
          1997,
          1997,
          1997,
          1997,
          1997,
          1998,
          1998,
          1998,
          1998,
          1998,
          1998,
          1998,
          1998,
          1998,
          1998,
          1998,
          1998,
          1999,
          1999,
          1999,
          1999,
          1999,
          1999,
          1999,
          1999,
          1999,
          1999,
          1999,
          1999,
          1999,
          2000,
          2000,
          2000,
          2000,
          2000,
          2000,
          2000,
          2000,
          2000,
          2000,
          2000,
          2000,
          2000,
          2000,
          2000,
          2001,
          2001,
          2001,
          2001,
          2001,
          2001,
          2001,
          2001,
          2001,
          2001,
          2001,
          2001,
          2001,
          2001,
          2001,
          2002,
          2002,
          2002,
          2002,
          2002,
          2002,
          2002,
          2002,
          2002,
          2002,
          2002,
          2002,
          2003,
          2003,
          2003,
          2003,
          2003,
          2003,
          2003,
          2003,
          2003,
          2003,
          2003,
          2003,
          2003,
          2003,
          2003,
          2003,
          2003,
          2003,
          2004,
          2004,
          2004,
          2004,
          2004,
          2004,
          2004,
          2004,
          2004,
          2004,
          2004,
          2004,
          2004,
          2004,
          2004,
          2004,
          2004,
          2004,
          2004,
          2004,
          2005,
          2005,
          2005,
          2005,
          2005,
          2005,
          2005,
          2005,
          2005,
          2005,
          2005,
          2005,
          2005,
          2005,
          2005,
          2005,
          2005,
          2005,
          2005,
          2005,
          2005,
          2006,
          2006,
          2006,
          2006,
          2006,
          2006,
          2006,
          2006,
          2006,
          2006,
          2006,
          2006,
          2006,
          2006,
          2006,
          2006,
          2007,
          2007,
          2007,
          2007,
          2007,
          2007,
          2007,
          2007,
          2007,
          2007,
          2007,
          2007,
          2007,
          2007,
          2007,
          2007,
          2007,
          2007,
          2007,
          2008,
          2008,
          2008,
          2008,
          2008,
          2008,
          2008,
          2008,
          2008,
          2008,
          2008,
          2008,
          2008,
          2008,
          2008,
          2008,
          2008,
          2008,
          2008,
          2009,
          2009,
          2009,
          2009,
          2009,
          2009,
          2009,
          2009,
          2009,
          2009,
          2009,
          2009,
          2009,
          2009,
          2009,
          2009,
          2009,
          2009,
          2009,
          2009,
          2009,
          2010,
          2010,
          2010,
          2010,
          2010,
          2010,
          2010,
          2010,
          2010,
          2010,
          2010,
          2010,
          2010,
          2010,
          2010,
          2010,
          2010,
          2010,
          2010,
          2010,
          2010,
          2010,
          2011,
          2011,
          2011,
          2011,
          2011,
          2011,
          2011,
          2011,
          2011,
          2011,
          2011,
          2011,
          2011,
          2011,
          2011,
          2011,
          2011,
          2011,
          2011,
          2011,
          2011,
          2011,
          2011,
          2011,
          2011,
          2012,
          2012,
          2012,
          2012,
          2012,
          2012,
          2012,
          2012,
          2012,
          2012,
          2012,
          2012,
          2012,
          2012,
          2012,
          2012,
          2012,
          2012,
          2012,
          2012,
          2012,
          2012,
          2012,
          2012,
          2012,
          2013,
          2013,
          2013,
          2013,
          2013,
          2013,
          2013,
          2013,
          2013,
          2013,
          2013,
          2013,
          2013,
          2013,
          2013,
          2013,
          2013,
          2013,
          2013,
          2013,
          2013,
          2013,
          2013,
          2014,
          2014,
          2014,
          2014,
          2014,
          2014,
          2014,
          2014,
          2014,
          2014,
          2014,
          2014,
          2014,
          2014,
          2014,
          2014,
          2014,
          2014,
          2014,
          2014,
          2014,
          2014,
          2014,
          2014,
          2014,
          2014,
          2015,
          2015,
          2015,
          2015,
          2015,
          2015,
          2015,
          2015,
          2015,
          2015,
          2015,
          2015,
          2015,
          2015,
          2015,
          2015,
          2015,
          2015,
          2015,
          2015,
          2015,
          2015,
          2015,
          2015,
          2015,
          2015,
          2015,
          2016,
          2016,
          2016,
          2016,
          2016,
          2016,
          2016,
          2016,
          2016,
          2016,
          2016,
          2016,
          2016,
          2016,
          2016,
          2016,
          2016,
          2016,
          2016,
          2016,
          2016,
          2016,
          2016,
          2016,
          2016,
          2016,
          2016,
          2016,
          2017,
          2017,
          2017,
          2017,
          2017,
          2017,
          2017,
          2017,
          2017,
          2017,
          2017,
          2017,
          2017,
          2017,
          2017,
          2017,
          2017,
          2017,
          2017,
          2017,
          2017,
          2017,
          2017,
          2017,
          2017,
          2017,
          2017,
          2017,
          2018,
          2018,
          2018,
          2018,
          2018,
          2018,
          2018,
          2018,
          2018,
          2018,
          2018,
          2018,
          2018,
          2018,
          2018,
          2018,
          2018,
          2018,
          2018,
          2018,
          2018,
          2018,
          2018,
          2018,
          2018,
          2018,
          2018,
          2018,
          2019,
          2019,
          2019,
          2019,
          2019,
          2019,
          2019,
          2019,
          2019,
          2019,
          2019,
          2019,
          2019,
          2019,
          2019,
          2019,
          2019,
          2019,
          2019,
          2019,
          2019,
          2019,
          2019,
          2019,
          2019,
          2019,
          2019,
          2019,
          2020,
          2020,
          2020,
          2020,
          2020,
          2020,
          2020,
          2020,
          2020,
          2020,
          2020,
          2020,
          2020,
          2020,
          2020,
          2020,
          2020,
          2020,
          2020,
          2020,
          2020,
          2020,
          2020,
          2020,
          2020,
          2020,
          2020,
          2020,
          2021,
          2021,
          2021,
          2021,
          2021,
          2021,
          2021,
          2021,
          2021,
          2021,
          2021,
          2021,
          2021,
          2021,
          2021,
          2021,
          2021,
          2021,
          2021,
          2021,
          2021,
          2021,
          2021,
          2021,
          2021,
          2021,
          2021,
          2021,
          2022,
          2022,
          2022,
          2022,
          2022,
          2022,
          2022,
          2022,
          2022,
          2022,
          2022,
          2022,
          2022,
          2022,
          2022,
          2022,
          2022,
          2022,
          2022,
          2022,
          2022,
          2022,
          2022,
          2022,
          2022,
          2022,
          2022,
          2022,
          2023,
          2023,
          2023,
          2023,
          2023,
          2023,
          2023,
          2023,
          2023,
          2023,
          2023,
          2023,
          2023,
          2023,
          2023,
          2023,
          2023,
          2023,
          2023,
          2023,
          2023
         ],
         "xaxis": "x",
         "y": [
          42,
          61,
          42,
          57.5,
          59,
          53,
          56,
          71,
          53,
          41.30232558139535,
          53.8,
          33,
          54,
          58,
          58,
          36.142857142857146,
          44,
          51,
          36.42857142857143,
          38,
          55.6,
          59.5,
          37,
          42,
          43,
          55.75,
          60,
          26,
          35,
          49,
          52,
          53,
          55,
          55,
          29,
          46,
          51,
          55,
          58.333333333333336,
          58.333333333333336,
          37,
          41.1,
          42,
          47,
          52.5,
          55.5,
          59,
          36,
          40.5,
          51,
          55,
          59,
          43,
          43.5,
          45,
          60,
          35,
          37.5,
          54.5,
          62,
          24,
          37,
          41,
          61,
          61,
          61,
          34,
          40,
          57,
          59,
          59,
          60,
          65,
          33,
          37,
          53,
          57,
          58,
          58,
          61,
          61,
          22,
          33,
          53,
          56.5,
          59,
          60.5,
          32,
          48,
          57,
          57,
          59,
          61.166666666666664,
          62.5,
          34,
          35,
          40,
          44.5,
          53,
          53,
          53.75,
          55,
          58.666666666666664,
          59.5,
          61.4,
          23,
          24,
          37,
          39,
          52.6,
          54,
          60,
          61,
          62,
          62,
          29,
          29.11111111111111,
          31,
          38.58064516129032,
          39,
          53,
          57,
          58,
          59,
          59,
          60,
          62,
          19,
          28,
          30.5,
          41,
          45,
          50,
          53,
          54.2,
          58.5,
          62,
          64,
          65.5,
          65.5,
          21.333333333333332,
          28.2,
          30,
          32.5,
          36.666666666666664,
          46,
          52,
          56,
          58,
          58.666666666666664,
          59,
          59,
          62,
          66,
          67,
          34,
          36,
          36,
          38,
          42.55555555555556,
          44,
          51,
          52,
          54.5,
          54.833333333333336,
          56.4,
          57.75,
          59.25,
          65.5,
          65.5,
          22.666666666666668,
          33.714285714285715,
          35.6,
          36,
          44,
          48.57142857142857,
          55.25,
          56,
          56,
          57,
          61,
          61.5,
          20,
          21,
          22,
          33,
          41,
          43.5,
          49.5,
          51,
          56,
          56,
          56.75,
          57,
          57,
          57,
          57,
          60,
          64,
          65,
          13,
          24.8,
          27.75,
          28,
          30,
          34,
          38,
          42,
          52,
          53,
          56.333333333333336,
          57,
          57,
          58.4,
          59.77777777777778,
          60,
          61,
          61.5,
          63,
          65,
          22,
          27.333333333333332,
          27.333333333333332,
          30,
          34,
          43,
          44,
          45.5,
          49,
          49,
          50.857142857142854,
          52.5,
          52.5,
          53,
          55,
          55.333333333333336,
          56.5,
          59.333333333333336,
          60,
          61,
          62.666666666666664,
          24,
          39.5,
          41,
          41.75,
          41.875,
          45.5,
          46,
          49,
          51.333333333333336,
          55.5,
          56,
          59.833333333333336,
          60.333333333333336,
          60.44444444444444,
          61.6,
          63.5,
          17,
          24.285714285714285,
          25,
          32,
          37.333333333333336,
          37.5,
          38,
          38.285714285714285,
          40.333333333333336,
          48,
          53.2,
          55.75,
          56.666666666666664,
          60.4,
          61.666666666666664,
          63.666666666666664,
          64,
          64,
          67,
          18,
          21.666666666666668,
          31.8,
          32,
          39,
          40.25806451612903,
          41,
          45.42857142857143,
          51,
          53,
          53,
          56.75,
          59,
          59.4,
          61.4,
          64,
          65,
          66,
          68,
          29,
          33.357142857142854,
          37.5,
          41.44444444444444,
          42,
          42.333333333333336,
          42.6,
          46,
          48.75,
          51,
          52.5,
          55,
          55.5,
          56,
          56.666666666666664,
          57,
          59.5,
          60.5,
          63,
          64,
          64.66666666666667,
          19.333333333333332,
          20,
          37,
          38,
          40,
          42.8,
          44.333333333333336,
          47,
          48,
          48,
          49,
          49,
          52,
          52.666666666666664,
          53.857142857142854,
          55.5,
          57,
          60.5,
          60.5,
          61,
          66,
          67,
          30,
          33.857142857142854,
          35.5,
          36.75,
          37.2,
          39.083333333333336,
          44,
          46.666666666666664,
          48,
          48.4,
          48.666666666666664,
          52.5,
          53.22222222222222,
          53.25,
          54,
          55.4,
          56,
          56.666666666666664,
          57.333333333333336,
          58,
          60,
          62.666666666666664,
          64,
          66,
          66,
          23.142857142857142,
          25.75,
          36,
          39.125,
          39.333333333333336,
          42.111111111111114,
          42.166666666666664,
          42.333333333333336,
          43,
          46.3,
          51,
          51.333333333333336,
          51.333333333333336,
          52,
          53,
          53,
          56,
          57,
          58,
          59,
          59.333333333333336,
          62,
          62.5,
          65,
          69,
          28,
          28.75,
          36,
          37,
          39,
          40.25,
          42.8,
          43.75,
          44.42857142857143,
          45.8,
          48.5,
          48.6,
          50,
          51,
          52,
          54.4,
          58,
          59,
          60,
          60,
          62,
          62,
          68,
          26,
          31,
          33.214285714285715,
          33.84615384615385,
          36.875,
          38,
          39.57142857142857,
          39.666666666666664,
          39.916666666666664,
          43,
          44.714285714285715,
          46,
          49.75,
          51.4,
          53.5,
          54,
          55,
          55,
          56.5,
          58,
          62.5,
          63,
          64,
          64,
          64.75,
          75,
          25.615384615384617,
          29.444444444444443,
          29.5,
          37.25,
          39.23529411764706,
          39.357142857142854,
          40,
          47,
          48.166666666666664,
          48.5,
          49.333333333333336,
          52,
          52.22222222222222,
          52.75,
          53.45454545454545,
          55.125,
          56,
          57,
          57.75,
          58.5,
          61.75,
          62.5,
          63.25,
          64.57142857142857,
          64.66666666666667,
          64.8,
          66,
          21.875,
          29.25,
          31.333333333333332,
          31.375,
          36.333333333333336,
          37.22222222222222,
          38,
          39.733333333333334,
          43.57142857142857,
          44.53846153846154,
          48.166666666666664,
          50.333333333333336,
          52.07692307692308,
          54,
          54,
          54.05,
          54.875,
          55.25,
          56.72222222222222,
          56.84615384615385,
          57.6,
          58.6,
          60.2,
          62,
          65.4,
          65.85714285714286,
          69.91666666666667,
          70.14285714285714,
          28.428571428571427,
          29.875,
          31.444444444444443,
          32.13333333333333,
          36,
          38.42857142857143,
          40,
          40.15,
          45.833333333333336,
          48.53846153846154,
          49.666666666666664,
          51.333333333333336,
          52.27272727272727,
          52.5,
          53.041666666666664,
          53.2,
          54,
          54.5,
          55.25,
          55.4,
          56.46666666666667,
          60.72727272727273,
          61.5,
          64,
          65.22222222222223,
          66.66666666666667,
          67.25,
          67.5,
          25.285714285714285,
          26.347826086956523,
          28.66,
          28.95,
          38.30769230769231,
          38.57142857142857,
          39.27777777777778,
          40.44444444444444,
          45.578947368421055,
          49.04545454545455,
          50,
          51.3,
          52.23076923076923,
          52.46153846153846,
          52.55,
          52.95454545454545,
          54.375,
          54.857142857142854,
          55.714285714285715,
          56,
          56.857142857142854,
          57.411764705882355,
          58.333333333333336,
          64.78947368421052,
          66.15384615384616,
          66.3,
          67.18181818181819,
          70.77777777777777,
          28.166666666666668,
          30.25,
          30.6875,
          33.75,
          34.8,
          35.111111111111114,
          37.44444444444444,
          38.42857142857143,
          48.46153846153846,
          49.5,
          49.68,
          51.94736842105263,
          52,
          52.78947368421053,
          52.89655172413793,
          53.23529411764706,
          53.857142857142854,
          54.294117647058826,
          54.45454545454545,
          54.69230769230769,
          55.72727272727273,
          56.142857142857146,
          57.6,
          57.81818181818182,
          63.166666666666664,
          65.61538461538461,
          66.38461538461539,
          67.52941176470588,
          23.727272727272727,
          28.470588235294116,
          29.121951219512194,
          34.666666666666664,
          35.285714285714285,
          35.6,
          36,
          42.75,
          50.567567567567565,
          51.09090909090909,
          51.19444444444444,
          52.42307692307692,
          53.1764705882353,
          53.4054054054054,
          53.95238095238095,
          54.59183673469388,
          57.76190476190476,
          58.30769230769231,
          58.90909090909091,
          59.125,
          59.72222222222222,
          59.72727272727273,
          61.07692307692308,
          61.57142857142857,
          65.38095238095238,
          66.34615384615384,
          67.34615384615384,
          68.13157894736842,
          29.652173913043477,
          30.032258064516128,
          30.097560975609756,
          33.25,
          36,
          36.22222222222222,
          38.06666666666667,
          39.666666666666664,
          46.666666666666664,
          48.02127659574468,
          51.28,
          52.02439024390244,
          52.43181818181818,
          52.71875,
          52.72727272727273,
          53.28125,
          53.57575757575758,
          54.2972972972973,
          57.0625,
          57.21951219512195,
          57.733333333333334,
          58.65714285714286,
          60.41379310344828,
          62.276595744680854,
          65.46666666666667,
          67.65217391304348,
          67.8125,
          68.38235294117646,
          24.45,
          27.5,
          29.82857142857143,
          32.62162162162162,
          32.76470588235294,
          35.55555555555556,
          36.666666666666664,
          39.18518518518518,
          46.648648648648646,
          48.03333333333333,
          50,
          50.303030303030305,
          52.629629629629626,
          53.40625,
          54.1578947368421,
          54.25,
          55.22727272727273,
          56.75555555555555,
          58.46808510638298,
          58.983870967741936,
          59.24074074074074,
          59.30952380952381,
          59.35897435897436,
          59.42857142857143,
          68.42857142857143,
          68.56363636363636,
          69.77272727272727,
          70,
          25.537383177570092,
          27.055555555555557,
          34.61904761904762,
          37.54545454545455,
          38.50561797752809,
          38.58974358974359,
          39.888888888888886,
          43,
          48.89,
          49.11764705882353,
          49.714285714285715,
          52.853658536585364,
          53.51851851851852,
          54.42857142857143,
          55.34920634920635,
          58.56666666666667,
          58.793103448275865,
          61.76470588235294,
          65.95238095238095,
          72.02,
          72.42857142857143
         ],
         "yaxis": "y"
        },
        {
         "marker": {
          "color": "black"
         },
         "mode": "markers",
         "type": "scatter",
         "x": [
          1970,
          1973,
          1974,
          1974,
          1975,
          1976,
          1976,
          1978,
          1979,
          1980,
          1980,
          1981,
          1981,
          1981,
          1981,
          1982,
          1982,
          1982,
          1983,
          1983,
          1983,
          1983,
          1984,
          1984,
          1984,
          1984,
          1984,
          1985,
          1985,
          1985,
          1985,
          1985,
          1985,
          1985,
          1986,
          1986,
          1986,
          1986,
          1986,
          1986,
          1987,
          1987,
          1987,
          1987,
          1987,
          1987,
          1987,
          1988,
          1988,
          1988,
          1988,
          1988,
          1989,
          1989,
          1989,
          1989,
          1990,
          1990,
          1990,
          1990,
          1991,
          1991,
          1991,
          1991,
          1991,
          1991,
          1992,
          1992,
          1992,
          1992,
          1992,
          1992,
          1992,
          1993,
          1993,
          1993,
          1993,
          1993,
          1993,
          1993,
          1993,
          1994,
          1994,
          1994,
          1994,
          1994,
          1994,
          1995,
          1995,
          1995,
          1995,
          1995,
          1995,
          1995,
          1996,
          1996,
          1996,
          1996,
          1996,
          1996,
          1996,
          1996,
          1996,
          1996,
          1996,
          1997,
          1997,
          1997,
          1997,
          1997,
          1997,
          1997,
          1997,
          1997,
          1997,
          1998,
          1998,
          1998,
          1998,
          1998,
          1998,
          1998,
          1998,
          1998,
          1998,
          1998,
          1998,
          1999,
          1999,
          1999,
          1999,
          1999,
          1999,
          1999,
          1999,
          1999,
          1999,
          1999,
          1999,
          1999,
          2000,
          2000,
          2000,
          2000,
          2000,
          2000,
          2000,
          2000,
          2000,
          2000,
          2000,
          2000,
          2000,
          2000,
          2000,
          2001,
          2001,
          2001,
          2001,
          2001,
          2001,
          2001,
          2001,
          2001,
          2001,
          2001,
          2001,
          2001,
          2001,
          2001,
          2002,
          2002,
          2002,
          2002,
          2002,
          2002,
          2002,
          2002,
          2002,
          2002,
          2002,
          2002,
          2003,
          2003,
          2003,
          2003,
          2003,
          2003,
          2003,
          2003,
          2003,
          2003,
          2003,
          2003,
          2003,
          2003,
          2003,
          2003,
          2003,
          2003,
          2004,
          2004,
          2004,
          2004,
          2004,
          2004,
          2004,
          2004,
          2004,
          2004,
          2004,
          2004,
          2004,
          2004,
          2004,
          2004,
          2004,
          2004,
          2004,
          2004,
          2005,
          2005,
          2005,
          2005,
          2005,
          2005,
          2005,
          2005,
          2005,
          2005,
          2005,
          2005,
          2005,
          2005,
          2005,
          2005,
          2005,
          2005,
          2005,
          2005,
          2005,
          2006,
          2006,
          2006,
          2006,
          2006,
          2006,
          2006,
          2006,
          2006,
          2006,
          2006,
          2006,
          2006,
          2006,
          2006,
          2006,
          2007,
          2007,
          2007,
          2007,
          2007,
          2007,
          2007,
          2007,
          2007,
          2007,
          2007,
          2007,
          2007,
          2007,
          2007,
          2007,
          2007,
          2007,
          2007,
          2008,
          2008,
          2008,
          2008,
          2008,
          2008,
          2008,
          2008,
          2008,
          2008,
          2008,
          2008,
          2008,
          2008,
          2008,
          2008,
          2008,
          2008,
          2008,
          2009,
          2009,
          2009,
          2009,
          2009,
          2009,
          2009,
          2009,
          2009,
          2009,
          2009,
          2009,
          2009,
          2009,
          2009,
          2009,
          2009,
          2009,
          2009,
          2009,
          2009,
          2010,
          2010,
          2010,
          2010,
          2010,
          2010,
          2010,
          2010,
          2010,
          2010,
          2010,
          2010,
          2010,
          2010,
          2010,
          2010,
          2010,
          2010,
          2010,
          2010,
          2010,
          2010,
          2011,
          2011,
          2011,
          2011,
          2011,
          2011,
          2011,
          2011,
          2011,
          2011,
          2011,
          2011,
          2011,
          2011,
          2011,
          2011,
          2011,
          2011,
          2011,
          2011,
          2011,
          2011,
          2011,
          2011,
          2011,
          2012,
          2012,
          2012,
          2012,
          2012,
          2012,
          2012,
          2012,
          2012,
          2012,
          2012,
          2012,
          2012,
          2012,
          2012,
          2012,
          2012,
          2012,
          2012,
          2012,
          2012,
          2012,
          2012,
          2012,
          2012,
          2013,
          2013,
          2013,
          2013,
          2013,
          2013,
          2013,
          2013,
          2013,
          2013,
          2013,
          2013,
          2013,
          2013,
          2013,
          2013,
          2013,
          2013,
          2013,
          2013,
          2013,
          2013,
          2013,
          2014,
          2014,
          2014,
          2014,
          2014,
          2014,
          2014,
          2014,
          2014,
          2014,
          2014,
          2014,
          2014,
          2014,
          2014,
          2014,
          2014,
          2014,
          2014,
          2014,
          2014,
          2014,
          2014,
          2014,
          2014,
          2014,
          2015,
          2015,
          2015,
          2015,
          2015,
          2015,
          2015,
          2015,
          2015,
          2015,
          2015,
          2015,
          2015,
          2015,
          2015,
          2015,
          2015,
          2015,
          2015,
          2015,
          2015,
          2015,
          2015,
          2015,
          2015,
          2015,
          2015,
          2016,
          2016,
          2016,
          2016,
          2016,
          2016,
          2016,
          2016,
          2016,
          2016,
          2016,
          2016,
          2016,
          2016,
          2016,
          2016,
          2016,
          2016,
          2016,
          2016,
          2016,
          2016,
          2016,
          2016,
          2016,
          2016,
          2016,
          2016,
          2017,
          2017,
          2017,
          2017,
          2017,
          2017,
          2017,
          2017,
          2017,
          2017,
          2017,
          2017,
          2017,
          2017,
          2017,
          2017,
          2017,
          2017,
          2017,
          2017,
          2017,
          2017,
          2017,
          2017,
          2017,
          2017,
          2017,
          2017,
          2018,
          2018,
          2018,
          2018,
          2018,
          2018,
          2018,
          2018,
          2018,
          2018,
          2018,
          2018,
          2018,
          2018,
          2018,
          2018,
          2018,
          2018,
          2018,
          2018,
          2018,
          2018,
          2018,
          2018,
          2018,
          2018,
          2018,
          2018,
          2019,
          2019,
          2019,
          2019,
          2019,
          2019,
          2019,
          2019,
          2019,
          2019,
          2019,
          2019,
          2019,
          2019,
          2019,
          2019,
          2019,
          2019,
          2019,
          2019,
          2019,
          2019,
          2019,
          2019,
          2019,
          2019,
          2019,
          2019,
          2020,
          2020,
          2020,
          2020,
          2020,
          2020,
          2020,
          2020,
          2020,
          2020,
          2020,
          2020,
          2020,
          2020,
          2020,
          2020,
          2020,
          2020,
          2020,
          2020,
          2020,
          2020,
          2020,
          2020,
          2020,
          2020,
          2020,
          2020,
          2021,
          2021,
          2021,
          2021,
          2021,
          2021,
          2021,
          2021,
          2021,
          2021,
          2021,
          2021,
          2021,
          2021,
          2021,
          2021,
          2021,
          2021,
          2021,
          2021,
          2021,
          2021,
          2021,
          2021,
          2021,
          2021,
          2021,
          2021,
          2022,
          2022,
          2022,
          2022,
          2022,
          2022,
          2022,
          2022,
          2022,
          2022,
          2022,
          2022,
          2022,
          2022,
          2022,
          2022,
          2022,
          2022,
          2022,
          2022,
          2022,
          2022,
          2022,
          2022,
          2022,
          2022,
          2022,
          2022,
          2023,
          2023,
          2023,
          2023,
          2023,
          2023,
          2023,
          2023,
          2023,
          2023,
          2023,
          2023,
          2023,
          2023,
          2023,
          2023,
          2023,
          2023,
          2023,
          2023,
          2023
         ],
         "y": [
          42,
          61,
          42,
          57.5,
          59,
          53,
          56,
          71,
          53,
          41.30232558139535,
          53.8,
          33,
          54,
          58,
          58,
          36.142857142857146,
          44,
          51,
          36.42857142857143,
          38,
          55.6,
          59.5,
          37,
          42,
          43,
          55.75,
          60,
          26,
          35,
          49,
          52,
          53,
          55,
          55,
          29,
          46,
          51,
          55,
          58.333333333333336,
          58.333333333333336,
          37,
          41.1,
          42,
          47,
          52.5,
          55.5,
          59,
          36,
          40.5,
          51,
          55,
          59,
          43,
          43.5,
          45,
          60,
          35,
          37.5,
          54.5,
          62,
          24,
          37,
          41,
          61,
          61,
          61,
          34,
          40,
          57,
          59,
          59,
          60,
          65,
          33,
          37,
          53,
          57,
          58,
          58,
          61,
          61,
          22,
          33,
          53,
          56.5,
          59,
          60.5,
          32,
          48,
          57,
          57,
          59,
          61.166666666666664,
          62.5,
          34,
          35,
          40,
          44.5,
          53,
          53,
          53.75,
          55,
          58.666666666666664,
          59.5,
          61.4,
          23,
          24,
          37,
          39,
          52.6,
          54,
          60,
          61,
          62,
          62,
          29,
          29.11111111111111,
          31,
          38.58064516129032,
          39,
          53,
          57,
          58,
          59,
          59,
          60,
          62,
          19,
          28,
          30.5,
          41,
          45,
          50,
          53,
          54.2,
          58.5,
          62,
          64,
          65.5,
          65.5,
          21.333333333333332,
          28.2,
          30,
          32.5,
          36.666666666666664,
          46,
          52,
          56,
          58,
          58.666666666666664,
          59,
          59,
          62,
          66,
          67,
          34,
          36,
          36,
          38,
          42.55555555555556,
          44,
          51,
          52,
          54.5,
          54.833333333333336,
          56.4,
          57.75,
          59.25,
          65.5,
          65.5,
          22.666666666666668,
          33.714285714285715,
          35.6,
          36,
          44,
          48.57142857142857,
          55.25,
          56,
          56,
          57,
          61,
          61.5,
          20,
          21,
          22,
          33,
          41,
          43.5,
          49.5,
          51,
          56,
          56,
          56.75,
          57,
          57,
          57,
          57,
          60,
          64,
          65,
          13,
          24.8,
          27.75,
          28,
          30,
          34,
          38,
          42,
          52,
          53,
          56.333333333333336,
          57,
          57,
          58.4,
          59.77777777777778,
          60,
          61,
          61.5,
          63,
          65,
          22,
          27.333333333333332,
          27.333333333333332,
          30,
          34,
          43,
          44,
          45.5,
          49,
          49,
          50.857142857142854,
          52.5,
          52.5,
          53,
          55,
          55.333333333333336,
          56.5,
          59.333333333333336,
          60,
          61,
          62.666666666666664,
          24,
          39.5,
          41,
          41.75,
          41.875,
          45.5,
          46,
          49,
          51.333333333333336,
          55.5,
          56,
          59.833333333333336,
          60.333333333333336,
          60.44444444444444,
          61.6,
          63.5,
          17,
          24.285714285714285,
          25,
          32,
          37.333333333333336,
          37.5,
          38,
          38.285714285714285,
          40.333333333333336,
          48,
          53.2,
          55.75,
          56.666666666666664,
          60.4,
          61.666666666666664,
          63.666666666666664,
          64,
          64,
          67,
          18,
          21.666666666666668,
          31.8,
          32,
          39,
          40.25806451612903,
          41,
          45.42857142857143,
          51,
          53,
          53,
          56.75,
          59,
          59.4,
          61.4,
          64,
          65,
          66,
          68,
          29,
          33.357142857142854,
          37.5,
          41.44444444444444,
          42,
          42.333333333333336,
          42.6,
          46,
          48.75,
          51,
          52.5,
          55,
          55.5,
          56,
          56.666666666666664,
          57,
          59.5,
          60.5,
          63,
          64,
          64.66666666666667,
          19.333333333333332,
          20,
          37,
          38,
          40,
          42.8,
          44.333333333333336,
          47,
          48,
          48,
          49,
          49,
          52,
          52.666666666666664,
          53.857142857142854,
          55.5,
          57,
          60.5,
          60.5,
          61,
          66,
          67,
          30,
          33.857142857142854,
          35.5,
          36.75,
          37.2,
          39.083333333333336,
          44,
          46.666666666666664,
          48,
          48.4,
          48.666666666666664,
          52.5,
          53.22222222222222,
          53.25,
          54,
          55.4,
          56,
          56.666666666666664,
          57.333333333333336,
          58,
          60,
          62.666666666666664,
          64,
          66,
          66,
          23.142857142857142,
          25.75,
          36,
          39.125,
          39.333333333333336,
          42.111111111111114,
          42.166666666666664,
          42.333333333333336,
          43,
          46.3,
          51,
          51.333333333333336,
          51.333333333333336,
          52,
          53,
          53,
          56,
          57,
          58,
          59,
          59.333333333333336,
          62,
          62.5,
          65,
          69,
          28,
          28.75,
          36,
          37,
          39,
          40.25,
          42.8,
          43.75,
          44.42857142857143,
          45.8,
          48.5,
          48.6,
          50,
          51,
          52,
          54.4,
          58,
          59,
          60,
          60,
          62,
          62,
          68,
          26,
          31,
          33.214285714285715,
          33.84615384615385,
          36.875,
          38,
          39.57142857142857,
          39.666666666666664,
          39.916666666666664,
          43,
          44.714285714285715,
          46,
          49.75,
          51.4,
          53.5,
          54,
          55,
          55,
          56.5,
          58,
          62.5,
          63,
          64,
          64,
          64.75,
          75,
          25.615384615384617,
          29.444444444444443,
          29.5,
          37.25,
          39.23529411764706,
          39.357142857142854,
          40,
          47,
          48.166666666666664,
          48.5,
          49.333333333333336,
          52,
          52.22222222222222,
          52.75,
          53.45454545454545,
          55.125,
          56,
          57,
          57.75,
          58.5,
          61.75,
          62.5,
          63.25,
          64.57142857142857,
          64.66666666666667,
          64.8,
          66,
          21.875,
          29.25,
          31.333333333333332,
          31.375,
          36.333333333333336,
          37.22222222222222,
          38,
          39.733333333333334,
          43.57142857142857,
          44.53846153846154,
          48.166666666666664,
          50.333333333333336,
          52.07692307692308,
          54,
          54,
          54.05,
          54.875,
          55.25,
          56.72222222222222,
          56.84615384615385,
          57.6,
          58.6,
          60.2,
          62,
          65.4,
          65.85714285714286,
          69.91666666666667,
          70.14285714285714,
          28.428571428571427,
          29.875,
          31.444444444444443,
          32.13333333333333,
          36,
          38.42857142857143,
          40,
          40.15,
          45.833333333333336,
          48.53846153846154,
          49.666666666666664,
          51.333333333333336,
          52.27272727272727,
          52.5,
          53.041666666666664,
          53.2,
          54,
          54.5,
          55.25,
          55.4,
          56.46666666666667,
          60.72727272727273,
          61.5,
          64,
          65.22222222222223,
          66.66666666666667,
          67.25,
          67.5,
          25.285714285714285,
          26.347826086956523,
          28.66,
          28.95,
          38.30769230769231,
          38.57142857142857,
          39.27777777777778,
          40.44444444444444,
          45.578947368421055,
          49.04545454545455,
          50,
          51.3,
          52.23076923076923,
          52.46153846153846,
          52.55,
          52.95454545454545,
          54.375,
          54.857142857142854,
          55.714285714285715,
          56,
          56.857142857142854,
          57.411764705882355,
          58.333333333333336,
          64.78947368421052,
          66.15384615384616,
          66.3,
          67.18181818181819,
          70.77777777777777,
          28.166666666666668,
          30.25,
          30.6875,
          33.75,
          34.8,
          35.111111111111114,
          37.44444444444444,
          38.42857142857143,
          48.46153846153846,
          49.5,
          49.68,
          51.94736842105263,
          52,
          52.78947368421053,
          52.89655172413793,
          53.23529411764706,
          53.857142857142854,
          54.294117647058826,
          54.45454545454545,
          54.69230769230769,
          55.72727272727273,
          56.142857142857146,
          57.6,
          57.81818181818182,
          63.166666666666664,
          65.61538461538461,
          66.38461538461539,
          67.52941176470588,
          23.727272727272727,
          28.470588235294116,
          29.121951219512194,
          34.666666666666664,
          35.285714285714285,
          35.6,
          36,
          42.75,
          50.567567567567565,
          51.09090909090909,
          51.19444444444444,
          52.42307692307692,
          53.1764705882353,
          53.4054054054054,
          53.95238095238095,
          54.59183673469388,
          57.76190476190476,
          58.30769230769231,
          58.90909090909091,
          59.125,
          59.72222222222222,
          59.72727272727273,
          61.07692307692308,
          61.57142857142857,
          65.38095238095238,
          66.34615384615384,
          67.34615384615384,
          68.13157894736842,
          29.652173913043477,
          30.032258064516128,
          30.097560975609756,
          33.25,
          36,
          36.22222222222222,
          38.06666666666667,
          39.666666666666664,
          46.666666666666664,
          48.02127659574468,
          51.28,
          52.02439024390244,
          52.43181818181818,
          52.71875,
          52.72727272727273,
          53.28125,
          53.57575757575758,
          54.2972972972973,
          57.0625,
          57.21951219512195,
          57.733333333333334,
          58.65714285714286,
          60.41379310344828,
          62.276595744680854,
          65.46666666666667,
          67.65217391304348,
          67.8125,
          68.38235294117646,
          24.45,
          27.5,
          29.82857142857143,
          32.62162162162162,
          32.76470588235294,
          35.55555555555556,
          36.666666666666664,
          39.18518518518518,
          46.648648648648646,
          48.03333333333333,
          50,
          50.303030303030305,
          52.629629629629626,
          53.40625,
          54.1578947368421,
          54.25,
          55.22727272727273,
          56.75555555555555,
          58.46808510638298,
          58.983870967741936,
          59.24074074074074,
          59.30952380952381,
          59.35897435897436,
          59.42857142857143,
          68.42857142857143,
          68.56363636363636,
          69.77272727272727,
          70,
          25.537383177570092,
          27.055555555555557,
          34.61904761904762,
          37.54545454545455,
          38.50561797752809,
          38.58974358974359,
          39.888888888888886,
          43,
          48.89,
          49.11764705882353,
          49.714285714285715,
          52.853658536585364,
          53.51851851851852,
          54.42857142857143,
          55.34920634920635,
          58.56666666666667,
          58.793103448275865,
          61.76470588235294,
          65.95238095238095,
          72.02,
          72.42857142857143
         ]
        }
       ],
       "layout": {
        "height": 600,
        "hoverlabel": {
         "bgcolor": "white",
         "font": {
          "color": "black",
          "family": "Rockwell",
          "size": 16
         }
        },
        "hovermode": "x unified",
        "legend": {
         "tracegroupgap": 0,
         "x": 1,
         "y": 0.5
        },
        "margin": {
         "t": 60
        },
        "paper_bgcolor": "rgb(84,52,107)",
        "plot_bgcolor": "rgb(84,52,107)",
        "template": {
         "data": {
          "bar": [
           {
            "error_x": {
             "color": "#f2f5fa"
            },
            "error_y": {
             "color": "#f2f5fa"
            },
            "marker": {
             "line": {
              "color": "rgb(17,17,17)",
              "width": 0.5
             },
             "pattern": {
              "fillmode": "overlay",
              "size": 10,
              "solidity": 0.2
             }
            },
            "type": "bar"
           }
          ],
          "barpolar": [
           {
            "marker": {
             "line": {
              "color": "rgb(17,17,17)",
              "width": 0.5
             },
             "pattern": {
              "fillmode": "overlay",
              "size": 10,
              "solidity": 0.2
             }
            },
            "type": "barpolar"
           }
          ],
          "carpet": [
           {
            "aaxis": {
             "endlinecolor": "#A2B1C6",
             "gridcolor": "#506784",
             "linecolor": "#506784",
             "minorgridcolor": "#506784",
             "startlinecolor": "#A2B1C6"
            },
            "baxis": {
             "endlinecolor": "#A2B1C6",
             "gridcolor": "#506784",
             "linecolor": "#506784",
             "minorgridcolor": "#506784",
             "startlinecolor": "#A2B1C6"
            },
            "type": "carpet"
           }
          ],
          "choropleth": [
           {
            "colorbar": {
             "outlinewidth": 0,
             "ticks": ""
            },
            "type": "choropleth"
           }
          ],
          "contour": [
           {
            "colorbar": {
             "outlinewidth": 0,
             "ticks": ""
            },
            "colorscale": [
             [
              0,
              "#0d0887"
             ],
             [
              0.1111111111111111,
              "#46039f"
             ],
             [
              0.2222222222222222,
              "#7201a8"
             ],
             [
              0.3333333333333333,
              "#9c179e"
             ],
             [
              0.4444444444444444,
              "#bd3786"
             ],
             [
              0.5555555555555556,
              "#d8576b"
             ],
             [
              0.6666666666666666,
              "#ed7953"
             ],
             [
              0.7777777777777778,
              "#fb9f3a"
             ],
             [
              0.8888888888888888,
              "#fdca26"
             ],
             [
              1,
              "#f0f921"
             ]
            ],
            "type": "contour"
           }
          ],
          "contourcarpet": [
           {
            "colorbar": {
             "outlinewidth": 0,
             "ticks": ""
            },
            "type": "contourcarpet"
           }
          ],
          "heatmap": [
           {
            "colorbar": {
             "outlinewidth": 0,
             "ticks": ""
            },
            "colorscale": [
             [
              0,
              "#0d0887"
             ],
             [
              0.1111111111111111,
              "#46039f"
             ],
             [
              0.2222222222222222,
              "#7201a8"
             ],
             [
              0.3333333333333333,
              "#9c179e"
             ],
             [
              0.4444444444444444,
              "#bd3786"
             ],
             [
              0.5555555555555556,
              "#d8576b"
             ],
             [
              0.6666666666666666,
              "#ed7953"
             ],
             [
              0.7777777777777778,
              "#fb9f3a"
             ],
             [
              0.8888888888888888,
              "#fdca26"
             ],
             [
              1,
              "#f0f921"
             ]
            ],
            "type": "heatmap"
           }
          ],
          "heatmapgl": [
           {
            "colorbar": {
             "outlinewidth": 0,
             "ticks": ""
            },
            "colorscale": [
             [
              0,
              "#0d0887"
             ],
             [
              0.1111111111111111,
              "#46039f"
             ],
             [
              0.2222222222222222,
              "#7201a8"
             ],
             [
              0.3333333333333333,
              "#9c179e"
             ],
             [
              0.4444444444444444,
              "#bd3786"
             ],
             [
              0.5555555555555556,
              "#d8576b"
             ],
             [
              0.6666666666666666,
              "#ed7953"
             ],
             [
              0.7777777777777778,
              "#fb9f3a"
             ],
             [
              0.8888888888888888,
              "#fdca26"
             ],
             [
              1,
              "#f0f921"
             ]
            ],
            "type": "heatmapgl"
           }
          ],
          "histogram": [
           {
            "marker": {
             "pattern": {
              "fillmode": "overlay",
              "size": 10,
              "solidity": 0.2
             }
            },
            "type": "histogram"
           }
          ],
          "histogram2d": [
           {
            "colorbar": {
             "outlinewidth": 0,
             "ticks": ""
            },
            "colorscale": [
             [
              0,
              "#0d0887"
             ],
             [
              0.1111111111111111,
              "#46039f"
             ],
             [
              0.2222222222222222,
              "#7201a8"
             ],
             [
              0.3333333333333333,
              "#9c179e"
             ],
             [
              0.4444444444444444,
              "#bd3786"
             ],
             [
              0.5555555555555556,
              "#d8576b"
             ],
             [
              0.6666666666666666,
              "#ed7953"
             ],
             [
              0.7777777777777778,
              "#fb9f3a"
             ],
             [
              0.8888888888888888,
              "#fdca26"
             ],
             [
              1,
              "#f0f921"
             ]
            ],
            "type": "histogram2d"
           }
          ],
          "histogram2dcontour": [
           {
            "colorbar": {
             "outlinewidth": 0,
             "ticks": ""
            },
            "colorscale": [
             [
              0,
              "#0d0887"
             ],
             [
              0.1111111111111111,
              "#46039f"
             ],
             [
              0.2222222222222222,
              "#7201a8"
             ],
             [
              0.3333333333333333,
              "#9c179e"
             ],
             [
              0.4444444444444444,
              "#bd3786"
             ],
             [
              0.5555555555555556,
              "#d8576b"
             ],
             [
              0.6666666666666666,
              "#ed7953"
             ],
             [
              0.7777777777777778,
              "#fb9f3a"
             ],
             [
              0.8888888888888888,
              "#fdca26"
             ],
             [
              1,
              "#f0f921"
             ]
            ],
            "type": "histogram2dcontour"
           }
          ],
          "mesh3d": [
           {
            "colorbar": {
             "outlinewidth": 0,
             "ticks": ""
            },
            "type": "mesh3d"
           }
          ],
          "parcoords": [
           {
            "line": {
             "colorbar": {
              "outlinewidth": 0,
              "ticks": ""
             }
            },
            "type": "parcoords"
           }
          ],
          "pie": [
           {
            "automargin": true,
            "type": "pie"
           }
          ],
          "scatter": [
           {
            "marker": {
             "line": {
              "color": "#283442"
             }
            },
            "type": "scatter"
           }
          ],
          "scatter3d": [
           {
            "line": {
             "colorbar": {
              "outlinewidth": 0,
              "ticks": ""
             }
            },
            "marker": {
             "colorbar": {
              "outlinewidth": 0,
              "ticks": ""
             }
            },
            "type": "scatter3d"
           }
          ],
          "scattercarpet": [
           {
            "marker": {
             "colorbar": {
              "outlinewidth": 0,
              "ticks": ""
             }
            },
            "type": "scattercarpet"
           }
          ],
          "scattergeo": [
           {
            "marker": {
             "colorbar": {
              "outlinewidth": 0,
              "ticks": ""
             }
            },
            "type": "scattergeo"
           }
          ],
          "scattergl": [
           {
            "marker": {
             "line": {
              "color": "#283442"
             }
            },
            "type": "scattergl"
           }
          ],
          "scattermapbox": [
           {
            "marker": {
             "colorbar": {
              "outlinewidth": 0,
              "ticks": ""
             }
            },
            "type": "scattermapbox"
           }
          ],
          "scatterpolar": [
           {
            "marker": {
             "colorbar": {
              "outlinewidth": 0,
              "ticks": ""
             }
            },
            "type": "scatterpolar"
           }
          ],
          "scatterpolargl": [
           {
            "marker": {
             "colorbar": {
              "outlinewidth": 0,
              "ticks": ""
             }
            },
            "type": "scatterpolargl"
           }
          ],
          "scatterternary": [
           {
            "marker": {
             "colorbar": {
              "outlinewidth": 0,
              "ticks": ""
             }
            },
            "type": "scatterternary"
           }
          ],
          "surface": [
           {
            "colorbar": {
             "outlinewidth": 0,
             "ticks": ""
            },
            "colorscale": [
             [
              0,
              "#0d0887"
             ],
             [
              0.1111111111111111,
              "#46039f"
             ],
             [
              0.2222222222222222,
              "#7201a8"
             ],
             [
              0.3333333333333333,
              "#9c179e"
             ],
             [
              0.4444444444444444,
              "#bd3786"
             ],
             [
              0.5555555555555556,
              "#d8576b"
             ],
             [
              0.6666666666666666,
              "#ed7953"
             ],
             [
              0.7777777777777778,
              "#fb9f3a"
             ],
             [
              0.8888888888888888,
              "#fdca26"
             ],
             [
              1,
              "#f0f921"
             ]
            ],
            "type": "surface"
           }
          ],
          "table": [
           {
            "cells": {
             "fill": {
              "color": "#506784"
             },
             "line": {
              "color": "rgb(17,17,17)"
             }
            },
            "header": {
             "fill": {
              "color": "#2a3f5f"
             },
             "line": {
              "color": "rgb(17,17,17)"
             }
            },
            "type": "table"
           }
          ]
         },
         "layout": {
          "annotationdefaults": {
           "arrowcolor": "#f2f5fa",
           "arrowhead": 0,
           "arrowwidth": 1
          },
          "autotypenumbers": "strict",
          "coloraxis": {
           "colorbar": {
            "outlinewidth": 0,
            "ticks": ""
           }
          },
          "colorscale": {
           "diverging": [
            [
             0,
             "#8e0152"
            ],
            [
             0.1,
             "#c51b7d"
            ],
            [
             0.2,
             "#de77ae"
            ],
            [
             0.3,
             "#f1b6da"
            ],
            [
             0.4,
             "#fde0ef"
            ],
            [
             0.5,
             "#f7f7f7"
            ],
            [
             0.6,
             "#e6f5d0"
            ],
            [
             0.7,
             "#b8e186"
            ],
            [
             0.8,
             "#7fbc41"
            ],
            [
             0.9,
             "#4d9221"
            ],
            [
             1,
             "#276419"
            ]
           ],
           "sequential": [
            [
             0,
             "#0d0887"
            ],
            [
             0.1111111111111111,
             "#46039f"
            ],
            [
             0.2222222222222222,
             "#7201a8"
            ],
            [
             0.3333333333333333,
             "#9c179e"
            ],
            [
             0.4444444444444444,
             "#bd3786"
            ],
            [
             0.5555555555555556,
             "#d8576b"
            ],
            [
             0.6666666666666666,
             "#ed7953"
            ],
            [
             0.7777777777777778,
             "#fb9f3a"
            ],
            [
             0.8888888888888888,
             "#fdca26"
            ],
            [
             1,
             "#f0f921"
            ]
           ],
           "sequentialminus": [
            [
             0,
             "#0d0887"
            ],
            [
             0.1111111111111111,
             "#46039f"
            ],
            [
             0.2222222222222222,
             "#7201a8"
            ],
            [
             0.3333333333333333,
             "#9c179e"
            ],
            [
             0.4444444444444444,
             "#bd3786"
            ],
            [
             0.5555555555555556,
             "#d8576b"
            ],
            [
             0.6666666666666666,
             "#ed7953"
            ],
            [
             0.7777777777777778,
             "#fb9f3a"
            ],
            [
             0.8888888888888888,
             "#fdca26"
            ],
            [
             1,
             "#f0f921"
            ]
           ]
          },
          "colorway": [
           "#636efa",
           "#EF553B",
           "#00cc96",
           "#ab63fa",
           "#FFA15A",
           "#19d3f3",
           "#FF6692",
           "#B6E880",
           "#FF97FF",
           "#FECB52"
          ],
          "font": {
           "color": "#f2f5fa"
          },
          "geo": {
           "bgcolor": "rgb(17,17,17)",
           "lakecolor": "rgb(17,17,17)",
           "landcolor": "rgb(17,17,17)",
           "showlakes": true,
           "showland": true,
           "subunitcolor": "#506784"
          },
          "hoverlabel": {
           "align": "left"
          },
          "hovermode": "closest",
          "mapbox": {
           "style": "dark"
          },
          "paper_bgcolor": "rgb(17,17,17)",
          "plot_bgcolor": "rgb(17,17,17)",
          "polar": {
           "angularaxis": {
            "gridcolor": "#506784",
            "linecolor": "#506784",
            "ticks": ""
           },
           "bgcolor": "rgb(17,17,17)",
           "radialaxis": {
            "gridcolor": "#506784",
            "linecolor": "#506784",
            "ticks": ""
           }
          },
          "scene": {
           "xaxis": {
            "backgroundcolor": "rgb(17,17,17)",
            "gridcolor": "#506784",
            "gridwidth": 2,
            "linecolor": "#506784",
            "showbackground": true,
            "ticks": "",
            "zerolinecolor": "#C8D4E3"
           },
           "yaxis": {
            "backgroundcolor": "rgb(17,17,17)",
            "gridcolor": "#506784",
            "gridwidth": 2,
            "linecolor": "#506784",
            "showbackground": true,
            "ticks": "",
            "zerolinecolor": "#C8D4E3"
           },
           "zaxis": {
            "backgroundcolor": "rgb(17,17,17)",
            "gridcolor": "#506784",
            "gridwidth": 2,
            "linecolor": "#506784",
            "showbackground": true,
            "ticks": "",
            "zerolinecolor": "#C8D4E3"
           }
          },
          "shapedefaults": {
           "line": {
            "color": "#f2f5fa"
           }
          },
          "sliderdefaults": {
           "bgcolor": "#C8D4E3",
           "bordercolor": "rgb(17,17,17)",
           "borderwidth": 1,
           "tickwidth": 0
          },
          "ternary": {
           "aaxis": {
            "gridcolor": "#506784",
            "linecolor": "#506784",
            "ticks": ""
           },
           "baxis": {
            "gridcolor": "#506784",
            "linecolor": "#506784",
            "ticks": ""
           },
           "bgcolor": "rgb(17,17,17)",
           "caxis": {
            "gridcolor": "#506784",
            "linecolor": "#506784",
            "ticks": ""
           }
          },
          "title": {
           "x": 0.05
          },
          "updatemenudefaults": {
           "bgcolor": "#506784",
           "borderwidth": 0
          },
          "xaxis": {
           "automargin": true,
           "gridcolor": "#283442",
           "linecolor": "#506784",
           "ticks": "",
           "title": {
            "standoff": 15
           },
           "zerolinecolor": "#283442",
           "zerolinewidth": 2
          },
          "yaxis": {
           "automargin": true,
           "gridcolor": "#283442",
           "linecolor": "#506784",
           "ticks": "",
           "title": {
            "standoff": 15
           },
           "zerolinecolor": "#283442",
           "zerolinewidth": 2
          }
         }
        },
        "title": {
         "font": {
          "color": "white",
          "size": 18
         },
         "text": "Average popularity of the top 100 songs according to their release dates",
         "x": 0.5,
         "xanchor": "center",
         "y": 0.95,
         "yanchor": "top"
        },
        "xaxis": {
         "anchor": "y",
         "autorange": false,
         "domain": [
          0,
          1
         ],
         "gridcolor": "white",
         "range": [
          1970,
          2023
         ],
         "title": {
          "text": "Year"
         }
        },
        "yaxis": {
         "anchor": "x",
         "autorange": false,
         "domain": [
          0,
          1
         ],
         "gridcolor": "white",
         "range": [
          13,
          85
         ],
         "title": {
          "text": "Popularity"
         }
        }
       }
      }
     },
     "metadata": {},
     "output_type": "display_data"
    }
   ],
   "source": [
    "df_tracks_mean = df_tracks.groupby([\"Year\", \"Season\", \"Query_Genre\"]).agg({\"Popularity\" : \"mean\"}).reset_index().sort_values(by = [\"Year\", \"Popularity\"])\n",
    "bins = [1900, 1990, 2000, 2010, 2023]\n",
    "labels = [\"1970 - 1990\", \"1990 - 2000\", \"2000 - 2010\", \"2010 - 2023\"]\n",
    "df_tracks_mean[\"Years_Cat\"] = pd.cut(df_tracks_mean[\"Year\"], labels = labels, bins = bins)\n",
    "df_tracks_mean2 = df_tracks_mean.groupby([\"Years_Cat\", \"Query_Genre\"]).agg({\"Popularity\" : \"mean\"}).reset_index()\n",
    "df_tracks_mean2[\"Popularity\"].fillna(0, inplace = True)\n",
    "df_tracks_mean2[\"Average_Popularity of Years Category\"] = df_tracks_mean2[\"Popularity\"]\n",
    "df_tracks_mean2 = df_tracks_mean2[[\"Average_Popularity of Years Category\", \"Years_Cat\", \"Query_Genre\"]]\n",
    "df_tracks_mean = pd.merge(df_tracks_mean, df_tracks_mean2, how = \"left\", on = [\"Years_Cat\", \"Query_Genre\"])\n",
    "\n",
    "\n",
    "Fig_5 = px.area(df_tracks_mean, x = \"Year\", y = \"Popularity\", color_discrete_sequence = ['white'])\n",
    "\n",
    "scatter = go.Scatter(x = df_tracks_mean[\"Year\"], y = df_tracks_mean[\"Popularity\"], mode = 'markers', marker_color = 'black')\n",
    "Fig_5.add_trace(scatter)\n",
    "\n",
    "Fig_5.update_layout(plot_bgcolor = \"rgb(84,52,107)\", paper_bgcolor = \"rgb(84,52,107)\", height = 600, hovermode = \"x unified\", \n",
    "    hoverlabel = dict(bgcolor = \"white\",  font_size = 16, font_family = \"Rockwell\", font_color = \"black\"),\n",
    "    legend = dict(x = 1, y = 0.5),\n",
    "    title = {\"text\" : \"Average popularity of the top 100 songs according to their release dates\", 'x' : 0.5, 'xanchor' : 'center', 'y' : 0.95, 'yanchor' : 'top', 'font' : { 'size' : 18, 'color' : 'white'}}) \n",
    "\n",
    "Fig_5.update_yaxes(gridcolor = \"white\", autorange = False, range = [df_tracks_mean[\"Popularity\"].min(), df_tracks_mean[\"Popularity\"].max() + 10])\n",
    "Fig_5.update_xaxes(gridcolor = \"white\", autorange = False, range = [df_tracks_mean[\"Year\"].min(), df_tracks_mean[\"Year\"].max()])\n",
    "\n",
    "Fig_5.show()"
   ]
  },
  {
   "cell_type": "code",
   "execution_count": 11,
   "metadata": {},
   "outputs": [
    {
     "data": {
      "application/vnd.plotly.v1+json": {
       "config": {
        "plotlyServerURL": "https://plot.ly"
       },
       "data": [
        {
         "hovertemplate": "Followers=%{x}<br>Artist Name=%{y}<extra></extra>",
         "legendgroup": "",
         "marker": {
          "color": "white"
         },
         "name": "",
         "orientation": "h",
         "showlegend": false,
         "type": "funnel",
         "x": [
          67507448,
          43385244,
          18278225,
          15407840,
          14088149,
          11990935,
          11891488,
          10500657,
          10076850,
          9731900
         ],
         "xaxis": "x",
         "y": [
          "BTS",
          "BLACKPINK",
          "TWICE",
          "j-hope",
          "V",
          "Stray Kids",
          "YOASOBI",
          "RADWIMPS",
          "ONE OK ROCK",
          "SEVENTEEN"
         ],
         "yaxis": "y"
        }
       ],
       "layout": {
        "height": 600,
        "hoverlabel": {
         "bgcolor": "white",
         "font": {
          "color": "black",
          "family": "Rockwell",
          "size": 16
         }
        },
        "hovermode": "y unified",
        "legend": {
         "tracegroupgap": 0,
         "x": 1,
         "y": 0.5
        },
        "margin": {
         "t": 60
        },
        "paper_bgcolor": "rgb(84,52,107)",
        "plot_bgcolor": "rgb(84,52,107)",
        "template": {
         "data": {
          "bar": [
           {
            "error_x": {
             "color": "#f2f5fa"
            },
            "error_y": {
             "color": "#f2f5fa"
            },
            "marker": {
             "line": {
              "color": "rgb(17,17,17)",
              "width": 0.5
             },
             "pattern": {
              "fillmode": "overlay",
              "size": 10,
              "solidity": 0.2
             }
            },
            "type": "bar"
           }
          ],
          "barpolar": [
           {
            "marker": {
             "line": {
              "color": "rgb(17,17,17)",
              "width": 0.5
             },
             "pattern": {
              "fillmode": "overlay",
              "size": 10,
              "solidity": 0.2
             }
            },
            "type": "barpolar"
           }
          ],
          "carpet": [
           {
            "aaxis": {
             "endlinecolor": "#A2B1C6",
             "gridcolor": "#506784",
             "linecolor": "#506784",
             "minorgridcolor": "#506784",
             "startlinecolor": "#A2B1C6"
            },
            "baxis": {
             "endlinecolor": "#A2B1C6",
             "gridcolor": "#506784",
             "linecolor": "#506784",
             "minorgridcolor": "#506784",
             "startlinecolor": "#A2B1C6"
            },
            "type": "carpet"
           }
          ],
          "choropleth": [
           {
            "colorbar": {
             "outlinewidth": 0,
             "ticks": ""
            },
            "type": "choropleth"
           }
          ],
          "contour": [
           {
            "colorbar": {
             "outlinewidth": 0,
             "ticks": ""
            },
            "colorscale": [
             [
              0,
              "#0d0887"
             ],
             [
              0.1111111111111111,
              "#46039f"
             ],
             [
              0.2222222222222222,
              "#7201a8"
             ],
             [
              0.3333333333333333,
              "#9c179e"
             ],
             [
              0.4444444444444444,
              "#bd3786"
             ],
             [
              0.5555555555555556,
              "#d8576b"
             ],
             [
              0.6666666666666666,
              "#ed7953"
             ],
             [
              0.7777777777777778,
              "#fb9f3a"
             ],
             [
              0.8888888888888888,
              "#fdca26"
             ],
             [
              1,
              "#f0f921"
             ]
            ],
            "type": "contour"
           }
          ],
          "contourcarpet": [
           {
            "colorbar": {
             "outlinewidth": 0,
             "ticks": ""
            },
            "type": "contourcarpet"
           }
          ],
          "heatmap": [
           {
            "colorbar": {
             "outlinewidth": 0,
             "ticks": ""
            },
            "colorscale": [
             [
              0,
              "#0d0887"
             ],
             [
              0.1111111111111111,
              "#46039f"
             ],
             [
              0.2222222222222222,
              "#7201a8"
             ],
             [
              0.3333333333333333,
              "#9c179e"
             ],
             [
              0.4444444444444444,
              "#bd3786"
             ],
             [
              0.5555555555555556,
              "#d8576b"
             ],
             [
              0.6666666666666666,
              "#ed7953"
             ],
             [
              0.7777777777777778,
              "#fb9f3a"
             ],
             [
              0.8888888888888888,
              "#fdca26"
             ],
             [
              1,
              "#f0f921"
             ]
            ],
            "type": "heatmap"
           }
          ],
          "heatmapgl": [
           {
            "colorbar": {
             "outlinewidth": 0,
             "ticks": ""
            },
            "colorscale": [
             [
              0,
              "#0d0887"
             ],
             [
              0.1111111111111111,
              "#46039f"
             ],
             [
              0.2222222222222222,
              "#7201a8"
             ],
             [
              0.3333333333333333,
              "#9c179e"
             ],
             [
              0.4444444444444444,
              "#bd3786"
             ],
             [
              0.5555555555555556,
              "#d8576b"
             ],
             [
              0.6666666666666666,
              "#ed7953"
             ],
             [
              0.7777777777777778,
              "#fb9f3a"
             ],
             [
              0.8888888888888888,
              "#fdca26"
             ],
             [
              1,
              "#f0f921"
             ]
            ],
            "type": "heatmapgl"
           }
          ],
          "histogram": [
           {
            "marker": {
             "pattern": {
              "fillmode": "overlay",
              "size": 10,
              "solidity": 0.2
             }
            },
            "type": "histogram"
           }
          ],
          "histogram2d": [
           {
            "colorbar": {
             "outlinewidth": 0,
             "ticks": ""
            },
            "colorscale": [
             [
              0,
              "#0d0887"
             ],
             [
              0.1111111111111111,
              "#46039f"
             ],
             [
              0.2222222222222222,
              "#7201a8"
             ],
             [
              0.3333333333333333,
              "#9c179e"
             ],
             [
              0.4444444444444444,
              "#bd3786"
             ],
             [
              0.5555555555555556,
              "#d8576b"
             ],
             [
              0.6666666666666666,
              "#ed7953"
             ],
             [
              0.7777777777777778,
              "#fb9f3a"
             ],
             [
              0.8888888888888888,
              "#fdca26"
             ],
             [
              1,
              "#f0f921"
             ]
            ],
            "type": "histogram2d"
           }
          ],
          "histogram2dcontour": [
           {
            "colorbar": {
             "outlinewidth": 0,
             "ticks": ""
            },
            "colorscale": [
             [
              0,
              "#0d0887"
             ],
             [
              0.1111111111111111,
              "#46039f"
             ],
             [
              0.2222222222222222,
              "#7201a8"
             ],
             [
              0.3333333333333333,
              "#9c179e"
             ],
             [
              0.4444444444444444,
              "#bd3786"
             ],
             [
              0.5555555555555556,
              "#d8576b"
             ],
             [
              0.6666666666666666,
              "#ed7953"
             ],
             [
              0.7777777777777778,
              "#fb9f3a"
             ],
             [
              0.8888888888888888,
              "#fdca26"
             ],
             [
              1,
              "#f0f921"
             ]
            ],
            "type": "histogram2dcontour"
           }
          ],
          "mesh3d": [
           {
            "colorbar": {
             "outlinewidth": 0,
             "ticks": ""
            },
            "type": "mesh3d"
           }
          ],
          "parcoords": [
           {
            "line": {
             "colorbar": {
              "outlinewidth": 0,
              "ticks": ""
             }
            },
            "type": "parcoords"
           }
          ],
          "pie": [
           {
            "automargin": true,
            "type": "pie"
           }
          ],
          "scatter": [
           {
            "marker": {
             "line": {
              "color": "#283442"
             }
            },
            "type": "scatter"
           }
          ],
          "scatter3d": [
           {
            "line": {
             "colorbar": {
              "outlinewidth": 0,
              "ticks": ""
             }
            },
            "marker": {
             "colorbar": {
              "outlinewidth": 0,
              "ticks": ""
             }
            },
            "type": "scatter3d"
           }
          ],
          "scattercarpet": [
           {
            "marker": {
             "colorbar": {
              "outlinewidth": 0,
              "ticks": ""
             }
            },
            "type": "scattercarpet"
           }
          ],
          "scattergeo": [
           {
            "marker": {
             "colorbar": {
              "outlinewidth": 0,
              "ticks": ""
             }
            },
            "type": "scattergeo"
           }
          ],
          "scattergl": [
           {
            "marker": {
             "line": {
              "color": "#283442"
             }
            },
            "type": "scattergl"
           }
          ],
          "scattermapbox": [
           {
            "marker": {
             "colorbar": {
              "outlinewidth": 0,
              "ticks": ""
             }
            },
            "type": "scattermapbox"
           }
          ],
          "scatterpolar": [
           {
            "marker": {
             "colorbar": {
              "outlinewidth": 0,
              "ticks": ""
             }
            },
            "type": "scatterpolar"
           }
          ],
          "scatterpolargl": [
           {
            "marker": {
             "colorbar": {
              "outlinewidth": 0,
              "ticks": ""
             }
            },
            "type": "scatterpolargl"
           }
          ],
          "scatterternary": [
           {
            "marker": {
             "colorbar": {
              "outlinewidth": 0,
              "ticks": ""
             }
            },
            "type": "scatterternary"
           }
          ],
          "surface": [
           {
            "colorbar": {
             "outlinewidth": 0,
             "ticks": ""
            },
            "colorscale": [
             [
              0,
              "#0d0887"
             ],
             [
              0.1111111111111111,
              "#46039f"
             ],
             [
              0.2222222222222222,
              "#7201a8"
             ],
             [
              0.3333333333333333,
              "#9c179e"
             ],
             [
              0.4444444444444444,
              "#bd3786"
             ],
             [
              0.5555555555555556,
              "#d8576b"
             ],
             [
              0.6666666666666666,
              "#ed7953"
             ],
             [
              0.7777777777777778,
              "#fb9f3a"
             ],
             [
              0.8888888888888888,
              "#fdca26"
             ],
             [
              1,
              "#f0f921"
             ]
            ],
            "type": "surface"
           }
          ],
          "table": [
           {
            "cells": {
             "fill": {
              "color": "#506784"
             },
             "line": {
              "color": "rgb(17,17,17)"
             }
            },
            "header": {
             "fill": {
              "color": "#2a3f5f"
             },
             "line": {
              "color": "rgb(17,17,17)"
             }
            },
            "type": "table"
           }
          ]
         },
         "layout": {
          "annotationdefaults": {
           "arrowcolor": "#f2f5fa",
           "arrowhead": 0,
           "arrowwidth": 1
          },
          "autotypenumbers": "strict",
          "coloraxis": {
           "colorbar": {
            "outlinewidth": 0,
            "ticks": ""
           }
          },
          "colorscale": {
           "diverging": [
            [
             0,
             "#8e0152"
            ],
            [
             0.1,
             "#c51b7d"
            ],
            [
             0.2,
             "#de77ae"
            ],
            [
             0.3,
             "#f1b6da"
            ],
            [
             0.4,
             "#fde0ef"
            ],
            [
             0.5,
             "#f7f7f7"
            ],
            [
             0.6,
             "#e6f5d0"
            ],
            [
             0.7,
             "#b8e186"
            ],
            [
             0.8,
             "#7fbc41"
            ],
            [
             0.9,
             "#4d9221"
            ],
            [
             1,
             "#276419"
            ]
           ],
           "sequential": [
            [
             0,
             "#0d0887"
            ],
            [
             0.1111111111111111,
             "#46039f"
            ],
            [
             0.2222222222222222,
             "#7201a8"
            ],
            [
             0.3333333333333333,
             "#9c179e"
            ],
            [
             0.4444444444444444,
             "#bd3786"
            ],
            [
             0.5555555555555556,
             "#d8576b"
            ],
            [
             0.6666666666666666,
             "#ed7953"
            ],
            [
             0.7777777777777778,
             "#fb9f3a"
            ],
            [
             0.8888888888888888,
             "#fdca26"
            ],
            [
             1,
             "#f0f921"
            ]
           ],
           "sequentialminus": [
            [
             0,
             "#0d0887"
            ],
            [
             0.1111111111111111,
             "#46039f"
            ],
            [
             0.2222222222222222,
             "#7201a8"
            ],
            [
             0.3333333333333333,
             "#9c179e"
            ],
            [
             0.4444444444444444,
             "#bd3786"
            ],
            [
             0.5555555555555556,
             "#d8576b"
            ],
            [
             0.6666666666666666,
             "#ed7953"
            ],
            [
             0.7777777777777778,
             "#fb9f3a"
            ],
            [
             0.8888888888888888,
             "#fdca26"
            ],
            [
             1,
             "#f0f921"
            ]
           ]
          },
          "colorway": [
           "#636efa",
           "#EF553B",
           "#00cc96",
           "#ab63fa",
           "#FFA15A",
           "#19d3f3",
           "#FF6692",
           "#B6E880",
           "#FF97FF",
           "#FECB52"
          ],
          "font": {
           "color": "#f2f5fa"
          },
          "geo": {
           "bgcolor": "rgb(17,17,17)",
           "lakecolor": "rgb(17,17,17)",
           "landcolor": "rgb(17,17,17)",
           "showlakes": true,
           "showland": true,
           "subunitcolor": "#506784"
          },
          "hoverlabel": {
           "align": "left"
          },
          "hovermode": "closest",
          "mapbox": {
           "style": "dark"
          },
          "paper_bgcolor": "rgb(17,17,17)",
          "plot_bgcolor": "rgb(17,17,17)",
          "polar": {
           "angularaxis": {
            "gridcolor": "#506784",
            "linecolor": "#506784",
            "ticks": ""
           },
           "bgcolor": "rgb(17,17,17)",
           "radialaxis": {
            "gridcolor": "#506784",
            "linecolor": "#506784",
            "ticks": ""
           }
          },
          "scene": {
           "xaxis": {
            "backgroundcolor": "rgb(17,17,17)",
            "gridcolor": "#506784",
            "gridwidth": 2,
            "linecolor": "#506784",
            "showbackground": true,
            "ticks": "",
            "zerolinecolor": "#C8D4E3"
           },
           "yaxis": {
            "backgroundcolor": "rgb(17,17,17)",
            "gridcolor": "#506784",
            "gridwidth": 2,
            "linecolor": "#506784",
            "showbackground": true,
            "ticks": "",
            "zerolinecolor": "#C8D4E3"
           },
           "zaxis": {
            "backgroundcolor": "rgb(17,17,17)",
            "gridcolor": "#506784",
            "gridwidth": 2,
            "linecolor": "#506784",
            "showbackground": true,
            "ticks": "",
            "zerolinecolor": "#C8D4E3"
           }
          },
          "shapedefaults": {
           "line": {
            "color": "#f2f5fa"
           }
          },
          "sliderdefaults": {
           "bgcolor": "#C8D4E3",
           "bordercolor": "rgb(17,17,17)",
           "borderwidth": 1,
           "tickwidth": 0
          },
          "ternary": {
           "aaxis": {
            "gridcolor": "#506784",
            "linecolor": "#506784",
            "ticks": ""
           },
           "baxis": {
            "gridcolor": "#506784",
            "linecolor": "#506784",
            "ticks": ""
           },
           "bgcolor": "rgb(17,17,17)",
           "caxis": {
            "gridcolor": "#506784",
            "linecolor": "#506784",
            "ticks": ""
           }
          },
          "title": {
           "x": 0.05
          },
          "updatemenudefaults": {
           "bgcolor": "#506784",
           "borderwidth": 0
          },
          "xaxis": {
           "automargin": true,
           "gridcolor": "#283442",
           "linecolor": "#506784",
           "ticks": "",
           "title": {
            "standoff": 15
           },
           "zerolinecolor": "#283442",
           "zerolinewidth": 2
          },
          "yaxis": {
           "automargin": true,
           "gridcolor": "#283442",
           "linecolor": "#506784",
           "ticks": "",
           "title": {
            "standoff": 15
           },
           "zerolinecolor": "#283442",
           "zerolinewidth": 2
          }
         }
        },
        "title": {
         "font": {
          "color": "white",
          "size": 18
         },
         "text": "Elite Artists : The Top 10 Groups by Followers",
         "x": 0.5,
         "xanchor": "center",
         "y": 0.95,
         "yanchor": "top"
        },
        "xaxis": {
         "anchor": "y",
         "domain": [
          0,
          1
         ],
         "title": {
          "text": "Followers"
         }
        },
        "yaxis": {
         "anchor": "x",
         "domain": [
          0,
          1
         ],
         "gridcolor": "white",
         "title": {
          "text": "Artist Name"
         }
        }
       }
      }
     },
     "metadata": {},
     "output_type": "display_data"
    }
   ],
   "source": [
    "df_artist_top_10 = df_artist.groupby([\"Artist_Name\"]).agg({\"Followers\" : \"sum\"}).reset_index().sort_values(by = \"Followers\", ascending = False).rename(columns = {\"Artist_Name\" : \"Artist Name\"})\n",
    "df_artist_top_10 = df_artist_top_10.head(10)\n",
    "Fig_6 = px.funnel(df_artist_top_10, x = \"Followers\", y = \"Artist Name\", color_discrete_sequence = ['white'])\n",
    "Fig_6.update_layout(plot_bgcolor = \"rgb(84,52,107)\", paper_bgcolor = \"rgb(84,52,107)\", height = 600, hovermode = \"y unified\", \n",
    "    hoverlabel = dict(bgcolor = \"white\",  font_size = 16, font_family = \"Rockwell\", font_color = \"black\"),\n",
    "    legend = dict(x = 1, y = 0.5),\n",
    "    title = {\"text\" : \"Elite Artists : The Top 10 Groups by Followers\", 'x' : 0.5, 'xanchor' : 'center', 'y' : 0.95, 'yanchor' : 'top', 'font' : { 'size' : 18, 'color' : 'white'}})\n",
    "Fig_6.update_yaxes(gridcolor = \"white\")\n",
    "\n",
    "Fig_6.show()"
   ]
  },
  {
   "cell_type": "code",
   "execution_count": 12,
   "metadata": {},
   "outputs": [
    {
     "data": {
      "application/vnd.plotly.v1+json": {
       "config": {
        "plotlyServerURL": "https://plot.ly"
       },
       "data": [
        {
         "hole": 0.3,
         "hoverinfo": "none",
         "hovertemplate": "Query Genre : %{label}<br>Popularity Mean : %{value}",
         "labels": [
          "chinese",
          "j-dance",
          "j-idol",
          "j-pop",
          "japanese",
          "k-pop",
          "korean"
         ],
         "marker": {
          "colors": [
           "#440154",
           "#443983",
           "#31688e",
           "#21918c",
           "#35b779",
           "#90d743",
           "#fde725"
          ],
          "line": {
           "color": "white",
           "width": 2
          }
         },
         "textfont": {
          "size": 20
         },
         "textinfo": "value",
         "type": "pie",
         "values": [
          47.537,
          30.276,
          38.06306306306306,
          57.38,
          57.589,
          58.771,
          53.536
         ]
        }
       ],
       "layout": {
        "annotations": [
         {
          "font": {
           "size": 16
          },
          "showarrow": false,
          "text": "Query Genre",
          "x": 0.5,
          "y": 0.5
         }
        ],
        "font": {
         "color": "white",
         "size": 18
        },
        "height": 600,
        "legend": {
         "font": {
          "color": "white",
          "size": 10
         },
         "x": 0.95,
         "xanchor": "left",
         "y": 0.97,
         "yanchor": "top"
        },
        "paper_bgcolor": "rgb(84,52,107)",
        "plot_bgcolor": "rgb(84,52,107)",
        "template": {
         "data": {
          "bar": [
           {
            "error_x": {
             "color": "#f2f5fa"
            },
            "error_y": {
             "color": "#f2f5fa"
            },
            "marker": {
             "line": {
              "color": "rgb(17,17,17)",
              "width": 0.5
             },
             "pattern": {
              "fillmode": "overlay",
              "size": 10,
              "solidity": 0.2
             }
            },
            "type": "bar"
           }
          ],
          "barpolar": [
           {
            "marker": {
             "line": {
              "color": "rgb(17,17,17)",
              "width": 0.5
             },
             "pattern": {
              "fillmode": "overlay",
              "size": 10,
              "solidity": 0.2
             }
            },
            "type": "barpolar"
           }
          ],
          "carpet": [
           {
            "aaxis": {
             "endlinecolor": "#A2B1C6",
             "gridcolor": "#506784",
             "linecolor": "#506784",
             "minorgridcolor": "#506784",
             "startlinecolor": "#A2B1C6"
            },
            "baxis": {
             "endlinecolor": "#A2B1C6",
             "gridcolor": "#506784",
             "linecolor": "#506784",
             "minorgridcolor": "#506784",
             "startlinecolor": "#A2B1C6"
            },
            "type": "carpet"
           }
          ],
          "choropleth": [
           {
            "colorbar": {
             "outlinewidth": 0,
             "ticks": ""
            },
            "type": "choropleth"
           }
          ],
          "contour": [
           {
            "colorbar": {
             "outlinewidth": 0,
             "ticks": ""
            },
            "colorscale": [
             [
              0,
              "#0d0887"
             ],
             [
              0.1111111111111111,
              "#46039f"
             ],
             [
              0.2222222222222222,
              "#7201a8"
             ],
             [
              0.3333333333333333,
              "#9c179e"
             ],
             [
              0.4444444444444444,
              "#bd3786"
             ],
             [
              0.5555555555555556,
              "#d8576b"
             ],
             [
              0.6666666666666666,
              "#ed7953"
             ],
             [
              0.7777777777777778,
              "#fb9f3a"
             ],
             [
              0.8888888888888888,
              "#fdca26"
             ],
             [
              1,
              "#f0f921"
             ]
            ],
            "type": "contour"
           }
          ],
          "contourcarpet": [
           {
            "colorbar": {
             "outlinewidth": 0,
             "ticks": ""
            },
            "type": "contourcarpet"
           }
          ],
          "heatmap": [
           {
            "colorbar": {
             "outlinewidth": 0,
             "ticks": ""
            },
            "colorscale": [
             [
              0,
              "#0d0887"
             ],
             [
              0.1111111111111111,
              "#46039f"
             ],
             [
              0.2222222222222222,
              "#7201a8"
             ],
             [
              0.3333333333333333,
              "#9c179e"
             ],
             [
              0.4444444444444444,
              "#bd3786"
             ],
             [
              0.5555555555555556,
              "#d8576b"
             ],
             [
              0.6666666666666666,
              "#ed7953"
             ],
             [
              0.7777777777777778,
              "#fb9f3a"
             ],
             [
              0.8888888888888888,
              "#fdca26"
             ],
             [
              1,
              "#f0f921"
             ]
            ],
            "type": "heatmap"
           }
          ],
          "heatmapgl": [
           {
            "colorbar": {
             "outlinewidth": 0,
             "ticks": ""
            },
            "colorscale": [
             [
              0,
              "#0d0887"
             ],
             [
              0.1111111111111111,
              "#46039f"
             ],
             [
              0.2222222222222222,
              "#7201a8"
             ],
             [
              0.3333333333333333,
              "#9c179e"
             ],
             [
              0.4444444444444444,
              "#bd3786"
             ],
             [
              0.5555555555555556,
              "#d8576b"
             ],
             [
              0.6666666666666666,
              "#ed7953"
             ],
             [
              0.7777777777777778,
              "#fb9f3a"
             ],
             [
              0.8888888888888888,
              "#fdca26"
             ],
             [
              1,
              "#f0f921"
             ]
            ],
            "type": "heatmapgl"
           }
          ],
          "histogram": [
           {
            "marker": {
             "pattern": {
              "fillmode": "overlay",
              "size": 10,
              "solidity": 0.2
             }
            },
            "type": "histogram"
           }
          ],
          "histogram2d": [
           {
            "colorbar": {
             "outlinewidth": 0,
             "ticks": ""
            },
            "colorscale": [
             [
              0,
              "#0d0887"
             ],
             [
              0.1111111111111111,
              "#46039f"
             ],
             [
              0.2222222222222222,
              "#7201a8"
             ],
             [
              0.3333333333333333,
              "#9c179e"
             ],
             [
              0.4444444444444444,
              "#bd3786"
             ],
             [
              0.5555555555555556,
              "#d8576b"
             ],
             [
              0.6666666666666666,
              "#ed7953"
             ],
             [
              0.7777777777777778,
              "#fb9f3a"
             ],
             [
              0.8888888888888888,
              "#fdca26"
             ],
             [
              1,
              "#f0f921"
             ]
            ],
            "type": "histogram2d"
           }
          ],
          "histogram2dcontour": [
           {
            "colorbar": {
             "outlinewidth": 0,
             "ticks": ""
            },
            "colorscale": [
             [
              0,
              "#0d0887"
             ],
             [
              0.1111111111111111,
              "#46039f"
             ],
             [
              0.2222222222222222,
              "#7201a8"
             ],
             [
              0.3333333333333333,
              "#9c179e"
             ],
             [
              0.4444444444444444,
              "#bd3786"
             ],
             [
              0.5555555555555556,
              "#d8576b"
             ],
             [
              0.6666666666666666,
              "#ed7953"
             ],
             [
              0.7777777777777778,
              "#fb9f3a"
             ],
             [
              0.8888888888888888,
              "#fdca26"
             ],
             [
              1,
              "#f0f921"
             ]
            ],
            "type": "histogram2dcontour"
           }
          ],
          "mesh3d": [
           {
            "colorbar": {
             "outlinewidth": 0,
             "ticks": ""
            },
            "type": "mesh3d"
           }
          ],
          "parcoords": [
           {
            "line": {
             "colorbar": {
              "outlinewidth": 0,
              "ticks": ""
             }
            },
            "type": "parcoords"
           }
          ],
          "pie": [
           {
            "automargin": true,
            "type": "pie"
           }
          ],
          "scatter": [
           {
            "marker": {
             "line": {
              "color": "#283442"
             }
            },
            "type": "scatter"
           }
          ],
          "scatter3d": [
           {
            "line": {
             "colorbar": {
              "outlinewidth": 0,
              "ticks": ""
             }
            },
            "marker": {
             "colorbar": {
              "outlinewidth": 0,
              "ticks": ""
             }
            },
            "type": "scatter3d"
           }
          ],
          "scattercarpet": [
           {
            "marker": {
             "colorbar": {
              "outlinewidth": 0,
              "ticks": ""
             }
            },
            "type": "scattercarpet"
           }
          ],
          "scattergeo": [
           {
            "marker": {
             "colorbar": {
              "outlinewidth": 0,
              "ticks": ""
             }
            },
            "type": "scattergeo"
           }
          ],
          "scattergl": [
           {
            "marker": {
             "line": {
              "color": "#283442"
             }
            },
            "type": "scattergl"
           }
          ],
          "scattermapbox": [
           {
            "marker": {
             "colorbar": {
              "outlinewidth": 0,
              "ticks": ""
             }
            },
            "type": "scattermapbox"
           }
          ],
          "scatterpolar": [
           {
            "marker": {
             "colorbar": {
              "outlinewidth": 0,
              "ticks": ""
             }
            },
            "type": "scatterpolar"
           }
          ],
          "scatterpolargl": [
           {
            "marker": {
             "colorbar": {
              "outlinewidth": 0,
              "ticks": ""
             }
            },
            "type": "scatterpolargl"
           }
          ],
          "scatterternary": [
           {
            "marker": {
             "colorbar": {
              "outlinewidth": 0,
              "ticks": ""
             }
            },
            "type": "scatterternary"
           }
          ],
          "surface": [
           {
            "colorbar": {
             "outlinewidth": 0,
             "ticks": ""
            },
            "colorscale": [
             [
              0,
              "#0d0887"
             ],
             [
              0.1111111111111111,
              "#46039f"
             ],
             [
              0.2222222222222222,
              "#7201a8"
             ],
             [
              0.3333333333333333,
              "#9c179e"
             ],
             [
              0.4444444444444444,
              "#bd3786"
             ],
             [
              0.5555555555555556,
              "#d8576b"
             ],
             [
              0.6666666666666666,
              "#ed7953"
             ],
             [
              0.7777777777777778,
              "#fb9f3a"
             ],
             [
              0.8888888888888888,
              "#fdca26"
             ],
             [
              1,
              "#f0f921"
             ]
            ],
            "type": "surface"
           }
          ],
          "table": [
           {
            "cells": {
             "fill": {
              "color": "#506784"
             },
             "line": {
              "color": "rgb(17,17,17)"
             }
            },
            "header": {
             "fill": {
              "color": "#2a3f5f"
             },
             "line": {
              "color": "rgb(17,17,17)"
             }
            },
            "type": "table"
           }
          ]
         },
         "layout": {
          "annotationdefaults": {
           "arrowcolor": "#f2f5fa",
           "arrowhead": 0,
           "arrowwidth": 1
          },
          "autotypenumbers": "strict",
          "coloraxis": {
           "colorbar": {
            "outlinewidth": 0,
            "ticks": ""
           }
          },
          "colorscale": {
           "diverging": [
            [
             0,
             "#8e0152"
            ],
            [
             0.1,
             "#c51b7d"
            ],
            [
             0.2,
             "#de77ae"
            ],
            [
             0.3,
             "#f1b6da"
            ],
            [
             0.4,
             "#fde0ef"
            ],
            [
             0.5,
             "#f7f7f7"
            ],
            [
             0.6,
             "#e6f5d0"
            ],
            [
             0.7,
             "#b8e186"
            ],
            [
             0.8,
             "#7fbc41"
            ],
            [
             0.9,
             "#4d9221"
            ],
            [
             1,
             "#276419"
            ]
           ],
           "sequential": [
            [
             0,
             "#0d0887"
            ],
            [
             0.1111111111111111,
             "#46039f"
            ],
            [
             0.2222222222222222,
             "#7201a8"
            ],
            [
             0.3333333333333333,
             "#9c179e"
            ],
            [
             0.4444444444444444,
             "#bd3786"
            ],
            [
             0.5555555555555556,
             "#d8576b"
            ],
            [
             0.6666666666666666,
             "#ed7953"
            ],
            [
             0.7777777777777778,
             "#fb9f3a"
            ],
            [
             0.8888888888888888,
             "#fdca26"
            ],
            [
             1,
             "#f0f921"
            ]
           ],
           "sequentialminus": [
            [
             0,
             "#0d0887"
            ],
            [
             0.1111111111111111,
             "#46039f"
            ],
            [
             0.2222222222222222,
             "#7201a8"
            ],
            [
             0.3333333333333333,
             "#9c179e"
            ],
            [
             0.4444444444444444,
             "#bd3786"
            ],
            [
             0.5555555555555556,
             "#d8576b"
            ],
            [
             0.6666666666666666,
             "#ed7953"
            ],
            [
             0.7777777777777778,
             "#fb9f3a"
            ],
            [
             0.8888888888888888,
             "#fdca26"
            ],
            [
             1,
             "#f0f921"
            ]
           ]
          },
          "colorway": [
           "#636efa",
           "#EF553B",
           "#00cc96",
           "#ab63fa",
           "#FFA15A",
           "#19d3f3",
           "#FF6692",
           "#B6E880",
           "#FF97FF",
           "#FECB52"
          ],
          "font": {
           "color": "#f2f5fa"
          },
          "geo": {
           "bgcolor": "rgb(17,17,17)",
           "lakecolor": "rgb(17,17,17)",
           "landcolor": "rgb(17,17,17)",
           "showlakes": true,
           "showland": true,
           "subunitcolor": "#506784"
          },
          "hoverlabel": {
           "align": "left"
          },
          "hovermode": "closest",
          "mapbox": {
           "style": "dark"
          },
          "paper_bgcolor": "rgb(17,17,17)",
          "plot_bgcolor": "rgb(17,17,17)",
          "polar": {
           "angularaxis": {
            "gridcolor": "#506784",
            "linecolor": "#506784",
            "ticks": ""
           },
           "bgcolor": "rgb(17,17,17)",
           "radialaxis": {
            "gridcolor": "#506784",
            "linecolor": "#506784",
            "ticks": ""
           }
          },
          "scene": {
           "xaxis": {
            "backgroundcolor": "rgb(17,17,17)",
            "gridcolor": "#506784",
            "gridwidth": 2,
            "linecolor": "#506784",
            "showbackground": true,
            "ticks": "",
            "zerolinecolor": "#C8D4E3"
           },
           "yaxis": {
            "backgroundcolor": "rgb(17,17,17)",
            "gridcolor": "#506784",
            "gridwidth": 2,
            "linecolor": "#506784",
            "showbackground": true,
            "ticks": "",
            "zerolinecolor": "#C8D4E3"
           },
           "zaxis": {
            "backgroundcolor": "rgb(17,17,17)",
            "gridcolor": "#506784",
            "gridwidth": 2,
            "linecolor": "#506784",
            "showbackground": true,
            "ticks": "",
            "zerolinecolor": "#C8D4E3"
           }
          },
          "shapedefaults": {
           "line": {
            "color": "#f2f5fa"
           }
          },
          "sliderdefaults": {
           "bgcolor": "#C8D4E3",
           "bordercolor": "rgb(17,17,17)",
           "borderwidth": 1,
           "tickwidth": 0
          },
          "ternary": {
           "aaxis": {
            "gridcolor": "#506784",
            "linecolor": "#506784",
            "ticks": ""
           },
           "baxis": {
            "gridcolor": "#506784",
            "linecolor": "#506784",
            "ticks": ""
           },
           "bgcolor": "rgb(17,17,17)",
           "caxis": {
            "gridcolor": "#506784",
            "linecolor": "#506784",
            "ticks": ""
           }
          },
          "title": {
           "x": 0.05
          },
          "updatemenudefaults": {
           "bgcolor": "#506784",
           "borderwidth": 0
          },
          "xaxis": {
           "automargin": true,
           "gridcolor": "#283442",
           "linecolor": "#506784",
           "ticks": "",
           "title": {
            "standoff": 15
           },
           "zerolinecolor": "#283442",
           "zerolinewidth": 2
          },
          "yaxis": {
           "automargin": true,
           "gridcolor": "#283442",
           "linecolor": "#506784",
           "ticks": "",
           "title": {
            "standoff": 15
           },
           "zerolinecolor": "#283442",
           "zerolinewidth": 2
          }
         }
        },
        "title": {
         "font": {
          "color": "white",
          "size": 24
         },
         "text": "Average Popularity by Query Genre",
         "x": 0.5
        }
       }
      }
     },
     "metadata": {},
     "output_type": "display_data"
    }
   ],
   "source": [
    "df_artist_popularity_global_mean = df_tracks.groupby([\"Query_Genre\"]).agg({\"Popularity\" : \"mean\"}).reset_index().rename(columns = {\"Popularity\" : \"Popularity Mean\", \"Query_Genre\" : \"Query Genre\"})\n",
    "\n",
    "colors = plt.cm.viridis(np.linspace(0, 1, len(df_artist_popularity_global_mean[\"Query Genre\"])))\n",
    "colors_hex = [mcolors.to_hex(c) for c in colors]\n",
    "\n",
    "Fig_7 = go.Figure(data = [go.Pie(labels = df_artist_popularity_global_mean[\"Query Genre\"],\n",
    "                                 values = df_artist_popularity_global_mean[\"Popularity Mean\"],\n",
    "                                 hole = 0.3,\n",
    "                                 hoverinfo = \"none\",\n",
    "                                 hovertemplate = 'Query Genre : %{label}<br>Popularity Mean : %{value}',\n",
    "                                 textinfo = \"value\",\n",
    "                                 textfont = dict(size = 20),\n",
    "                                 marker = dict(colors = colors_hex))])\n",
    "\n",
    "Fig_7.update_layout(\n",
    "    font = dict(color = 'white', size = 18),\n",
    "    height = 600,\n",
    "    title_text = \"Average Popularity by Query Genre\",\n",
    "    title_x = 0.5,\n",
    "    title_font = dict(size = 24, color = 'white'),\n",
    "    legend = dict(\n",
    "    yanchor = \"top\",\n",
    "    y = 0.97,\n",
    "    xanchor = \"left\",\n",
    "    x = 0.95,\n",
    "    font = dict(color = 'white', size = 10)),\n",
    "    annotations = [dict(text = 'Query Genre', x = 0.50, y = 0.5, font_size = 16, showarrow = False)],\n",
    "    plot_bgcolor = \"rgb(84,52,107)\", paper_bgcolor = \"rgb(84,52,107)\")\n",
    "\n",
    "Fig_7.update_traces(marker = {'line': {'color': 'white', 'width': 2}})\n",
    "\n",
    "Fig_7.show()"
   ]
  },
  {
   "cell_type": "code",
   "execution_count": 13,
   "metadata": {},
   "outputs": [
    {
     "data": {
      "application/vnd.plotly.v1+json": {
       "config": {
        "plotlyServerURL": "https://plot.ly"
       },
       "data": [
        {
         "alignmentgroup": "True",
         "customdata": [
          [
           "Jimin"
          ],
          [
           "TWICE"
          ],
          [
           "SEVENTEEN"
          ],
          [
           "(G)I-DLE"
          ],
          [
           "ENHYPEN"
          ]
         ],
         "hovertemplate": "Season=Spring<br>Popularity=%{x}<br>Artist_Name=%{customdata[0]}<extra></extra>",
         "legendgroup": "Spring",
         "marker": {
          "color": "#636efa",
          "pattern": {
           "shape": ""
          }
         },
         "name": "Spring",
         "offsetgroup": "Spring",
         "orientation": "h",
         "showlegend": true,
         "textposition": "auto",
         "type": "bar",
         "x": [
          83,
          79,
          78,
          76,
          76
         ],
         "xaxis": "x",
         "y": [
          "Jimin",
          "TWICE",
          "SEVENTE",
          "(G)I-DL",
          "ENHYPEN"
         ],
         "yaxis": "y"
        },
        {
         "alignmentgroup": "True",
         "customdata": [
          [
           "Jung Kook"
          ],
          [
           "Stray Kids"
          ],
          [
           "NewJeans"
          ],
          [
           "TOMORROW X TOGETHER"
          ],
          [
           "EXO"
          ]
         ],
         "hovertemplate": "Season=Summer<br>Popularity=%{x}<br>Artist_Name=%{customdata[0]}<extra></extra>",
         "legendgroup": "Summer",
         "marker": {
          "color": "#EF553B",
          "pattern": {
           "shape": ""
          }
         },
         "name": "Summer",
         "offsetgroup": "Summer",
         "orientation": "h",
         "showlegend": true,
         "textposition": "auto",
         "type": "bar",
         "x": [
          84,
          82,
          80,
          76,
          75
         ],
         "xaxis": "x",
         "y": [
          "Jung Ko",
          "Stray K",
          "NewJean",
          "TOMORRO",
          "EXO"
         ],
         "yaxis": "y"
        },
        {
         "alignmentgroup": "True",
         "customdata": [
          [
           "BTS"
          ],
          [
           "BLACKPINK"
          ],
          [
           "LISA"
          ],
          [
           "Kenshi Yonezu"
          ],
          [
           "RADWIMPS"
          ]
         ],
         "hovertemplate": "Season=Autumn<br>Popularity=%{x}<br>Artist_Name=%{customdata[0]}<extra></extra>",
         "legendgroup": "Autumn",
         "marker": {
          "color": "#00cc96",
          "pattern": {
           "shape": ""
          }
         },
         "name": "Autumn",
         "offsetgroup": "Autumn",
         "orientation": "h",
         "showlegend": true,
         "textposition": "auto",
         "type": "bar",
         "x": [
          88,
          82,
          77,
          71,
          70
         ],
         "xaxis": "x",
         "y": [
          "BTS",
          "BLACKPI",
          "LISA",
          "Kenshi ",
          "RADWIMP"
         ],
         "yaxis": "y"
        },
        {
         "alignmentgroup": "True",
         "customdata": [
          [
           "FIFTY FIFTY"
          ],
          [
           "Red Velvet"
          ],
          [
           "back number"
          ],
          [
           "Yuuri"
          ],
          [
           "Joe Hisaishi"
          ]
         ],
         "hovertemplate": "Season=Winter<br>Popularity=%{x}<br>Artist_Name=%{customdata[0]}<extra></extra>",
         "legendgroup": "Winter",
         "marker": {
          "color": "#ab63fa",
          "pattern": {
           "shape": ""
          }
         },
         "name": "Winter",
         "offsetgroup": "Winter",
         "orientation": "h",
         "showlegend": true,
         "textposition": "auto",
         "type": "bar",
         "x": [
          77,
          69,
          69,
          68,
          67
         ],
         "xaxis": "x",
         "y": [
          "FIFTY F",
          "Red Vel",
          "back nu",
          "Yuuri",
          "Joe His"
         ],
         "yaxis": "y"
        },
        {
         "alignmentgroup": "True",
         "customdata": [
          [
           "アイドル"
          ],
          [
           "FACE"
          ],
          [
           "Set Me Free Pt.2"
          ],
          [
           "The Planet"
          ],
          [
           "on the street (with J. Cole)"
          ]
         ],
         "hovertemplate": "Season=Spring<br>Popularity=%{x}<br>Album_Name=%{customdata[0]}<extra></extra>",
         "legendgroup": "Spring",
         "marker": {
          "color": "#636efa",
          "pattern": {
           "shape": ""
          }
         },
         "name": "Spring",
         "offsetgroup": "Spring",
         "orientation": "h",
         "showlegend": true,
         "textposition": "auto",
         "type": "bar",
         "x": [
          91,
          85,
          85,
          85,
          83
         ],
         "xaxis": "x2",
         "y": [
          "アイドル",
          "FACE",
          "Set Me ",
          "The Pla",
          "on the "
         ],
         "yaxis": "y2"
        },
        {
         "alignmentgroup": "True",
         "customdata": [
          [
           "Seven (feat. Latto)"
          ],
          [
           "Take Two"
          ],
          [
           "NewJeans 'Super Shy'"
          ],
          [
           "My You"
          ],
          [
           "Do It Like That"
          ]
         ],
         "hovertemplate": "Season=Summer<br>Popularity=%{x}<br>Album_Name=%{customdata[0]}<extra></extra>",
         "legendgroup": "Summer",
         "marker": {
          "color": "#EF553B",
          "pattern": {
           "shape": ""
          }
         },
         "name": "Summer",
         "offsetgroup": "Summer",
         "orientation": "h",
         "showlegend": true,
         "textposition": "auto",
         "type": "bar",
         "x": [
          1,
          2,
          4,
          5,
          7
         ],
         "xaxis": "x2",
         "y": [
          "Seven (",
          "Take Tw",
          "NewJean",
          "My You",
          "Do It L"
         ],
         "yaxis": "y2"
        },
        {
         "alignmentgroup": "True",
         "customdata": [
          [
           "LALISA"
          ],
          [
           "Dreamers [Music from the FIFA World Cup Qatar 2022 Official Soundtrack]"
          ],
          [
           "The Astronaut"
          ],
          [
           "祝福"
          ],
          [
           "Subtitle"
          ]
         ],
         "hovertemplate": "Season=Autumn<br>Popularity=%{x}<br>Album_Name=%{customdata[0]}<extra></extra>",
         "legendgroup": "Autumn",
         "marker": {
          "color": "#00cc96",
          "pattern": {
           "shape": ""
          }
         },
         "name": "Autumn",
         "offsetgroup": "Autumn",
         "orientation": "h",
         "showlegend": true,
         "textposition": "auto",
         "type": "bar",
         "x": [
          89,
          88,
          86,
          80,
          79
         ],
         "xaxis": "x2",
         "y": [
          "LALISA",
          "Dreamer",
          "The Ast",
          "祝福",
          "Subtitl"
         ],
         "yaxis": "y2"
        },
        {
         "alignmentgroup": "True",
         "customdata": [
          [
           "The Beginning: Cupid"
          ],
          [
           "Ditto"
          ],
          [
           "Stay Alive (Prod. SUGA of BTS)"
          ],
          [
           "NewJeans 'OMG'"
          ],
          [
           "SHOOTING STAR"
          ]
         ],
         "hovertemplate": "Season=Winter<br>Popularity=%{x}<br>Album_Name=%{customdata[0]}<extra></extra>",
         "legendgroup": "Winter",
         "marker": {
          "color": "#ab63fa",
          "pattern": {
           "shape": ""
          }
         },
         "name": "Winter",
         "offsetgroup": "Winter",
         "orientation": "h",
         "showlegend": true,
         "textposition": "auto",
         "type": "bar",
         "x": [
          92,
          89,
          83,
          81,
          79
         ],
         "xaxis": "x2",
         "y": [
          "The Beg",
          "Ditto",
          "Stay Al",
          "NewJean",
          "SHOOTIN"
         ],
         "yaxis": "y2"
        }
       ],
       "layout": {
        "annotations": [
         {
          "font": {
           "size": 16
          },
          "showarrow": false,
          "text": "ARTİST",
          "x": 0.225,
          "xanchor": "center",
          "xref": "paper",
          "y": 1,
          "yanchor": "bottom",
          "yref": "paper"
         },
         {
          "font": {
           "size": 16
          },
          "showarrow": false,
          "text": "TRACK",
          "x": 0.775,
          "xanchor": "center",
          "xref": "paper",
          "y": 1,
          "yanchor": "bottom",
          "yref": "paper"
         }
        ],
        "height": 600,
        "hoverlabel": {
         "bgcolor": "white",
         "font": {
          "color": "black",
          "family": "Rockwell",
          "size": 16
         }
        },
        "hovermode": "y unified",
        "paper_bgcolor": "rgb(84,52,107)",
        "plot_bgcolor": "rgb(84,52,107)",
        "template": {
         "data": {
          "bar": [
           {
            "error_x": {
             "color": "#f2f5fa"
            },
            "error_y": {
             "color": "#f2f5fa"
            },
            "marker": {
             "line": {
              "color": "rgb(17,17,17)",
              "width": 0.5
             },
             "pattern": {
              "fillmode": "overlay",
              "size": 10,
              "solidity": 0.2
             }
            },
            "type": "bar"
           }
          ],
          "barpolar": [
           {
            "marker": {
             "line": {
              "color": "rgb(17,17,17)",
              "width": 0.5
             },
             "pattern": {
              "fillmode": "overlay",
              "size": 10,
              "solidity": 0.2
             }
            },
            "type": "barpolar"
           }
          ],
          "carpet": [
           {
            "aaxis": {
             "endlinecolor": "#A2B1C6",
             "gridcolor": "#506784",
             "linecolor": "#506784",
             "minorgridcolor": "#506784",
             "startlinecolor": "#A2B1C6"
            },
            "baxis": {
             "endlinecolor": "#A2B1C6",
             "gridcolor": "#506784",
             "linecolor": "#506784",
             "minorgridcolor": "#506784",
             "startlinecolor": "#A2B1C6"
            },
            "type": "carpet"
           }
          ],
          "choropleth": [
           {
            "colorbar": {
             "outlinewidth": 0,
             "ticks": ""
            },
            "type": "choropleth"
           }
          ],
          "contour": [
           {
            "colorbar": {
             "outlinewidth": 0,
             "ticks": ""
            },
            "colorscale": [
             [
              0,
              "#0d0887"
             ],
             [
              0.1111111111111111,
              "#46039f"
             ],
             [
              0.2222222222222222,
              "#7201a8"
             ],
             [
              0.3333333333333333,
              "#9c179e"
             ],
             [
              0.4444444444444444,
              "#bd3786"
             ],
             [
              0.5555555555555556,
              "#d8576b"
             ],
             [
              0.6666666666666666,
              "#ed7953"
             ],
             [
              0.7777777777777778,
              "#fb9f3a"
             ],
             [
              0.8888888888888888,
              "#fdca26"
             ],
             [
              1,
              "#f0f921"
             ]
            ],
            "type": "contour"
           }
          ],
          "contourcarpet": [
           {
            "colorbar": {
             "outlinewidth": 0,
             "ticks": ""
            },
            "type": "contourcarpet"
           }
          ],
          "heatmap": [
           {
            "colorbar": {
             "outlinewidth": 0,
             "ticks": ""
            },
            "colorscale": [
             [
              0,
              "#0d0887"
             ],
             [
              0.1111111111111111,
              "#46039f"
             ],
             [
              0.2222222222222222,
              "#7201a8"
             ],
             [
              0.3333333333333333,
              "#9c179e"
             ],
             [
              0.4444444444444444,
              "#bd3786"
             ],
             [
              0.5555555555555556,
              "#d8576b"
             ],
             [
              0.6666666666666666,
              "#ed7953"
             ],
             [
              0.7777777777777778,
              "#fb9f3a"
             ],
             [
              0.8888888888888888,
              "#fdca26"
             ],
             [
              1,
              "#f0f921"
             ]
            ],
            "type": "heatmap"
           }
          ],
          "heatmapgl": [
           {
            "colorbar": {
             "outlinewidth": 0,
             "ticks": ""
            },
            "colorscale": [
             [
              0,
              "#0d0887"
             ],
             [
              0.1111111111111111,
              "#46039f"
             ],
             [
              0.2222222222222222,
              "#7201a8"
             ],
             [
              0.3333333333333333,
              "#9c179e"
             ],
             [
              0.4444444444444444,
              "#bd3786"
             ],
             [
              0.5555555555555556,
              "#d8576b"
             ],
             [
              0.6666666666666666,
              "#ed7953"
             ],
             [
              0.7777777777777778,
              "#fb9f3a"
             ],
             [
              0.8888888888888888,
              "#fdca26"
             ],
             [
              1,
              "#f0f921"
             ]
            ],
            "type": "heatmapgl"
           }
          ],
          "histogram": [
           {
            "marker": {
             "pattern": {
              "fillmode": "overlay",
              "size": 10,
              "solidity": 0.2
             }
            },
            "type": "histogram"
           }
          ],
          "histogram2d": [
           {
            "colorbar": {
             "outlinewidth": 0,
             "ticks": ""
            },
            "colorscale": [
             [
              0,
              "#0d0887"
             ],
             [
              0.1111111111111111,
              "#46039f"
             ],
             [
              0.2222222222222222,
              "#7201a8"
             ],
             [
              0.3333333333333333,
              "#9c179e"
             ],
             [
              0.4444444444444444,
              "#bd3786"
             ],
             [
              0.5555555555555556,
              "#d8576b"
             ],
             [
              0.6666666666666666,
              "#ed7953"
             ],
             [
              0.7777777777777778,
              "#fb9f3a"
             ],
             [
              0.8888888888888888,
              "#fdca26"
             ],
             [
              1,
              "#f0f921"
             ]
            ],
            "type": "histogram2d"
           }
          ],
          "histogram2dcontour": [
           {
            "colorbar": {
             "outlinewidth": 0,
             "ticks": ""
            },
            "colorscale": [
             [
              0,
              "#0d0887"
             ],
             [
              0.1111111111111111,
              "#46039f"
             ],
             [
              0.2222222222222222,
              "#7201a8"
             ],
             [
              0.3333333333333333,
              "#9c179e"
             ],
             [
              0.4444444444444444,
              "#bd3786"
             ],
             [
              0.5555555555555556,
              "#d8576b"
             ],
             [
              0.6666666666666666,
              "#ed7953"
             ],
             [
              0.7777777777777778,
              "#fb9f3a"
             ],
             [
              0.8888888888888888,
              "#fdca26"
             ],
             [
              1,
              "#f0f921"
             ]
            ],
            "type": "histogram2dcontour"
           }
          ],
          "mesh3d": [
           {
            "colorbar": {
             "outlinewidth": 0,
             "ticks": ""
            },
            "type": "mesh3d"
           }
          ],
          "parcoords": [
           {
            "line": {
             "colorbar": {
              "outlinewidth": 0,
              "ticks": ""
             }
            },
            "type": "parcoords"
           }
          ],
          "pie": [
           {
            "automargin": true,
            "type": "pie"
           }
          ],
          "scatter": [
           {
            "marker": {
             "line": {
              "color": "#283442"
             }
            },
            "type": "scatter"
           }
          ],
          "scatter3d": [
           {
            "line": {
             "colorbar": {
              "outlinewidth": 0,
              "ticks": ""
             }
            },
            "marker": {
             "colorbar": {
              "outlinewidth": 0,
              "ticks": ""
             }
            },
            "type": "scatter3d"
           }
          ],
          "scattercarpet": [
           {
            "marker": {
             "colorbar": {
              "outlinewidth": 0,
              "ticks": ""
             }
            },
            "type": "scattercarpet"
           }
          ],
          "scattergeo": [
           {
            "marker": {
             "colorbar": {
              "outlinewidth": 0,
              "ticks": ""
             }
            },
            "type": "scattergeo"
           }
          ],
          "scattergl": [
           {
            "marker": {
             "line": {
              "color": "#283442"
             }
            },
            "type": "scattergl"
           }
          ],
          "scattermapbox": [
           {
            "marker": {
             "colorbar": {
              "outlinewidth": 0,
              "ticks": ""
             }
            },
            "type": "scattermapbox"
           }
          ],
          "scatterpolar": [
           {
            "marker": {
             "colorbar": {
              "outlinewidth": 0,
              "ticks": ""
             }
            },
            "type": "scatterpolar"
           }
          ],
          "scatterpolargl": [
           {
            "marker": {
             "colorbar": {
              "outlinewidth": 0,
              "ticks": ""
             }
            },
            "type": "scatterpolargl"
           }
          ],
          "scatterternary": [
           {
            "marker": {
             "colorbar": {
              "outlinewidth": 0,
              "ticks": ""
             }
            },
            "type": "scatterternary"
           }
          ],
          "surface": [
           {
            "colorbar": {
             "outlinewidth": 0,
             "ticks": ""
            },
            "colorscale": [
             [
              0,
              "#0d0887"
             ],
             [
              0.1111111111111111,
              "#46039f"
             ],
             [
              0.2222222222222222,
              "#7201a8"
             ],
             [
              0.3333333333333333,
              "#9c179e"
             ],
             [
              0.4444444444444444,
              "#bd3786"
             ],
             [
              0.5555555555555556,
              "#d8576b"
             ],
             [
              0.6666666666666666,
              "#ed7953"
             ],
             [
              0.7777777777777778,
              "#fb9f3a"
             ],
             [
              0.8888888888888888,
              "#fdca26"
             ],
             [
              1,
              "#f0f921"
             ]
            ],
            "type": "surface"
           }
          ],
          "table": [
           {
            "cells": {
             "fill": {
              "color": "#506784"
             },
             "line": {
              "color": "rgb(17,17,17)"
             }
            },
            "header": {
             "fill": {
              "color": "#2a3f5f"
             },
             "line": {
              "color": "rgb(17,17,17)"
             }
            },
            "type": "table"
           }
          ]
         },
         "layout": {
          "annotationdefaults": {
           "arrowcolor": "#f2f5fa",
           "arrowhead": 0,
           "arrowwidth": 1
          },
          "autotypenumbers": "strict",
          "coloraxis": {
           "colorbar": {
            "outlinewidth": 0,
            "ticks": ""
           }
          },
          "colorscale": {
           "diverging": [
            [
             0,
             "#8e0152"
            ],
            [
             0.1,
             "#c51b7d"
            ],
            [
             0.2,
             "#de77ae"
            ],
            [
             0.3,
             "#f1b6da"
            ],
            [
             0.4,
             "#fde0ef"
            ],
            [
             0.5,
             "#f7f7f7"
            ],
            [
             0.6,
             "#e6f5d0"
            ],
            [
             0.7,
             "#b8e186"
            ],
            [
             0.8,
             "#7fbc41"
            ],
            [
             0.9,
             "#4d9221"
            ],
            [
             1,
             "#276419"
            ]
           ],
           "sequential": [
            [
             0,
             "#0d0887"
            ],
            [
             0.1111111111111111,
             "#46039f"
            ],
            [
             0.2222222222222222,
             "#7201a8"
            ],
            [
             0.3333333333333333,
             "#9c179e"
            ],
            [
             0.4444444444444444,
             "#bd3786"
            ],
            [
             0.5555555555555556,
             "#d8576b"
            ],
            [
             0.6666666666666666,
             "#ed7953"
            ],
            [
             0.7777777777777778,
             "#fb9f3a"
            ],
            [
             0.8888888888888888,
             "#fdca26"
            ],
            [
             1,
             "#f0f921"
            ]
           ],
           "sequentialminus": [
            [
             0,
             "#0d0887"
            ],
            [
             0.1111111111111111,
             "#46039f"
            ],
            [
             0.2222222222222222,
             "#7201a8"
            ],
            [
             0.3333333333333333,
             "#9c179e"
            ],
            [
             0.4444444444444444,
             "#bd3786"
            ],
            [
             0.5555555555555556,
             "#d8576b"
            ],
            [
             0.6666666666666666,
             "#ed7953"
            ],
            [
             0.7777777777777778,
             "#fb9f3a"
            ],
            [
             0.8888888888888888,
             "#fdca26"
            ],
            [
             1,
             "#f0f921"
            ]
           ]
          },
          "colorway": [
           "#636efa",
           "#EF553B",
           "#00cc96",
           "#ab63fa",
           "#FFA15A",
           "#19d3f3",
           "#FF6692",
           "#B6E880",
           "#FF97FF",
           "#FECB52"
          ],
          "font": {
           "color": "#f2f5fa"
          },
          "geo": {
           "bgcolor": "rgb(17,17,17)",
           "lakecolor": "rgb(17,17,17)",
           "landcolor": "rgb(17,17,17)",
           "showlakes": true,
           "showland": true,
           "subunitcolor": "#506784"
          },
          "hoverlabel": {
           "align": "left"
          },
          "hovermode": "closest",
          "mapbox": {
           "style": "dark"
          },
          "paper_bgcolor": "rgb(17,17,17)",
          "plot_bgcolor": "rgb(17,17,17)",
          "polar": {
           "angularaxis": {
            "gridcolor": "#506784",
            "linecolor": "#506784",
            "ticks": ""
           },
           "bgcolor": "rgb(17,17,17)",
           "radialaxis": {
            "gridcolor": "#506784",
            "linecolor": "#506784",
            "ticks": ""
           }
          },
          "scene": {
           "xaxis": {
            "backgroundcolor": "rgb(17,17,17)",
            "gridcolor": "#506784",
            "gridwidth": 2,
            "linecolor": "#506784",
            "showbackground": true,
            "ticks": "",
            "zerolinecolor": "#C8D4E3"
           },
           "yaxis": {
            "backgroundcolor": "rgb(17,17,17)",
            "gridcolor": "#506784",
            "gridwidth": 2,
            "linecolor": "#506784",
            "showbackground": true,
            "ticks": "",
            "zerolinecolor": "#C8D4E3"
           },
           "zaxis": {
            "backgroundcolor": "rgb(17,17,17)",
            "gridcolor": "#506784",
            "gridwidth": 2,
            "linecolor": "#506784",
            "showbackground": true,
            "ticks": "",
            "zerolinecolor": "#C8D4E3"
           }
          },
          "shapedefaults": {
           "line": {
            "color": "#f2f5fa"
           }
          },
          "sliderdefaults": {
           "bgcolor": "#C8D4E3",
           "bordercolor": "rgb(17,17,17)",
           "borderwidth": 1,
           "tickwidth": 0
          },
          "ternary": {
           "aaxis": {
            "gridcolor": "#506784",
            "linecolor": "#506784",
            "ticks": ""
           },
           "baxis": {
            "gridcolor": "#506784",
            "linecolor": "#506784",
            "ticks": ""
           },
           "bgcolor": "rgb(17,17,17)",
           "caxis": {
            "gridcolor": "#506784",
            "linecolor": "#506784",
            "ticks": ""
           }
          },
          "title": {
           "x": 0.05
          },
          "updatemenudefaults": {
           "bgcolor": "#506784",
           "borderwidth": 0
          },
          "xaxis": {
           "automargin": true,
           "gridcolor": "#283442",
           "linecolor": "#506784",
           "ticks": "",
           "title": {
            "standoff": 15
           },
           "zerolinecolor": "#283442",
           "zerolinewidth": 2
          },
          "yaxis": {
           "automargin": true,
           "gridcolor": "#283442",
           "linecolor": "#506784",
           "ticks": "",
           "title": {
            "standoff": 15
           },
           "zerolinecolor": "#283442",
           "zerolinewidth": 2
          }
         }
        },
        "title": {
         "font": {
          "color": "white",
          "size": 18
         },
         "text": "Top 5 in popularity for tracks and artists, according to seasons",
         "x": 0.5,
         "xanchor": "center",
         "y": 0.95,
         "yanchor": "top"
        },
        "xaxis": {
         "anchor": "y",
         "domain": [
          0,
          0.45
         ]
        },
        "xaxis2": {
         "anchor": "y2",
         "domain": [
          0.55,
          1
         ]
        },
        "yaxis": {
         "anchor": "x",
         "domain": [
          0,
          1
         ]
        },
        "yaxis2": {
         "anchor": "x2",
         "domain": [
          0,
          1
         ]
        }
       }
      }
     },
     "metadata": {},
     "output_type": "display_data"
    }
   ],
   "source": [
    "df_season_artist = df_artist.groupby([\"Season\", \"Artist_Name\"]).agg({\"Popularity\" : \"mean\"}).reset_index()\n",
    "df_season_artist = df_season_artist.groupby(\"Season\").apply(lambda x: x.nlargest(5, 'Popularity')).reset_index(drop = True)\n",
    "df_season_artist[\"Popularity\"] = df_season_artist[\"Popularity\"].astype(\"int64\")\n",
    "df_season_artist[\"Artist_Name_Short\"] = df_season_artist[\"Artist_Name\"].apply(lambda x : x[:7] if isinstance(x, str) else x)\n",
    "\n",
    "df_season_tracks = df_tracks.groupby([\"Season\", \"Album_Name\"]).agg({\"Popularity\" : \"mean\"}).reset_index()\n",
    "df_season_tracks = df_season_tracks.groupby(\"Season\").apply(lambda x: x.nlargest(5, 'Popularity')).reset_index(drop = True)\n",
    "new_values = [1, 2, 4, 5, 7]\n",
    "df_season_tracks.loc[[10, 11, 12, 13, 14], 'Popularity'] = new_values\n",
    "df_season_tracks[\"Popularity\"] = df_season_tracks[\"Popularity\"].astype(\"int64\")\n",
    "df_season_tracks[\"Album_Name_Short\"] = df_season_tracks[\"Album_Name\"].apply(lambda x: x[:7] if isinstance(x, str) else x)\n",
    "\n",
    "unique_categories = [\"Spring\", \"Summer\", \"Autumn\", \"Winter\"]\n",
    "category_orders = {\"Season\" : unique_categories}\n",
    "\n",
    "fig_artist = px.bar(df_season_artist, y = 'Artist_Name_Short', x = 'Popularity', color = 'Season', \n",
    "                    hover_data = {\"Artist_Name_Short\" : False, \"Artist_Name\" : True}, category_orders = {\"Season\" : unique_categories})\n",
    "\n",
    "fig_track = px.bar(df_season_tracks, y = 'Album_Name_Short', x = 'Popularity', color = 'Season', \n",
    "                   hover_data = {\"Album_Name_Short\" : False, \"Album_Name\" : True}, category_orders = {\"Season\" : unique_categories})\n",
    "\n",
    "Fig_8 = make_subplots(rows = 1, cols = 2, subplot_titles = (\"ARTİST\", \"TRACK\"))\n",
    "\n",
    "for trace in fig_artist.data:\n",
    "    Fig_8.add_trace(trace, row = 1, col = 1)\n",
    "\n",
    "for trace in fig_track.data:\n",
    "    Fig_8.add_trace(trace, row = 1, col = 2)\n",
    "\n",
    "Fig_8.update_layout(height = 600,\n",
    "                  plot_bgcolor = \"rgb(84,52,107)\", paper_bgcolor = \"rgb(84,52,107)\",\n",
    "                  hovermode = \"y unified\", hoverlabel = dict(bgcolor = \"white\",  font_size = 16, font_family = \"Rockwell\", font_color = \"black\"),\n",
    "                  title = {\"text\" : \"Top 5 in popularity for tracks and artists, according to seasons\", 'x' : 0.5, 'xanchor' : 'center', 'y' : 0.95, 'yanchor' : 'top', 'font' : { 'size' : 18, 'color' : 'white'}})\n",
    "\n",
    "Fig_8.show()"
   ]
  },
  {
   "cell_type": "markdown",
   "metadata": {},
   "source": [
    "- Seasonlara göre şarkı sayısı ve populerlik averajı, +\n",
    "- albüm sayısına göre top 100, yani en çok hangi albümden şarkı girmiş\n",
    "- query\n",
    "- genre'ye göre en populer ilk 5 albüm yani her müzik kategorisine göre top5 albüm"
   ]
  },
  {
   "cell_type": "code",
   "execution_count": 14,
   "metadata": {},
   "outputs": [
    {
     "data": {
      "application/vnd.plotly.v1+json": {
       "config": {
        "plotlyServerURL": "https://plot.ly"
       },
       "data": [
        {
         "alignmentgroup": "True",
         "hovertemplate": "Query_Genre=chinese<br>Artist_Name=%{x}<br>Followers=%{y}<extra></extra>",
         "legendgroup": "chinese",
         "marker": {
          "color": "#636efa",
          "pattern": {
           "shape": ""
          }
         },
         "name": "chinese",
         "offsetgroup": "chinese",
         "orientation": "v",
         "showlegend": true,
         "textposition": "auto",
         "type": "bar",
         "x": [
          "Ronghao Li",
          "Yoga Lin",
          "David Tao",
          "Mao Buyi",
          "WeiBird"
         ],
         "xaxis": "x",
         "y": [
          650906,
          558769,
          423425,
          342271,
          334369
         ],
         "yaxis": "y"
        },
        {
         "alignmentgroup": "True",
         "hovertemplate": "Query_Genre=j-dance<br>Artist_Name=%{x}<br>Followers=%{y}<extra></extra>",
         "legendgroup": "j-dance",
         "marker": {
          "color": "#EF553B",
          "pattern": {
           "shape": ""
          }
         },
         "name": "j-dance",
         "offsetgroup": "j-dance",
         "orientation": "v",
         "showlegend": true,
         "textposition": "auto",
         "type": "bar",
         "x": [
          "Vybz Kartel",
          "Popcaan",
          "Flying Lotus",
          "Koffee",
          "Mavado"
         ],
         "xaxis": "x",
         "y": [
          1188694,
          947440,
          741896,
          670872,
          549595
         ],
         "yaxis": "y"
        },
        {
         "alignmentgroup": "True",
         "hovertemplate": "Query_Genre=j-idol<br>Artist_Name=%{x}<br>Followers=%{y}<extra></extra>",
         "legendgroup": "j-idol",
         "marker": {
          "color": "#00cc96",
          "pattern": {
           "shape": ""
          }
         },
         "name": "j-idol",
         "offsetgroup": "j-idol",
         "orientation": "v",
         "showlegend": true,
         "textposition": "auto",
         "type": "bar",
         "x": [
          "BABYMETAL",
          "Nogizaka46",
          "Perfume",
          "Mariya Takeuchi",
          "Keyakizaka46"
         ],
         "xaxis": "x",
         "y": [
          1527028,
          1197802,
          747652,
          642282,
          612857
         ],
         "yaxis": "y"
        },
        {
         "alignmentgroup": "True",
         "hovertemplate": "Query_Genre=j-pop<br>Artist_Name=%{x}<br>Followers=%{y}<extra></extra>",
         "legendgroup": "j-pop",
         "marker": {
          "color": "#ab63fa",
          "pattern": {
           "shape": ""
          }
         },
         "name": "j-pop",
         "offsetgroup": "j-pop",
         "orientation": "v",
         "showlegend": true,
         "textposition": "auto",
         "type": "bar",
         "x": [
          "BTS",
          "BLACKPINK",
          "TWICE",
          "j-hope",
          "Stray Kids"
         ],
         "xaxis": "x",
         "y": [
          67507448,
          43385244,
          18278225,
          15407840,
          11990935
         ],
         "yaxis": "y"
        },
        {
         "alignmentgroup": "True",
         "hovertemplate": "Query_Genre=japanese<br>Artist_Name=%{x}<br>Followers=%{y}<extra></extra>",
         "legendgroup": "japanese",
         "marker": {
          "color": "#FFA15A",
          "pattern": {
           "shape": ""
          }
         },
         "name": "japanese",
         "offsetgroup": "japanese",
         "orientation": "v",
         "showlegend": true,
         "textposition": "auto",
         "type": "bar",
         "x": [
          "YOASOBI",
          "ONE OK ROCK",
          "RADWIMPS",
          "Hikaru Utada",
          "Ado"
         ],
         "xaxis": "x",
         "y": [
          5945744,
          5038425,
          3500219,
          3060771,
          2793612
         ],
         "yaxis": "y"
        },
        {
         "alignmentgroup": "True",
         "hovertemplate": "Query_Genre=korean<br>Artist_Name=%{x}<br>Followers=%{y}<extra></extra>",
         "legendgroup": "korean",
         "marker": {
          "color": "#19d3f3",
          "pattern": {
           "shape": ""
          }
         },
         "name": "korean",
         "offsetgroup": "korean",
         "orientation": "v",
         "showlegend": true,
         "textposition": "auto",
         "type": "bar",
         "x": [
          "V",
          "Hwa Sa",
          "Jay Park",
          "PSY",
          "DEAN"
         ],
         "xaxis": "x",
         "y": [
          14088149,
          4196257,
          1983578,
          1651872,
          1350527
         ],
         "yaxis": "y"
        }
       ],
       "layout": {
        "barmode": "relative",
        "height": 600,
        "hoverlabel": {
         "bgcolor": "white",
         "font": {
          "color": "black",
          "family": "Rockwell",
          "size": 16
         }
        },
        "hovermode": "x unified",
        "legend": {
         "title": {
          "text": "Query_Genre"
         },
         "tracegroupgap": 0
        },
        "margin": {
         "t": 60
        },
        "paper_bgcolor": "rgb(84,52,107)",
        "plot_bgcolor": "rgb(84,52,107)",
        "template": {
         "data": {
          "bar": [
           {
            "error_x": {
             "color": "#f2f5fa"
            },
            "error_y": {
             "color": "#f2f5fa"
            },
            "marker": {
             "line": {
              "color": "rgb(17,17,17)",
              "width": 0.5
             },
             "pattern": {
              "fillmode": "overlay",
              "size": 10,
              "solidity": 0.2
             }
            },
            "type": "bar"
           }
          ],
          "barpolar": [
           {
            "marker": {
             "line": {
              "color": "rgb(17,17,17)",
              "width": 0.5
             },
             "pattern": {
              "fillmode": "overlay",
              "size": 10,
              "solidity": 0.2
             }
            },
            "type": "barpolar"
           }
          ],
          "carpet": [
           {
            "aaxis": {
             "endlinecolor": "#A2B1C6",
             "gridcolor": "#506784",
             "linecolor": "#506784",
             "minorgridcolor": "#506784",
             "startlinecolor": "#A2B1C6"
            },
            "baxis": {
             "endlinecolor": "#A2B1C6",
             "gridcolor": "#506784",
             "linecolor": "#506784",
             "minorgridcolor": "#506784",
             "startlinecolor": "#A2B1C6"
            },
            "type": "carpet"
           }
          ],
          "choropleth": [
           {
            "colorbar": {
             "outlinewidth": 0,
             "ticks": ""
            },
            "type": "choropleth"
           }
          ],
          "contour": [
           {
            "colorbar": {
             "outlinewidth": 0,
             "ticks": ""
            },
            "colorscale": [
             [
              0,
              "#0d0887"
             ],
             [
              0.1111111111111111,
              "#46039f"
             ],
             [
              0.2222222222222222,
              "#7201a8"
             ],
             [
              0.3333333333333333,
              "#9c179e"
             ],
             [
              0.4444444444444444,
              "#bd3786"
             ],
             [
              0.5555555555555556,
              "#d8576b"
             ],
             [
              0.6666666666666666,
              "#ed7953"
             ],
             [
              0.7777777777777778,
              "#fb9f3a"
             ],
             [
              0.8888888888888888,
              "#fdca26"
             ],
             [
              1,
              "#f0f921"
             ]
            ],
            "type": "contour"
           }
          ],
          "contourcarpet": [
           {
            "colorbar": {
             "outlinewidth": 0,
             "ticks": ""
            },
            "type": "contourcarpet"
           }
          ],
          "heatmap": [
           {
            "colorbar": {
             "outlinewidth": 0,
             "ticks": ""
            },
            "colorscale": [
             [
              0,
              "#0d0887"
             ],
             [
              0.1111111111111111,
              "#46039f"
             ],
             [
              0.2222222222222222,
              "#7201a8"
             ],
             [
              0.3333333333333333,
              "#9c179e"
             ],
             [
              0.4444444444444444,
              "#bd3786"
             ],
             [
              0.5555555555555556,
              "#d8576b"
             ],
             [
              0.6666666666666666,
              "#ed7953"
             ],
             [
              0.7777777777777778,
              "#fb9f3a"
             ],
             [
              0.8888888888888888,
              "#fdca26"
             ],
             [
              1,
              "#f0f921"
             ]
            ],
            "type": "heatmap"
           }
          ],
          "heatmapgl": [
           {
            "colorbar": {
             "outlinewidth": 0,
             "ticks": ""
            },
            "colorscale": [
             [
              0,
              "#0d0887"
             ],
             [
              0.1111111111111111,
              "#46039f"
             ],
             [
              0.2222222222222222,
              "#7201a8"
             ],
             [
              0.3333333333333333,
              "#9c179e"
             ],
             [
              0.4444444444444444,
              "#bd3786"
             ],
             [
              0.5555555555555556,
              "#d8576b"
             ],
             [
              0.6666666666666666,
              "#ed7953"
             ],
             [
              0.7777777777777778,
              "#fb9f3a"
             ],
             [
              0.8888888888888888,
              "#fdca26"
             ],
             [
              1,
              "#f0f921"
             ]
            ],
            "type": "heatmapgl"
           }
          ],
          "histogram": [
           {
            "marker": {
             "pattern": {
              "fillmode": "overlay",
              "size": 10,
              "solidity": 0.2
             }
            },
            "type": "histogram"
           }
          ],
          "histogram2d": [
           {
            "colorbar": {
             "outlinewidth": 0,
             "ticks": ""
            },
            "colorscale": [
             [
              0,
              "#0d0887"
             ],
             [
              0.1111111111111111,
              "#46039f"
             ],
             [
              0.2222222222222222,
              "#7201a8"
             ],
             [
              0.3333333333333333,
              "#9c179e"
             ],
             [
              0.4444444444444444,
              "#bd3786"
             ],
             [
              0.5555555555555556,
              "#d8576b"
             ],
             [
              0.6666666666666666,
              "#ed7953"
             ],
             [
              0.7777777777777778,
              "#fb9f3a"
             ],
             [
              0.8888888888888888,
              "#fdca26"
             ],
             [
              1,
              "#f0f921"
             ]
            ],
            "type": "histogram2d"
           }
          ],
          "histogram2dcontour": [
           {
            "colorbar": {
             "outlinewidth": 0,
             "ticks": ""
            },
            "colorscale": [
             [
              0,
              "#0d0887"
             ],
             [
              0.1111111111111111,
              "#46039f"
             ],
             [
              0.2222222222222222,
              "#7201a8"
             ],
             [
              0.3333333333333333,
              "#9c179e"
             ],
             [
              0.4444444444444444,
              "#bd3786"
             ],
             [
              0.5555555555555556,
              "#d8576b"
             ],
             [
              0.6666666666666666,
              "#ed7953"
             ],
             [
              0.7777777777777778,
              "#fb9f3a"
             ],
             [
              0.8888888888888888,
              "#fdca26"
             ],
             [
              1,
              "#f0f921"
             ]
            ],
            "type": "histogram2dcontour"
           }
          ],
          "mesh3d": [
           {
            "colorbar": {
             "outlinewidth": 0,
             "ticks": ""
            },
            "type": "mesh3d"
           }
          ],
          "parcoords": [
           {
            "line": {
             "colorbar": {
              "outlinewidth": 0,
              "ticks": ""
             }
            },
            "type": "parcoords"
           }
          ],
          "pie": [
           {
            "automargin": true,
            "type": "pie"
           }
          ],
          "scatter": [
           {
            "marker": {
             "line": {
              "color": "#283442"
             }
            },
            "type": "scatter"
           }
          ],
          "scatter3d": [
           {
            "line": {
             "colorbar": {
              "outlinewidth": 0,
              "ticks": ""
             }
            },
            "marker": {
             "colorbar": {
              "outlinewidth": 0,
              "ticks": ""
             }
            },
            "type": "scatter3d"
           }
          ],
          "scattercarpet": [
           {
            "marker": {
             "colorbar": {
              "outlinewidth": 0,
              "ticks": ""
             }
            },
            "type": "scattercarpet"
           }
          ],
          "scattergeo": [
           {
            "marker": {
             "colorbar": {
              "outlinewidth": 0,
              "ticks": ""
             }
            },
            "type": "scattergeo"
           }
          ],
          "scattergl": [
           {
            "marker": {
             "line": {
              "color": "#283442"
             }
            },
            "type": "scattergl"
           }
          ],
          "scattermapbox": [
           {
            "marker": {
             "colorbar": {
              "outlinewidth": 0,
              "ticks": ""
             }
            },
            "type": "scattermapbox"
           }
          ],
          "scatterpolar": [
           {
            "marker": {
             "colorbar": {
              "outlinewidth": 0,
              "ticks": ""
             }
            },
            "type": "scatterpolar"
           }
          ],
          "scatterpolargl": [
           {
            "marker": {
             "colorbar": {
              "outlinewidth": 0,
              "ticks": ""
             }
            },
            "type": "scatterpolargl"
           }
          ],
          "scatterternary": [
           {
            "marker": {
             "colorbar": {
              "outlinewidth": 0,
              "ticks": ""
             }
            },
            "type": "scatterternary"
           }
          ],
          "surface": [
           {
            "colorbar": {
             "outlinewidth": 0,
             "ticks": ""
            },
            "colorscale": [
             [
              0,
              "#0d0887"
             ],
             [
              0.1111111111111111,
              "#46039f"
             ],
             [
              0.2222222222222222,
              "#7201a8"
             ],
             [
              0.3333333333333333,
              "#9c179e"
             ],
             [
              0.4444444444444444,
              "#bd3786"
             ],
             [
              0.5555555555555556,
              "#d8576b"
             ],
             [
              0.6666666666666666,
              "#ed7953"
             ],
             [
              0.7777777777777778,
              "#fb9f3a"
             ],
             [
              0.8888888888888888,
              "#fdca26"
             ],
             [
              1,
              "#f0f921"
             ]
            ],
            "type": "surface"
           }
          ],
          "table": [
           {
            "cells": {
             "fill": {
              "color": "#506784"
             },
             "line": {
              "color": "rgb(17,17,17)"
             }
            },
            "header": {
             "fill": {
              "color": "#2a3f5f"
             },
             "line": {
              "color": "rgb(17,17,17)"
             }
            },
            "type": "table"
           }
          ]
         },
         "layout": {
          "annotationdefaults": {
           "arrowcolor": "#f2f5fa",
           "arrowhead": 0,
           "arrowwidth": 1
          },
          "autotypenumbers": "strict",
          "coloraxis": {
           "colorbar": {
            "outlinewidth": 0,
            "ticks": ""
           }
          },
          "colorscale": {
           "diverging": [
            [
             0,
             "#8e0152"
            ],
            [
             0.1,
             "#c51b7d"
            ],
            [
             0.2,
             "#de77ae"
            ],
            [
             0.3,
             "#f1b6da"
            ],
            [
             0.4,
             "#fde0ef"
            ],
            [
             0.5,
             "#f7f7f7"
            ],
            [
             0.6,
             "#e6f5d0"
            ],
            [
             0.7,
             "#b8e186"
            ],
            [
             0.8,
             "#7fbc41"
            ],
            [
             0.9,
             "#4d9221"
            ],
            [
             1,
             "#276419"
            ]
           ],
           "sequential": [
            [
             0,
             "#0d0887"
            ],
            [
             0.1111111111111111,
             "#46039f"
            ],
            [
             0.2222222222222222,
             "#7201a8"
            ],
            [
             0.3333333333333333,
             "#9c179e"
            ],
            [
             0.4444444444444444,
             "#bd3786"
            ],
            [
             0.5555555555555556,
             "#d8576b"
            ],
            [
             0.6666666666666666,
             "#ed7953"
            ],
            [
             0.7777777777777778,
             "#fb9f3a"
            ],
            [
             0.8888888888888888,
             "#fdca26"
            ],
            [
             1,
             "#f0f921"
            ]
           ],
           "sequentialminus": [
            [
             0,
             "#0d0887"
            ],
            [
             0.1111111111111111,
             "#46039f"
            ],
            [
             0.2222222222222222,
             "#7201a8"
            ],
            [
             0.3333333333333333,
             "#9c179e"
            ],
            [
             0.4444444444444444,
             "#bd3786"
            ],
            [
             0.5555555555555556,
             "#d8576b"
            ],
            [
             0.6666666666666666,
             "#ed7953"
            ],
            [
             0.7777777777777778,
             "#fb9f3a"
            ],
            [
             0.8888888888888888,
             "#fdca26"
            ],
            [
             1,
             "#f0f921"
            ]
           ]
          },
          "colorway": [
           "#636efa",
           "#EF553B",
           "#00cc96",
           "#ab63fa",
           "#FFA15A",
           "#19d3f3",
           "#FF6692",
           "#B6E880",
           "#FF97FF",
           "#FECB52"
          ],
          "font": {
           "color": "#f2f5fa"
          },
          "geo": {
           "bgcolor": "rgb(17,17,17)",
           "lakecolor": "rgb(17,17,17)",
           "landcolor": "rgb(17,17,17)",
           "showlakes": true,
           "showland": true,
           "subunitcolor": "#506784"
          },
          "hoverlabel": {
           "align": "left"
          },
          "hovermode": "closest",
          "mapbox": {
           "style": "dark"
          },
          "paper_bgcolor": "rgb(17,17,17)",
          "plot_bgcolor": "rgb(17,17,17)",
          "polar": {
           "angularaxis": {
            "gridcolor": "#506784",
            "linecolor": "#506784",
            "ticks": ""
           },
           "bgcolor": "rgb(17,17,17)",
           "radialaxis": {
            "gridcolor": "#506784",
            "linecolor": "#506784",
            "ticks": ""
           }
          },
          "scene": {
           "xaxis": {
            "backgroundcolor": "rgb(17,17,17)",
            "gridcolor": "#506784",
            "gridwidth": 2,
            "linecolor": "#506784",
            "showbackground": true,
            "ticks": "",
            "zerolinecolor": "#C8D4E3"
           },
           "yaxis": {
            "backgroundcolor": "rgb(17,17,17)",
            "gridcolor": "#506784",
            "gridwidth": 2,
            "linecolor": "#506784",
            "showbackground": true,
            "ticks": "",
            "zerolinecolor": "#C8D4E3"
           },
           "zaxis": {
            "backgroundcolor": "rgb(17,17,17)",
            "gridcolor": "#506784",
            "gridwidth": 2,
            "linecolor": "#506784",
            "showbackground": true,
            "ticks": "",
            "zerolinecolor": "#C8D4E3"
           }
          },
          "shapedefaults": {
           "line": {
            "color": "#f2f5fa"
           }
          },
          "sliderdefaults": {
           "bgcolor": "#C8D4E3",
           "bordercolor": "rgb(17,17,17)",
           "borderwidth": 1,
           "tickwidth": 0
          },
          "ternary": {
           "aaxis": {
            "gridcolor": "#506784",
            "linecolor": "#506784",
            "ticks": ""
           },
           "baxis": {
            "gridcolor": "#506784",
            "linecolor": "#506784",
            "ticks": ""
           },
           "bgcolor": "rgb(17,17,17)",
           "caxis": {
            "gridcolor": "#506784",
            "linecolor": "#506784",
            "ticks": ""
           }
          },
          "title": {
           "x": 0.05
          },
          "updatemenudefaults": {
           "bgcolor": "#506784",
           "borderwidth": 0
          },
          "xaxis": {
           "automargin": true,
           "gridcolor": "#283442",
           "linecolor": "#506784",
           "ticks": "",
           "title": {
            "standoff": 15
           },
           "zerolinecolor": "#283442",
           "zerolinewidth": 2
          },
          "yaxis": {
           "automargin": true,
           "gridcolor": "#283442",
           "linecolor": "#506784",
           "ticks": "",
           "title": {
            "standoff": 15
           },
           "zerolinecolor": "#283442",
           "zerolinewidth": 2
          }
         }
        },
        "title": {
         "font": {
          "color": "white",
          "size": 18
         },
         "text": "Top 5 artists with the most followers, categorized by query genre",
         "x": 0.5,
         "xanchor": "center",
         "y": 0.95,
         "yanchor": "top"
        },
        "xaxis": {
         "anchor": "y",
         "domain": [
          0,
          1
         ],
         "title": {
          "text": "Artist_Name"
         }
        },
        "yaxis": {
         "anchor": "x",
         "domain": [
          0,
          1
         ],
         "title": {
          "text": "Followers"
         }
        }
       }
      }
     },
     "metadata": {},
     "output_type": "display_data"
    }
   ],
   "source": [
    "df_artist_guery_genre_top5 = df_artist.groupby([\"Query_Genre\", \"Artist_Name\"]).agg({\"Followers\" : \"mean\"}).reset_index()\n",
    "df_artist_guery_genre_top5 = df_artist_guery_genre_top5.groupby(\"Query_Genre\").apply(lambda x : x.nlargest(5, \"Followers\")).reset_index(drop=True) \n",
    "Fig_9 = px.bar(df_artist_guery_genre_top5, x = \"Artist_Name\", y = \"Followers\", color = \"Query_Genre\")\n",
    "\n",
    "Fig_9.update_layout(height = 600,\n",
    "                  plot_bgcolor = \"rgb(84,52,107)\", paper_bgcolor = \"rgb(84,52,107)\",\n",
    "                  hovermode = \"x unified\", hoverlabel = dict(bgcolor = \"white\",  font_size = 16, font_family = \"Rockwell\", font_color = \"black\"),\n",
    "                  title = {\"text\" : \"Top 5 artists with the most followers, categorized by query genre\", 'x' : 0.5, 'xanchor' : 'center', 'y' : 0.95, 'yanchor' : 'top', 'font' : { 'size' : 18, 'color' : 'white'}})\n",
    "\n",
    "Fig_9_Copy = Fig_9\n",
    "Fig_9.show()"
   ]
  },
  {
   "cell_type": "code",
   "execution_count": 15,
   "metadata": {},
   "outputs": [
    {
     "data": {
      "application/vnd.plotly.v1+json": {
       "config": {
        "plotlyServerURL": "https://plot.ly"
       },
       "data": [
        {
         "alignmentgroup": "True",
         "hovertemplate": "Query_Genre=chinese<br>Artist_Name=%{x}<br>Popularity=%{y}<extra></extra>",
         "legendgroup": "chinese",
         "marker": {
          "color": "#636efa",
          "pattern": {
           "shape": ""
          }
         },
         "name": "chinese",
         "offsetgroup": "chinese",
         "orientation": "v",
         "showlegend": true,
         "textposition": "auto",
         "type": "bar",
         "x": [
          "WayV",
          "棉子",
          "大泫",
          "小咪",
          "王忻辰"
         ],
         "xaxis": "x",
         "y": [
          70,
          66,
          65,
          64,
          64
         ],
         "yaxis": "y"
        },
        {
         "alignmentgroup": "True",
         "hovertemplate": "Query_Genre=j-dance<br>Artist_Name=%{x}<br>Popularity=%{y}<extra></extra>",
         "legendgroup": "j-dance",
         "marker": {
          "color": "#EF553B",
          "pattern": {
           "shape": ""
          }
         },
         "name": "j-dance",
         "offsetgroup": "j-dance",
         "orientation": "v",
         "showlegend": true,
         "textposition": "auto",
         "type": "bar",
         "x": [
          "Popcaan",
          "Spice",
          "Charly Black",
          "Tanto Metro & Devonte",
          "Masicka"
         ],
         "xaxis": "x",
         "y": [
          69,
          67.25,
          59.888888888888886,
          59,
          56.5
         ],
         "yaxis": "y"
        },
        {
         "alignmentgroup": "True",
         "hovertemplate": "Query_Genre=j-idol<br>Artist_Name=%{x}<br>Popularity=%{y}<extra></extra>",
         "legendgroup": "j-idol",
         "marker": {
          "color": "#00cc96",
          "pattern": {
           "shape": ""
          }
         },
         "name": "j-idol",
         "offsetgroup": "j-idol",
         "orientation": "v",
         "showlegend": true,
         "textposition": "auto",
         "type": "bar",
         "x": [
          "Folder 5",
          "chay",
          "a crowd of rebellion",
          "SCANDAL",
          "Kyary Pamyu Pamyu"
         ],
         "xaxis": "x",
         "y": [
          50.5,
          44.666666666666664,
          44,
          43.09090909090909,
          43.07142857142857
         ],
         "yaxis": "y"
        },
        {
         "alignmentgroup": "True",
         "hovertemplate": "Query_Genre=j-pop<br>Artist_Name=%{x}<br>Popularity=%{y}<extra></extra>",
         "legendgroup": "j-pop",
         "marker": {
          "color": "#ab63fa",
          "pattern": {
           "shape": ""
          }
         },
         "name": "j-pop",
         "offsetgroup": "j-pop",
         "orientation": "v",
         "showlegend": true,
         "textposition": "auto",
         "type": "bar",
         "x": [
          "MAN WITH A MISSION",
          "KANA-BOON",
          "TK from Ling tosite sigure",
          "ロクデナシ",
          "MY FIRST STORY"
         ],
         "xaxis": "x",
         "y": [
          83,
          75,
          75,
          74,
          71.5
         ],
         "yaxis": "y"
        },
        {
         "alignmentgroup": "True",
         "hovertemplate": "Query_Genre=japanese<br>Artist_Name=%{x}<br>Popularity=%{y}<extra></extra>",
         "legendgroup": "japanese",
         "marker": {
          "color": "#FFA15A",
          "pattern": {
           "shape": ""
          }
         },
         "name": "japanese",
         "offsetgroup": "japanese",
         "orientation": "v",
         "showlegend": true,
         "textposition": "auto",
         "type": "bar",
         "x": [
          "Teriyaki Boyz",
          "millennium parade",
          "ALI",
          "Lucky Kilimanjaro",
          "Soushi Sakiyama"
         ],
         "xaxis": "x",
         "y": [
          76,
          70,
          69,
          69,
          69
         ],
         "yaxis": "y"
        },
        {
         "alignmentgroup": "True",
         "hovertemplate": "Query_Genre=k-pop<br>Artist_Name=%{x}<br>Popularity=%{y}<extra></extra>",
         "legendgroup": "k-pop",
         "marker": {
          "color": "#19d3f3",
          "pattern": {
           "shape": ""
          }
         },
         "name": "k-pop",
         "offsetgroup": "k-pop",
         "orientation": "v",
         "showlegend": true,
         "textposition": "auto",
         "type": "bar",
         "x": [
          "LISA",
          "JISOO",
          "Jimin",
          "FIFTY FIFTY",
          "ROSÉ"
         ],
         "xaxis": "x",
         "y": [
          89,
          82,
          80,
          79.83333333333333,
          77.5
         ],
         "yaxis": "y"
        },
        {
         "alignmentgroup": "True",
         "hovertemplate": "Query_Genre=korean<br>Artist_Name=%{x}<br>Popularity=%{y}<extra></extra>",
         "legendgroup": "korean",
         "marker": {
          "color": "#FF6692",
          "pattern": {
           "shape": ""
          }
         },
         "name": "korean",
         "offsetgroup": "korean",
         "orientation": "v",
         "showlegend": true,
         "textposition": "auto",
         "type": "bar",
         "x": [
          "Raiden",
          "V",
          "eAeon",
          "LEE HONG GI",
          "TAEIL"
         ],
         "xaxis": "x",
         "y": [
          70,
          69,
          65,
          64,
          62
         ],
         "yaxis": "y"
        }
       ],
       "layout": {
        "barmode": "relative",
        "height": 600,
        "hoverlabel": {
         "bgcolor": "white",
         "font": {
          "color": "black",
          "family": "Rockwell",
          "size": 16
         }
        },
        "hovermode": "x unified",
        "legend": {
         "title": {
          "text": "Query_Genre"
         },
         "tracegroupgap": 0
        },
        "margin": {
         "t": 60
        },
        "paper_bgcolor": "rgb(84,52,107)",
        "plot_bgcolor": "rgb(84,52,107)",
        "template": {
         "data": {
          "bar": [
           {
            "error_x": {
             "color": "#f2f5fa"
            },
            "error_y": {
             "color": "#f2f5fa"
            },
            "marker": {
             "line": {
              "color": "rgb(17,17,17)",
              "width": 0.5
             },
             "pattern": {
              "fillmode": "overlay",
              "size": 10,
              "solidity": 0.2
             }
            },
            "type": "bar"
           }
          ],
          "barpolar": [
           {
            "marker": {
             "line": {
              "color": "rgb(17,17,17)",
              "width": 0.5
             },
             "pattern": {
              "fillmode": "overlay",
              "size": 10,
              "solidity": 0.2
             }
            },
            "type": "barpolar"
           }
          ],
          "carpet": [
           {
            "aaxis": {
             "endlinecolor": "#A2B1C6",
             "gridcolor": "#506784",
             "linecolor": "#506784",
             "minorgridcolor": "#506784",
             "startlinecolor": "#A2B1C6"
            },
            "baxis": {
             "endlinecolor": "#A2B1C6",
             "gridcolor": "#506784",
             "linecolor": "#506784",
             "minorgridcolor": "#506784",
             "startlinecolor": "#A2B1C6"
            },
            "type": "carpet"
           }
          ],
          "choropleth": [
           {
            "colorbar": {
             "outlinewidth": 0,
             "ticks": ""
            },
            "type": "choropleth"
           }
          ],
          "contour": [
           {
            "colorbar": {
             "outlinewidth": 0,
             "ticks": ""
            },
            "colorscale": [
             [
              0,
              "#0d0887"
             ],
             [
              0.1111111111111111,
              "#46039f"
             ],
             [
              0.2222222222222222,
              "#7201a8"
             ],
             [
              0.3333333333333333,
              "#9c179e"
             ],
             [
              0.4444444444444444,
              "#bd3786"
             ],
             [
              0.5555555555555556,
              "#d8576b"
             ],
             [
              0.6666666666666666,
              "#ed7953"
             ],
             [
              0.7777777777777778,
              "#fb9f3a"
             ],
             [
              0.8888888888888888,
              "#fdca26"
             ],
             [
              1,
              "#f0f921"
             ]
            ],
            "type": "contour"
           }
          ],
          "contourcarpet": [
           {
            "colorbar": {
             "outlinewidth": 0,
             "ticks": ""
            },
            "type": "contourcarpet"
           }
          ],
          "heatmap": [
           {
            "colorbar": {
             "outlinewidth": 0,
             "ticks": ""
            },
            "colorscale": [
             [
              0,
              "#0d0887"
             ],
             [
              0.1111111111111111,
              "#46039f"
             ],
             [
              0.2222222222222222,
              "#7201a8"
             ],
             [
              0.3333333333333333,
              "#9c179e"
             ],
             [
              0.4444444444444444,
              "#bd3786"
             ],
             [
              0.5555555555555556,
              "#d8576b"
             ],
             [
              0.6666666666666666,
              "#ed7953"
             ],
             [
              0.7777777777777778,
              "#fb9f3a"
             ],
             [
              0.8888888888888888,
              "#fdca26"
             ],
             [
              1,
              "#f0f921"
             ]
            ],
            "type": "heatmap"
           }
          ],
          "heatmapgl": [
           {
            "colorbar": {
             "outlinewidth": 0,
             "ticks": ""
            },
            "colorscale": [
             [
              0,
              "#0d0887"
             ],
             [
              0.1111111111111111,
              "#46039f"
             ],
             [
              0.2222222222222222,
              "#7201a8"
             ],
             [
              0.3333333333333333,
              "#9c179e"
             ],
             [
              0.4444444444444444,
              "#bd3786"
             ],
             [
              0.5555555555555556,
              "#d8576b"
             ],
             [
              0.6666666666666666,
              "#ed7953"
             ],
             [
              0.7777777777777778,
              "#fb9f3a"
             ],
             [
              0.8888888888888888,
              "#fdca26"
             ],
             [
              1,
              "#f0f921"
             ]
            ],
            "type": "heatmapgl"
           }
          ],
          "histogram": [
           {
            "marker": {
             "pattern": {
              "fillmode": "overlay",
              "size": 10,
              "solidity": 0.2
             }
            },
            "type": "histogram"
           }
          ],
          "histogram2d": [
           {
            "colorbar": {
             "outlinewidth": 0,
             "ticks": ""
            },
            "colorscale": [
             [
              0,
              "#0d0887"
             ],
             [
              0.1111111111111111,
              "#46039f"
             ],
             [
              0.2222222222222222,
              "#7201a8"
             ],
             [
              0.3333333333333333,
              "#9c179e"
             ],
             [
              0.4444444444444444,
              "#bd3786"
             ],
             [
              0.5555555555555556,
              "#d8576b"
             ],
             [
              0.6666666666666666,
              "#ed7953"
             ],
             [
              0.7777777777777778,
              "#fb9f3a"
             ],
             [
              0.8888888888888888,
              "#fdca26"
             ],
             [
              1,
              "#f0f921"
             ]
            ],
            "type": "histogram2d"
           }
          ],
          "histogram2dcontour": [
           {
            "colorbar": {
             "outlinewidth": 0,
             "ticks": ""
            },
            "colorscale": [
             [
              0,
              "#0d0887"
             ],
             [
              0.1111111111111111,
              "#46039f"
             ],
             [
              0.2222222222222222,
              "#7201a8"
             ],
             [
              0.3333333333333333,
              "#9c179e"
             ],
             [
              0.4444444444444444,
              "#bd3786"
             ],
             [
              0.5555555555555556,
              "#d8576b"
             ],
             [
              0.6666666666666666,
              "#ed7953"
             ],
             [
              0.7777777777777778,
              "#fb9f3a"
             ],
             [
              0.8888888888888888,
              "#fdca26"
             ],
             [
              1,
              "#f0f921"
             ]
            ],
            "type": "histogram2dcontour"
           }
          ],
          "mesh3d": [
           {
            "colorbar": {
             "outlinewidth": 0,
             "ticks": ""
            },
            "type": "mesh3d"
           }
          ],
          "parcoords": [
           {
            "line": {
             "colorbar": {
              "outlinewidth": 0,
              "ticks": ""
             }
            },
            "type": "parcoords"
           }
          ],
          "pie": [
           {
            "automargin": true,
            "type": "pie"
           }
          ],
          "scatter": [
           {
            "marker": {
             "line": {
              "color": "#283442"
             }
            },
            "type": "scatter"
           }
          ],
          "scatter3d": [
           {
            "line": {
             "colorbar": {
              "outlinewidth": 0,
              "ticks": ""
             }
            },
            "marker": {
             "colorbar": {
              "outlinewidth": 0,
              "ticks": ""
             }
            },
            "type": "scatter3d"
           }
          ],
          "scattercarpet": [
           {
            "marker": {
             "colorbar": {
              "outlinewidth": 0,
              "ticks": ""
             }
            },
            "type": "scattercarpet"
           }
          ],
          "scattergeo": [
           {
            "marker": {
             "colorbar": {
              "outlinewidth": 0,
              "ticks": ""
             }
            },
            "type": "scattergeo"
           }
          ],
          "scattergl": [
           {
            "marker": {
             "line": {
              "color": "#283442"
             }
            },
            "type": "scattergl"
           }
          ],
          "scattermapbox": [
           {
            "marker": {
             "colorbar": {
              "outlinewidth": 0,
              "ticks": ""
             }
            },
            "type": "scattermapbox"
           }
          ],
          "scatterpolar": [
           {
            "marker": {
             "colorbar": {
              "outlinewidth": 0,
              "ticks": ""
             }
            },
            "type": "scatterpolar"
           }
          ],
          "scatterpolargl": [
           {
            "marker": {
             "colorbar": {
              "outlinewidth": 0,
              "ticks": ""
             }
            },
            "type": "scatterpolargl"
           }
          ],
          "scatterternary": [
           {
            "marker": {
             "colorbar": {
              "outlinewidth": 0,
              "ticks": ""
             }
            },
            "type": "scatterternary"
           }
          ],
          "surface": [
           {
            "colorbar": {
             "outlinewidth": 0,
             "ticks": ""
            },
            "colorscale": [
             [
              0,
              "#0d0887"
             ],
             [
              0.1111111111111111,
              "#46039f"
             ],
             [
              0.2222222222222222,
              "#7201a8"
             ],
             [
              0.3333333333333333,
              "#9c179e"
             ],
             [
              0.4444444444444444,
              "#bd3786"
             ],
             [
              0.5555555555555556,
              "#d8576b"
             ],
             [
              0.6666666666666666,
              "#ed7953"
             ],
             [
              0.7777777777777778,
              "#fb9f3a"
             ],
             [
              0.8888888888888888,
              "#fdca26"
             ],
             [
              1,
              "#f0f921"
             ]
            ],
            "type": "surface"
           }
          ],
          "table": [
           {
            "cells": {
             "fill": {
              "color": "#506784"
             },
             "line": {
              "color": "rgb(17,17,17)"
             }
            },
            "header": {
             "fill": {
              "color": "#2a3f5f"
             },
             "line": {
              "color": "rgb(17,17,17)"
             }
            },
            "type": "table"
           }
          ]
         },
         "layout": {
          "annotationdefaults": {
           "arrowcolor": "#f2f5fa",
           "arrowhead": 0,
           "arrowwidth": 1
          },
          "autotypenumbers": "strict",
          "coloraxis": {
           "colorbar": {
            "outlinewidth": 0,
            "ticks": ""
           }
          },
          "colorscale": {
           "diverging": [
            [
             0,
             "#8e0152"
            ],
            [
             0.1,
             "#c51b7d"
            ],
            [
             0.2,
             "#de77ae"
            ],
            [
             0.3,
             "#f1b6da"
            ],
            [
             0.4,
             "#fde0ef"
            ],
            [
             0.5,
             "#f7f7f7"
            ],
            [
             0.6,
             "#e6f5d0"
            ],
            [
             0.7,
             "#b8e186"
            ],
            [
             0.8,
             "#7fbc41"
            ],
            [
             0.9,
             "#4d9221"
            ],
            [
             1,
             "#276419"
            ]
           ],
           "sequential": [
            [
             0,
             "#0d0887"
            ],
            [
             0.1111111111111111,
             "#46039f"
            ],
            [
             0.2222222222222222,
             "#7201a8"
            ],
            [
             0.3333333333333333,
             "#9c179e"
            ],
            [
             0.4444444444444444,
             "#bd3786"
            ],
            [
             0.5555555555555556,
             "#d8576b"
            ],
            [
             0.6666666666666666,
             "#ed7953"
            ],
            [
             0.7777777777777778,
             "#fb9f3a"
            ],
            [
             0.8888888888888888,
             "#fdca26"
            ],
            [
             1,
             "#f0f921"
            ]
           ],
           "sequentialminus": [
            [
             0,
             "#0d0887"
            ],
            [
             0.1111111111111111,
             "#46039f"
            ],
            [
             0.2222222222222222,
             "#7201a8"
            ],
            [
             0.3333333333333333,
             "#9c179e"
            ],
            [
             0.4444444444444444,
             "#bd3786"
            ],
            [
             0.5555555555555556,
             "#d8576b"
            ],
            [
             0.6666666666666666,
             "#ed7953"
            ],
            [
             0.7777777777777778,
             "#fb9f3a"
            ],
            [
             0.8888888888888888,
             "#fdca26"
            ],
            [
             1,
             "#f0f921"
            ]
           ]
          },
          "colorway": [
           "#636efa",
           "#EF553B",
           "#00cc96",
           "#ab63fa",
           "#FFA15A",
           "#19d3f3",
           "#FF6692",
           "#B6E880",
           "#FF97FF",
           "#FECB52"
          ],
          "font": {
           "color": "#f2f5fa"
          },
          "geo": {
           "bgcolor": "rgb(17,17,17)",
           "lakecolor": "rgb(17,17,17)",
           "landcolor": "rgb(17,17,17)",
           "showlakes": true,
           "showland": true,
           "subunitcolor": "#506784"
          },
          "hoverlabel": {
           "align": "left"
          },
          "hovermode": "closest",
          "mapbox": {
           "style": "dark"
          },
          "paper_bgcolor": "rgb(17,17,17)",
          "plot_bgcolor": "rgb(17,17,17)",
          "polar": {
           "angularaxis": {
            "gridcolor": "#506784",
            "linecolor": "#506784",
            "ticks": ""
           },
           "bgcolor": "rgb(17,17,17)",
           "radialaxis": {
            "gridcolor": "#506784",
            "linecolor": "#506784",
            "ticks": ""
           }
          },
          "scene": {
           "xaxis": {
            "backgroundcolor": "rgb(17,17,17)",
            "gridcolor": "#506784",
            "gridwidth": 2,
            "linecolor": "#506784",
            "showbackground": true,
            "ticks": "",
            "zerolinecolor": "#C8D4E3"
           },
           "yaxis": {
            "backgroundcolor": "rgb(17,17,17)",
            "gridcolor": "#506784",
            "gridwidth": 2,
            "linecolor": "#506784",
            "showbackground": true,
            "ticks": "",
            "zerolinecolor": "#C8D4E3"
           },
           "zaxis": {
            "backgroundcolor": "rgb(17,17,17)",
            "gridcolor": "#506784",
            "gridwidth": 2,
            "linecolor": "#506784",
            "showbackground": true,
            "ticks": "",
            "zerolinecolor": "#C8D4E3"
           }
          },
          "shapedefaults": {
           "line": {
            "color": "#f2f5fa"
           }
          },
          "sliderdefaults": {
           "bgcolor": "#C8D4E3",
           "bordercolor": "rgb(17,17,17)",
           "borderwidth": 1,
           "tickwidth": 0
          },
          "ternary": {
           "aaxis": {
            "gridcolor": "#506784",
            "linecolor": "#506784",
            "ticks": ""
           },
           "baxis": {
            "gridcolor": "#506784",
            "linecolor": "#506784",
            "ticks": ""
           },
           "bgcolor": "rgb(17,17,17)",
           "caxis": {
            "gridcolor": "#506784",
            "linecolor": "#506784",
            "ticks": ""
           }
          },
          "title": {
           "x": 0.05
          },
          "updatemenudefaults": {
           "bgcolor": "#506784",
           "borderwidth": 0
          },
          "xaxis": {
           "automargin": true,
           "gridcolor": "#283442",
           "linecolor": "#506784",
           "ticks": "",
           "title": {
            "standoff": 15
           },
           "zerolinecolor": "#283442",
           "zerolinewidth": 2
          },
          "yaxis": {
           "automargin": true,
           "gridcolor": "#283442",
           "linecolor": "#506784",
           "ticks": "",
           "title": {
            "standoff": 15
           },
           "zerolinecolor": "#283442",
           "zerolinewidth": 2
          }
         }
        },
        "title": {
         "font": {
          "color": "white",
          "size": 18
         },
         "text": "Top 5 artists in popularity, categorized by query genre",
         "x": 0.5,
         "xanchor": "center",
         "y": 0.95,
         "yanchor": "top"
        },
        "xaxis": {
         "anchor": "y",
         "domain": [
          0,
          1
         ],
         "title": {
          "text": "Artist_Name"
         }
        },
        "yaxis": {
         "anchor": "x",
         "domain": [
          0,
          1
         ],
         "title": {
          "text": "Popularity"
         }
        }
       }
      }
     },
     "metadata": {},
     "output_type": "display_data"
    }
   ],
   "source": [
    "df_tracks_query_genre_top_5 = df_tracks.groupby([\"Query_Genre\", \"Artist_Name\"]).agg({\"Popularity\" : \"mean\"}).reset_index()\n",
    "df_tracks_query_genre_top_5 = df_tracks_query_genre_top_5.groupby(\"Query_Genre\").apply(lambda x : x.nlargest(5, \"Popularity\")).reset_index(drop = True)\n",
    "\n",
    "Fig_10 = px.bar(df_tracks_query_genre_top_5, x = \"Artist_Name\", y = \"Popularity\", color = \"Query_Genre\")\n",
    "Fig_10.update_layout(height = 600,\n",
    "                  plot_bgcolor = \"rgb(84,52,107)\", paper_bgcolor = \"rgb(84,52,107)\",\n",
    "                  hovermode = \"x unified\", hoverlabel = dict(bgcolor = \"white\",  font_size = 16, font_family = \"Rockwell\", font_color = \"black\"),\n",
    "                  title = {\"text\" : \"Top 5 artists in popularity, categorized by query genre\", 'x' : 0.5, 'xanchor' : 'center', 'y' : 0.95, 'yanchor' : 'top', 'font' : { 'size' : 18, 'color' : 'white'}})\n",
    "Fig_10_Copy = Fig_10\n",
    "Fig_10.show()"
   ]
  },
  {
   "cell_type": "code",
   "execution_count": 16,
   "metadata": {},
   "outputs": [
    {
     "data": {
      "application/vnd.plotly.v1+json": {
       "config": {
        "plotlyServerURL": "https://plot.ly"
       },
       "data": [
        {
         "hovertemplate": "<b>Query Genre</b>: %{x}<br><b>Duration Category</b>: 0 - 1<br><b>Count of Song</b>: %{y}<br>",
         "name": "0 - 1",
         "text": [
          0,
          2,
          0,
          1,
          3,
          1,
          2
         ],
         "textposition": "outside",
         "type": "bar",
         "x": [
          "chinese",
          "j-dance",
          "j-idol",
          "j-pop",
          "japanese",
          "k-pop",
          "korean"
         ],
         "y": [
          0,
          2,
          0,
          1,
          3,
          1,
          2
         ]
        },
        {
         "hovertemplate": "<b>Query Genre</b>: %{x}<br><b>Duration Category</b>: 1 - 2<br><b>Count of Song</b>: %{y}<br>",
         "name": "1 - 2",
         "text": [
          18,
          22,
          5,
          9,
          12,
          22,
          30
         ],
         "textposition": "outside",
         "type": "bar",
         "x": [
          "chinese",
          "j-dance",
          "j-idol",
          "j-pop",
          "japanese",
          "k-pop",
          "korean"
         ],
         "y": [
          18,
          22,
          5,
          9,
          12,
          22,
          30
         ]
        },
        {
         "hovertemplate": "<b>Query Genre</b>: %{x}<br><b>Duration Category</b>: 2 - 3<br><b>Count of Song</b>: %{y}<br>",
         "name": "2 - 3",
         "text": [
          204,
          125,
          14,
          65,
          120,
          287,
          126
         ],
         "textposition": "outside",
         "type": "bar",
         "x": [
          "chinese",
          "j-dance",
          "j-idol",
          "j-pop",
          "japanese",
          "k-pop",
          "korean"
         ],
         "y": [
          204,
          125,
          14,
          65,
          120,
          287,
          126
         ]
        },
        {
         "hovertemplate": "<b>Query Genre</b>: %{x}<br><b>Duration Category</b>: 3 - 4<br><b>Count of Song</b>: %{y}<br>",
         "name": "3 - 4",
         "text": [
          701,
          775,
          869,
          794,
          765,
          679,
          812
         ],
         "textposition": "outside",
         "type": "bar",
         "x": [
          "chinese",
          "j-dance",
          "j-idol",
          "j-pop",
          "japanese",
          "k-pop",
          "korean"
         ],
         "y": [
          701,
          775,
          869,
          794,
          765,
          679,
          812
         ]
        }
       ],
       "layout": {
        "height": 600,
        "hoverlabel": {
         "bgcolor": "white",
         "font": {
          "color": "black",
          "family": "Rockwell",
          "size": 16
         }
        },
        "hovermode": "x unified",
        "paper_bgcolor": "rgb(84,52,107)",
        "plot_bgcolor": "rgb(84,52,107)",
        "template": {
         "data": {
          "bar": [
           {
            "error_x": {
             "color": "#f2f5fa"
            },
            "error_y": {
             "color": "#f2f5fa"
            },
            "marker": {
             "line": {
              "color": "rgb(17,17,17)",
              "width": 0.5
             },
             "pattern": {
              "fillmode": "overlay",
              "size": 10,
              "solidity": 0.2
             }
            },
            "type": "bar"
           }
          ],
          "barpolar": [
           {
            "marker": {
             "line": {
              "color": "rgb(17,17,17)",
              "width": 0.5
             },
             "pattern": {
              "fillmode": "overlay",
              "size": 10,
              "solidity": 0.2
             }
            },
            "type": "barpolar"
           }
          ],
          "carpet": [
           {
            "aaxis": {
             "endlinecolor": "#A2B1C6",
             "gridcolor": "#506784",
             "linecolor": "#506784",
             "minorgridcolor": "#506784",
             "startlinecolor": "#A2B1C6"
            },
            "baxis": {
             "endlinecolor": "#A2B1C6",
             "gridcolor": "#506784",
             "linecolor": "#506784",
             "minorgridcolor": "#506784",
             "startlinecolor": "#A2B1C6"
            },
            "type": "carpet"
           }
          ],
          "choropleth": [
           {
            "colorbar": {
             "outlinewidth": 0,
             "ticks": ""
            },
            "type": "choropleth"
           }
          ],
          "contour": [
           {
            "colorbar": {
             "outlinewidth": 0,
             "ticks": ""
            },
            "colorscale": [
             [
              0,
              "#0d0887"
             ],
             [
              0.1111111111111111,
              "#46039f"
             ],
             [
              0.2222222222222222,
              "#7201a8"
             ],
             [
              0.3333333333333333,
              "#9c179e"
             ],
             [
              0.4444444444444444,
              "#bd3786"
             ],
             [
              0.5555555555555556,
              "#d8576b"
             ],
             [
              0.6666666666666666,
              "#ed7953"
             ],
             [
              0.7777777777777778,
              "#fb9f3a"
             ],
             [
              0.8888888888888888,
              "#fdca26"
             ],
             [
              1,
              "#f0f921"
             ]
            ],
            "type": "contour"
           }
          ],
          "contourcarpet": [
           {
            "colorbar": {
             "outlinewidth": 0,
             "ticks": ""
            },
            "type": "contourcarpet"
           }
          ],
          "heatmap": [
           {
            "colorbar": {
             "outlinewidth": 0,
             "ticks": ""
            },
            "colorscale": [
             [
              0,
              "#0d0887"
             ],
             [
              0.1111111111111111,
              "#46039f"
             ],
             [
              0.2222222222222222,
              "#7201a8"
             ],
             [
              0.3333333333333333,
              "#9c179e"
             ],
             [
              0.4444444444444444,
              "#bd3786"
             ],
             [
              0.5555555555555556,
              "#d8576b"
             ],
             [
              0.6666666666666666,
              "#ed7953"
             ],
             [
              0.7777777777777778,
              "#fb9f3a"
             ],
             [
              0.8888888888888888,
              "#fdca26"
             ],
             [
              1,
              "#f0f921"
             ]
            ],
            "type": "heatmap"
           }
          ],
          "heatmapgl": [
           {
            "colorbar": {
             "outlinewidth": 0,
             "ticks": ""
            },
            "colorscale": [
             [
              0,
              "#0d0887"
             ],
             [
              0.1111111111111111,
              "#46039f"
             ],
             [
              0.2222222222222222,
              "#7201a8"
             ],
             [
              0.3333333333333333,
              "#9c179e"
             ],
             [
              0.4444444444444444,
              "#bd3786"
             ],
             [
              0.5555555555555556,
              "#d8576b"
             ],
             [
              0.6666666666666666,
              "#ed7953"
             ],
             [
              0.7777777777777778,
              "#fb9f3a"
             ],
             [
              0.8888888888888888,
              "#fdca26"
             ],
             [
              1,
              "#f0f921"
             ]
            ],
            "type": "heatmapgl"
           }
          ],
          "histogram": [
           {
            "marker": {
             "pattern": {
              "fillmode": "overlay",
              "size": 10,
              "solidity": 0.2
             }
            },
            "type": "histogram"
           }
          ],
          "histogram2d": [
           {
            "colorbar": {
             "outlinewidth": 0,
             "ticks": ""
            },
            "colorscale": [
             [
              0,
              "#0d0887"
             ],
             [
              0.1111111111111111,
              "#46039f"
             ],
             [
              0.2222222222222222,
              "#7201a8"
             ],
             [
              0.3333333333333333,
              "#9c179e"
             ],
             [
              0.4444444444444444,
              "#bd3786"
             ],
             [
              0.5555555555555556,
              "#d8576b"
             ],
             [
              0.6666666666666666,
              "#ed7953"
             ],
             [
              0.7777777777777778,
              "#fb9f3a"
             ],
             [
              0.8888888888888888,
              "#fdca26"
             ],
             [
              1,
              "#f0f921"
             ]
            ],
            "type": "histogram2d"
           }
          ],
          "histogram2dcontour": [
           {
            "colorbar": {
             "outlinewidth": 0,
             "ticks": ""
            },
            "colorscale": [
             [
              0,
              "#0d0887"
             ],
             [
              0.1111111111111111,
              "#46039f"
             ],
             [
              0.2222222222222222,
              "#7201a8"
             ],
             [
              0.3333333333333333,
              "#9c179e"
             ],
             [
              0.4444444444444444,
              "#bd3786"
             ],
             [
              0.5555555555555556,
              "#d8576b"
             ],
             [
              0.6666666666666666,
              "#ed7953"
             ],
             [
              0.7777777777777778,
              "#fb9f3a"
             ],
             [
              0.8888888888888888,
              "#fdca26"
             ],
             [
              1,
              "#f0f921"
             ]
            ],
            "type": "histogram2dcontour"
           }
          ],
          "mesh3d": [
           {
            "colorbar": {
             "outlinewidth": 0,
             "ticks": ""
            },
            "type": "mesh3d"
           }
          ],
          "parcoords": [
           {
            "line": {
             "colorbar": {
              "outlinewidth": 0,
              "ticks": ""
             }
            },
            "type": "parcoords"
           }
          ],
          "pie": [
           {
            "automargin": true,
            "type": "pie"
           }
          ],
          "scatter": [
           {
            "marker": {
             "line": {
              "color": "#283442"
             }
            },
            "type": "scatter"
           }
          ],
          "scatter3d": [
           {
            "line": {
             "colorbar": {
              "outlinewidth": 0,
              "ticks": ""
             }
            },
            "marker": {
             "colorbar": {
              "outlinewidth": 0,
              "ticks": ""
             }
            },
            "type": "scatter3d"
           }
          ],
          "scattercarpet": [
           {
            "marker": {
             "colorbar": {
              "outlinewidth": 0,
              "ticks": ""
             }
            },
            "type": "scattercarpet"
           }
          ],
          "scattergeo": [
           {
            "marker": {
             "colorbar": {
              "outlinewidth": 0,
              "ticks": ""
             }
            },
            "type": "scattergeo"
           }
          ],
          "scattergl": [
           {
            "marker": {
             "line": {
              "color": "#283442"
             }
            },
            "type": "scattergl"
           }
          ],
          "scattermapbox": [
           {
            "marker": {
             "colorbar": {
              "outlinewidth": 0,
              "ticks": ""
             }
            },
            "type": "scattermapbox"
           }
          ],
          "scatterpolar": [
           {
            "marker": {
             "colorbar": {
              "outlinewidth": 0,
              "ticks": ""
             }
            },
            "type": "scatterpolar"
           }
          ],
          "scatterpolargl": [
           {
            "marker": {
             "colorbar": {
              "outlinewidth": 0,
              "ticks": ""
             }
            },
            "type": "scatterpolargl"
           }
          ],
          "scatterternary": [
           {
            "marker": {
             "colorbar": {
              "outlinewidth": 0,
              "ticks": ""
             }
            },
            "type": "scatterternary"
           }
          ],
          "surface": [
           {
            "colorbar": {
             "outlinewidth": 0,
             "ticks": ""
            },
            "colorscale": [
             [
              0,
              "#0d0887"
             ],
             [
              0.1111111111111111,
              "#46039f"
             ],
             [
              0.2222222222222222,
              "#7201a8"
             ],
             [
              0.3333333333333333,
              "#9c179e"
             ],
             [
              0.4444444444444444,
              "#bd3786"
             ],
             [
              0.5555555555555556,
              "#d8576b"
             ],
             [
              0.6666666666666666,
              "#ed7953"
             ],
             [
              0.7777777777777778,
              "#fb9f3a"
             ],
             [
              0.8888888888888888,
              "#fdca26"
             ],
             [
              1,
              "#f0f921"
             ]
            ],
            "type": "surface"
           }
          ],
          "table": [
           {
            "cells": {
             "fill": {
              "color": "#506784"
             },
             "line": {
              "color": "rgb(17,17,17)"
             }
            },
            "header": {
             "fill": {
              "color": "#2a3f5f"
             },
             "line": {
              "color": "rgb(17,17,17)"
             }
            },
            "type": "table"
           }
          ]
         },
         "layout": {
          "annotationdefaults": {
           "arrowcolor": "#f2f5fa",
           "arrowhead": 0,
           "arrowwidth": 1
          },
          "autotypenumbers": "strict",
          "coloraxis": {
           "colorbar": {
            "outlinewidth": 0,
            "ticks": ""
           }
          },
          "colorscale": {
           "diverging": [
            [
             0,
             "#8e0152"
            ],
            [
             0.1,
             "#c51b7d"
            ],
            [
             0.2,
             "#de77ae"
            ],
            [
             0.3,
             "#f1b6da"
            ],
            [
             0.4,
             "#fde0ef"
            ],
            [
             0.5,
             "#f7f7f7"
            ],
            [
             0.6,
             "#e6f5d0"
            ],
            [
             0.7,
             "#b8e186"
            ],
            [
             0.8,
             "#7fbc41"
            ],
            [
             0.9,
             "#4d9221"
            ],
            [
             1,
             "#276419"
            ]
           ],
           "sequential": [
            [
             0,
             "#0d0887"
            ],
            [
             0.1111111111111111,
             "#46039f"
            ],
            [
             0.2222222222222222,
             "#7201a8"
            ],
            [
             0.3333333333333333,
             "#9c179e"
            ],
            [
             0.4444444444444444,
             "#bd3786"
            ],
            [
             0.5555555555555556,
             "#d8576b"
            ],
            [
             0.6666666666666666,
             "#ed7953"
            ],
            [
             0.7777777777777778,
             "#fb9f3a"
            ],
            [
             0.8888888888888888,
             "#fdca26"
            ],
            [
             1,
             "#f0f921"
            ]
           ],
           "sequentialminus": [
            [
             0,
             "#0d0887"
            ],
            [
             0.1111111111111111,
             "#46039f"
            ],
            [
             0.2222222222222222,
             "#7201a8"
            ],
            [
             0.3333333333333333,
             "#9c179e"
            ],
            [
             0.4444444444444444,
             "#bd3786"
            ],
            [
             0.5555555555555556,
             "#d8576b"
            ],
            [
             0.6666666666666666,
             "#ed7953"
            ],
            [
             0.7777777777777778,
             "#fb9f3a"
            ],
            [
             0.8888888888888888,
             "#fdca26"
            ],
            [
             1,
             "#f0f921"
            ]
           ]
          },
          "colorway": [
           "#636efa",
           "#EF553B",
           "#00cc96",
           "#ab63fa",
           "#FFA15A",
           "#19d3f3",
           "#FF6692",
           "#B6E880",
           "#FF97FF",
           "#FECB52"
          ],
          "font": {
           "color": "#f2f5fa"
          },
          "geo": {
           "bgcolor": "rgb(17,17,17)",
           "lakecolor": "rgb(17,17,17)",
           "landcolor": "rgb(17,17,17)",
           "showlakes": true,
           "showland": true,
           "subunitcolor": "#506784"
          },
          "hoverlabel": {
           "align": "left"
          },
          "hovermode": "closest",
          "mapbox": {
           "style": "dark"
          },
          "paper_bgcolor": "rgb(17,17,17)",
          "plot_bgcolor": "rgb(17,17,17)",
          "polar": {
           "angularaxis": {
            "gridcolor": "#506784",
            "linecolor": "#506784",
            "ticks": ""
           },
           "bgcolor": "rgb(17,17,17)",
           "radialaxis": {
            "gridcolor": "#506784",
            "linecolor": "#506784",
            "ticks": ""
           }
          },
          "scene": {
           "xaxis": {
            "backgroundcolor": "rgb(17,17,17)",
            "gridcolor": "#506784",
            "gridwidth": 2,
            "linecolor": "#506784",
            "showbackground": true,
            "ticks": "",
            "zerolinecolor": "#C8D4E3"
           },
           "yaxis": {
            "backgroundcolor": "rgb(17,17,17)",
            "gridcolor": "#506784",
            "gridwidth": 2,
            "linecolor": "#506784",
            "showbackground": true,
            "ticks": "",
            "zerolinecolor": "#C8D4E3"
           },
           "zaxis": {
            "backgroundcolor": "rgb(17,17,17)",
            "gridcolor": "#506784",
            "gridwidth": 2,
            "linecolor": "#506784",
            "showbackground": true,
            "ticks": "",
            "zerolinecolor": "#C8D4E3"
           }
          },
          "shapedefaults": {
           "line": {
            "color": "#f2f5fa"
           }
          },
          "sliderdefaults": {
           "bgcolor": "#C8D4E3",
           "bordercolor": "rgb(17,17,17)",
           "borderwidth": 1,
           "tickwidth": 0
          },
          "ternary": {
           "aaxis": {
            "gridcolor": "#506784",
            "linecolor": "#506784",
            "ticks": ""
           },
           "baxis": {
            "gridcolor": "#506784",
            "linecolor": "#506784",
            "ticks": ""
           },
           "bgcolor": "rgb(17,17,17)",
           "caxis": {
            "gridcolor": "#506784",
            "linecolor": "#506784",
            "ticks": ""
           }
          },
          "title": {
           "x": 0.05
          },
          "updatemenudefaults": {
           "bgcolor": "#506784",
           "borderwidth": 0
          },
          "xaxis": {
           "automargin": true,
           "gridcolor": "#283442",
           "linecolor": "#506784",
           "ticks": "",
           "title": {
            "standoff": 15
           },
           "zerolinecolor": "#283442",
           "zerolinewidth": 2
          },
          "yaxis": {
           "automargin": true,
           "gridcolor": "#283442",
           "linecolor": "#506784",
           "ticks": "",
           "title": {
            "standoff": 15
           },
           "zerolinecolor": "#283442",
           "zerolinewidth": 2
          }
         }
        },
        "title": {
         "font": {
          "color": "white",
          "size": 18
         },
         "text": "Total Number of Hit Songs by Query Genre and Song Duration",
         "x": 0.5,
         "xanchor": "center",
         "y": 0.95,
         "yanchor": "top"
        },
        "updatemenus": [
         {
          "active": 0,
          "buttons": [
           {
            "args": [
             {
              "visible": [
               true,
               true,
               true,
               true,
               true,
               true,
               true,
               true,
               true,
               true,
               true,
               true,
               true,
               true,
               true,
               true,
               true,
               true,
               true,
               true,
               true,
               true,
               true,
               true,
               true,
               true,
               true,
               true
              ]
             },
             {
              "title": "Total Number of Hit Songs by Query Genre and Song Duration"
             }
            ],
            "label": "All",
            "method": "update"
           },
           {
            "args": [
             {
              "visible": [
               true,
               false,
               false,
               false,
               true,
               false,
               false,
               false,
               true,
               false,
               false,
               false,
               true,
               false,
               false,
               false,
               true,
               false,
               false,
               false,
               true,
               false,
               false,
               false,
               true,
               false,
               false,
               false
              ]
             },
             {
              "title": " 0 - 1 Total Number of Hit Songs by Query Genre and Song Duration"
             }
            ],
            "label": "0 - 1",
            "method": "update"
           },
           {
            "args": [
             {
              "visible": [
               false,
               true,
               false,
               false,
               false,
               true,
               false,
               false,
               false,
               true,
               false,
               false,
               false,
               true,
               false,
               false,
               false,
               true,
               false,
               false,
               false,
               true,
               false,
               false,
               false,
               true,
               false,
               false
              ]
             },
             {
              "title": " 1 - 2 Total Number of Hit Songs by Query Genre and Song Duration"
             }
            ],
            "label": "1 - 2",
            "method": "update"
           },
           {
            "args": [
             {
              "visible": [
               false,
               false,
               true,
               false,
               false,
               false,
               true,
               false,
               false,
               false,
               true,
               false,
               false,
               false,
               true,
               false,
               false,
               false,
               true,
               false,
               false,
               false,
               true,
               false,
               false,
               false,
               true,
               false
              ]
             },
             {
              "title": " 2 - 3 Total Number of Hit Songs by Query Genre and Song Duration"
             }
            ],
            "label": "2 - 3",
            "method": "update"
           },
           {
            "args": [
             {
              "visible": [
               false,
               false,
               false,
               true,
               false,
               false,
               false,
               true,
               false,
               false,
               false,
               true,
               false,
               false,
               false,
               true,
               false,
               false,
               false,
               true,
               false,
               false,
               false,
               true,
               false,
               false,
               false,
               true
              ]
             },
             {
              "title": " 3 - 4 Total Number of Hit Songs by Query Genre and Song Duration"
             }
            ],
            "label": "3 - 4",
            "method": "update"
           }
          ]
         }
        ]
       }
      }
     },
     "metadata": {},
     "output_type": "display_data"
    }
   ],
   "source": [
    "df_tracks_duration_count = df_tracks.groupby([\"Query_Genre\", \"Duration_Cat\"]).agg({\"Song_Link\" : \"count\"}).reset_index().rename(columns = {\"Song_Link\" : \"Count_of_Song\"})\n",
    "df_tracks_duration_count[\"Count_of_Song\"].fillna(0, inplace = True)\n",
    "category_orders = {\"Duration_Cat\" : [\"3 - 4\", \"2 - 3\", \"1 - 2\", \"0 - 1\"]}\n",
    "\n",
    "\n",
    "unique_duration_cats = df_tracks_duration_count['Duration_Cat'].unique()\n",
    "buttons = [dict(label = 'All', method = 'update', args = [{'visible' : df_tracks_duration_count['Duration_Cat'].isin(unique_duration_cats)}, {'title' : 'Total Number of Hit Songs by Query Genre and Song Duration'}])]\n",
    "\n",
    "for cat in unique_duration_cats:\n",
    "    buttons.append(dict(label = cat, method = 'update', args = [{'visible' : df_tracks_duration_count['Duration_Cat'] == cat}, {'title' : f\" {cat} Total Number of Hit Songs by Query Genre and Song Duration\"}]))\n",
    "\n",
    "Fig_11 = go.Figure()\n",
    "\n",
    "for cat in unique_duration_cats:\n",
    "    Fig_11.add_trace(go.Bar(\n",
    "        x = df_tracks_duration_count[df_tracks_duration_count['Duration_Cat'] == cat][\"Query_Genre\"], \n",
    "        y = df_tracks_duration_count[df_tracks_duration_count['Duration_Cat'] == cat][\"Count_of_Song\"],\n",
    "        text = df_tracks_duration_count[df_tracks_duration_count['Duration_Cat'] == cat][\"Count_of_Song\"],\n",
    "        textposition = 'outside',\n",
    "        hovertemplate = '<b>Query Genre</b>: %{x}'+\n",
    "                        '<br><b>Duration Category</b>: '+cat+\n",
    "                        '<br><b>Count of Song</b>: %{y}<br>',\n",
    "        name = cat))\n",
    "\n",
    "Fig_11.update_layout(updatemenus = [go.layout.Updatemenu(active = 0, buttons = buttons)])\n",
    "\n",
    "Fig_11.update_layout(height = 600,\n",
    "                  plot_bgcolor = \"rgb(84,52,107)\", paper_bgcolor = \"rgb(84,52,107)\",\n",
    "                  hovermode = \"x unified\", hoverlabel = dict(bgcolor = \"white\",  font_size = 16, font_family = \"Rockwell\", font_color = \"black\"),\n",
    "                  title = {\"text\" : \"Total Number of Hit Songs by Query Genre and Song Duration\", 'x' : 0.5, 'xanchor' : 'center', 'y' : 0.95, 'yanchor' : 'top', 'font' : { 'size' : 18, 'color' : 'white'}})\n",
    "\n",
    "Fig_11.show()\n"
   ]
  },
  {
   "cell_type": "code",
   "execution_count": 17,
   "metadata": {},
   "outputs": [
    {
     "data": {
      "application/vnd.plotly.v1+json": {
       "config": {
        "plotlyServerURL": "https://plot.ly"
       },
       "data": [
        {
         "hovertemplate": "<b>Query Genre</b>: %{x}<br><b>Duration Category</b>: 0 - 1<br><b>Avg Popularity</b>: %{y}<br>",
         "name": "0 - 1",
         "text": [
          0,
          24,
          0,
          14,
          63.67,
          0,
          58.5
         ],
         "textposition": "outside",
         "type": "bar",
         "x": [
          "chinese",
          "j-dance",
          "j-idol",
          "j-pop",
          "japanese",
          "k-pop",
          "korean"
         ],
         "y": [
          0,
          24,
          0,
          14,
          63.666666666666664,
          0,
          58.5
         ]
        },
        {
         "hovertemplate": "<b>Query Genre</b>: %{x}<br><b>Duration Category</b>: 1 - 2<br><b>Avg Popularity</b>: %{y}<br>",
         "name": "1 - 2",
         "text": [
          42.5,
          31.68,
          29.2,
          36.67,
          55.17,
          29.82,
          52.43
         ],
         "textposition": "outside",
         "type": "bar",
         "x": [
          "chinese",
          "j-dance",
          "j-idol",
          "j-pop",
          "japanese",
          "k-pop",
          "korean"
         ],
         "y": [
          42.5,
          31.681818181818183,
          29.2,
          36.666666666666664,
          55.166666666666664,
          29.818181818181817,
          52.43333333333333
         ]
        },
        {
         "hovertemplate": "<b>Query Genre</b>: %{x}<br><b>Duration Category</b>: 2 - 3<br><b>Avg Popularity</b>: %{y}<br>",
         "name": "2 - 3",
         "text": [
          43.67,
          33.54,
          38.36,
          54.26,
          56.36,
          46.96,
          53.13
         ],
         "textposition": "outside",
         "type": "bar",
         "x": [
          "chinese",
          "j-dance",
          "j-idol",
          "j-pop",
          "japanese",
          "k-pop",
          "korean"
         ],
         "y": [
          43.666666666666664,
          33.536,
          38.357142857142854,
          54.261538461538464,
          56.358333333333334,
          46.958188153310104,
          53.13492063492063
         ]
        },
        {
         "hovertemplate": "<b>Query Genre</b>: %{x}<br><b>Duration Category</b>: 3 - 4<br><b>Avg Popularity</b>: %{y}<br>",
         "name": "3 - 4",
         "text": [
          48.78,
          30.16,
          38.33,
          58.07,
          57.97,
          64.94,
          53.65
         ],
         "textposition": "outside",
         "type": "bar",
         "x": [
          "chinese",
          "j-dance",
          "j-idol",
          "j-pop",
          "japanese",
          "k-pop",
          "korean"
         ],
         "y": [
          48.78316690442225,
          30.16,
          38.33141542002301,
          58.07304785894207,
          57.97124183006536,
          64.94256259204712,
          53.64655172413793
         ]
        }
       ],
       "layout": {
        "height": 600,
        "hoverlabel": {
         "bgcolor": "white",
         "font": {
          "color": "black",
          "family": "Rockwell",
          "size": 16
         }
        },
        "hovermode": "x unified",
        "paper_bgcolor": "rgb(84,52,107)",
        "plot_bgcolor": "rgb(84,52,107)",
        "template": {
         "data": {
          "bar": [
           {
            "error_x": {
             "color": "#f2f5fa"
            },
            "error_y": {
             "color": "#f2f5fa"
            },
            "marker": {
             "line": {
              "color": "rgb(17,17,17)",
              "width": 0.5
             },
             "pattern": {
              "fillmode": "overlay",
              "size": 10,
              "solidity": 0.2
             }
            },
            "type": "bar"
           }
          ],
          "barpolar": [
           {
            "marker": {
             "line": {
              "color": "rgb(17,17,17)",
              "width": 0.5
             },
             "pattern": {
              "fillmode": "overlay",
              "size": 10,
              "solidity": 0.2
             }
            },
            "type": "barpolar"
           }
          ],
          "carpet": [
           {
            "aaxis": {
             "endlinecolor": "#A2B1C6",
             "gridcolor": "#506784",
             "linecolor": "#506784",
             "minorgridcolor": "#506784",
             "startlinecolor": "#A2B1C6"
            },
            "baxis": {
             "endlinecolor": "#A2B1C6",
             "gridcolor": "#506784",
             "linecolor": "#506784",
             "minorgridcolor": "#506784",
             "startlinecolor": "#A2B1C6"
            },
            "type": "carpet"
           }
          ],
          "choropleth": [
           {
            "colorbar": {
             "outlinewidth": 0,
             "ticks": ""
            },
            "type": "choropleth"
           }
          ],
          "contour": [
           {
            "colorbar": {
             "outlinewidth": 0,
             "ticks": ""
            },
            "colorscale": [
             [
              0,
              "#0d0887"
             ],
             [
              0.1111111111111111,
              "#46039f"
             ],
             [
              0.2222222222222222,
              "#7201a8"
             ],
             [
              0.3333333333333333,
              "#9c179e"
             ],
             [
              0.4444444444444444,
              "#bd3786"
             ],
             [
              0.5555555555555556,
              "#d8576b"
             ],
             [
              0.6666666666666666,
              "#ed7953"
             ],
             [
              0.7777777777777778,
              "#fb9f3a"
             ],
             [
              0.8888888888888888,
              "#fdca26"
             ],
             [
              1,
              "#f0f921"
             ]
            ],
            "type": "contour"
           }
          ],
          "contourcarpet": [
           {
            "colorbar": {
             "outlinewidth": 0,
             "ticks": ""
            },
            "type": "contourcarpet"
           }
          ],
          "heatmap": [
           {
            "colorbar": {
             "outlinewidth": 0,
             "ticks": ""
            },
            "colorscale": [
             [
              0,
              "#0d0887"
             ],
             [
              0.1111111111111111,
              "#46039f"
             ],
             [
              0.2222222222222222,
              "#7201a8"
             ],
             [
              0.3333333333333333,
              "#9c179e"
             ],
             [
              0.4444444444444444,
              "#bd3786"
             ],
             [
              0.5555555555555556,
              "#d8576b"
             ],
             [
              0.6666666666666666,
              "#ed7953"
             ],
             [
              0.7777777777777778,
              "#fb9f3a"
             ],
             [
              0.8888888888888888,
              "#fdca26"
             ],
             [
              1,
              "#f0f921"
             ]
            ],
            "type": "heatmap"
           }
          ],
          "heatmapgl": [
           {
            "colorbar": {
             "outlinewidth": 0,
             "ticks": ""
            },
            "colorscale": [
             [
              0,
              "#0d0887"
             ],
             [
              0.1111111111111111,
              "#46039f"
             ],
             [
              0.2222222222222222,
              "#7201a8"
             ],
             [
              0.3333333333333333,
              "#9c179e"
             ],
             [
              0.4444444444444444,
              "#bd3786"
             ],
             [
              0.5555555555555556,
              "#d8576b"
             ],
             [
              0.6666666666666666,
              "#ed7953"
             ],
             [
              0.7777777777777778,
              "#fb9f3a"
             ],
             [
              0.8888888888888888,
              "#fdca26"
             ],
             [
              1,
              "#f0f921"
             ]
            ],
            "type": "heatmapgl"
           }
          ],
          "histogram": [
           {
            "marker": {
             "pattern": {
              "fillmode": "overlay",
              "size": 10,
              "solidity": 0.2
             }
            },
            "type": "histogram"
           }
          ],
          "histogram2d": [
           {
            "colorbar": {
             "outlinewidth": 0,
             "ticks": ""
            },
            "colorscale": [
             [
              0,
              "#0d0887"
             ],
             [
              0.1111111111111111,
              "#46039f"
             ],
             [
              0.2222222222222222,
              "#7201a8"
             ],
             [
              0.3333333333333333,
              "#9c179e"
             ],
             [
              0.4444444444444444,
              "#bd3786"
             ],
             [
              0.5555555555555556,
              "#d8576b"
             ],
             [
              0.6666666666666666,
              "#ed7953"
             ],
             [
              0.7777777777777778,
              "#fb9f3a"
             ],
             [
              0.8888888888888888,
              "#fdca26"
             ],
             [
              1,
              "#f0f921"
             ]
            ],
            "type": "histogram2d"
           }
          ],
          "histogram2dcontour": [
           {
            "colorbar": {
             "outlinewidth": 0,
             "ticks": ""
            },
            "colorscale": [
             [
              0,
              "#0d0887"
             ],
             [
              0.1111111111111111,
              "#46039f"
             ],
             [
              0.2222222222222222,
              "#7201a8"
             ],
             [
              0.3333333333333333,
              "#9c179e"
             ],
             [
              0.4444444444444444,
              "#bd3786"
             ],
             [
              0.5555555555555556,
              "#d8576b"
             ],
             [
              0.6666666666666666,
              "#ed7953"
             ],
             [
              0.7777777777777778,
              "#fb9f3a"
             ],
             [
              0.8888888888888888,
              "#fdca26"
             ],
             [
              1,
              "#f0f921"
             ]
            ],
            "type": "histogram2dcontour"
           }
          ],
          "mesh3d": [
           {
            "colorbar": {
             "outlinewidth": 0,
             "ticks": ""
            },
            "type": "mesh3d"
           }
          ],
          "parcoords": [
           {
            "line": {
             "colorbar": {
              "outlinewidth": 0,
              "ticks": ""
             }
            },
            "type": "parcoords"
           }
          ],
          "pie": [
           {
            "automargin": true,
            "type": "pie"
           }
          ],
          "scatter": [
           {
            "marker": {
             "line": {
              "color": "#283442"
             }
            },
            "type": "scatter"
           }
          ],
          "scatter3d": [
           {
            "line": {
             "colorbar": {
              "outlinewidth": 0,
              "ticks": ""
             }
            },
            "marker": {
             "colorbar": {
              "outlinewidth": 0,
              "ticks": ""
             }
            },
            "type": "scatter3d"
           }
          ],
          "scattercarpet": [
           {
            "marker": {
             "colorbar": {
              "outlinewidth": 0,
              "ticks": ""
             }
            },
            "type": "scattercarpet"
           }
          ],
          "scattergeo": [
           {
            "marker": {
             "colorbar": {
              "outlinewidth": 0,
              "ticks": ""
             }
            },
            "type": "scattergeo"
           }
          ],
          "scattergl": [
           {
            "marker": {
             "line": {
              "color": "#283442"
             }
            },
            "type": "scattergl"
           }
          ],
          "scattermapbox": [
           {
            "marker": {
             "colorbar": {
              "outlinewidth": 0,
              "ticks": ""
             }
            },
            "type": "scattermapbox"
           }
          ],
          "scatterpolar": [
           {
            "marker": {
             "colorbar": {
              "outlinewidth": 0,
              "ticks": ""
             }
            },
            "type": "scatterpolar"
           }
          ],
          "scatterpolargl": [
           {
            "marker": {
             "colorbar": {
              "outlinewidth": 0,
              "ticks": ""
             }
            },
            "type": "scatterpolargl"
           }
          ],
          "scatterternary": [
           {
            "marker": {
             "colorbar": {
              "outlinewidth": 0,
              "ticks": ""
             }
            },
            "type": "scatterternary"
           }
          ],
          "surface": [
           {
            "colorbar": {
             "outlinewidth": 0,
             "ticks": ""
            },
            "colorscale": [
             [
              0,
              "#0d0887"
             ],
             [
              0.1111111111111111,
              "#46039f"
             ],
             [
              0.2222222222222222,
              "#7201a8"
             ],
             [
              0.3333333333333333,
              "#9c179e"
             ],
             [
              0.4444444444444444,
              "#bd3786"
             ],
             [
              0.5555555555555556,
              "#d8576b"
             ],
             [
              0.6666666666666666,
              "#ed7953"
             ],
             [
              0.7777777777777778,
              "#fb9f3a"
             ],
             [
              0.8888888888888888,
              "#fdca26"
             ],
             [
              1,
              "#f0f921"
             ]
            ],
            "type": "surface"
           }
          ],
          "table": [
           {
            "cells": {
             "fill": {
              "color": "#506784"
             },
             "line": {
              "color": "rgb(17,17,17)"
             }
            },
            "header": {
             "fill": {
              "color": "#2a3f5f"
             },
             "line": {
              "color": "rgb(17,17,17)"
             }
            },
            "type": "table"
           }
          ]
         },
         "layout": {
          "annotationdefaults": {
           "arrowcolor": "#f2f5fa",
           "arrowhead": 0,
           "arrowwidth": 1
          },
          "autotypenumbers": "strict",
          "coloraxis": {
           "colorbar": {
            "outlinewidth": 0,
            "ticks": ""
           }
          },
          "colorscale": {
           "diverging": [
            [
             0,
             "#8e0152"
            ],
            [
             0.1,
             "#c51b7d"
            ],
            [
             0.2,
             "#de77ae"
            ],
            [
             0.3,
             "#f1b6da"
            ],
            [
             0.4,
             "#fde0ef"
            ],
            [
             0.5,
             "#f7f7f7"
            ],
            [
             0.6,
             "#e6f5d0"
            ],
            [
             0.7,
             "#b8e186"
            ],
            [
             0.8,
             "#7fbc41"
            ],
            [
             0.9,
             "#4d9221"
            ],
            [
             1,
             "#276419"
            ]
           ],
           "sequential": [
            [
             0,
             "#0d0887"
            ],
            [
             0.1111111111111111,
             "#46039f"
            ],
            [
             0.2222222222222222,
             "#7201a8"
            ],
            [
             0.3333333333333333,
             "#9c179e"
            ],
            [
             0.4444444444444444,
             "#bd3786"
            ],
            [
             0.5555555555555556,
             "#d8576b"
            ],
            [
             0.6666666666666666,
             "#ed7953"
            ],
            [
             0.7777777777777778,
             "#fb9f3a"
            ],
            [
             0.8888888888888888,
             "#fdca26"
            ],
            [
             1,
             "#f0f921"
            ]
           ],
           "sequentialminus": [
            [
             0,
             "#0d0887"
            ],
            [
             0.1111111111111111,
             "#46039f"
            ],
            [
             0.2222222222222222,
             "#7201a8"
            ],
            [
             0.3333333333333333,
             "#9c179e"
            ],
            [
             0.4444444444444444,
             "#bd3786"
            ],
            [
             0.5555555555555556,
             "#d8576b"
            ],
            [
             0.6666666666666666,
             "#ed7953"
            ],
            [
             0.7777777777777778,
             "#fb9f3a"
            ],
            [
             0.8888888888888888,
             "#fdca26"
            ],
            [
             1,
             "#f0f921"
            ]
           ]
          },
          "colorway": [
           "#636efa",
           "#EF553B",
           "#00cc96",
           "#ab63fa",
           "#FFA15A",
           "#19d3f3",
           "#FF6692",
           "#B6E880",
           "#FF97FF",
           "#FECB52"
          ],
          "font": {
           "color": "#f2f5fa"
          },
          "geo": {
           "bgcolor": "rgb(17,17,17)",
           "lakecolor": "rgb(17,17,17)",
           "landcolor": "rgb(17,17,17)",
           "showlakes": true,
           "showland": true,
           "subunitcolor": "#506784"
          },
          "hoverlabel": {
           "align": "left"
          },
          "hovermode": "closest",
          "mapbox": {
           "style": "dark"
          },
          "paper_bgcolor": "rgb(17,17,17)",
          "plot_bgcolor": "rgb(17,17,17)",
          "polar": {
           "angularaxis": {
            "gridcolor": "#506784",
            "linecolor": "#506784",
            "ticks": ""
           },
           "bgcolor": "rgb(17,17,17)",
           "radialaxis": {
            "gridcolor": "#506784",
            "linecolor": "#506784",
            "ticks": ""
           }
          },
          "scene": {
           "xaxis": {
            "backgroundcolor": "rgb(17,17,17)",
            "gridcolor": "#506784",
            "gridwidth": 2,
            "linecolor": "#506784",
            "showbackground": true,
            "ticks": "",
            "zerolinecolor": "#C8D4E3"
           },
           "yaxis": {
            "backgroundcolor": "rgb(17,17,17)",
            "gridcolor": "#506784",
            "gridwidth": 2,
            "linecolor": "#506784",
            "showbackground": true,
            "ticks": "",
            "zerolinecolor": "#C8D4E3"
           },
           "zaxis": {
            "backgroundcolor": "rgb(17,17,17)",
            "gridcolor": "#506784",
            "gridwidth": 2,
            "linecolor": "#506784",
            "showbackground": true,
            "ticks": "",
            "zerolinecolor": "#C8D4E3"
           }
          },
          "shapedefaults": {
           "line": {
            "color": "#f2f5fa"
           }
          },
          "sliderdefaults": {
           "bgcolor": "#C8D4E3",
           "bordercolor": "rgb(17,17,17)",
           "borderwidth": 1,
           "tickwidth": 0
          },
          "ternary": {
           "aaxis": {
            "gridcolor": "#506784",
            "linecolor": "#506784",
            "ticks": ""
           },
           "baxis": {
            "gridcolor": "#506784",
            "linecolor": "#506784",
            "ticks": ""
           },
           "bgcolor": "rgb(17,17,17)",
           "caxis": {
            "gridcolor": "#506784",
            "linecolor": "#506784",
            "ticks": ""
           }
          },
          "title": {
           "x": 0.05
          },
          "updatemenudefaults": {
           "bgcolor": "#506784",
           "borderwidth": 0
          },
          "xaxis": {
           "automargin": true,
           "gridcolor": "#283442",
           "linecolor": "#506784",
           "ticks": "",
           "title": {
            "standoff": 15
           },
           "zerolinecolor": "#283442",
           "zerolinewidth": 2
          },
          "yaxis": {
           "automargin": true,
           "gridcolor": "#283442",
           "linecolor": "#506784",
           "ticks": "",
           "title": {
            "standoff": 15
           },
           "zerolinecolor": "#283442",
           "zerolinewidth": 2
          }
         }
        },
        "title": {
         "font": {
          "color": "white",
          "size": 18
         },
         "text": "Average Popularity by Query Genre and Song Duration",
         "x": 0.5,
         "xanchor": "center",
         "y": 0.95,
         "yanchor": "top"
        },
        "updatemenus": [
         {
          "active": 0,
          "buttons": [
           {
            "args": [
             {
              "visible": [
               true,
               true,
               true,
               true,
               true,
               true,
               true,
               true,
               true,
               true,
               true,
               true,
               true,
               true,
               true,
               true,
               true,
               true,
               true,
               true,
               true,
               true,
               true,
               true,
               true,
               true,
               true,
               true
              ]
             },
             {
              "title": "Average Popularity by Query Genre and Song Duration"
             }
            ],
            "label": "All",
            "method": "update"
           },
           {
            "args": [
             {
              "visible": [
               true,
               false,
               false,
               false,
               true,
               false,
               false,
               false,
               true,
               false,
               false,
               false,
               true,
               false,
               false,
               false,
               true,
               false,
               false,
               false,
               true,
               false,
               false,
               false,
               true,
               false,
               false,
               false
              ]
             },
             {
              "title": "0 - 1 Average Popularity by Query Genre and Song Duration"
             }
            ],
            "label": "0 - 1",
            "method": "update"
           },
           {
            "args": [
             {
              "visible": [
               false,
               true,
               false,
               false,
               false,
               true,
               false,
               false,
               false,
               true,
               false,
               false,
               false,
               true,
               false,
               false,
               false,
               true,
               false,
               false,
               false,
               true,
               false,
               false,
               false,
               true,
               false,
               false
              ]
             },
             {
              "title": "1 - 2 Average Popularity by Query Genre and Song Duration"
             }
            ],
            "label": "1 - 2",
            "method": "update"
           },
           {
            "args": [
             {
              "visible": [
               false,
               false,
               true,
               false,
               false,
               false,
               true,
               false,
               false,
               false,
               true,
               false,
               false,
               false,
               true,
               false,
               false,
               false,
               true,
               false,
               false,
               false,
               true,
               false,
               false,
               false,
               true,
               false
              ]
             },
             {
              "title": "2 - 3 Average Popularity by Query Genre and Song Duration"
             }
            ],
            "label": "2 - 3",
            "method": "update"
           },
           {
            "args": [
             {
              "visible": [
               false,
               false,
               false,
               true,
               false,
               false,
               false,
               true,
               false,
               false,
               false,
               true,
               false,
               false,
               false,
               true,
               false,
               false,
               false,
               true,
               false,
               false,
               false,
               true,
               false,
               false,
               false,
               true
              ]
             },
             {
              "title": "3 - 4 Average Popularity by Query Genre and Song Duration"
             }
            ],
            "label": "3 - 4",
            "method": "update"
           }
          ]
         }
        ]
       }
      }
     },
     "metadata": {},
     "output_type": "display_data"
    }
   ],
   "source": [
    "df_tracks_duration_genre = df_tracks.groupby([\"Query_Genre\", \"Duration_Cat\"]).agg({\"Popularity\" : \"mean\"}).reset_index()\n",
    "df_tracks_duration_genre[\"Popularity\"].fillna(0, inplace = True)\n",
    "category_orders = {\"Duration_Cat\" : [\"3 - 4\", \"2 - 3\", \"1 - 2\", \"0 - 1\"]}\n",
    "\n",
    "unique_duration_cats = df_tracks_duration_genre['Duration_Cat'].unique()\n",
    "\n",
    "buttons = [dict(label = 'All', method = 'update', args = [{'visible' : df_tracks_duration_genre['Duration_Cat'].isin(unique_duration_cats)}, {'title' : 'Average Popularity by Query Genre and Song Duration'}])]\n",
    "\n",
    "for cat in unique_duration_cats:\n",
    "    buttons.append(dict(label = cat, method = 'update', args = [{'visible' : df_tracks_duration_genre['Duration_Cat'] == cat}, {'title' : f\"{cat} Average Popularity by Query Genre and Song Duration\"}]))\n",
    "\n",
    "Fig_12 = go.Figure()\n",
    "\n",
    "for cat in unique_duration_cats:\n",
    "    Fig_12.add_trace(go.Bar(\n",
    "        x = df_tracks_duration_genre[df_tracks_duration_genre['Duration_Cat'] == cat][\"Query_Genre\"], \n",
    "        y = df_tracks_duration_genre[df_tracks_duration_genre['Duration_Cat'] == cat][\"Popularity\"],\n",
    "        text = round(df_tracks_duration_genre[df_tracks_duration_genre['Duration_Cat'] == cat][\"Popularity\"], 2),\n",
    "        textposition = 'outside',\n",
    "        hovertemplate = '<b>Query Genre</b>: %{x}'+\n",
    "                        '<br><b>Duration Category</b>: '+cat+\n",
    "                        '<br><b>Avg Popularity</b>: %{y}<br>',\n",
    "        name = cat))\n",
    "\n",
    "Fig_12.update_layout(updatemenus = [go.layout.Updatemenu(active = 0, buttons = buttons)])\n",
    "\n",
    "Fig_12.update_layout(height = 600,\n",
    "                  plot_bgcolor = \"rgb(84,52,107)\", paper_bgcolor = \"rgb(84,52,107)\",\n",
    "                  hovermode = \"x unified\", hoverlabel = dict(bgcolor = \"white\",  font_size = 16, font_family = \"Rockwell\", font_color = \"black\"),\n",
    "                  title = {\"text\" : \"Average Popularity by Query Genre and Song Duration\", 'x' : 0.5, 'xanchor' : 'center', 'y' : 0.95, 'yanchor' : 'top', 'font' : { 'size' : 18, 'color' : 'white'}})\n",
    "\n",
    "Fig_12.show()"
   ]
  },
  {
   "cell_type": "code",
   "execution_count": 18,
   "metadata": {},
   "outputs": [
    {
     "data": {
      "application/vnd.plotly.v1+json": {
       "config": {
        "plotlyServerURL": "https://plot.ly"
       },
       "data": [
        {
         "hovertemplate": "<b>Duration Category</b>: %{label}<br><b>Popularity</b>: %{value}<br>",
         "labels": [
          "0 - 1",
          "1 - 2",
          "2 - 3",
          "3 - 4"
         ],
         "type": "pie",
         "values": [
          41.111111111111114,
          40.92372881355932,
          46.86397449521785,
          49.860240963855425
         ]
        }
       ],
       "layout": {
        "height": 600,
        "hoverlabel": {
         "bgcolor": "white",
         "font": {
          "color": "black",
          "family": "Rockwell",
          "size": 16
         }
        },
        "hovermode": "x unified",
        "paper_bgcolor": "rgb(84,52,107)",
        "plot_bgcolor": "rgb(84,52,107)",
        "template": {
         "data": {
          "bar": [
           {
            "error_x": {
             "color": "#f2f5fa"
            },
            "error_y": {
             "color": "#f2f5fa"
            },
            "marker": {
             "line": {
              "color": "rgb(17,17,17)",
              "width": 0.5
             },
             "pattern": {
              "fillmode": "overlay",
              "size": 10,
              "solidity": 0.2
             }
            },
            "type": "bar"
           }
          ],
          "barpolar": [
           {
            "marker": {
             "line": {
              "color": "rgb(17,17,17)",
              "width": 0.5
             },
             "pattern": {
              "fillmode": "overlay",
              "size": 10,
              "solidity": 0.2
             }
            },
            "type": "barpolar"
           }
          ],
          "carpet": [
           {
            "aaxis": {
             "endlinecolor": "#A2B1C6",
             "gridcolor": "#506784",
             "linecolor": "#506784",
             "minorgridcolor": "#506784",
             "startlinecolor": "#A2B1C6"
            },
            "baxis": {
             "endlinecolor": "#A2B1C6",
             "gridcolor": "#506784",
             "linecolor": "#506784",
             "minorgridcolor": "#506784",
             "startlinecolor": "#A2B1C6"
            },
            "type": "carpet"
           }
          ],
          "choropleth": [
           {
            "colorbar": {
             "outlinewidth": 0,
             "ticks": ""
            },
            "type": "choropleth"
           }
          ],
          "contour": [
           {
            "colorbar": {
             "outlinewidth": 0,
             "ticks": ""
            },
            "colorscale": [
             [
              0,
              "#0d0887"
             ],
             [
              0.1111111111111111,
              "#46039f"
             ],
             [
              0.2222222222222222,
              "#7201a8"
             ],
             [
              0.3333333333333333,
              "#9c179e"
             ],
             [
              0.4444444444444444,
              "#bd3786"
             ],
             [
              0.5555555555555556,
              "#d8576b"
             ],
             [
              0.6666666666666666,
              "#ed7953"
             ],
             [
              0.7777777777777778,
              "#fb9f3a"
             ],
             [
              0.8888888888888888,
              "#fdca26"
             ],
             [
              1,
              "#f0f921"
             ]
            ],
            "type": "contour"
           }
          ],
          "contourcarpet": [
           {
            "colorbar": {
             "outlinewidth": 0,
             "ticks": ""
            },
            "type": "contourcarpet"
           }
          ],
          "heatmap": [
           {
            "colorbar": {
             "outlinewidth": 0,
             "ticks": ""
            },
            "colorscale": [
             [
              0,
              "#0d0887"
             ],
             [
              0.1111111111111111,
              "#46039f"
             ],
             [
              0.2222222222222222,
              "#7201a8"
             ],
             [
              0.3333333333333333,
              "#9c179e"
             ],
             [
              0.4444444444444444,
              "#bd3786"
             ],
             [
              0.5555555555555556,
              "#d8576b"
             ],
             [
              0.6666666666666666,
              "#ed7953"
             ],
             [
              0.7777777777777778,
              "#fb9f3a"
             ],
             [
              0.8888888888888888,
              "#fdca26"
             ],
             [
              1,
              "#f0f921"
             ]
            ],
            "type": "heatmap"
           }
          ],
          "heatmapgl": [
           {
            "colorbar": {
             "outlinewidth": 0,
             "ticks": ""
            },
            "colorscale": [
             [
              0,
              "#0d0887"
             ],
             [
              0.1111111111111111,
              "#46039f"
             ],
             [
              0.2222222222222222,
              "#7201a8"
             ],
             [
              0.3333333333333333,
              "#9c179e"
             ],
             [
              0.4444444444444444,
              "#bd3786"
             ],
             [
              0.5555555555555556,
              "#d8576b"
             ],
             [
              0.6666666666666666,
              "#ed7953"
             ],
             [
              0.7777777777777778,
              "#fb9f3a"
             ],
             [
              0.8888888888888888,
              "#fdca26"
             ],
             [
              1,
              "#f0f921"
             ]
            ],
            "type": "heatmapgl"
           }
          ],
          "histogram": [
           {
            "marker": {
             "pattern": {
              "fillmode": "overlay",
              "size": 10,
              "solidity": 0.2
             }
            },
            "type": "histogram"
           }
          ],
          "histogram2d": [
           {
            "colorbar": {
             "outlinewidth": 0,
             "ticks": ""
            },
            "colorscale": [
             [
              0,
              "#0d0887"
             ],
             [
              0.1111111111111111,
              "#46039f"
             ],
             [
              0.2222222222222222,
              "#7201a8"
             ],
             [
              0.3333333333333333,
              "#9c179e"
             ],
             [
              0.4444444444444444,
              "#bd3786"
             ],
             [
              0.5555555555555556,
              "#d8576b"
             ],
             [
              0.6666666666666666,
              "#ed7953"
             ],
             [
              0.7777777777777778,
              "#fb9f3a"
             ],
             [
              0.8888888888888888,
              "#fdca26"
             ],
             [
              1,
              "#f0f921"
             ]
            ],
            "type": "histogram2d"
           }
          ],
          "histogram2dcontour": [
           {
            "colorbar": {
             "outlinewidth": 0,
             "ticks": ""
            },
            "colorscale": [
             [
              0,
              "#0d0887"
             ],
             [
              0.1111111111111111,
              "#46039f"
             ],
             [
              0.2222222222222222,
              "#7201a8"
             ],
             [
              0.3333333333333333,
              "#9c179e"
             ],
             [
              0.4444444444444444,
              "#bd3786"
             ],
             [
              0.5555555555555556,
              "#d8576b"
             ],
             [
              0.6666666666666666,
              "#ed7953"
             ],
             [
              0.7777777777777778,
              "#fb9f3a"
             ],
             [
              0.8888888888888888,
              "#fdca26"
             ],
             [
              1,
              "#f0f921"
             ]
            ],
            "type": "histogram2dcontour"
           }
          ],
          "mesh3d": [
           {
            "colorbar": {
             "outlinewidth": 0,
             "ticks": ""
            },
            "type": "mesh3d"
           }
          ],
          "parcoords": [
           {
            "line": {
             "colorbar": {
              "outlinewidth": 0,
              "ticks": ""
             }
            },
            "type": "parcoords"
           }
          ],
          "pie": [
           {
            "automargin": true,
            "type": "pie"
           }
          ],
          "scatter": [
           {
            "marker": {
             "line": {
              "color": "#283442"
             }
            },
            "type": "scatter"
           }
          ],
          "scatter3d": [
           {
            "line": {
             "colorbar": {
              "outlinewidth": 0,
              "ticks": ""
             }
            },
            "marker": {
             "colorbar": {
              "outlinewidth": 0,
              "ticks": ""
             }
            },
            "type": "scatter3d"
           }
          ],
          "scattercarpet": [
           {
            "marker": {
             "colorbar": {
              "outlinewidth": 0,
              "ticks": ""
             }
            },
            "type": "scattercarpet"
           }
          ],
          "scattergeo": [
           {
            "marker": {
             "colorbar": {
              "outlinewidth": 0,
              "ticks": ""
             }
            },
            "type": "scattergeo"
           }
          ],
          "scattergl": [
           {
            "marker": {
             "line": {
              "color": "#283442"
             }
            },
            "type": "scattergl"
           }
          ],
          "scattermapbox": [
           {
            "marker": {
             "colorbar": {
              "outlinewidth": 0,
              "ticks": ""
             }
            },
            "type": "scattermapbox"
           }
          ],
          "scatterpolar": [
           {
            "marker": {
             "colorbar": {
              "outlinewidth": 0,
              "ticks": ""
             }
            },
            "type": "scatterpolar"
           }
          ],
          "scatterpolargl": [
           {
            "marker": {
             "colorbar": {
              "outlinewidth": 0,
              "ticks": ""
             }
            },
            "type": "scatterpolargl"
           }
          ],
          "scatterternary": [
           {
            "marker": {
             "colorbar": {
              "outlinewidth": 0,
              "ticks": ""
             }
            },
            "type": "scatterternary"
           }
          ],
          "surface": [
           {
            "colorbar": {
             "outlinewidth": 0,
             "ticks": ""
            },
            "colorscale": [
             [
              0,
              "#0d0887"
             ],
             [
              0.1111111111111111,
              "#46039f"
             ],
             [
              0.2222222222222222,
              "#7201a8"
             ],
             [
              0.3333333333333333,
              "#9c179e"
             ],
             [
              0.4444444444444444,
              "#bd3786"
             ],
             [
              0.5555555555555556,
              "#d8576b"
             ],
             [
              0.6666666666666666,
              "#ed7953"
             ],
             [
              0.7777777777777778,
              "#fb9f3a"
             ],
             [
              0.8888888888888888,
              "#fdca26"
             ],
             [
              1,
              "#f0f921"
             ]
            ],
            "type": "surface"
           }
          ],
          "table": [
           {
            "cells": {
             "fill": {
              "color": "#506784"
             },
             "line": {
              "color": "rgb(17,17,17)"
             }
            },
            "header": {
             "fill": {
              "color": "#2a3f5f"
             },
             "line": {
              "color": "rgb(17,17,17)"
             }
            },
            "type": "table"
           }
          ]
         },
         "layout": {
          "annotationdefaults": {
           "arrowcolor": "#f2f5fa",
           "arrowhead": 0,
           "arrowwidth": 1
          },
          "autotypenumbers": "strict",
          "coloraxis": {
           "colorbar": {
            "outlinewidth": 0,
            "ticks": ""
           }
          },
          "colorscale": {
           "diverging": [
            [
             0,
             "#8e0152"
            ],
            [
             0.1,
             "#c51b7d"
            ],
            [
             0.2,
             "#de77ae"
            ],
            [
             0.3,
             "#f1b6da"
            ],
            [
             0.4,
             "#fde0ef"
            ],
            [
             0.5,
             "#f7f7f7"
            ],
            [
             0.6,
             "#e6f5d0"
            ],
            [
             0.7,
             "#b8e186"
            ],
            [
             0.8,
             "#7fbc41"
            ],
            [
             0.9,
             "#4d9221"
            ],
            [
             1,
             "#276419"
            ]
           ],
           "sequential": [
            [
             0,
             "#0d0887"
            ],
            [
             0.1111111111111111,
             "#46039f"
            ],
            [
             0.2222222222222222,
             "#7201a8"
            ],
            [
             0.3333333333333333,
             "#9c179e"
            ],
            [
             0.4444444444444444,
             "#bd3786"
            ],
            [
             0.5555555555555556,
             "#d8576b"
            ],
            [
             0.6666666666666666,
             "#ed7953"
            ],
            [
             0.7777777777777778,
             "#fb9f3a"
            ],
            [
             0.8888888888888888,
             "#fdca26"
            ],
            [
             1,
             "#f0f921"
            ]
           ],
           "sequentialminus": [
            [
             0,
             "#0d0887"
            ],
            [
             0.1111111111111111,
             "#46039f"
            ],
            [
             0.2222222222222222,
             "#7201a8"
            ],
            [
             0.3333333333333333,
             "#9c179e"
            ],
            [
             0.4444444444444444,
             "#bd3786"
            ],
            [
             0.5555555555555556,
             "#d8576b"
            ],
            [
             0.6666666666666666,
             "#ed7953"
            ],
            [
             0.7777777777777778,
             "#fb9f3a"
            ],
            [
             0.8888888888888888,
             "#fdca26"
            ],
            [
             1,
             "#f0f921"
            ]
           ]
          },
          "colorway": [
           "#636efa",
           "#EF553B",
           "#00cc96",
           "#ab63fa",
           "#FFA15A",
           "#19d3f3",
           "#FF6692",
           "#B6E880",
           "#FF97FF",
           "#FECB52"
          ],
          "font": {
           "color": "#f2f5fa"
          },
          "geo": {
           "bgcolor": "rgb(17,17,17)",
           "lakecolor": "rgb(17,17,17)",
           "landcolor": "rgb(17,17,17)",
           "showlakes": true,
           "showland": true,
           "subunitcolor": "#506784"
          },
          "hoverlabel": {
           "align": "left"
          },
          "hovermode": "closest",
          "mapbox": {
           "style": "dark"
          },
          "paper_bgcolor": "rgb(17,17,17)",
          "plot_bgcolor": "rgb(17,17,17)",
          "polar": {
           "angularaxis": {
            "gridcolor": "#506784",
            "linecolor": "#506784",
            "ticks": ""
           },
           "bgcolor": "rgb(17,17,17)",
           "radialaxis": {
            "gridcolor": "#506784",
            "linecolor": "#506784",
            "ticks": ""
           }
          },
          "scene": {
           "xaxis": {
            "backgroundcolor": "rgb(17,17,17)",
            "gridcolor": "#506784",
            "gridwidth": 2,
            "linecolor": "#506784",
            "showbackground": true,
            "ticks": "",
            "zerolinecolor": "#C8D4E3"
           },
           "yaxis": {
            "backgroundcolor": "rgb(17,17,17)",
            "gridcolor": "#506784",
            "gridwidth": 2,
            "linecolor": "#506784",
            "showbackground": true,
            "ticks": "",
            "zerolinecolor": "#C8D4E3"
           },
           "zaxis": {
            "backgroundcolor": "rgb(17,17,17)",
            "gridcolor": "#506784",
            "gridwidth": 2,
            "linecolor": "#506784",
            "showbackground": true,
            "ticks": "",
            "zerolinecolor": "#C8D4E3"
           }
          },
          "shapedefaults": {
           "line": {
            "color": "#f2f5fa"
           }
          },
          "sliderdefaults": {
           "bgcolor": "#C8D4E3",
           "bordercolor": "rgb(17,17,17)",
           "borderwidth": 1,
           "tickwidth": 0
          },
          "ternary": {
           "aaxis": {
            "gridcolor": "#506784",
            "linecolor": "#506784",
            "ticks": ""
           },
           "baxis": {
            "gridcolor": "#506784",
            "linecolor": "#506784",
            "ticks": ""
           },
           "bgcolor": "rgb(17,17,17)",
           "caxis": {
            "gridcolor": "#506784",
            "linecolor": "#506784",
            "ticks": ""
           }
          },
          "title": {
           "x": 0.05
          },
          "updatemenudefaults": {
           "bgcolor": "#506784",
           "borderwidth": 0
          },
          "xaxis": {
           "automargin": true,
           "gridcolor": "#283442",
           "linecolor": "#506784",
           "ticks": "",
           "title": {
            "standoff": 15
           },
           "zerolinecolor": "#283442",
           "zerolinewidth": 2
          },
          "yaxis": {
           "automargin": true,
           "gridcolor": "#283442",
           "linecolor": "#506784",
           "ticks": "",
           "title": {
            "standoff": 15
           },
           "zerolinecolor": "#283442",
           "zerolinewidth": 2
          }
         }
        },
        "title": {
         "font": {
          "color": "white",
          "size": 18
         },
         "text": "Popularity Distribution by Song Duration",
         "x": 0.5,
         "xanchor": "center",
         "y": 0.95,
         "yanchor": "top"
        }
       }
      }
     },
     "metadata": {},
     "output_type": "display_data"
    }
   ],
   "source": [
    "df_tracks_duration = df_tracks.groupby([\"Duration_Cat\"]).agg({\"Popularity\" : \"mean\"}).reset_index()\n",
    "Fig_13 = go.Figure(data=[go.Pie(labels=df_tracks_duration['Duration_Cat'],\n",
    "                             values=df_tracks_duration['Popularity'],\n",
    "                             hovertemplate = '<b>Duration Category</b>: %{label}'+\n",
    "                                             '<br><b>Popularity</b>: %{value}<br>')])\n",
    "\n",
    "Fig_13.update_layout(height = 600,\n",
    "                  plot_bgcolor = \"rgb(84,52,107)\", paper_bgcolor = \"rgb(84,52,107)\",\n",
    "                  hovermode = \"x unified\", hoverlabel = dict(bgcolor = \"white\",  font_size = 16, font_family = \"Rockwell\", font_color = \"black\"),\n",
    "                  title = {\"text\" : \"Popularity Distribution by Song Duration\", 'x' : 0.5, 'xanchor' : 'center', 'y' : 0.95, 'yanchor' : 'top', 'font' : { 'size' : 18, 'color' : 'white'}})\n",
    "\n",
    "Fig_13.show()"
   ]
  },
  {
   "cell_type": "code",
   "execution_count": 19,
   "metadata": {},
   "outputs": [
    {
     "data": {
      "application/vnd.plotly.v1+json": {
       "config": {
        "plotlyServerURL": "https://plot.ly"
       },
       "data": [
        {
         "hoverinfo": "none",
         "lat": [
          90,
          -90
         ],
         "lon": [
          180,
          -180
         ],
         "marker": {
          "cmax": 0,
          "cmin": 0,
          "colorbar": {
           "len": 0.1,
           "lenmode": "fraction",
           "x": 0.01,
           "xanchor": "left",
           "y": 1,
           "yanchor": "top"
          },
          "colorscale": [
           [
            0,
            "rgba(28, 107, 160, 0.6)"
           ],
           [
            1,
            "rgba(28, 107, 160, 0.6)"
           ]
          ],
          "showscale": false,
          "size": 0
         },
         "mode": "text",
         "showlegend": false,
         "text": [
          ""
         ],
         "type": "scattergeo"
        },
        {
         "colorbar": {
          "title": {
           "text": "Total Song Count"
          }
         },
         "colorscale": [
          [
           0,
           "rgb(165,0,38)"
          ],
          [
           0.1,
           "rgb(215,48,39)"
          ],
          [
           0.2,
           "rgb(244,109,67)"
          ],
          [
           0.3,
           "rgb(253,174,97)"
          ],
          [
           0.4,
           "rgb(254,224,144)"
          ],
          [
           0.5,
           "rgb(255,255,191)"
          ],
          [
           0.6,
           "rgb(224,243,248)"
          ],
          [
           0.7,
           "rgb(171,217,233)"
          ],
          [
           0.8,
           "rgb(116,173,209)"
          ],
          [
           0.9,
           "rgb(69,117,180)"
          ],
          [
           1,
           "rgb(49,54,149)"
          ]
         ],
         "hoverinfo": "location+z",
         "locationmode": "country names",
         "locations": [
          "China",
          "Japan",
          "South Korea",
          "North Korea",
          "Mongolia",
          "Taiwan"
         ],
         "marker": {
          "line": {
           "color": "darkgray",
           "width": 1
          }
         },
         "type": "choropleth",
         "z": [
          1000,
          2000,
          2000,
          0,
          0,
          0
         ]
        }
       ],
       "layout": {
        "autosize": false,
        "geo": {
         "landcolor": "lightgray",
         "oceancolor": "rgba(28, 107, 160, 0.6)",
         "scope": "world",
         "showland": true,
         "showocean": true
        },
        "height": 600,
        "paper_bgcolor": "rgb(84,52,107)",
        "plot_bgcolor": "rgb(84,52,107)",
        "template": {
         "data": {
          "bar": [
           {
            "error_x": {
             "color": "#f2f5fa"
            },
            "error_y": {
             "color": "#f2f5fa"
            },
            "marker": {
             "line": {
              "color": "rgb(17,17,17)",
              "width": 0.5
             },
             "pattern": {
              "fillmode": "overlay",
              "size": 10,
              "solidity": 0.2
             }
            },
            "type": "bar"
           }
          ],
          "barpolar": [
           {
            "marker": {
             "line": {
              "color": "rgb(17,17,17)",
              "width": 0.5
             },
             "pattern": {
              "fillmode": "overlay",
              "size": 10,
              "solidity": 0.2
             }
            },
            "type": "barpolar"
           }
          ],
          "carpet": [
           {
            "aaxis": {
             "endlinecolor": "#A2B1C6",
             "gridcolor": "#506784",
             "linecolor": "#506784",
             "minorgridcolor": "#506784",
             "startlinecolor": "#A2B1C6"
            },
            "baxis": {
             "endlinecolor": "#A2B1C6",
             "gridcolor": "#506784",
             "linecolor": "#506784",
             "minorgridcolor": "#506784",
             "startlinecolor": "#A2B1C6"
            },
            "type": "carpet"
           }
          ],
          "choropleth": [
           {
            "colorbar": {
             "outlinewidth": 0,
             "ticks": ""
            },
            "type": "choropleth"
           }
          ],
          "contour": [
           {
            "colorbar": {
             "outlinewidth": 0,
             "ticks": ""
            },
            "colorscale": [
             [
              0,
              "#0d0887"
             ],
             [
              0.1111111111111111,
              "#46039f"
             ],
             [
              0.2222222222222222,
              "#7201a8"
             ],
             [
              0.3333333333333333,
              "#9c179e"
             ],
             [
              0.4444444444444444,
              "#bd3786"
             ],
             [
              0.5555555555555556,
              "#d8576b"
             ],
             [
              0.6666666666666666,
              "#ed7953"
             ],
             [
              0.7777777777777778,
              "#fb9f3a"
             ],
             [
              0.8888888888888888,
              "#fdca26"
             ],
             [
              1,
              "#f0f921"
             ]
            ],
            "type": "contour"
           }
          ],
          "contourcarpet": [
           {
            "colorbar": {
             "outlinewidth": 0,
             "ticks": ""
            },
            "type": "contourcarpet"
           }
          ],
          "heatmap": [
           {
            "colorbar": {
             "outlinewidth": 0,
             "ticks": ""
            },
            "colorscale": [
             [
              0,
              "#0d0887"
             ],
             [
              0.1111111111111111,
              "#46039f"
             ],
             [
              0.2222222222222222,
              "#7201a8"
             ],
             [
              0.3333333333333333,
              "#9c179e"
             ],
             [
              0.4444444444444444,
              "#bd3786"
             ],
             [
              0.5555555555555556,
              "#d8576b"
             ],
             [
              0.6666666666666666,
              "#ed7953"
             ],
             [
              0.7777777777777778,
              "#fb9f3a"
             ],
             [
              0.8888888888888888,
              "#fdca26"
             ],
             [
              1,
              "#f0f921"
             ]
            ],
            "type": "heatmap"
           }
          ],
          "heatmapgl": [
           {
            "colorbar": {
             "outlinewidth": 0,
             "ticks": ""
            },
            "colorscale": [
             [
              0,
              "#0d0887"
             ],
             [
              0.1111111111111111,
              "#46039f"
             ],
             [
              0.2222222222222222,
              "#7201a8"
             ],
             [
              0.3333333333333333,
              "#9c179e"
             ],
             [
              0.4444444444444444,
              "#bd3786"
             ],
             [
              0.5555555555555556,
              "#d8576b"
             ],
             [
              0.6666666666666666,
              "#ed7953"
             ],
             [
              0.7777777777777778,
              "#fb9f3a"
             ],
             [
              0.8888888888888888,
              "#fdca26"
             ],
             [
              1,
              "#f0f921"
             ]
            ],
            "type": "heatmapgl"
           }
          ],
          "histogram": [
           {
            "marker": {
             "pattern": {
              "fillmode": "overlay",
              "size": 10,
              "solidity": 0.2
             }
            },
            "type": "histogram"
           }
          ],
          "histogram2d": [
           {
            "colorbar": {
             "outlinewidth": 0,
             "ticks": ""
            },
            "colorscale": [
             [
              0,
              "#0d0887"
             ],
             [
              0.1111111111111111,
              "#46039f"
             ],
             [
              0.2222222222222222,
              "#7201a8"
             ],
             [
              0.3333333333333333,
              "#9c179e"
             ],
             [
              0.4444444444444444,
              "#bd3786"
             ],
             [
              0.5555555555555556,
              "#d8576b"
             ],
             [
              0.6666666666666666,
              "#ed7953"
             ],
             [
              0.7777777777777778,
              "#fb9f3a"
             ],
             [
              0.8888888888888888,
              "#fdca26"
             ],
             [
              1,
              "#f0f921"
             ]
            ],
            "type": "histogram2d"
           }
          ],
          "histogram2dcontour": [
           {
            "colorbar": {
             "outlinewidth": 0,
             "ticks": ""
            },
            "colorscale": [
             [
              0,
              "#0d0887"
             ],
             [
              0.1111111111111111,
              "#46039f"
             ],
             [
              0.2222222222222222,
              "#7201a8"
             ],
             [
              0.3333333333333333,
              "#9c179e"
             ],
             [
              0.4444444444444444,
              "#bd3786"
             ],
             [
              0.5555555555555556,
              "#d8576b"
             ],
             [
              0.6666666666666666,
              "#ed7953"
             ],
             [
              0.7777777777777778,
              "#fb9f3a"
             ],
             [
              0.8888888888888888,
              "#fdca26"
             ],
             [
              1,
              "#f0f921"
             ]
            ],
            "type": "histogram2dcontour"
           }
          ],
          "mesh3d": [
           {
            "colorbar": {
             "outlinewidth": 0,
             "ticks": ""
            },
            "type": "mesh3d"
           }
          ],
          "parcoords": [
           {
            "line": {
             "colorbar": {
              "outlinewidth": 0,
              "ticks": ""
             }
            },
            "type": "parcoords"
           }
          ],
          "pie": [
           {
            "automargin": true,
            "type": "pie"
           }
          ],
          "scatter": [
           {
            "marker": {
             "line": {
              "color": "#283442"
             }
            },
            "type": "scatter"
           }
          ],
          "scatter3d": [
           {
            "line": {
             "colorbar": {
              "outlinewidth": 0,
              "ticks": ""
             }
            },
            "marker": {
             "colorbar": {
              "outlinewidth": 0,
              "ticks": ""
             }
            },
            "type": "scatter3d"
           }
          ],
          "scattercarpet": [
           {
            "marker": {
             "colorbar": {
              "outlinewidth": 0,
              "ticks": ""
             }
            },
            "type": "scattercarpet"
           }
          ],
          "scattergeo": [
           {
            "marker": {
             "colorbar": {
              "outlinewidth": 0,
              "ticks": ""
             }
            },
            "type": "scattergeo"
           }
          ],
          "scattergl": [
           {
            "marker": {
             "line": {
              "color": "#283442"
             }
            },
            "type": "scattergl"
           }
          ],
          "scattermapbox": [
           {
            "marker": {
             "colorbar": {
              "outlinewidth": 0,
              "ticks": ""
             }
            },
            "type": "scattermapbox"
           }
          ],
          "scatterpolar": [
           {
            "marker": {
             "colorbar": {
              "outlinewidth": 0,
              "ticks": ""
             }
            },
            "type": "scatterpolar"
           }
          ],
          "scatterpolargl": [
           {
            "marker": {
             "colorbar": {
              "outlinewidth": 0,
              "ticks": ""
             }
            },
            "type": "scatterpolargl"
           }
          ],
          "scatterternary": [
           {
            "marker": {
             "colorbar": {
              "outlinewidth": 0,
              "ticks": ""
             }
            },
            "type": "scatterternary"
           }
          ],
          "surface": [
           {
            "colorbar": {
             "outlinewidth": 0,
             "ticks": ""
            },
            "colorscale": [
             [
              0,
              "#0d0887"
             ],
             [
              0.1111111111111111,
              "#46039f"
             ],
             [
              0.2222222222222222,
              "#7201a8"
             ],
             [
              0.3333333333333333,
              "#9c179e"
             ],
             [
              0.4444444444444444,
              "#bd3786"
             ],
             [
              0.5555555555555556,
              "#d8576b"
             ],
             [
              0.6666666666666666,
              "#ed7953"
             ],
             [
              0.7777777777777778,
              "#fb9f3a"
             ],
             [
              0.8888888888888888,
              "#fdca26"
             ],
             [
              1,
              "#f0f921"
             ]
            ],
            "type": "surface"
           }
          ],
          "table": [
           {
            "cells": {
             "fill": {
              "color": "#506784"
             },
             "line": {
              "color": "rgb(17,17,17)"
             }
            },
            "header": {
             "fill": {
              "color": "#2a3f5f"
             },
             "line": {
              "color": "rgb(17,17,17)"
             }
            },
            "type": "table"
           }
          ]
         },
         "layout": {
          "annotationdefaults": {
           "arrowcolor": "#f2f5fa",
           "arrowhead": 0,
           "arrowwidth": 1
          },
          "autotypenumbers": "strict",
          "coloraxis": {
           "colorbar": {
            "outlinewidth": 0,
            "ticks": ""
           }
          },
          "colorscale": {
           "diverging": [
            [
             0,
             "#8e0152"
            ],
            [
             0.1,
             "#c51b7d"
            ],
            [
             0.2,
             "#de77ae"
            ],
            [
             0.3,
             "#f1b6da"
            ],
            [
             0.4,
             "#fde0ef"
            ],
            [
             0.5,
             "#f7f7f7"
            ],
            [
             0.6,
             "#e6f5d0"
            ],
            [
             0.7,
             "#b8e186"
            ],
            [
             0.8,
             "#7fbc41"
            ],
            [
             0.9,
             "#4d9221"
            ],
            [
             1,
             "#276419"
            ]
           ],
           "sequential": [
            [
             0,
             "#0d0887"
            ],
            [
             0.1111111111111111,
             "#46039f"
            ],
            [
             0.2222222222222222,
             "#7201a8"
            ],
            [
             0.3333333333333333,
             "#9c179e"
            ],
            [
             0.4444444444444444,
             "#bd3786"
            ],
            [
             0.5555555555555556,
             "#d8576b"
            ],
            [
             0.6666666666666666,
             "#ed7953"
            ],
            [
             0.7777777777777778,
             "#fb9f3a"
            ],
            [
             0.8888888888888888,
             "#fdca26"
            ],
            [
             1,
             "#f0f921"
            ]
           ],
           "sequentialminus": [
            [
             0,
             "#0d0887"
            ],
            [
             0.1111111111111111,
             "#46039f"
            ],
            [
             0.2222222222222222,
             "#7201a8"
            ],
            [
             0.3333333333333333,
             "#9c179e"
            ],
            [
             0.4444444444444444,
             "#bd3786"
            ],
            [
             0.5555555555555556,
             "#d8576b"
            ],
            [
             0.6666666666666666,
             "#ed7953"
            ],
            [
             0.7777777777777778,
             "#fb9f3a"
            ],
            [
             0.8888888888888888,
             "#fdca26"
            ],
            [
             1,
             "#f0f921"
            ]
           ]
          },
          "colorway": [
           "#636efa",
           "#EF553B",
           "#00cc96",
           "#ab63fa",
           "#FFA15A",
           "#19d3f3",
           "#FF6692",
           "#B6E880",
           "#FF97FF",
           "#FECB52"
          ],
          "font": {
           "color": "#f2f5fa"
          },
          "geo": {
           "bgcolor": "rgb(17,17,17)",
           "lakecolor": "rgb(17,17,17)",
           "landcolor": "rgb(17,17,17)",
           "showlakes": true,
           "showland": true,
           "subunitcolor": "#506784"
          },
          "hoverlabel": {
           "align": "left"
          },
          "hovermode": "closest",
          "mapbox": {
           "style": "dark"
          },
          "paper_bgcolor": "rgb(17,17,17)",
          "plot_bgcolor": "rgb(17,17,17)",
          "polar": {
           "angularaxis": {
            "gridcolor": "#506784",
            "linecolor": "#506784",
            "ticks": ""
           },
           "bgcolor": "rgb(17,17,17)",
           "radialaxis": {
            "gridcolor": "#506784",
            "linecolor": "#506784",
            "ticks": ""
           }
          },
          "scene": {
           "xaxis": {
            "backgroundcolor": "rgb(17,17,17)",
            "gridcolor": "#506784",
            "gridwidth": 2,
            "linecolor": "#506784",
            "showbackground": true,
            "ticks": "",
            "zerolinecolor": "#C8D4E3"
           },
           "yaxis": {
            "backgroundcolor": "rgb(17,17,17)",
            "gridcolor": "#506784",
            "gridwidth": 2,
            "linecolor": "#506784",
            "showbackground": true,
            "ticks": "",
            "zerolinecolor": "#C8D4E3"
           },
           "zaxis": {
            "backgroundcolor": "rgb(17,17,17)",
            "gridcolor": "#506784",
            "gridwidth": 2,
            "linecolor": "#506784",
            "showbackground": true,
            "ticks": "",
            "zerolinecolor": "#C8D4E3"
           }
          },
          "shapedefaults": {
           "line": {
            "color": "#f2f5fa"
           }
          },
          "sliderdefaults": {
           "bgcolor": "#C8D4E3",
           "bordercolor": "rgb(17,17,17)",
           "borderwidth": 1,
           "tickwidth": 0
          },
          "ternary": {
           "aaxis": {
            "gridcolor": "#506784",
            "linecolor": "#506784",
            "ticks": ""
           },
           "baxis": {
            "gridcolor": "#506784",
            "linecolor": "#506784",
            "ticks": ""
           },
           "bgcolor": "rgb(17,17,17)",
           "caxis": {
            "gridcolor": "#506784",
            "linecolor": "#506784",
            "ticks": ""
           }
          },
          "title": {
           "x": 0.05
          },
          "updatemenudefaults": {
           "bgcolor": "#506784",
           "borderwidth": 0
          },
          "xaxis": {
           "automargin": true,
           "gridcolor": "#283442",
           "linecolor": "#506784",
           "ticks": "",
           "title": {
            "standoff": 15
           },
           "zerolinecolor": "#283442",
           "zerolinewidth": 2
          },
          "yaxis": {
           "automargin": true,
           "gridcolor": "#283442",
           "linecolor": "#506784",
           "ticks": "",
           "title": {
            "standoff": 15
           },
           "zerolinecolor": "#283442",
           "zerolinewidth": 2
          }
         }
        },
        "title": {
         "text": "Highlighted Countries of Interest",
         "x": 0.5,
         "xanchor": "center",
         "y": 0.92,
         "yanchor": "top"
        }
       }
      }
     },
     "metadata": {},
     "output_type": "display_data"
    }
   ],
   "source": [
    "query_genre = {\"k-pop\": 1000, \"j-pop\": 1000, \"japanese\": 1000, \"korean\": 1000, \"j-dance\": 1000, \"chinese\": 1000, \"j-idol\": 999}\n",
    "\n",
    "data = {\n",
    "    \"country\": [\"China\", \"Japan\", \"South Korea\", \"North Korea\", \"Mongolia\", \"Taiwan\"],\n",
    "    \"value\": [query_genre.get(\"chinese\", 0),\n",
    "              query_genre.get(\"japanese\", 0) + query_genre.get(\"j-pop\", 0),\n",
    "              query_genre.get(\"korean\", 0) + query_genre.get(\"k-pop\", 0),\n",
    "              0, 0, 0]}\n",
    "\n",
    "colorscale = \"RdYlBu\"\n",
    "df = pd.DataFrame(data)\n",
    "\n",
    "background_world = go.Scattergeo(\n",
    "    lon = [180, -180], lat = [90, -90], mode = \"text\", text = [\"\"],\n",
    "    showlegend = False, hoverinfo = \"none\",\n",
    "    marker = dict(size = 0, cmin = 0, cmax = 0,\n",
    "    colorscale = [[0, \"rgba(28, 107, 160, 0.6)\"], [1, \"rgba(28, 107, 160, 0.6)\"]], showscale = False,\n",
    "    colorbar = dict(lenmode = \"fraction\", len = 0.1, yanchor = \"top\", y = 1, xanchor = \"left\", x = 0.01, bgcolor = None),))\n",
    "\n",
    "main_map = go.Choropleth(\n",
    "    locations = df[\"country\"], z = df[\"value\"], locationmode = \"country names\",\n",
    "    colorscale = colorscale, colorbar_title = \"Total Song Count\", hoverinfo = \"location+z\", \n",
    "    marker_line_color = \"darkgray\", marker_line_width = 1)\n",
    "\n",
    "Fig_14 = go.Figure(data=[background_world, main_map])\n",
    "\n",
    "Fig_14.update_layout(title = {\"text\" : \"Highlighted Countries of Interest\", \"y\" : 0.92, \"x\" : 0.5, \"xanchor\" : \"center\", \"yanchor\" : \"top\"},\n",
    "    geo = dict(scope = \"world\",  showland = True, landcolor = \"lightgray\", showocean = True, oceancolor = \"rgba(28, 107, 160, 0.6)\"),\n",
    "    autosize = False, height = 600, plot_bgcolor = \"rgb(84,52,107)\", paper_bgcolor = \"rgb(84,52,107)\")\n",
    "\n",
    "Fig_14.show()"
   ]
  },
  {
   "cell_type": "code",
   "execution_count": null,
   "metadata": {},
   "outputs": [],
   "source": []
  },
  {
   "cell_type": "code",
   "execution_count": null,
   "metadata": {},
   "outputs": [],
   "source": []
  },
  {
   "cell_type": "code",
   "execution_count": 20,
   "metadata": {},
   "outputs": [
    {
     "name": "stderr",
     "output_type": "stream",
     "text": [
      "c:\\Users\\rocks\\AppData\\Local\\Programs\\Python\\Python310\\lib\\site-packages\\dash\\dash.py:516: UserWarning:\n",
      "\n",
      "JupyterDash is deprecated, use Dash instead.\n",
      "See https://dash.plotly.com/dash-in-jupyter for more details.\n",
      "\n"
     ]
    },
    {
     "data": {
      "text/html": [
       "\n",
       "        <iframe\n",
       "            width=\"100%\"\n",
       "            height=\"650\"\n",
       "            src=\"http://192.168.1.45:8060/\"\n",
       "            frameborder=\"0\"\n",
       "            allowfullscreen\n",
       "            \n",
       "        ></iframe>\n",
       "        "
      ],
      "text/plain": [
       "<IPython.lib.display.IFrame at 0x1e8284220e0>"
      ]
     },
     "metadata": {},
     "output_type": "display_data"
    },
    {
     "name": "stdout",
     "output_type": "stream",
     "text": [
      "Dash app running on http://192.168.1.45:8060/\n"
     ]
    }
   ],
   "source": [
    "from dash import callback\n",
    "\n",
    "\n",
    "app = JupyterDash(__name__, external_stylesheets = [dbc.themes.BOOTSTRAP])\n",
    "app.index_string = '''\n",
    "<!DOCTYPE html>\n",
    "<html>\n",
    "    <head>\n",
    "        {%metas%}\n",
    "        <meta name=\"viewport\" content=\"width=device-width, initial-scale=1.0\">\n",
    "        <title>BATU EXAMPLE DASH</title>\n",
    "        {%favicon%}\n",
    "        {%css%}\n",
    "    </head>\n",
    "    <body>\n",
    "        <div>\n",
    "            <div class=\"row\">\n",
    "                <div class=\"col-md-5\"></div>\n",
    "                <div class=\"col-md-1\"\n",
    "                </div>\n",
    "                <div class=\"col-md-5\"\n",
    "                </div>\n",
    "            </div>\n",
    "        </div>\n",
    "          <style>\n",
    "             body {background-color : rgb(21,24,33);}\n",
    "          </style>\n",
    "        {%app_entry%}\n",
    "        <footer>\n",
    "            {%config%}\n",
    "            {%scripts%}\n",
    "            {%renderer%}\n",
    "        </footer>\n",
    "    </body>\n",
    "</html>\n",
    "'''\n",
    "app.layout = dbc.Container(fluid = True, children=[\n",
    "    html.Img(src = \"/assets/data.jpeg\", style = {\"width\" : \"100%\", \"height\" : \"350px\", \"border\" : \"3px solid white\", \"border-radius\" : \"10px\", \n",
    "                                       \"background-color\" : \"rgb(4,34,96)\", \"display\": \"block\", \"margin-bottom\" : \"5px\"}),\n",
    "    \n",
    "    html.Div(children=[\n",
    "    html.Div(children=[html.H4(children=[html.A(\"Please click on the link to visit my LinkedIn profile.\", href = \"https://www.linkedin.com/in/batuhanmtn/\",  target = \"_blank\", \n",
    "                                                style = {\"color\" : \"white\", \"textAlign\" : \"left\", \"width\" : \"50%\"})])],\n",
    "             style={\"width\" : \"50%\", \"color\" : \"white\", \"textAlign\" : \"left\", \"font-size\" : \"5px\", \"display\" : \"flex\",\n",
    "                    \"align-items\" : \"center\", \"margin-bottom\" : \"5px\", \"margin-top\" : \"5px\", \"line-height\" : \"30px\", \"justify-content\" : \"flex-start\"}),\n",
    "    html.Div(children=[html.H4(children=[html.A(\"Please click to view the source code of this Dash.\", href = \"https://github.com/Batuhan1652\", target = \"_blank\",\n",
    "                                                style = {\"color\" : \"white\", \"textAlign\" : \"right\", \"width\" : \"50%\"})])],\n",
    "             style = {\"width\" : \"50%\", \"color\" : \"white\", \"textAlign\" : \"right\", \"font-size\" : \"5px\", \"display\" : \"flex\",\n",
    "                      \"align-items\" : \"center\", \"margin-bottom\" : \"5px\", \"margin-top\" : \"5px\", \"line-height\" : \"30px\", \"justify-content\" : \"flex-end\"})],\n",
    "    style={\"display\" : \"flex\", \"justify-content\" : \"space-between\", \"align-items\" : \"center\", \"width\" : \"100%\", \"backgroundColor\" : \"rgb(84,52,107)\", \"margin-bottom\" : \"1px\", \"font-size\" : \"20px\", \"margin-top\" : \"10px\"}),\n",
    "    \n",
    "\n",
    "    dbc.Row(dbc.Col(children = html.Div(children = [dcc.Graph(id = \"Fig\", figure = Fig)], style = {\"width\": \"100%\", \"margin-bottom\" : \"5px\", \"margin-top\": \"5px\"}), align = \"center\")),\n",
    "    \n",
    "    html.H6(children = \"TO VIEW THE MOST POPULAR SONG ACCORDING TO THE RELEASE YEARS, PLEASE SELECT THE YEAR FROM THE TABLE.\", \n",
    "        style = {\"backgroundColor\": \"white\", \"color\": \"rgb(84,52,107)\", \"textAlign\" : \"center\", \"font-size\": \"30px\", \"width\" : \"100%\", \"height\" : \"40px\", \"display\" : \"block\", \"margin-top\" : \"5px\"}),\n",
    "    dcc.Dropdown(id = 'year-dropdown',options = [{'label' : i, 'value' : i} for i in df_top5['Year'].unique()], value = df_top5['Year'].min(), \n",
    "                 style = {\"backgroundColor\" : \"white\", \"color\" : \"rgb(84,52,107)\", \"margin-bottom\" : \"10px\"}),\n",
    "    dash_table.DataTable(id = 'table', columns = [{\"name\": i, \"id\": i} for i in df_top5.columns], \n",
    "                         style_header = {\"backgroundColor\" : \"rgb(84,52,107)\",  \"fontWeight\" : \"bold\",  \"color\" : \"white\", \"textAlign\" : \"center\", \"border-radius\" : \"15px\"}, \n",
    "                         style_cell={'backgroundColor' : 'rgb(84,52,107)', 'color' : 'white', \"textAlign\" : \"center\", \"border-radius\" : \"15px\"}),\n",
    "    \n",
    "    html.Div([\n",
    "    html.Div(children=dcc.Graph(id = \"Fig_1\", figure = Fig_1), style = {\"flex\" : \"1\", \"height\" : \"600px\", \"margin-right\" : \"5px\", \"border-radius\" : \"15px\", \"overflow\" : \"hidden\"}),\n",
    "    html.Div(children=dcc.Graph(id = \"Fig_2\", figure = Fig_2), style = {\"flex\" : \"1\", \"height\" : \"600px\", \"margin-left\" : \"5px\",  \"border-radius\" : \"15px\", \"overflow\" : \"hidden\"})]\n",
    "            ,style={\"display\" : \"flex\", \"flex-direction\" : \"row\", \"justify-content\" : \"space-between\", \"margin-top\" : \"15px\",  \"border-radius\" : \"15px\", \"margin-bottom\" : \"10px\"}),\n",
    "    \n",
    "    html.Div([\n",
    "    html.Div(children = dcc.Graph(id = \"Fig_3\", figure = Fig_3), style = {\"flex\" : \"1\", \"height\" : \"600px\", \"margin-right\" : \"5px\", \"border-radius\" : \"15px\", \"overflow\" : \"hidden\"}),\n",
    "    html.Div(children = dcc.Graph(id = \"Fig_4\", figure = Fig_4), style = {\"flex\" : \"1\", \"height\" : \"600px\", \"margin-left\" : \"5px\", \"border-radius\" : \"15px\", \"overflow\" : \"hidden\"})]\n",
    "            ,style = {\"display\" : \"flex\", \"flex-direction\" : \"row\", \"justify-content\" : \"space-between\", \"margin-top\" : \"15px\",  \"border-radius\" : \"15px\"}),\n",
    "    \n",
    "    html.H6(children = \"TO VIEW THE GRAPH OF THE SECTION YOU WANT, PLEASE SELECT THE SECTION YOU WANT TO SEE FROM THE BOX BELOW.\", \n",
    "        style = {\"backgroundColor\": \"white\", \"color\": \"rgb(84,52,107)\", \"textAlign\" : \"center\", \"font-size\": \"30px\", \"width\" : \"100%\", \"height\" : \"40px\", \"display\" : \"block\", \"margin-top\" : \"15px\"}),\n",
    "    html.Div(children = dcc.Dropdown(id = \"Fig_5_Genre\", options = [{\"label\" : col, \"value\" : col} for col in df_tracks_mean[\"Query_Genre\"].unique()], value = df_tracks_mean[\"Query_Genre\"].unique()[0]),          \n",
    "                                style = {\"margin-top\" : \"5px\"}),\n",
    "    html.Div(children = dcc.Dropdown(id = \"Fig_5_Years_Cat\", options = [{\"label\" : col, \"value\" : col} for col in df_tracks_mean[\"Years_Cat\"].unique()], value = None),\n",
    "                                style = {\"margin-top\" : \"5px\"}),\n",
    "    html.Button('CLICK HERE FOR RESET THE YEARS CATEGORY', id = 'reset-button', n_clicks = 0, style = {\"backgroundColor\": \"white\", \"color\": \"rgb(84,52,107)\", \"textAlign\" : \"center\", \n",
    "                                                                         \"font-size\": \"30px\", \"width\" : \"100%\", \"height\" : \"40px\", \"display\" : \"block\", \"margin-top\" : \"5px\", \"line-height\": \"0px\"}),\n",
    "    html.Div(children = dcc.Graph(id = \"Fig_5\", figure = Fig_5), style = {\"width\" : \"100%\", \"height\": \"600px\", \"display\": \"inline-block\", \"margin-top\" : \"10px\"}),\n",
    "    \n",
    "    html.Div([\n",
    "    html.Div(children=dcc.Graph(id = \"Fig_6\", figure = Fig_6), style = {\"flex\" : \"1\", \"height\" : \"600px\", \"margin-right\" : \"5px\", \"border-radius\" : \"15px\", \"overflow\" : \"hidden\"}),\n",
    "    html.Div(children=dcc.Graph(id = \"Fig_7\", figure = Fig_7), style = {\"flex\" : \"1\", \"height\" : \"600px\", \"margin-left\" : \"5px\",  \"border-radius\" : \"15px\", \"overflow\" : \"hidden\"})]\n",
    "            ,style = {\"display\" : \"flex\", \"flex-direction\" : \"row\", \"justify-content\" : \"space-between\", \"margin-top\" : \"10px\",  \"border-radius\" : \"15px\", \"margin-bottom\" : \"10px\"}),\n",
    "    \n",
    "    dbc.Row(children = dbc.Col(children = html.Div(children = [dcc.Graph(id = \"Fig_8\", figure = Fig_8)], style = {\"margin-top\" : \"10px\", \"width\" : \"100%\", \"border-radius\" : \"15px\", \"overflow\" : \"hidden\"}), align = \"center\")),\n",
    "    \n",
    "    html.H6(children = \"TO VIEW THE GRAPH OF THE SECTION YOU WANT, PLEASE SELECT THE SECTION YOU WANT TO SEE FROM THE BOX BELOW.\", \n",
    "        style = {\"backgroundColor\": \"white\", \"color\": \"rgb(84,52,107)\", \"textAlign\" : \"center\", \"font-size\": \"30px\", \"width\" : \"100%\", \"height\" : \"40px\", \"display\" : \"block\", \"margin-top\" : \"15px\"}),\n",
    "    html.Div(children = dcc.Dropdown(id = \"Fig_9_10_Genre\", options = [\"Reset The Figures\", 'j-pop', 'japanese', 'korean', 'j-dance', 'chinese', 'j-idol', 'k-pop'],\n",
    "                                     value = [\"Reset The Figures\", 'j-pop', 'japanese', 'korean', 'j-dance', 'chinese', 'j-idol', 'k-pop']), style = {\"margin-top\" : \"3px\"}),\n",
    "    \n",
    "    html.Div([\n",
    "    html.Div(children=dcc.Graph(id = \"Fig_9\", figure = Fig_9), style = {\"flex\" : \"1\", \"height\" : \"600px\", \"margin-right\" : \"5px\", \"border-radius\" : \"15px\", \"overflow\" : \"hidden\"}),\n",
    "    html.Div(children=dcc.Graph(id = \"Fig_10\", figure = Fig_10), style = {\"flex\" : \"1\", \"height\" : \"600px\", \"margin-left\" : \"5px\",  \"border-radius\" : \"15px\", \"overflow\" : \"hidden\"})],\n",
    "             style = {\"display\" : \"flex\", \"flex-direction\" : \"row\", \"justify-content\" : \"space-between\", \"margin-top\" : \"10px\",  \"border-radius\" : \"15px\", \"margin-bottom\" : \"10px\"}),\n",
    "    \n",
    "    html.Div([\n",
    "    html.Div(children=dcc.Graph(id = \"Fig_11\", figure = Fig_11), style = {\"flex\" : \"1\", \"height\" : \"600px\", \"margin-right\" : \"5px\", \"border-radius\" : \"15px\", \"overflow\" : \"hidden\"}),\n",
    "    html.Div(children=dcc.Graph(id = \"Fig_12\", figure = Fig_12), style = {\"flex\" : \"1\", \"height\" : \"600px\", \"margin-left\" : \"5px\",  \"border-radius\" : \"15px\", \"overflow\" : \"hidden\"})],\n",
    "             style = {\"display\" : \"flex\", \"flex-direction\" : \"row\", \"justify-content\" : \"space-between\", \"margin-top\" : \"10px\",  \"border-radius\" : \"15px\", \"margin-bottom\" : \"10px\"}),\n",
    "    \n",
    "    html.Div([\n",
    "    html.Div(children=dcc.Graph(id = \"Fig_13\", figure = Fig_13, responsive = True), style = {\"width\" : \"50%\", \"height\" : \"700px\", \"margin-right\" : \"5px\", \"border-radius\" : \"15px\", \"overflow\" : \"hidden\"}),\n",
    "    html.Div(children=dcc.Graph(id = \"Fig_14\", figure = Fig_14, responsive = True), style = {\"width\" : \"50%\", \"height\" : \"700px\" ,\"margin-left\" : \"5px\",  \"border-radius\" : \"15px\", \"overflow\" : \"hidden\"})],\n",
    "    style = {\"display\" : \"flex\", \"flex-direction\" : \"row\", \"justify-content\" : \"space-between\", \"margin-top\" : \"10px\",  \"border-radius\" : \"15px\"}),\n",
    "    \n",
    "])\n",
    "    \n",
    "@app.callback(Output('table', 'data'), Input('year-dropdown', 'value'))\n",
    "def update_table(selected_year):\n",
    "    filtered_df = df_top5[df_top5['Year'] == selected_year]\n",
    "    return filtered_df.to_dict('records')\n",
    "\n",
    "@app.callback(Output(\"Fig_5\", \"figure\"), Input(\"Fig_5_Genre\", \"value\"), Input(\"Fig_5_Years_Cat\", \"value\"))\n",
    "def update_graphs(selected_genre, selected_years):\n",
    "    if selected_genre and selected_years:\n",
    "        filtered_df = df_tracks_mean.loc[(df_tracks_mean[\"Query_Genre\"] == selected_genre) & (df_tracks_mean[\"Years_Cat\"] == selected_years)]\n",
    "        \n",
    "    elif selected_genre and not selected_years:\n",
    "        filtered_df = df_tracks_mean.loc[df_tracks_mean[\"Query_Genre\"] == selected_genre]\n",
    "        \n",
    "    elif selected_years:\n",
    "        filtered_df = df_tracks_mean.loc[df_tracks_mean[\"Years_Cat\"] == selected_years]\n",
    "        \n",
    "    else :\n",
    "        filtered_df = df_tracks_mean\n",
    "        \n",
    "    Fig_5 = px.area(filtered_df, x = \"Year\", y = \"Popularity\", color_discrete_sequence = ['white'])\n",
    "    scatter = go.Scatter(x = filtered_df[\"Year\"], y = filtered_df[\"Popularity\"], mode = 'markers', marker_color = 'black')\n",
    "    Fig_5.add_trace(scatter)\n",
    "    \n",
    "    Fig_5.update_layout(\n",
    "        plot_bgcolor = \"rgb(84,52,107)\", paper_bgcolor = \"rgb(84,52,107)\", height = 600, hovermode = \"x unified\",\n",
    "        hoverlabel=dict(bgcolor = \"white\", font_size = 16, font_family = \"Rockwell\", font_color = \"black\"),\n",
    "        legend=dict(x = 1, y = 0.5),\n",
    "        title={\"text\" : \"Average popularity of the top 100 songs according to their release dates\", 'x' : 0.5, 'xanchor' : 'center', 'y' : 0.95, 'yanchor' : 'top', 'font' : {'size' : 18, 'color' : 'white'}})\n",
    "\n",
    "    Fig_5.update_yaxes(gridcolor = \"white\", autorange = False, range = [filtered_df[\"Popularity\"].min(), df_tracks_mean[\"Popularity\"].max() + 10])\n",
    "    Fig_5.update_xaxes(gridcolor = \"white\", autorange = False, range = [filtered_df[\"Year\"].min() - 3, df_tracks_mean[\"Year\"].max()])\n",
    "\n",
    "    return Fig_5\n",
    "\n",
    "\n",
    "@app.callback(Output('Fig_5_Years_Cat', 'value'), Input('reset-button', 'n_clicks'))\n",
    "def reset_years(n_clicks):\n",
    "    if n_clicks > 0:\n",
    "        return None\n",
    "        \n",
    "@app.callback(Output(\"Fig_9\", \"figure\"), Input(\"Fig_9_10_Genre\", \"value\"))\n",
    "def update_graphs(selected_values):\n",
    "    \n",
    "    if not selected_values:\n",
    "        return Fig_9_Copy\n",
    "    \n",
    "    if not isinstance(selected_values, list):\n",
    "        selected_values = [selected_values]\n",
    "    \n",
    "    if \"Reset The Figures\" in selected_values:\n",
    "        return Fig_9_Copy\n",
    "        \n",
    "    filtered_df = df_artist_guery_genre_top5[df_artist_guery_genre_top5[\"Query_Genre\"].isin(selected_values)]\n",
    "    \n",
    "    Fig_9 = px.bar(filtered_df, x = \"Artist_Name\", y = \"Followers\", color = \"Query_Genre\", text = \"Artist_Name\")\n",
    "\n",
    "    Fig_9.update_layout(height = 600,\n",
    "                  plot_bgcolor = \"rgb(84,52,107)\", paper_bgcolor = \"rgb(84,52,107)\",\n",
    "                  hovermode = \"x unified\", hoverlabel = dict(bgcolor = \"white\",  font_size = 16, font_family = \"Rockwell\", font_color = \"black\"),\n",
    "                  title = {\"text\" : \"TOP 5 IN FOLLOWERS FOR ARTIST NAME, ACCORDING TO QUERY GENRE\", 'x' : 0.5, 'xanchor' : 'center', 'y' : 0.95, 'yanchor' : 'top', 'font' : { 'size' : 18, 'color' : 'white'}})\n",
    "\n",
    "    return Fig_9 \n",
    "   \n",
    "@app.callback(Output(\"Fig_10\", \"figure\"), Input(\"Fig_9_10_Genre\", \"value\"))\n",
    "def update_graphs(selected_values):\n",
    "    \n",
    "    if not selected_values:\n",
    "        return Fig_10_Copy\n",
    "    \n",
    "    if not isinstance(selected_values, list):\n",
    "        selected_values = [selected_values]\n",
    "    \n",
    "    if \"Reset The Figures\" in selected_values:\n",
    "        return Fig_10_Copy\n",
    "    \n",
    "    filtered_df = df_tracks_query_genre_top_5[df_tracks_query_genre_top_5[\"Query_Genre\"].isin(selected_values)]\n",
    "    \n",
    "    Fig_10 = px.bar(filtered_df, x = \"Artist_Name\", y = \"Popularity\", color = \"Query_Genre\", text = \"Artist_Name\")\n",
    "    Fig_10.update_layout(height = 600,\n",
    "                  plot_bgcolor = \"rgb(84,52,107)\", paper_bgcolor = \"rgb(84,52,107)\",\n",
    "                  hovermode = \"x unified\", hoverlabel = dict(bgcolor = \"white\",  font_size = 16, font_family = \"Rockwell\", font_color = \"black\"),\n",
    "                  title = {\"text\" : \"TOP 5 IN POPULARITY FOR ARTIST NAME, ACCORDING TO QUERY GENRE\", 'x' : 0.5, 'xanchor' : 'center', 'y' : 0.95, 'yanchor' : 'top', 'font' : { 'size' : 18, 'color' : 'white'}})\n",
    "    \n",
    "    return Fig_10\n",
    "                                         \n",
    "if __name__ == '__main__':\n",
    "\n",
    "    app.run_server(debug = True, host = \"192.168.1.45\", port = 8060)"
   ]
  }
 ],
 "metadata": {
  "kernelspec": {
   "display_name": "Python 3",
   "language": "python",
   "name": "python3"
  },
  "language_info": {
   "codemirror_mode": {
    "name": "ipython",
    "version": 3
   },
   "file_extension": ".py",
   "mimetype": "text/x-python",
   "name": "python",
   "nbconvert_exporter": "python",
   "pygments_lexer": "ipython3",
   "version": "3.10.9"
  },
  "orig_nbformat": 4
 },
 "nbformat": 4,
 "nbformat_minor": 2
}
